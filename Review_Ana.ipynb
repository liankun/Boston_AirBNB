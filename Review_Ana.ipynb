{
 "cells": [
  {
   "cell_type": "markdown",
   "metadata": {},
   "source": [
    "## Business Understanding\n",
    "What are people's concerns in review ?"
   ]
  },
  {
   "cell_type": "markdown",
   "metadata": {},
   "source": [
    "## Data understanding\n",
    "In order to approach this question, I need tag the Noun in each sentence.However, there also are some terms which may be related to the names and they are useless. A classification of these words will be necessary.\n",
    "words classification will be based on the words embedding"
   ]
  },
  {
   "cell_type": "code",
   "execution_count": 1,
   "metadata": {},
   "outputs": [
    {
     "name": "stderr",
     "output_type": "stream",
     "text": [
      "C:\\Users\\zzguk\\Anaconda3\\lib\\site-packages\\gensim\\utils.py:1197: UserWarning: detected Windows; aliasing chunkize to chunkize_serial\n",
      "  warnings.warn(\"detected Windows; aliasing chunkize to chunkize_serial\")\n"
     ]
    }
   ],
   "source": [
    "#import necessary libs\n",
    "import pandas as pd\n",
    "import numpy as np\n",
    "from numpy import linalg as LA\n",
    "\n",
    "import nltk\n",
    "from nltk.tokenize import sent_tokenize,word_tokenize\n",
    "#refer to https://www.kaggle.com/residentmario/sentiment-analysis-and-collocation-of-reviews\n",
    "from nltk.sentiment.vader import SentimentIntensityAnalyzer\n",
    "from nltk.corpus import stopwords\n",
    "from nltk import wordpunct_tokenize\n",
    "from nltk.stem import WordNetLemmatizer\n",
    "from nltk.collocations import BigramCollocationFinder\n",
    "from nltk.metrics import BigramAssocMeasures\n",
    "\n",
    "import matplotlib.pyplot as plt\n",
    "\n",
    "import gensim\n",
    "from gensim.models.word2vec import LineSentence\n",
    "from gensim.models import Word2Vec\n",
    "from gensim.models.phrases import Phrases, Phraser\n",
    "\n",
    "import codecs\n",
    "import itertools as it\n",
    "\n",
    "import spacy \n",
    "#for spacy refer to \n",
    "#https://github.com/skipgram/modern-nlp-in-python/blob/master/executable/Modern_NLP_in_Python.ipynb\n",
    "\n",
    "# to classify clusters\n",
    "from sklearn.cluster import KMeans\n",
    "from sklearn.metrics import silhouette_score"
   ]
  },
  {
   "cell_type": "markdown",
   "metadata": {},
   "source": [
    "## Data Prepare"
   ]
  },
  {
   "cell_type": "code",
   "execution_count": 2,
   "metadata": {},
   "outputs": [
    {
     "data": {
      "text/html": [
       "<div>\n",
       "<style scoped>\n",
       "    .dataframe tbody tr th:only-of-type {\n",
       "        vertical-align: middle;\n",
       "    }\n",
       "\n",
       "    .dataframe tbody tr th {\n",
       "        vertical-align: top;\n",
       "    }\n",
       "\n",
       "    .dataframe thead th {\n",
       "        text-align: right;\n",
       "    }\n",
       "</style>\n",
       "<table border=\"1\" class=\"dataframe\">\n",
       "  <thead>\n",
       "    <tr style=\"text-align: right;\">\n",
       "      <th></th>\n",
       "      <th>listing_id</th>\n",
       "      <th>id</th>\n",
       "      <th>date</th>\n",
       "      <th>reviewer_id</th>\n",
       "      <th>reviewer_name</th>\n",
       "      <th>comments</th>\n",
       "    </tr>\n",
       "  </thead>\n",
       "  <tbody>\n",
       "    <tr>\n",
       "      <th>0</th>\n",
       "      <td>1178162</td>\n",
       "      <td>4724140</td>\n",
       "      <td>2013-05-21</td>\n",
       "      <td>4298113</td>\n",
       "      <td>Olivier</td>\n",
       "      <td>My stay at islam's place was really cool! Good...</td>\n",
       "    </tr>\n",
       "    <tr>\n",
       "      <th>1</th>\n",
       "      <td>1178162</td>\n",
       "      <td>4869189</td>\n",
       "      <td>2013-05-29</td>\n",
       "      <td>6452964</td>\n",
       "      <td>Charlotte</td>\n",
       "      <td>Great location for both airport and city - gre...</td>\n",
       "    </tr>\n",
       "    <tr>\n",
       "      <th>2</th>\n",
       "      <td>1178162</td>\n",
       "      <td>5003196</td>\n",
       "      <td>2013-06-06</td>\n",
       "      <td>6449554</td>\n",
       "      <td>Sebastian</td>\n",
       "      <td>We really enjoyed our stay at Islams house. Fr...</td>\n",
       "    </tr>\n",
       "    <tr>\n",
       "      <th>3</th>\n",
       "      <td>1178162</td>\n",
       "      <td>5150351</td>\n",
       "      <td>2013-06-15</td>\n",
       "      <td>2215611</td>\n",
       "      <td>Marine</td>\n",
       "      <td>The room was nice and clean and so were the co...</td>\n",
       "    </tr>\n",
       "    <tr>\n",
       "      <th>4</th>\n",
       "      <td>1178162</td>\n",
       "      <td>5171140</td>\n",
       "      <td>2013-06-16</td>\n",
       "      <td>6848427</td>\n",
       "      <td>Andrew</td>\n",
       "      <td>Great location. Just 5 mins walk from the Airp...</td>\n",
       "    </tr>\n",
       "  </tbody>\n",
       "</table>\n",
       "</div>"
      ],
      "text/plain": [
       "   listing_id       id        date  reviewer_id reviewer_name  \\\n",
       "0     1178162  4724140  2013-05-21      4298113       Olivier   \n",
       "1     1178162  4869189  2013-05-29      6452964     Charlotte   \n",
       "2     1178162  5003196  2013-06-06      6449554     Sebastian   \n",
       "3     1178162  5150351  2013-06-15      2215611        Marine   \n",
       "4     1178162  5171140  2013-06-16      6848427        Andrew   \n",
       "\n",
       "                                            comments  \n",
       "0  My stay at islam's place was really cool! Good...  \n",
       "1  Great location for both airport and city - gre...  \n",
       "2  We really enjoyed our stay at Islams house. Fr...  \n",
       "3  The room was nice and clean and so were the co...  \n",
       "4  Great location. Just 5 mins walk from the Airp...  "
      ]
     },
     "execution_count": 2,
     "metadata": {},
     "output_type": "execute_result"
    }
   ],
   "source": [
    "#read data and check the data\n",
    "df_reviews = pd.read_csv('boston/reviews.csv')\n",
    "df_reviews.head()"
   ]
  },
  {
   "cell_type": "markdown",
   "metadata": {},
   "source": [
    "### Drop NAN and Choose English Language"
   ]
  },
  {
   "cell_type": "code",
   "execution_count": 3,
   "metadata": {},
   "outputs": [],
   "source": [
    "#there are several languages\n",
    "#we only intereted in English\n",
    "def get_language_likelihood(input_text):\n",
    "    \"\"\"Return a dictionary of languages and their likelihood of being the \n",
    "    natural language of the input text\n",
    "    \"\"\"\n",
    " \n",
    "    input_text = input_text.lower()\n",
    "    input_words = wordpunct_tokenize(input_text)\n",
    " \n",
    "    language_likelihood = {}\n",
    "    total_matches = 0\n",
    "    for language in stopwords._fileids:\n",
    "        language_likelihood[language] = len(set(input_words) &\n",
    "                set(stopwords.words(language)))\n",
    " \n",
    "    return language_likelihood\n",
    " \n",
    "def get_language(input_text):\n",
    "    \"\"\"Return the most likely language of the given text\n",
    "    \"\"\" \n",
    "    likelihoods = get_language_likelihood(input_text)\n",
    "    return sorted(likelihoods, key=likelihoods.get, reverse=True)[0]"
   ]
  },
  {
   "cell_type": "code",
   "execution_count": 4,
   "metadata": {},
   "outputs": [],
   "source": [
    "#drop na\n",
    "df_reviews_no_na = df_reviews.dropna().copy() "
   ]
  },
  {
   "cell_type": "code",
   "execution_count": 5,
   "metadata": {},
   "outputs": [],
   "source": [
    "#create another columns for language\n",
    "df_reviews_no_na['language'] = df_reviews_no_na['comments'].apply(get_language)"
   ]
  },
  {
   "cell_type": "code",
   "execution_count": 6,
   "metadata": {},
   "outputs": [],
   "source": [
    "#this take a long time to run , we save it\n",
    "df_reviews_no_na.to_csv('boston/reviews_no_na_add_language_type.csv',index=False)"
   ]
  },
  {
   "cell_type": "code",
   "execution_count": 3,
   "metadata": {},
   "outputs": [],
   "source": [
    "#let's load file\n",
    "df_reviews_lang = pd.read_csv('boston/reviews_no_na_add_language_type.csv')"
   ]
  },
  {
   "cell_type": "code",
   "execution_count": 3,
   "metadata": {},
   "outputs": [
    {
     "data": {
      "text/plain": [
       "english        64001\n",
       "french          1285\n",
       "arabic          1050\n",
       "spanish          630\n",
       "german           535\n",
       "italian          191\n",
       "dutch            184\n",
       "portuguese       101\n",
       "azerbaijani       99\n",
       "danish            58\n",
       "russian           27\n",
       "swedish           18\n",
       "norwegian         16\n",
       "greek              8\n",
       "romanian           7\n",
       "finnish            5\n",
       "turkish            3\n",
       "hungarian          3\n",
       "indonesian         1\n",
       "Name: language, dtype: int64"
      ]
     },
     "execution_count": 3,
     "metadata": {},
     "output_type": "execute_result"
    }
   ],
   "source": [
    "#check how many types\n",
    "df_reviews_lang['language'].value_counts()"
   ]
  },
  {
   "cell_type": "code",
   "execution_count": 22,
   "metadata": {},
   "outputs": [],
   "source": [
    "#most are english, we only intereted in english\n",
    "df_review_english = df_reviews_lang[df_reviews_lang['language']=='english'].copy()"
   ]
  },
  {
   "cell_type": "markdown",
   "metadata": {},
   "source": [
    "### An example of spacy"
   ]
  },
  {
   "cell_type": "code",
   "execution_count": 21,
   "metadata": {},
   "outputs": [],
   "source": [
    "#let's clean the data\n",
    "#we will split each reviews into sentence and then tag the words\n",
    "#need to run  python -m spacy download en\n",
    "nlp = spacy.load('C:\\\\Users\\\\zzguk\\\\Anaconda3\\\\Lib\\\\site-packages\\\\en_core_web_sm\\\\en_core_web_sm-2.0.0')"
   ]
  },
  {
   "cell_type": "code",
   "execution_count": 23,
   "metadata": {},
   "outputs": [],
   "source": [
    "#spacy can parse the text and can tag the words\n",
    "#let's see some example\n",
    "\n",
    "sample_parsed_review = nlp(df_review_english['comments'][0])"
   ]
  },
  {
   "cell_type": "code",
   "execution_count": 24,
   "metadata": {},
   "outputs": [
    {
     "name": "stdout",
     "output_type": "stream",
     "text": [
      "My stay at islam's place was really cool! Good location, 5min away from subway, then 10min from downtown. The room was nice, all place was clean. Islam managed pretty well our arrival, even if it was last minute ;) i do recommand this place to any airbnb user :)\n"
     ]
    }
   ],
   "source": [
    "print(sample_parsed_review)"
   ]
  },
  {
   "cell_type": "code",
   "execution_count": 25,
   "metadata": {},
   "outputs": [
    {
     "name": "stdout",
     "output_type": "stream",
     "text": [
      "Sentence 1:\n",
      "My stay at islam's place was really cool!\n",
      "\n",
      "Sentence 2:\n",
      "Good location, 5min away from subway, then 10min from downtown.\n",
      "\n",
      "Sentence 3:\n",
      "The room was nice, all place was clean.\n",
      "\n",
      "Sentence 4:\n",
      "Islam managed pretty well our arrival, even if it was last minute ;) i do recommand this place to any airbnb user :)\n",
      "\n"
     ]
    }
   ],
   "source": [
    "#split the review by sentences\n",
    "for num, sentence in enumerate(sample_parsed_review.sents):\n",
    "    print('Sentence {}:'.format(num+1))\n",
    "    print(sentence)\n",
    "    print()"
   ]
  },
  {
   "cell_type": "code",
   "execution_count": 26,
   "metadata": {},
   "outputs": [
    {
     "name": "stdout",
     "output_type": "stream",
     "text": [
      "Entity 1: 5min - CARDINAL\n",
      "Entity 2: 10min - CARDINAL\n",
      "Entity 3: Islam - ORG\n",
      "Entity 4: last minute - TIME\n"
     ]
    }
   ],
   "source": [
    "#entity\n",
    "#show entity\n",
    "for num,entity in enumerate(sample_parsed_review.ents):\n",
    "    print('Entity {}:'.format(num+1),entity,'-',entity.label_)"
   ]
  },
  {
   "cell_type": "code",
   "execution_count": 27,
   "metadata": {},
   "outputs": [
    {
     "name": "stdout",
     "output_type": "stream",
     "text": [
      "-PRON-\n",
      "stay\n",
      "at\n",
      "islam\n",
      "'s\n",
      "place\n",
      "be\n",
      "really\n",
      "cool\n",
      "!\n",
      "good\n",
      "location\n",
      ",\n",
      "5min\n",
      "away\n",
      "from\n",
      "subway\n",
      ",\n",
      "then\n",
      "10min\n",
      "from\n",
      "downtown\n",
      ".\n",
      "the\n",
      "room\n",
      "be\n",
      "nice\n",
      ",\n",
      "all\n",
      "place\n",
      "be\n",
      "clean\n",
      ".\n",
      "islam\n",
      "manage\n",
      "pretty\n",
      "well\n",
      "-PRON-\n",
      "arrival\n",
      ",\n",
      "even\n",
      "if\n",
      "-PRON-\n",
      "be\n",
      "last\n",
      "minute\n",
      ";)\n",
      "i\n",
      "do\n",
      "recommand\n",
      "this\n",
      "place\n",
      "to\n",
      "any\n",
      "airbnb\n",
      "user\n",
      ":)\n"
     ]
    }
   ],
   "source": [
    "for token in sample_parsed_review:\n",
    "    print(token.lemma_)"
   ]
  },
  {
   "cell_type": "code",
   "execution_count": 28,
   "metadata": {},
   "outputs": [
    {
     "data": {
      "text/plain": [
       "[('My', 'ADJ'),\n",
       " ('stay', 'NOUN'),\n",
       " ('at', 'ADP'),\n",
       " ('islam', 'NOUN'),\n",
       " (\"'s\", 'PART'),\n",
       " ('place', 'NOUN'),\n",
       " ('was', 'VERB'),\n",
       " ('really', 'ADV'),\n",
       " ('cool', 'ADJ'),\n",
       " ('!', 'PUNCT'),\n",
       " ('Good', 'ADJ'),\n",
       " ('location', 'NOUN'),\n",
       " (',', 'PUNCT'),\n",
       " ('5min', 'NOUN'),\n",
       " ('away', 'ADV'),\n",
       " ('from', 'ADP'),\n",
       " ('subway', 'NOUN'),\n",
       " (',', 'PUNCT'),\n",
       " ('then', 'ADV'),\n",
       " ('10min', 'VERB'),\n",
       " ('from', 'ADP'),\n",
       " ('downtown', 'NOUN'),\n",
       " ('.', 'PUNCT'),\n",
       " ('The', 'DET'),\n",
       " ('room', 'NOUN'),\n",
       " ('was', 'VERB'),\n",
       " ('nice', 'ADJ'),\n",
       " (',', 'PUNCT'),\n",
       " ('all', 'DET'),\n",
       " ('place', 'NOUN'),\n",
       " ('was', 'VERB'),\n",
       " ('clean', 'ADJ'),\n",
       " ('.', 'PUNCT'),\n",
       " ('Islam', 'PROPN'),\n",
       " ('managed', 'VERB'),\n",
       " ('pretty', 'ADV'),\n",
       " ('well', 'ADV'),\n",
       " ('our', 'ADJ'),\n",
       " ('arrival', 'NOUN'),\n",
       " (',', 'PUNCT'),\n",
       " ('even', 'ADV'),\n",
       " ('if', 'ADP'),\n",
       " ('it', 'PRON'),\n",
       " ('was', 'VERB'),\n",
       " ('last', 'ADJ'),\n",
       " ('minute', 'NOUN'),\n",
       " (';)', 'PUNCT'),\n",
       " ('i', 'PRON'),\n",
       " ('do', 'VERB'),\n",
       " ('recommand', 'ADV'),\n",
       " ('this', 'DET'),\n",
       " ('place', 'NOUN'),\n",
       " ('to', 'ADP'),\n",
       " ('any', 'DET'),\n",
       " ('airbnb', 'ADJ'),\n",
       " ('user', 'NOUN'),\n",
       " (':)', 'PUNCT')]"
      ]
     },
     "execution_count": 28,
     "metadata": {},
     "output_type": "execute_result"
    }
   ],
   "source": [
    "# we can tag each words\n",
    "token_text = [token.orth_ for token in sample_parsed_review]\n",
    "token_pos = [token.pos_ for token in sample_parsed_review]\n",
    "list(zip(token_text,token_pos))"
   ]
  },
  {
   "cell_type": "code",
   "execution_count": 29,
   "metadata": {},
   "outputs": [],
   "source": [
    "token_entity_type = [token.ent_type_ for token in sample_parsed_review]\n",
    "token_entity_iob = [token.ent_iob_ for token in sample_parsed_review]\n"
   ]
  },
  {
   "cell_type": "code",
   "execution_count": 35,
   "metadata": {
    "scrolled": true
   },
   "outputs": [
    {
     "data": {
      "text/html": [
       "<div>\n",
       "<style scoped>\n",
       "    .dataframe tbody tr th:only-of-type {\n",
       "        vertical-align: middle;\n",
       "    }\n",
       "\n",
       "    .dataframe tbody tr th {\n",
       "        vertical-align: top;\n",
       "    }\n",
       "\n",
       "    .dataframe thead th {\n",
       "        text-align: right;\n",
       "    }\n",
       "</style>\n",
       "<table border=\"1\" class=\"dataframe\">\n",
       "  <thead>\n",
       "    <tr style=\"text-align: right;\">\n",
       "      <th></th>\n",
       "      <th>token_text</th>\n",
       "      <th>entity_type</th>\n",
       "      <th>inside_outside_begin</th>\n",
       "    </tr>\n",
       "  </thead>\n",
       "  <tbody>\n",
       "    <tr>\n",
       "      <th>0</th>\n",
       "      <td>My</td>\n",
       "      <td></td>\n",
       "      <td>O</td>\n",
       "    </tr>\n",
       "    <tr>\n",
       "      <th>1</th>\n",
       "      <td>stay</td>\n",
       "      <td></td>\n",
       "      <td>O</td>\n",
       "    </tr>\n",
       "    <tr>\n",
       "      <th>2</th>\n",
       "      <td>at</td>\n",
       "      <td></td>\n",
       "      <td>O</td>\n",
       "    </tr>\n",
       "    <tr>\n",
       "      <th>3</th>\n",
       "      <td>islam</td>\n",
       "      <td></td>\n",
       "      <td>O</td>\n",
       "    </tr>\n",
       "    <tr>\n",
       "      <th>4</th>\n",
       "      <td>'s</td>\n",
       "      <td></td>\n",
       "      <td>O</td>\n",
       "    </tr>\n",
       "    <tr>\n",
       "      <th>5</th>\n",
       "      <td>place</td>\n",
       "      <td></td>\n",
       "      <td>O</td>\n",
       "    </tr>\n",
       "    <tr>\n",
       "      <th>6</th>\n",
       "      <td>was</td>\n",
       "      <td></td>\n",
       "      <td>O</td>\n",
       "    </tr>\n",
       "    <tr>\n",
       "      <th>7</th>\n",
       "      <td>really</td>\n",
       "      <td></td>\n",
       "      <td>O</td>\n",
       "    </tr>\n",
       "    <tr>\n",
       "      <th>8</th>\n",
       "      <td>cool</td>\n",
       "      <td></td>\n",
       "      <td>O</td>\n",
       "    </tr>\n",
       "    <tr>\n",
       "      <th>9</th>\n",
       "      <td>!</td>\n",
       "      <td></td>\n",
       "      <td>O</td>\n",
       "    </tr>\n",
       "  </tbody>\n",
       "</table>\n",
       "</div>"
      ],
      "text/plain": [
       "  token_text entity_type inside_outside_begin\n",
       "0         My                                O\n",
       "1       stay                                O\n",
       "2         at                                O\n",
       "3      islam                                O\n",
       "4         's                                O\n",
       "5      place                                O\n",
       "6        was                                O\n",
       "7     really                                O\n",
       "8       cool                                O\n",
       "9          !                                O"
      ]
     },
     "execution_count": 35,
     "metadata": {},
     "output_type": "execute_result"
    }
   ],
   "source": [
    "#let's make them a data frame\n",
    "tmp_list = list(zip(token_text, token_entity_type, token_entity_iob))\n",
    "pd.DataFrame(tmp_list,\n",
    "             columns=['token_text', 'entity_type', 'inside_outside_begin']).head(10)"
   ]
  },
  {
   "cell_type": "code",
   "execution_count": 34,
   "metadata": {},
   "outputs": [
    {
     "data": {
      "text/html": [
       "<div>\n",
       "<style scoped>\n",
       "    .dataframe tbody tr th:only-of-type {\n",
       "        vertical-align: middle;\n",
       "    }\n",
       "\n",
       "    .dataframe tbody tr th {\n",
       "        vertical-align: top;\n",
       "    }\n",
       "\n",
       "    .dataframe thead th {\n",
       "        text-align: right;\n",
       "    }\n",
       "</style>\n",
       "<table border=\"1\" class=\"dataframe\">\n",
       "  <thead>\n",
       "    <tr style=\"text-align: right;\">\n",
       "      <th></th>\n",
       "      <th>token_text</th>\n",
       "      <th>token_lemma</th>\n",
       "      <th>token_shape</th>\n",
       "    </tr>\n",
       "  </thead>\n",
       "  <tbody>\n",
       "    <tr>\n",
       "      <th>0</th>\n",
       "      <td>My</td>\n",
       "      <td>-PRON-</td>\n",
       "      <td>Xx</td>\n",
       "    </tr>\n",
       "    <tr>\n",
       "      <th>1</th>\n",
       "      <td>stay</td>\n",
       "      <td>stay</td>\n",
       "      <td>xxxx</td>\n",
       "    </tr>\n",
       "    <tr>\n",
       "      <th>2</th>\n",
       "      <td>at</td>\n",
       "      <td>at</td>\n",
       "      <td>xx</td>\n",
       "    </tr>\n",
       "    <tr>\n",
       "      <th>3</th>\n",
       "      <td>islam</td>\n",
       "      <td>islam</td>\n",
       "      <td>xxxx</td>\n",
       "    </tr>\n",
       "    <tr>\n",
       "      <th>4</th>\n",
       "      <td>'s</td>\n",
       "      <td>'s</td>\n",
       "      <td>'x</td>\n",
       "    </tr>\n",
       "  </tbody>\n",
       "</table>\n",
       "</div>"
      ],
      "text/plain": [
       "  token_text token_lemma token_shape\n",
       "0         My      -PRON-          Xx\n",
       "1       stay        stay        xxxx\n",
       "2         at          at          xx\n",
       "3      islam       islam        xxxx\n",
       "4         's          's          'x"
      ]
     },
     "execution_count": 34,
     "metadata": {},
     "output_type": "execute_result"
    }
   ],
   "source": [
    "#make dateframe\n",
    "token_lemma = [token.lemma_ for token in sample_parsed_review]\n",
    "token_shape = [token.shape_ for token in sample_parsed_review]\n",
    "pd.DataFrame(list(zip(token_text, token_lemma, token_shape)),\n",
    "             columns=['token_text', 'token_lemma', 'token_shape']).head()"
   ]
  },
  {
   "cell_type": "code",
   "execution_count": 37,
   "metadata": {},
   "outputs": [
    {
     "data": {
      "text/html": [
       "<div>\n",
       "<style scoped>\n",
       "    .dataframe tbody tr th:only-of-type {\n",
       "        vertical-align: middle;\n",
       "    }\n",
       "\n",
       "    .dataframe tbody tr th {\n",
       "        vertical-align: top;\n",
       "    }\n",
       "\n",
       "    .dataframe thead th {\n",
       "        text-align: right;\n",
       "    }\n",
       "</style>\n",
       "<table border=\"1\" class=\"dataframe\">\n",
       "  <thead>\n",
       "    <tr style=\"text-align: right;\">\n",
       "      <th></th>\n",
       "      <th>token_text</th>\n",
       "      <th>entity_type</th>\n",
       "      <th>inside_outside_begin</th>\n",
       "    </tr>\n",
       "  </thead>\n",
       "  <tbody>\n",
       "    <tr>\n",
       "      <th>0</th>\n",
       "      <td>My</td>\n",
       "      <td></td>\n",
       "      <td>O</td>\n",
       "    </tr>\n",
       "    <tr>\n",
       "      <th>1</th>\n",
       "      <td>stay</td>\n",
       "      <td></td>\n",
       "      <td>O</td>\n",
       "    </tr>\n",
       "    <tr>\n",
       "      <th>2</th>\n",
       "      <td>at</td>\n",
       "      <td></td>\n",
       "      <td>O</td>\n",
       "    </tr>\n",
       "    <tr>\n",
       "      <th>3</th>\n",
       "      <td>islam</td>\n",
       "      <td></td>\n",
       "      <td>O</td>\n",
       "    </tr>\n",
       "    <tr>\n",
       "      <th>4</th>\n",
       "      <td>'s</td>\n",
       "      <td></td>\n",
       "      <td>O</td>\n",
       "    </tr>\n",
       "    <tr>\n",
       "      <th>5</th>\n",
       "      <td>place</td>\n",
       "      <td></td>\n",
       "      <td>O</td>\n",
       "    </tr>\n",
       "    <tr>\n",
       "      <th>6</th>\n",
       "      <td>was</td>\n",
       "      <td></td>\n",
       "      <td>O</td>\n",
       "    </tr>\n",
       "    <tr>\n",
       "      <th>7</th>\n",
       "      <td>really</td>\n",
       "      <td></td>\n",
       "      <td>O</td>\n",
       "    </tr>\n",
       "    <tr>\n",
       "      <th>8</th>\n",
       "      <td>cool</td>\n",
       "      <td></td>\n",
       "      <td>O</td>\n",
       "    </tr>\n",
       "    <tr>\n",
       "      <th>9</th>\n",
       "      <td>!</td>\n",
       "      <td></td>\n",
       "      <td>O</td>\n",
       "    </tr>\n",
       "  </tbody>\n",
       "</table>\n",
       "</div>"
      ],
      "text/plain": [
       "  token_text entity_type inside_outside_begin\n",
       "0         My                                O\n",
       "1       stay                                O\n",
       "2         at                                O\n",
       "3      islam                                O\n",
       "4         's                                O\n",
       "5      place                                O\n",
       "6        was                                O\n",
       "7     really                                O\n",
       "8       cool                                O\n",
       "9          !                                O"
      ]
     },
     "execution_count": 37,
     "metadata": {},
     "output_type": "execute_result"
    }
   ],
   "source": [
    "token_entity_type = [token.ent_type_ for token in sample_parsed_review]\n",
    "token_entity_iob = [token.ent_iob_ for token in sample_parsed_review]\n",
    "\n",
    "pd.DataFrame(list(zip(token_text, token_entity_type, token_entity_iob)),\n",
    "             columns=['token_text', 'entity_type', 'inside_outside_begin']).head(10)"
   ]
  },
  {
   "cell_type": "code",
   "execution_count": 38,
   "metadata": {},
   "outputs": [
    {
     "data": {
      "text/html": [
       "<div>\n",
       "<style scoped>\n",
       "    .dataframe tbody tr th:only-of-type {\n",
       "        vertical-align: middle;\n",
       "    }\n",
       "\n",
       "    .dataframe tbody tr th {\n",
       "        vertical-align: top;\n",
       "    }\n",
       "\n",
       "    .dataframe thead th {\n",
       "        text-align: right;\n",
       "    }\n",
       "</style>\n",
       "<table border=\"1\" class=\"dataframe\">\n",
       "  <thead>\n",
       "    <tr style=\"text-align: right;\">\n",
       "      <th></th>\n",
       "      <th>text</th>\n",
       "      <th>log_probability</th>\n",
       "      <th>stop?</th>\n",
       "      <th>punctuation?</th>\n",
       "      <th>whitespace?</th>\n",
       "      <th>number?</th>\n",
       "      <th>out of vocab.?</th>\n",
       "    </tr>\n",
       "  </thead>\n",
       "  <tbody>\n",
       "    <tr>\n",
       "      <th>0</th>\n",
       "      <td>My</td>\n",
       "      <td>-20.0</td>\n",
       "      <td></td>\n",
       "      <td></td>\n",
       "      <td></td>\n",
       "      <td></td>\n",
       "      <td>Yes</td>\n",
       "    </tr>\n",
       "    <tr>\n",
       "      <th>1</th>\n",
       "      <td>stay</td>\n",
       "      <td>-20.0</td>\n",
       "      <td></td>\n",
       "      <td></td>\n",
       "      <td></td>\n",
       "      <td></td>\n",
       "      <td>Yes</td>\n",
       "    </tr>\n",
       "    <tr>\n",
       "      <th>2</th>\n",
       "      <td>at</td>\n",
       "      <td>-20.0</td>\n",
       "      <td>Yes</td>\n",
       "      <td></td>\n",
       "      <td></td>\n",
       "      <td></td>\n",
       "      <td>Yes</td>\n",
       "    </tr>\n",
       "    <tr>\n",
       "      <th>3</th>\n",
       "      <td>islam</td>\n",
       "      <td>-20.0</td>\n",
       "      <td></td>\n",
       "      <td></td>\n",
       "      <td></td>\n",
       "      <td></td>\n",
       "      <td>Yes</td>\n",
       "    </tr>\n",
       "    <tr>\n",
       "      <th>4</th>\n",
       "      <td>'s</td>\n",
       "      <td>-20.0</td>\n",
       "      <td></td>\n",
       "      <td></td>\n",
       "      <td></td>\n",
       "      <td></td>\n",
       "      <td>Yes</td>\n",
       "    </tr>\n",
       "    <tr>\n",
       "      <th>5</th>\n",
       "      <td>place</td>\n",
       "      <td>-20.0</td>\n",
       "      <td></td>\n",
       "      <td></td>\n",
       "      <td></td>\n",
       "      <td></td>\n",
       "      <td>Yes</td>\n",
       "    </tr>\n",
       "    <tr>\n",
       "      <th>6</th>\n",
       "      <td>was</td>\n",
       "      <td>-20.0</td>\n",
       "      <td>Yes</td>\n",
       "      <td></td>\n",
       "      <td></td>\n",
       "      <td></td>\n",
       "      <td>Yes</td>\n",
       "    </tr>\n",
       "    <tr>\n",
       "      <th>7</th>\n",
       "      <td>really</td>\n",
       "      <td>-20.0</td>\n",
       "      <td>Yes</td>\n",
       "      <td></td>\n",
       "      <td></td>\n",
       "      <td></td>\n",
       "      <td>Yes</td>\n",
       "    </tr>\n",
       "    <tr>\n",
       "      <th>8</th>\n",
       "      <td>cool</td>\n",
       "      <td>-20.0</td>\n",
       "      <td></td>\n",
       "      <td></td>\n",
       "      <td></td>\n",
       "      <td></td>\n",
       "      <td>Yes</td>\n",
       "    </tr>\n",
       "    <tr>\n",
       "      <th>9</th>\n",
       "      <td>!</td>\n",
       "      <td>-20.0</td>\n",
       "      <td></td>\n",
       "      <td>Yes</td>\n",
       "      <td></td>\n",
       "      <td></td>\n",
       "      <td>Yes</td>\n",
       "    </tr>\n",
       "  </tbody>\n",
       "</table>\n",
       "</div>"
      ],
      "text/plain": [
       "     text  log_probability stop? punctuation? whitespace? number?  \\\n",
       "0      My            -20.0                                          \n",
       "1    stay            -20.0                                          \n",
       "2      at            -20.0   Yes                                    \n",
       "3   islam            -20.0                                          \n",
       "4      's            -20.0                                          \n",
       "5   place            -20.0                                          \n",
       "6     was            -20.0   Yes                                    \n",
       "7  really            -20.0   Yes                                    \n",
       "8    cool            -20.0                                          \n",
       "9       !            -20.0                Yes                       \n",
       "\n",
       "  out of vocab.?  \n",
       "0            Yes  \n",
       "1            Yes  \n",
       "2            Yes  \n",
       "3            Yes  \n",
       "4            Yes  \n",
       "5            Yes  \n",
       "6            Yes  \n",
       "7            Yes  \n",
       "8            Yes  \n",
       "9            Yes  "
      ]
     },
     "execution_count": 38,
     "metadata": {},
     "output_type": "execute_result"
    }
   ],
   "source": [
    "#here is summary of the example\n",
    "token_attributes = [(token.orth_,\n",
    "                     token.prob,\n",
    "                     token.is_stop,\n",
    "                     token.is_punct,\n",
    "                     token.is_space,\n",
    "                     token.like_num,\n",
    "                     token.is_oov)\n",
    "                    for token in sample_parsed_review]\n",
    "\n",
    "df = pd.DataFrame(token_attributes,\n",
    "                  columns=['text',\n",
    "                           'log_probability',\n",
    "                           'stop?',\n",
    "                           'punctuation?',\n",
    "                           'whitespace?',\n",
    "                           'number?',\n",
    "                           'out of vocab.?'])\n",
    "\n",
    "df.loc[:, 'stop?':'out of vocab.?'] = (df.loc[:, 'stop?':'out of vocab.?']\n",
    "                                       .applymap(lambda x: u'Yes' if x else u''))\n",
    "                                               \n",
    "df.head(10)"
   ]
  },
  {
   "cell_type": "markdown",
   "metadata": {},
   "source": [
    "### The following procedure will be performed\n",
    "- Split each reviews to sentences\n",
    "- Tag the words in sentence\n",
    "- remove punctuations, space, lower the words\n",
    "- perform bigrams twice to get trigrams\n"
   ]
  },
  {
   "cell_type": "code",
   "execution_count": 6,
   "metadata": {},
   "outputs": [],
   "source": [
    "def punct_space(token):\n",
    "    \"\"\"\n",
    "    helper function to eliminate tokens\n",
    "    that are pure punctuation or whitespace\n",
    "    \"\"\"\n",
    "    \n",
    "    return token.is_punct or token.is_space"
   ]
  },
  {
   "cell_type": "code",
   "execution_count": 7,
   "metadata": {},
   "outputs": [],
   "source": [
    "def punct_space_stop(token):\n",
    "    \"\"\"\n",
    "    helper function to eliminate tokens\n",
    "    that are pure punctuation or whitespace\n",
    "    \"\"\"\n",
    "    \n",
    "    return token.is_punct or token.is_space or token.is_stop"
   ]
  },
  {
   "cell_type": "code",
   "execution_count": 57,
   "metadata": {},
   "outputs": [],
   "source": [
    "\n",
    "def lemmatized_sentence_corpus():\n",
    "    #for each review, split by sentences\n",
    "    #then we tag each word\n",
    "    #we will remove punctuation,whitespace\n",
    "    #for each word we will apppend pos tag on it\n",
    "    for rev in df_review_english['comments']:\n",
    "        parsed_rev = nlp(rev)\n",
    "        for sent in parsed_rev.sents:\n",
    "            yield u' '.join([token.lemma_+'_'+token.pos_ for token in sent \n",
    "                             if not punct_space(token)])"
   ]
  },
  {
   "cell_type": "code",
   "execution_count": 58,
   "metadata": {},
   "outputs": [],
   "source": [
    "#let's put all sentence into a file \n",
    "#it take some times\n",
    "if False:\n",
    "    with codecs.open('review_sentences_in_all_add_pos.txt','w',encoding='utf_8') as f:\n",
    "        for sentence in lemmatized_sentence_corpus():\n",
    "            f.write(sentence+'\\n')"
   ]
  },
  {
   "cell_type": "code",
   "execution_count": 59,
   "metadata": {},
   "outputs": [],
   "source": [
    "reveiw_sentences = LineSentence('review_sentences_in_all_add_pos.txt')"
   ]
  },
  {
   "cell_type": "code",
   "execution_count": 60,
   "metadata": {},
   "outputs": [
    {
     "name": "stdout",
     "output_type": "stream",
     "text": [
      "['-PRON-_ADJ', 'stay_NOUN', 'at_ADP', 'islam_NOUN', \"'s_PART\", 'place_NOUN', 'be_VERB', 'really_ADV', 'cool_ADJ']\n",
      "['good_ADJ', 'location_NOUN', '5min_NOUN', 'away_ADV', 'from_ADP', 'subway_NOUN', 'then_ADV', '10min_VERB', 'from_ADP', 'downtown_NOUN']\n",
      "['the_DET', 'room_NOUN', 'be_VERB', 'nice_ADJ', 'all_DET', 'place_NOUN', 'be_VERB', 'clean_ADJ']\n",
      "['islam_PROPN', 'manage_VERB', 'pretty_ADV', 'well_ADV', '-PRON-_ADJ', 'arrival_NOUN', 'even_ADV', 'if_ADP', '-PRON-_PRON', 'be_VERB', 'last_ADJ', 'minute_NOUN', 'i_PRON', 'do_VERB', 'recommand_ADV', 'this_DET', 'place_NOUN', 'to_ADP', 'any_DET', 'airbnb_ADJ', 'user_NOUN']\n",
      "['great_ADJ', 'location_NOUN', 'for_ADP', 'both_DET', 'airport_NOUN', 'and_CCONJ', 'city_NOUN', 'great_ADJ', 'amenity_NOUN', 'in_ADP', 'the_DET', 'house_NOUN', 'plus_CCONJ']\n",
      "['islam_PROPN', 'be_VERB', 'always_ADV', 'very_ADV', 'helpful_ADJ', 'even_ADV', 'though_ADP', '-PRON-_PRON', 'be_VERB', 'away_ADV']\n"
     ]
    }
   ],
   "source": [
    "#check the first 5 sentence\n",
    "ct=0\n",
    "for sent in reveiw_sentences:\n",
    "    print(sent)\n",
    "    ct += 1\n",
    "    if ct>5:\n",
    "        break"
   ]
  },
  {
   "cell_type": "code",
   "execution_count": 61,
   "metadata": {},
   "outputs": [],
   "source": [
    "#first let's make a bigrams\n",
    "#write to a txt file\n",
    "#it will take some time\n",
    "if False:\n",
    "    bigram_model = Phrases(reveiw_sentences)\n",
    "    bigram_model.save('bigram_review_all_add_pos')\n",
    "bigram_model = Phrases.load('bigram_review_all_add_pos')"
   ]
  },
  {
   "cell_type": "code",
   "execution_count": 64,
   "metadata": {},
   "outputs": [],
   "source": [
    "#write the bigram to a text file, since it takes some time\n",
    "if False:\n",
    "    with codecs.open('bigram_review_sentences_all_add_pos.txt','w',encoding='utf_8') as f:\n",
    "        for sentence in reveiw_sentences:\n",
    "            bigram_sent = u' '.join(bigram_model[sentence])\n",
    "            f.write(bigram_sent + '\\n')"
   ]
  },
  {
   "cell_type": "code",
   "execution_count": 68,
   "metadata": {},
   "outputs": [],
   "source": [
    "#reload bigram sentences\n",
    "rev_bigram_sentences = LineSentence('bigram_review_sentences_all_add_pos.txt')"
   ]
  },
  {
   "cell_type": "code",
   "execution_count": 66,
   "metadata": {},
   "outputs": [],
   "source": [
    "#let's do it again to get trigram and save the model\n",
    "if False:\n",
    "    trigram_model = Phrases(rev_bigram_sentences)\n",
    "    trigram_model.save('trigram_review_all_add_pos')\n",
    "trigram_model = Phrases.load('trigram_review_all_add_pos')"
   ]
  },
  {
   "cell_type": "code",
   "execution_count": 70,
   "metadata": {},
   "outputs": [],
   "source": [
    "#let's save the trigram sentences since it takes some time\n",
    "if False:\n",
    "    with codecs.open('trigram_review_sentences_all_add_pos.txt','w',encoding='utf_8') as f:\n",
    "        for sentence in rev_bigram_sentences:\n",
    "            trigram_sent = u' '.join(trigram_model[sentence])\n",
    "            f.write(trigram_sent + '\\n')"
   ]
  },
  {
   "cell_type": "code",
   "execution_count": 5,
   "metadata": {},
   "outputs": [],
   "source": [
    "#load the trigram sentences\n",
    "rev_trigram_sentences = LineSentence('trigram_review_sentences_all_add_pos.txt')"
   ]
  },
  {
   "cell_type": "markdown",
   "metadata": {},
   "source": [
    "### Perform word embedding"
   ]
  },
  {
   "cell_type": "code",
   "execution_count": 6,
   "metadata": {},
   "outputs": [
    {
     "name": "stdout",
     "output_type": "stream",
     "text": [
      "12 training epochs so far.\n"
     ]
    }
   ],
   "source": [
    "#words embedding\n",
    "#we also save it for later use\n",
    "#word2vector\n",
    "if False:\n",
    "    review_sentence2vec = Word2Vec(rev_trigram_sentences,size=100,window=5,\n",
    "                                  min_count=20,sg=1,workers=4)\n",
    "    review_sentence2vec.save('review_trigram_sentence_w2v_model_add_pos')\n",
    "    \n",
    "    #perform another 11 epochs of training\n",
    "    for i in range(1,12):\n",
    "        review_sentence2vec.train(rev_trigram_sentences,\n",
    "                                  total_examples=review_sentence2vec.corpus_count,\n",
    "                                  epochs=review_sentence2vec.iter)\n",
    "        review_sentence2vec.save('review_trigram_sentence_w2v_model_add_pos')\n",
    "\n",
    "review_sentence2vec = Word2Vec.load('review_trigram_sentence_w2v_model_add_pos')\n",
    "review_sentence2vec.init_sims()\n",
    "\n",
    "print(u'{} training epochs so far.'.format(review_sentence2vec.train_count))"
   ]
  },
  {
   "cell_type": "code",
   "execution_count": 7,
   "metadata": {},
   "outputs": [
    {
     "name": "stderr",
     "output_type": "stream",
     "text": [
      "C:\\Users\\zzguk\\Anaconda3\\lib\\site-packages\\ipykernel_launcher.py:1: DeprecationWarning: Call to deprecated `syn0` (Attribute will be removed in 4.0.0, use self.wv.vectors instead).\n",
      "  \"\"\"Entry point for launching an IPython kernel.\n"
     ]
    }
   ],
   "source": [
    "#get the words for embeding\n",
    "#and the index to words\n",
    "words_embeding = review_sentence2vec.wv.syn0\n",
    "array_index2words = np.array(review_sentence2vec.wv.index2word)"
   ]
  },
  {
   "cell_type": "code",
   "execution_count": 8,
   "metadata": {},
   "outputs": [
    {
     "name": "stdout",
     "output_type": "stream",
     "text": [
      "6,070 terms in the food2vec vocabulary.\n"
     ]
    }
   ],
   "source": [
    "#check the number of words\n",
    "print(u'{:,} terms in the food2vec vocabulary.'.format(len(review_sentence2vec.wv.vocab)))"
   ]
  },
  {
   "cell_type": "code",
   "execution_count": 9,
   "metadata": {},
   "outputs": [
    {
     "data": {
      "text/plain": [
       "[('airport_PROPN', 0.7683822512626648),\n",
       " ('logan_PROPN', 0.747701108455658),\n",
       " ('logan_PROPN_airport_NOUN', 0.7425930500030518),\n",
       " ('logan_PROPN_airport_PROPN', 0.7227504253387451),\n",
       " ('train_NOUN_station_NOUN', 0.6893695592880249),\n",
       " ('airport_NOUN_shuttle_NOUN', 0.6815669536590576),\n",
       " ('bus_NOUN_station_NOUN', 0.6712270975112915),\n",
       " ('train_NOUN', 0.6533764004707336),\n",
       " ('shuttle_NOUN', 0.6418344974517822),\n",
       " ('blue_ADJ_line_NOUN', 0.641494870185852)]"
      ]
     },
     "execution_count": 9,
     "metadata": {},
     "output_type": "execute_result"
    }
   ],
   "source": [
    "#let's check if the embeding work or not\n",
    "review_sentence2vec.wv.most_similar(positive=['airport_NOUN'],topn=10)"
   ]
  },
  {
   "cell_type": "code",
   "execution_count": 10,
   "metadata": {},
   "outputs": [
    {
     "data": {
      "text/plain": [
       "[('mattress_NOUN', 0.8054273128509521),\n",
       " ('sofa_NOUN', 0.7524084448814392),\n",
       " ('sofa_NOUN_bed_NOUN', 0.7511492967605591),\n",
       " ('queen_NOUN_bed_NOUN', 0.7434046268463135),\n",
       " ('soft_ADJ', 0.7267969846725464),\n",
       " ('futon_NOUN', 0.7207096219062805),\n",
       " ('couch_NOUN', 0.7064340710639954),\n",
       " ('pillow_NOUN', 0.6834216117858887),\n",
       " ('bedding_NOUN', 0.6530532836914062),\n",
       " ('queen_NOUN_size_NOUN_bed_NOUN', 0.6473265886306763)]"
      ]
     },
     "execution_count": 10,
     "metadata": {},
     "output_type": "execute_result"
    }
   ],
   "source": [
    "review_sentence2vec.wv.most_similar(positive=['bed_NOUN'],topn=10)"
   ]
  },
  {
   "cell_type": "code",
   "execution_count": 11,
   "metadata": {},
   "outputs": [
    {
     "data": {
      "text/plain": [
       "[('cable_NOUN', 0.8475870490074158),\n",
       " ('netflix_PROPN', 0.7817489504814148),\n",
       " ('cable_NOUN_tv_NOUN', 0.7504919767379761),\n",
       " ('television_NOUN', 0.750319242477417),\n",
       " ('internet_NOUN', 0.7477015256881714),\n",
       " ('wifi_NOUN', 0.7263410091400146),\n",
       " ('wifi_PROPN', 0.7077149152755737),\n",
       " ('wireless_ADJ_internet_NOUN', 0.6910890936851501),\n",
       " ('big_ADJ_screen_NOUN_tv_NOUN', 0.6858027577400208),\n",
       " ('roku_PROPN', 0.6745760440826416)]"
      ]
     },
     "execution_count": 11,
     "metadata": {},
     "output_type": "execute_result"
    }
   ],
   "source": [
    "review_sentence2vec.wv.most_similar(positive=['tv_NOUN'],topn=10)"
   ]
  },
  {
   "cell_type": "code",
   "execution_count": 12,
   "metadata": {},
   "outputs": [
    {
     "data": {
      "text/plain": [
       "[('neighbour_NOUN', 0.663318395614624),\n",
       " ('hear_VERB', 0.6364037990570068),\n",
       " ('upstairs_ADJ_neighbor_NOUN', 0.5978832244873047),\n",
       " ('yell_VERB', 0.580481767654419),\n",
       " ('loud_ADJ_music_NOUN', 0.5638773441314697),\n",
       " ('people_NOUN', 0.5574698448181152),\n",
       " ('loud_ADJ', 0.5477060079574585),\n",
       " ('other_ADJ_resident_NOUN', 0.5327269434928894),\n",
       " ('other_ADJ_guest_NOUN', 0.5304839611053467),\n",
       " ('could_VERB_hear_VERB', 0.5285017490386963)]"
      ]
     },
     "execution_count": 12,
     "metadata": {},
     "output_type": "execute_result"
    }
   ],
   "source": [
    "review_sentence2vec.wv.most_similar(positive=['neighbor_NOUN'],topn=10)"
   ]
  },
  {
   "cell_type": "code",
   "execution_count": 13,
   "metadata": {},
   "outputs": [
    {
     "data": {
      "text/plain": [
       "[('hostess_NOUN', 0.8013387322425842),\n",
       " ('gracious_ADJ_host_NOUN', 0.7058875560760498),\n",
       " ('hospitable_ADJ', 0.6423259377479553),\n",
       " ('kind_ADJ', 0.6296424865722656),\n",
       " ('communicator_NOUN', 0.6295914053916931),\n",
       " ('host-_NOUN', 0.6244525909423828),\n",
       " ('host_PROPN', 0.604840099811554),\n",
       " ('an_DET_exceptional_ADJ_host_NOUN', 0.604225754737854),\n",
       " ('friendly_ADJ', 0.595440149307251),\n",
       " ('considerate_ADJ', 0.5935953855514526)]"
      ]
     },
     "execution_count": 13,
     "metadata": {},
     "output_type": "execute_result"
    }
   ],
   "source": [
    "review_sentence2vec.wv.most_similar(positive=['host_NOUN'],topn=10)"
   ]
  },
  {
   "cell_type": "code",
   "execution_count": 14,
   "metadata": {},
   "outputs": [
    {
     "data": {
      "text/plain": [
       "[('jamaica_PROPN_plain_PROPN', 0.8697308897972107),\n",
       " ('jamaica_PROPN_plains_PROPN', 0.7174323797225952),\n",
       " ('allston_PROPN', 0.6661891937255859),\n",
       " ('south_PROPN_end_PROPN', 0.6365325450897217),\n",
       " ('brighton_PROPN', 0.6084582209587097),\n",
       " ('south_PROPN_boston_PROPN', 0.6076585054397583),\n",
       " ('charlestown_PROPN', 0.5943469405174255),\n",
       " ('boston_PROPN', 0.5908483266830444),\n",
       " ('south_ADJ_end_NOUN', 0.5871374607086182),\n",
       " ('mission_PROPN_hill_PROPN', 0.5770779848098755)]"
      ]
     },
     "execution_count": 14,
     "metadata": {},
     "output_type": "execute_result"
    }
   ],
   "source": [
    "review_sentence2vec.wv.most_similar(positive=['jp_PROPN'],topn=10)"
   ]
  },
  {
   "cell_type": "code",
   "execution_count": 15,
   "metadata": {},
   "outputs": [
    {
     "data": {
      "text/plain": [
       "[('terrible_ADJ', 0.6605699062347412),\n",
       " ('negative_ADJ', 0.6107746362686157),\n",
       " ('awful_ADJ', 0.5961323976516724),\n",
       " ('unpleasant_ADJ', 0.5583287477493286),\n",
       " ('notice_VERB', 0.5417041778564453),\n",
       " ('uncomfortable_ADJ', 0.5277208089828491),\n",
       " ('affect_VERB', 0.5218985080718994),\n",
       " ('positive_ADJ', 0.5090909004211426),\n",
       " ('nothing_NOUN_bad_ADJ', 0.5086135864257812),\n",
       " ('disappointed_ADJ', 0.5084785223007202)]"
      ]
     },
     "execution_count": 15,
     "metadata": {},
     "output_type": "execute_result"
    }
   ],
   "source": [
    "review_sentence2vec.wv.most_similar(positive=['bad_ADJ'],topn=10)"
   ]
  },
  {
   "cell_type": "code",
   "execution_count": 16,
   "metadata": {},
   "outputs": [
    {
     "data": {
      "text/plain": [
       "[('superb_ADJ', 0.7611247301101685),\n",
       " ('great_ADJ', 0.720699667930603),\n",
       " ('fantastic_ADJ', 0.7131500244140625),\n",
       " ('outstanding_ADJ', 0.6796425580978394),\n",
       " ('fabulous_ADJ', 0.6632729768753052),\n",
       " ('terrific_ADJ', 0.6558611392974854),\n",
       " ('an_DET_excellent_ADJ', 0.6371711492538452),\n",
       " ('amazing_ADJ', 0.6347875595092773),\n",
       " ('awesome_ADJ', 0.6259496808052063),\n",
       " ('brilliant_ADJ', 0.6223203539848328)]"
      ]
     },
     "execution_count": 16,
     "metadata": {},
     "output_type": "execute_result"
    }
   ],
   "source": [
    "review_sentence2vec.wv.most_similar(positive=['excellent_ADJ'],topn=10)"
   ]
  },
  {
   "cell_type": "code",
   "execution_count": 17,
   "metadata": {},
   "outputs": [
    {
     "data": {
      "text/plain": [
       "[('close_ADV', 0.8644901514053345),\n",
       " ('near_ADJ', 0.6760656833648682),\n",
       " ('walk_VERB_distance_NOUN', 0.6739990711212158),\n",
       " ('near_ADP', 0.6636294722557068),\n",
       " ('close_NOUN', 0.6610522270202637),\n",
       " ('close_ADJ_proximity_NOUN', 0.6480978727340698),\n",
       " ('within_ADP_walking_NOUN_distance_NOUN', 0.6418805718421936),\n",
       " ('short_ADJ_walk_NOUN', 0.6377217173576355),\n",
       " ('within_ADP_walk_VERB_distance_NOUN', 0.6333810091018677),\n",
       " ('right_ADV_next_ADV', 0.633271336555481)]"
      ]
     },
     "execution_count": 17,
     "metadata": {},
     "output_type": "execute_result"
    }
   ],
   "source": [
    "review_sentence2vec.wv.most_similar(positive=['close_ADJ'],topn=10)"
   ]
  },
  {
   "cell_type": "code",
   "execution_count": 18,
   "metadata": {},
   "outputs": [
    {
     "data": {
      "text/plain": [
       "[('wifi_PROPN', 0.841977596282959),\n",
       " ('internet_NOUN', 0.8368513584136963),\n",
       " ('wi_NOUN_fi_NOUN', 0.7333458065986633),\n",
       " ('tv_NOUN', 0.7263410687446594),\n",
       " ('cable_NOUN_tv_NOUN', 0.7076839208602905),\n",
       " ('wireless_ADJ', 0.6673827171325684),\n",
       " ('wi_PROPN_fi_PROPN', 0.6610671281814575),\n",
       " ('wireless_ADJ_internet_NOUN', 0.6563978791236877),\n",
       " ('wireless_NOUN', 0.6461172103881836),\n",
       " ('wifi_VERB', 0.645552396774292)]"
      ]
     },
     "execution_count": 18,
     "metadata": {},
     "output_type": "execute_result"
    }
   ],
   "source": [
    "#it works as expected\n",
    "review_sentence2vec.wv.most_similar(positive=['wifi_NOUN'],topn=10)"
   ]
  },
  {
   "cell_type": "code",
   "execution_count": 9,
   "metadata": {},
   "outputs": [],
   "source": []
  },
  {
   "cell_type": "markdown",
   "metadata": {},
   "source": [
    "## Classifiy words:\n",
    "Use kmeans to classifiy these words and then check each cluster"
   ]
  },
  {
   "cell_type": "code",
   "execution_count": 10,
   "metadata": {},
   "outputs": [],
   "source": [
    "def average_vs_k(indexes):\n",
    "    #indexes: a list of index\n",
    "    #cluster the embeding words \n",
    "    #in indexes\n",
    "    Ws=words_embeding[indexes]\n",
    "    scores = []\n",
    "    for nclus in range(4,31):\n",
    "        km = KMeans(n_clusters=nclus,init='random',n_init=10,random_state=0,n_jobs=-1)\n",
    "        km.fit(Ws)\n",
    "        w_predict = km.predict(Ws)\n",
    "        centers = km.cluster_centers_\n",
    "        distance = 0\n",
    "        for i in range(nclus):\n",
    "            distance += np.sum(np.sqrt(np.sum(np.power(Ws[w_predict==i]-centers[i],2),axis=1)))\n",
    "        distance /= Ws.shape[0]\n",
    "        scores.append(distance)\n",
    "    plt.plot(list(range(4,31)),scores,linestyle='--', marker='o', color='b')"
   ]
  },
  {
   "cell_type": "code",
   "execution_count": 11,
   "metadata": {},
   "outputs": [],
   "source": [
    "#get freq for each word\n",
    "words_freq={}\n",
    "for sent in rev_trigram_sentences:\n",
    "    for w in sent:\n",
    "        if w in words_freq:\n",
    "            words_freq[w] += 1\n",
    "        else:\n",
    "            words_freq[w] = 1"
   ]
  },
  {
   "cell_type": "code",
   "execution_count": 12,
   "metadata": {},
   "outputs": [],
   "source": [
    "#get Nouns index\n",
    "noun_index=[]\n",
    "for i in range(array_index2words.shape[0]):\n",
    "    if 'NOUN' in array_index2words[i] or 'PROPN' in array_index2words[i]:\n",
    "        noun_index.append(i)"
   ]
  },
  {
   "cell_type": "code",
   "execution_count": 13,
   "metadata": {},
   "outputs": [
    {
     "data": {
      "image/png": "[encoded data removed]",
      "text/plain": [
       "<Figure size 432x288 with 1 Axes>"
      ]
     },
     "metadata": {
      "needs_background": "light"
     },
     "output_type": "display_data"
    }
   ],
   "source": [
    "#the average dist vs number of clusters\n",
    "average_vs_k(noun_index)"
   ]
  },
  {
   "cell_type": "code",
   "execution_count": 14,
   "metadata": {},
   "outputs": [],
   "source": [
    "#I decide to use 19 clusters, since there is a turnover\n",
    "bt_km = KMeans(n_clusters=19,random_state=0,n_jobs=-1)\n",
    "bt_km.fit(words_embeding[noun_index])\n",
    "bt_predict = bt_km.predict(words_embeding[noun_index])"
   ]
  },
  {
   "cell_type": "code",
   "execution_count": 18,
   "metadata": {},
   "outputs": [
    {
     "name": "stdout",
     "output_type": "stream",
     "text": [
      "cluster  0\n",
      "[('boston_PROPN', 28819), ('stay_NOUN', 18811), ('experience_NOUN', 6977), ('day_NOUN', 5201), ('thank_NOUN', 4451), ('trip_NOUN', 3353), ('weekend_NOUN', 1628), ('visit_NOUN', 1558), ('week_NOUN', 1457), ('anyone_NOUN', 1427), ('next_ADJ_time_NOUN', 1396), ('first_ADJ_time_NOUN', 1221), ('an_DET_automate_VERB_posting_NOUN', 966), ('future_NOUN', 708), ('anyone_NOUN_look_VERB', 441)]\n",
      "total count:  90358\n",
      "cluster  1\n",
      "[('restaurant_NOUN', 7394), ('shop_NOUN', 2017), ('food_NOUN', 2016), ('bar_NOUN', 1615), ('corner_NOUN', 1199), ('dinner_NOUN', 757), ('cafe_NOUN', 745), ('store_NOUN', 705), ('block_NOUN', 645), ('grocery_NOUN_store_NOUN', 626), ('whole_PROPN_foods_PROPN', 510), ('meal_NOUN', 509), ('supermarket_NOUN', 480), ('coffee_NOUN_shop_NOUN', 465), ('grocery_NOUN', 424)]\n",
      "total count:  27202\n",
      "cluster  2\n",
      "[('town_NOUN', 2122), ('car_NOUN', 1888), ('work_NOUN', 914), ('conference_NOUN', 765), ('host_NOUN_cancel_VERB_this_DET', 743), ('end_NOUN', 715), ('cambridge_PROPN', 503), ('street_NOUN_parking_NOUN', 426), ('business_NOUN', 424), ('convention_NOUN_center_NOUN', 349), ('road_NOUN', 348), ('harvard_PROPN', 326), ('college_NOUN', 266), ('event_NOUN', 257), ('game_NOUN', 255)]\n",
      "total count:  19031\n",
      "cluster  3\n",
      "[('jason_PROPN', 1840), ('sean_PROPN', 1587), ('chris_PROPN', 725), ('jose_PROPN', 662), ('ari_PROPN', 635), ('jonathan_PROPN', 634), ('dan_PROPN', 525), ('john_PROPN', 517), ('sara_PROPN', 476), ('jay_PROPN', 472), ('jeff_PROPN', 469), ('bernie_PROPN', 463), ('izzy_PROPN', 450), ('ed_PROPN', 443), ('anthony_PROPN', 403)]\n",
      "total count:  34855\n",
      "cluster  4\n",
      "[('family_NOUN', 3219), ('friend_NOUN', 2886), ('couple_NOUN', 2124), ('need_NOUN', 1835), ('husband_NOUN', 1264), ('wife_NOUN', 808), ('daughter_NOUN', 737), ('everyone_NOUN', 695), ('son_NOUN', 672), ('size_NOUN', 668), ('group_NOUN', 605), ('kid_NOUN', 569), ('boyfriend_NOUN', 522), ('parent_NOUN', 506), ('girlfriend_NOUN', 427)]\n",
      "total count:  26706\n",
      "cluster  5\n",
      "[('host_NOUN', 20487), ('people_NOUN', 2485), ('who_NOUN', 2329), ('person_NOUN', 2074), ('dog_NOUN', 1100), ('cat_NOUN', 944), ('hospitality_NOUN', 840), ('guy_NOUN', 821), ('chance_NOUN', 813), ('pleasure_NOUN', 621), ('conversation_NOUN', 528), ('other_ADJ_guest_NOUN', 516), ('hostess_NOUN', 507), ('gracious_ADJ_host_NOUN', 500), ('neighbor_NOUN', 491)]\n",
      "total count:  45982\n",
      "cluster  6\n",
      "[('window_NOUN', 1135), ('noise_NOUN', 983), ('light_NOUN', 676), ('sleep_NOUN', 574), ('fan_NOUN', 541), ('ac_PROPN', 488), ('air_NOUN_conditioning_NOUN', 405), ('weather_NOUN', 398), ('summer_NOUN', 386), ('heat_NOUN', 300), ('hot_ADJ_water_NOUN', 282), ('air_NOUN', 274), ('air_NOUN_conditioner_NOUN', 249), ('temperature_NOUN', 215), ('ceiling_NOUN', 202)]\n",
      "total count:  13610\n",
      "cluster  7\n",
      "[('towel_NOUN', 1879), ('fridge_NOUN', 973), ('sheet_NOUN', 694), ('toiletry_NOUN', 537), ('linen_NOUN', 486), ('stuff_NOUN', 474), ('laundry_NOUN', 393), ('item_NOUN', 332), ('supply_NOUN', 329), ('dryer_NOUN', 300), ('blanket_NOUN', 281), ('dish_NOUN', 280), ('soap_NOUN', 276), ('essential_NOUN', 276), ('microwave_NOUN', 267)]\n",
      "total count:  16886\n",
      "cluster  8\n",
      "[('lisa_PROPN', 1452), ('sarah_PROPN', 1139), ('robert_PROPN', 1081), ('susan_PROPN', 1070), ('hermina_PROPN', 980), ('tom_PROPN', 922), ('joe_PROPN', 756), ('bruce_PROPN', 576), ('steve_PROPN', 536), ('alex_PROPN', 528), ('barney_PROPN', 497), ('mary_PROPN', 496), ('michelle_PROPN', 486), ('cindy_PROPN', 461), ('brian_PROPN', 427)]\n",
      "total count:  34983\n",
      "cluster  9\n",
      "[('place_NOUN', 32661), ('apartment_NOUN', 27606), ('location_NOUN', 22369), ('room_NOUN', 19682), ('house_NOUN', 13874), ('everything_NOUN', 13216), ('neighborhood_NOUN', 10101), ('home_NOUN', 10079), ('area_NOUN', 7815), ('lot_NOUN', 5676), ('city_NOUN', 5395), ('space_NOUN', 4944), ('studio_NOUN', 2543), ('plenty_NOUN', 2111), ('hotel_NOUN', 1867)]\n",
      "total count:  239633\n",
      "cluster  10\n",
      "[('what_NOUN', 3619), ('thing_NOUN', 3504), ('way_NOUN', 2833), ('parking_NOUN', 2608), ('guest_NOUN', 2424), ('picture_NOUN', 2328), ('airbnb_PROPN', 1989), ('listing_NOUN', 1966), ('unit_NOUN', 1839), ('anything_NOUN', 1402), ('problem_NOUN', 1303), ('description_NOUN', 1227), ('photo_NOUN', 1167), ('property_NOUN', 1104), ('airbnb_NOUN', 1069)]\n",
      "total count:  60549\n",
      "cluster  11\n",
      "[('building_NOUN', 2708), ('bit_NOUN', 1817), ('door_NOUN', 1630), ('floor_NOUN', 977), ('stair_NOUN', 902), ('basement_NOUN', 690), ('step_NOUN', 475), ('side_NOUN', 413), ('front_ADJ_door_NOUN', 339), ('entrance_NOUN', 299), ('lock_NOUN', 284), ('trouble_NOUN', 274), ('third_ADJ_floor_NOUN', 265), ('elevator_NOUN', 259), ('only_ADJ_thing_NOUN', 250)]\n",
      "total count:  20235\n",
      "cluster  12\n",
      "[('arrival_NOUN', 2725), ('question_NOUN', 2664), ('communication_NOUN', 2638), ('key_NOUN', 2228), ('instruction_NOUN', 1415), ('check_NOUN', 1170), ('reservation_NOUN', 1124), ('touch_NOUN', 1088), ('any_DET_question_NOUN', 868), ('detail_NOUN', 858), ('message_NOUN', 711), ('email_NOUN', 707), ('check_NOUN_in_NOUN', 650), ('request_NOUN', 634), ('day_NOUN_before_ADP_arrival_NOUN', 604)]\n",
      "total count:  35069\n",
      "cluster  13\n",
      "[('bed_NOUN', 7788), ('bathroom_NOUN', 5546), ('kitchen_NOUN', 5159), ('bedroom_NOUN', 3304), ('shower_NOUN', 1492), ('living_NOUN_room_NOUN', 1178), ('tv_NOUN', 1069), ('wifi_NOUN', 641), ('couch_NOUN', 519), ('wall_NOUN', 502), ('internet_NOUN', 451), ('mattress_NOUN', 450), ('table_NOUN', 447), ('furniture_NOUN', 446), ('bath_NOUN', 440)]\n",
      "total count:  46178\n",
      "cluster  14\n",
      "[('street_NOUN', 3664), ('walk_VERB_distance_NOUN', 1475), ('within_ADP_walking_NOUN_distance_NOUN', 1150), ('park_NOUN', 955), ('back_PROPN_bay_PROPN', 915), ('beacon_PROPN_hill_PROPN', 873), ('shopping_NOUN', 834), ('fenway_PROPN', 776), ('north_PROPN_end_NOUN', 742), ('north_PROPN_end_PROPN', 724), ('freedom_PROPN_trail_PROPN', 596), ('boston_PROPN_common_PROPN', 576), ('walking_NOUN_distance_NOUN', 552), ('south_PROPN_end_PROPN', 519), ('attraction_NOUN', 483)]\n",
      "total count:  28333\n",
      "cluster  15\n",
      "[('information_NOUN', 1396), ('recommendation_NOUN', 1356), ('direction_NOUN', 1219), ('suggestion_NOUN', 982), ('tip_NOUN', 875), ('book_NOUN', 755), ('map_NOUN', 712), ('advice_NOUN', 673), ('tour_NOUN', 552), ('information_NOUN_about_ADP', 485), ('note_NOUN', 401), ('list_NOUN', 382), ('info_NOUN', 367), ('idea_NOUN', 251), ('guide_NOUN', 241)]\n",
      "total count:  14629\n",
      "cluster  16\n",
      "[('breakfast_NOUN', 2933), ('coffee_NOUN', 2070), ('morning_NOUN', 1908), ('water_NOUN', 1001), ('snack_NOUN', 816), ('wine_NOUN', 611), ('tea_NOUN', 513), ('bottle_NOUN', 479), ('muffin_NOUN', 410), ('drink_NOUN', 353), ('fruit_NOUN', 337), ('every_DET_morning_NOUN', 299), ('treat_NOUN', 298), ('milk_NOUN', 243), ('cookie_NOUN', 228)]\n",
      "total count:  18851\n",
      "cluster  17\n",
      "[('downtown_NOUN', 4398), ('airport_NOUN', 2885), ('subway_NOUN', 2600), ('walk_NOUN', 2393), ('t_PROPN', 2180), ('bus_NOUN', 1629), ('train_NOUN', 1514), ('public_ADJ_transportation_NOUN', 1502), ('short_ADJ_walk_NOUN', 1296), ('t_PROPN_station_NOUN', 1005), ('station_NOUN', 953), ('t_NOUN', 912), ('train_NOUN_station_NOUN', 911), ('subway_NOUN_station_NOUN', 887), ('minute_NOUN', 736)]\n",
      "total count:  56235\n",
      "cluster  18\n",
      "[('time_NOUN', 10881), ('night_NOUN', 7415), ('evening_NOUN', 1126), ('flight_NOUN', 1122), ('luggage_NOUN', 1107), ('hour_NOUN', 786), ('no_DET_problem_NOUN', 782), ('bag_NOUN', 694), ('schedule_NOUN', 554), ('last_ADJ_minute_NOUN', 498), ('departure_NOUN', 422), ('traffic_NOUN', 361), ('plan_NOUN', 277), ('next_ADJ_day_NOUN', 268), ('meeting_NOUN', 246)]\n",
      "total count:  33463\n"
     ]
    }
   ],
   "source": [
    "#let's check terms in each clusters,\n",
    "#each term in cluster is ordered by counts\n",
    "cluster_counts = []\n",
    "ignore_clus=[0,3,4,8,9,10]\n",
    "for i in range(19):\n",
    "    words = array_index2words[noun_index][bt_predict==i]\n",
    "    print(\"cluster \",i)\n",
    "    total_count=0\n",
    "    sorted_words=[]\n",
    "    for w in words:\n",
    "        total_count += words_freq[w]\n",
    "        sorted_words.append((w,words_freq[w]))\n",
    "    if i not in ignore_clus:\n",
    "        cluster_counts.append((i,total_count))\n",
    "    sorted_words.sort(reverse=True,key=lambda x:x[1])\n",
    "    print(sorted_words[0:15])\n",
    "    print(\"total count: \",total_count)"
   ]
  },
  {
   "cell_type": "code",
   "execution_count": 16,
   "metadata": {},
   "outputs": [
    {
     "data": {
      "image/png": "[encoded data removed]",
      "text/plain": [
       "<Figure size 432x288 with 1 Axes>"
      ]
     },
     "metadata": {
      "needs_background": "light"
     },
     "output_type": "display_data"
    }
   ],
   "source": [
    "#let's plot the counts of each cluster\n",
    "#we removed 0,3,4,8,9,10 clusters, since they don't give us more detail information\n",
    "cluster_counts.sort(reverse = True,key=lambda x:x[1])\n",
    "indexes=[]\n",
    "heights=[]\n",
    "for i in cluster_counts:\n",
    "    indexes.append(str(i[0]))\n",
    "    heights.append(i[1])\n",
    "plt.bar(indexes,heights)\n",
    "plt.title('cluster fequency')\n",
    "plt.xlabel('cluster');"
   ]
  },
  {
   "cell_type": "code",
   "execution_count": 17,
   "metadata": {},
   "outputs": [
    {
     "data": {
      "text/plain": [
       "array(['place_NOUN', 'apartment_NOUN', 'location_NOUN', 'room_NOUN',\n",
       "       'house_NOUN', 'everything_NOUN', 'neighborhood_NOUN', 'home_NOUN',\n",
       "       'area_NOUN', 'lot_NOUN', 'city_NOUN', 'space_NOUN', 'studio_NOUN',\n",
       "       'plenty_NOUN', 'hotel_NOUN', 'neighbourhood_NOUN', 'amenity_NOUN',\n",
       "       'view_NOUN', 'spot_NOUN', 'part_NOUN', 'access_NOUN',\n",
       "       'accommodation_NOUN', 'price_NOUN', 'condo_NOUN',\n",
       "       'easy_ADJ_access_NOUN', 'heart_NOUN', 'apartment_PROPN',\n",
       "       'value_NOUN', 'jamaica_PROPN_plain_PROPN', 'option_NOUN',\n",
       "       'jp_PROPN', 'appartment_NOUN', 'room_PROPN', 'travel_NOUN',\n",
       "       'rest_NOUN', 'exactly_ADV_what_NOUN', 'use_NOUN', 'front_NOUN',\n",
       "       'middle_NOUN', 'choice_NOUN', 'facility_NOUN', 'site_NOUN',\n",
       "       'ton_NOUN', 'boston_NOUN', 'dining_NOUN', 'loft_NOUN',\n",
       "       'breeze_NOUN', 'garden_NOUN', 'house_PROPN', 'comfort_NOUN',\n",
       "       'location_PROPN', 'character_NOUN', 'charlestown_PROPN',\n",
       "       'convenience_NOUN', 'fun_NOUN', 'sightseeing_NOUN', 'history_NOUN',\n",
       "       'start_NOUN', 'charm_NOUN', 'proximity_NOUN', 'addition_NOUN',\n",
       "       'tourist_NOUN', 'feel_NOUN', 'bonus_NOUN', 'long_ADJ_day_NOUN',\n",
       "       'activity_NOUN', 'quality_NOUN', 'plus_NOUN',\n",
       "       'south_PROPN_boston_PROPN', 'atmosphere_NOUN',\n",
       "       'neighborhood_PROPN', 'deal_NOUN', 'line_NOUN', 'feeling_NOUN',\n",
       "       'style_NOUN', 'suite_NOUN', 'course_NOUN', 'boat_NOUN',\n",
       "       'environment_NOUN', 'system_NOUN', 'term_NOUN', 'immaculate_NOUN',\n",
       "       'everything_PROPN', 'art_NOUN', 'brownstone_NOUN', 'ease_NOUN',\n",
       "       'place_PROPN', 'community_NOUN', 'nice_PROPN', 'connection_NOUN',\n",
       "       'apt_NOUN', 'free_ADJ_parking_NOUN', 'url_NOUN_hidden_PROPN',\n",
       "       'on_ADP_top_NOUN', 'surround_VERB_area_NOUN', 'variety_NOUN',\n",
       "       'taste_NOUN', 'type_NOUN', 'right_NOUN', 'vibe_NOUN', 'load_NOUN',\n",
       "       'accomodation_NOUN', 'luxury_NOUN', 'feature_NOUN',\n",
       "       'jamaica_PROPN_plains_PROPN', 'east_PROPN_boston_PROPN',\n",
       "       'gem_NOUN', 'clean_PROPN', 'living_NOUN',\n",
       "       'close_ADJ_proximity_NOUN', 'residence_NOUN', 'piece_NOUN',\n",
       "       'those_DET_who_NOUN', 'shape_NOUN', 'pro_NOUN', 'alternative_NOUN',\n",
       "       'south_ADJ_end_NOUN', 'bunch_NOUN', 'tree_NOUN',\n",
       "       'everything_NOUN_else_ADV', 'top_ADJ_notch_NOUN', 'finish_NOUN',\n",
       "       'studio_PROPN', 'roslindale_PROPN', 'gym_NOUN', 'great_PROPN',\n",
       "       'setup_NOUN', 'awesome_PROPN', 'take_VERB_advantage_NOUN',\n",
       "       'yard_NOUN', 'close_NOUN', 'pool_NOUN', 'setting_NOUN',\n",
       "       'second_NOUN', 'reasonable_ADJ_price_NOUN', 'self_NOUN',\n",
       "       'townhouse_NOUN', 'design_NOUN', 'suburb_NOUN', 'penthouse_NOUN',\n",
       "       'architecture_NOUN', 'flat_NOUN', 'super_PROPN', 'show_NOUN',\n",
       "       'position_NOUN', 'easy_PROPN', 'all_DET_kind_NOUN', 'outside_NOUN',\n",
       "       'residential_ADJ_area_NOUN', 'surrounding_NOUN', 'quarter_NOUN',\n",
       "       'action_NOUN', 'cosy_NOUN', 'edge_NOUN', 'prime_ADJ_location_NOUN',\n",
       "       'huge_ADJ_plus_NOUN', 'perk_NOUN', 'well_ADV_take_VERB_care_NOUN',\n",
       "       'range_NOUN', 'pad_NOUN', 'retreat_NOUN', 'apt_PROPN',\n",
       "       'roomy_NOUN', 'old_ADJ_building_NOUN',\n",
       "       'an_DET_add_VERB_bonus_NOUN', 'b&b_NOUN', 'bed_PROPN', 'hip_NOUN',\n",
       "       'mix_NOUN', 'right_ADV_next_ADJ_door_NOUN', 'tidy_NOUN',\n",
       "       'interior_NOUN', 'condo_PROPN', 'section_NOUN',\n",
       "       'residential_ADJ_neighborhood_NOUN',\n",
       "       'pretty_ADV_much_ADJ_everything_NOUN', 'appartement_NOUN',\n",
       "       'peace_NOUN', 'big_ADJ_plus_NOUN', 'neighbourhood_PROPN',\n",
       "       'quiet_PROPN', 'lobby_NOUN', 'high_ADJ_end_NOUN', 'break_NOUN',\n",
       "       'combination_NOUN', 'duplex_NOUN', 'all_DET_sort_NOUN',\n",
       "       'most_ADJ_part_NOUN', 'off_ADP_street_NOUN_parking_NOUN',\n",
       "       'convenient_PROPN', 'freedom_NOUN',\n",
       "       'surround_VERB_neighborhood_NOUN', 'comfy_PROPN_bed_NOUN',\n",
       "       'bargain_NOUN', 'excellent_PROPN', 'runner_NOUN',\n",
       "       'set_NOUN_up_PART', 'advantage_NOUN', 'necessary_ADJ_amenity_NOUN',\n",
       "       'ability_NOUN', 'spotless_NOUN', 'favorite_ADJ_part_NOUN',\n",
       "       'accessibility_NOUN', 'stand_NOUN', 'cozy_PROPN', 'summary_NOUN',\n",
       "       'whole_NOUN', 'lodging_NOUN', 'felt_PROPN', 'beauty_NOUN',\n",
       "       'ambiance_NOUN', 'cottage_NOUN', 'tourism_NOUN',\n",
       "       'url_NOUN_hidden_NOUN', 'doorman_NOUN', 'treasure_NOUN',\n",
       "       'share_NOUN', 'everyday_NOUN', 'flat_PROPN', 'cozy_NOUN',\n",
       "       'off_ADJ_street_NOUN_parking_NOUN', 'save_VERB_money_NOUN',\n",
       "       'vicinity_NOUN', 'boot_NOUN', 'appartment_PROPN', 'interior_PROPN',\n",
       "       'household_NOUN', 'efficiency_NOUN', 'good_PROPN', 'zone_NOUN',\n",
       "       'positive_NOUN', 'great_PROPN_location_PROPN',\n",
       "       'after_ADP_long_ADJ_day_NOUN', 'home_PROPN', 'b&b_PROPN',\n",
       "       'benefit_NOUN', 'funky_NOUN', 'those_DET_who_NOUN_want_VERB',\n",
       "       'huge_ADJ_bonus_NOUN', 'fast_ADJ_internet_NOUN', 'apartement_NOUN',\n",
       "       'excellent_ADJ_condition_NOUN', 'brownstone_PROPN',\n",
       "       'comfortable_PROPN', 'add_VERB_bonus_NOUN',\n",
       "       'ample_ADJ_parking_NOUN', 'u_NOUN', 'first_ADJ_class_NOUN',\n",
       "       'victorian_ADJ_home_NOUN', 'quiet_ADJ_residential_ADJ_area_NOUN',\n",
       "       'super_ADJ_comfy_ADJ_bed_NOUN', 'max_NOUN', 'steal_NOUN',\n",
       "       'haven_NOUN', 'roof_ADJ_top_ADJ_deck_NOUN', 'plenty_PROPN',\n",
       "       'jamaica_PROPN_plain_ADJ', 'heaven_PROPN', 'form_NOUN',\n",
       "       'locality_NOUN', 'blessing_NOUN', 'w/_PROPN', 'perfection_NOUN',\n",
       "       'space_PROPN', 'al_PROPN', 'safe_PROPN', 'pick_NOUN',\n",
       "       'little_ADJ_extra_NOUN', 'rooftop_NOUN_view_NOUN', 'portion_NOUN',\n",
       "       'midst_NOUN', 'hat_NOUN', 'nothing_NOUN_fancy_ADJ_but_CCONJ',\n",
       "       'b&b._PROPN', 'asset_NOUN', 'hidden_PROPN', 'roofdeck_NOUN',\n",
       "       'spa_NOUN', 'full_ADJ_use_NOUN', 'comfy_PROPN', 'spite_NOUN',\n",
       "       'comfortable_PROPN_bed_NOUN', 'alot_NOUN', 'locale_NOUN',\n",
       "       'starting_NOUN_point_NOUN', 'span_NOUN', 'ambience_NOUN',\n",
       "       'real_ADJ_bonus_NOUN', 'walkway_NOUN', 'away_NOUN', 'bang_NOUN',\n",
       "       'hood_NOUN', 'love_PROPN', 'real_ADJ_life_NOUN', 'relaxation_NOUN',\n",
       "       'hotspot_NOUN', 'great-_NOUN', 'pace_NOUN',\n",
       "       'beacon_PROPN_hill_NOUN', 'right_ADJ_amount_NOUN',\n",
       "       'west_PROPN_roxbury_PROPN', 'no_DET_worry_NOUN',\n",
       "       'neighboorhood_NOUN', 'pleasant_NOUN', 'escape_NOUN',\n",
       "       'fair_ADJ_price_NOUN', 'price_NOUN_point_NOUN',\n",
       "       'within_ADP_easy_ADJ_reach_NOUN', 'flavor_NOUN', 'cabin_NOUN',\n",
       "       'light_NOUN_fill_VERB', 'bedroom_PROPN', 'neigbourhood_NOUN',\n",
       "       'fun_PROPN', 'convenient_NOUN', 'relation_NOUN', 'apartament_NOUN',\n",
       "       'a_PROPN', 'stone_NOUN', 'bonus_PROPN', 'snap_NOUN',\n",
       "       'an_DET_affordable_ADJ_price_NOUN', 'pros_PROPN', 'killer_NOUN',\n",
       "       'charming_PROPN', 'huge_PROPN', 'spectacular_ADJ_view_NOUN',\n",
       "       'affordable_ADJ_price_NOUN', 'homey_ADJ_feel_NOUN', 'lovely_PROPN',\n",
       "       'comparison_NOUN', 'an_DET_abundance_NOUN', 'fingertip_NOUN',\n",
       "       'beautiful_PROPN', 'reasonable_ADJ_rate_NOUN', 'downtime_NOUN',\n",
       "       'stunning_ADJ_view_NOUN', 'old_ADJ_style_NOUN', 'region_NOUN',\n",
       "       'inner_ADJ_city_NOUN', 'combo_NOUN', 'red_ADJ_brick_NOUN',\n",
       "       'appartement_PROPN', 'southend_PROPN'], dtype='<U44')"
      ]
     },
     "execution_count": 17,
     "metadata": {},
     "output_type": "execute_result"
    }
   ],
   "source": [
    "#check the cluster 9\n",
    "array_index2words[noun_index][bt_predict==9]"
   ]
  },
  {
   "cell_type": "markdown",
   "metadata": {},
   "source": [
    "## Summary:\n",
    "Many terms are not single and has adjective next to it (we are doing trigrams).Besides, some terms like smile, briefly can give us some hints.From these terms, we learn something about the cluster.For example, in cluster 5, host appears a lot. Besides, we also see terms like hospitalit,gracious and smile. We can concluded this cluster is about the impression of the host.Besides, we also see terms like sweet_dog, cute cats. We then conclude friendly pets can impress guests.   \n",
    "\n",
    "### cluster description\n",
    "cluster 0 : looks like the overall experience(like first time, first air bnb,real pleasure and so on) <br>\n",
    "cluster 1 : mostly related to the food,drink,grocery, pharmacy and also some entertaiment. <br>\n",
    "cluster 2 : related to the parking, campus. This type of review may come from students <br>\n",
    "cluster 3:  people's name. <br>\n",
    "cluster 4:  this cluster may be the description of the owner or guest like family, wife, son <br>\n",
    "cluster 5:  Something about the host like kindness , friendliness <br>\n",
    "cluster 6:  living enviroment, like noise, cold, smoke air condition,roommate and so on. If we check the terms in this cluster, many terms is related to the noise like construction noise,AC noise, stree noise. <br> \n",
    "cluster 7:  something related to the toiletry and washing.like towel, shampoo, laundry and so on <br>\n",
    "cluster 8: people's name <br>\n",
    "cluster 9: overall review of house, like great location,quiet residential area,reasonable price and so on.<br>\n",
    "cluster 10: This cluster is hard to determine, we will ignore this  <br>\n",
    "cluster 11: something about the building,like door,entrance,ladder,elevator and so on. <br>\n",
    "cluster 12: the communication,instruction of the host.For example, an excellent communicator, constant communication,quick response and so on <br>\n",
    "cluster 13: bedroom, bathroom,kitchen and amenities.For example,internet, mattress,chair,sofa and so on <br>\n",
    "cluster 14: park, tourist attraction <br>\n",
    "cluster 15: some guide and instruction for the house <br>\n",
    "cluster 16: breakfast,food,drink, home made food <br>\n",
    "cluster 17: downtown,airport ,transportation <br>\n",
    "cluster 18: easy check int and check out. like early arrival, midnight,early morning and so on.\n",
    "### what can we learn from this\n",
    "We will ignore cluster 0,3,4,8,10. Because they can't provide detail information on the living experience.Cluster 9 will also be excluded,it provides some information like price,but most of terms don't give us specific aspect of why the place is good or bad. We will count the freqency of each cluster to extract the information of people's concerns.\n",
    "\n",
    "\n",
    "From the cluster frequency plot, we can find which cluster is more important. However, here I try to group these clusters into several aspects and also include the counts.\n",
    "* Host (147,994) : \n",
    "  + Cluster 5 (45982): As host, you should always give your guests good impression, like kindness, gracious. If you have pets, make sure they are cute and friendly.\n",
    "  + Cluster 12 (35069): You should be easily reached or contacted.The responds should be fast and the instruction should be clear.\n",
    "  + Cluster 18 (33463): The check in and out should be easy and flexible. For example, if guests arrive early or late. Besides, the reservation and  cancellation should be convenient.\n",
    "  + Cluster 16 (18851): Try to provide breakfast,drink(wine,coffee,tea) and some delicious home made food. \n",
    "  + Cluster 15 (14629): Give necessary imforamtion: like instruction, tour guidance and tips.\n",
    "* Amenities and living environment (96,909):\n",
    "  + Cluster 13 (46178): TV, internet, comfortable beds,kitchen and so on\n",
    "  + Cluster 7 (16886): This cluster is also related to the amenities, but more specific. It is about the washing like shower,laundry. They are very important for tourist.I think host should provide good shower environment and convenient laundary.\n",
    "  + Cluster 11 (20235): house condition like door, stair, entrance, elevator. Should make them convenient for guest to carray their luggage.  \n",
    "  + Cluster 6 (13610): This cluster is about noisy like machine noisy, street noisy, roommate noisy. Make sure guest get quiet environment.\n",
    "* Location (130,801): \n",
    "  + Cluster 17 (56235): convenient transportation. Can easily get to downtown and airport.\n",
    "  + Cluster 1  (27202): have restaurant, market, pharmacy. \n",
    "  + Cluster 14 (28333): Park, famous attraction\n",
    "  + Cluster 2  (19031): Parking, university, convention center\n"
   ]
  },
  {
   "cell_type": "code",
   "execution_count": null,
   "metadata": {},
   "outputs": [],
   "source": []
  }
 ],
 "metadata": {
  "kernelspec": {
   "display_name": "Python 3",
   "language": "python",
   "name": "python3"
  },
  "language_info": {
   "codemirror_mode": {
    "name": "ipython",
    "version": 3
   },
   "file_extension": ".py",
   "mimetype": "text/x-python",
   "name": "python",
   "nbconvert_exporter": "python",
   "pygments_lexer": "ipython3",
   "version": "3.6.8"
  }
 },
 "nbformat": 4,
 "nbformat_minor": 2
}
