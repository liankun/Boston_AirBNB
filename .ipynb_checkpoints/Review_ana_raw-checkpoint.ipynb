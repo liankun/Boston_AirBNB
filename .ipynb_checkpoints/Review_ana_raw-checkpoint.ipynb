{
 "cells": [
  {
   "cell_type": "code",
   "execution_count": 1,
   "metadata": {},
   "outputs": [],
   "source": [
    "import pandas as pd\n",
    "from nltk.tokenize import sent_tokenize\n",
    "from nltk.tokenize import word_tokenize\n",
    "from nltk.sentiment.vader import SentimentIntensityAnalyzer\n",
    "import nltk\n",
    "from nltk.corpus import twitter_samples\n",
    "from nltk.corpus import stopwords   # stopwords to detect language\n",
    "from nltk import wordpunct_tokenize # function to split up our words\n",
    "import matplotlib.pyplot as plt"
   ]
  },
  {
   "cell_type": "code",
   "execution_count": 2,
   "metadata": {},
   "outputs": [],
   "source": [
    "df_reviews = pd.read_csv('boston/reviews.csv')"
   ]
  },
  {
   "cell_type": "code",
   "execution_count": 1,
   "metadata": {},
   "outputs": [
    {
     "ename": "NameError",
     "evalue": "name 'df_reviews' is not defined",
     "output_type": "error",
     "traceback": [
      "\u001b[1;31m---------------------------------------------------------------------------\u001b[0m",
      "\u001b[1;31mNameError\u001b[0m                                 Traceback (most recent call last)",
      "\u001b[1;32m<ipython-input-1-014156067f4f>\u001b[0m in \u001b[0;36m<module>\u001b[1;34m\u001b[0m\n\u001b[1;32m----> 1\u001b[1;33m \u001b[0mdf_reviews\u001b[0m\u001b[1;33m.\u001b[0m\u001b[0mhead\u001b[0m\u001b[1;33m(\u001b[0m\u001b[1;33m)\u001b[0m\u001b[1;33m\u001b[0m\u001b[1;33m\u001b[0m\u001b[0m\n\u001b[0m",
      "\u001b[1;31mNameError\u001b[0m: name 'df_reviews' is not defined"
     ]
    }
   ],
   "source": [
    "df_reviews.head()"
   ]
  },
  {
   "cell_type": "code",
   "execution_count": 4,
   "metadata": {},
   "outputs": [
    {
     "data": {
      "text/plain": [
       "\"My stay at islam's place was really cool! Good location, 5min away from subway, then 10min from downtown. The room was nice, all place was clean. Islam managed pretty well our arrival, even if it was last minute ;) i do recommand this place to any airbnb user :)\""
      ]
     },
     "execution_count": 4,
     "metadata": {},
     "output_type": "execute_result"
    }
   ],
   "source": [
    "df_reviews['comments'][0]"
   ]
  },
  {
   "cell_type": "code",
   "execution_count": 6,
   "metadata": {},
   "outputs": [],
   "source": []
  },
  {
   "cell_type": "code",
   "execution_count": 10,
   "metadata": {},
   "outputs": [
    {
     "name": "stdout",
     "output_type": "stream",
     "text": [
      "My stay at islam's place was really cool! Good location, 5min away from subway, then 10min from downtown. The room was nice, all place was clean. Islam managed pretty well our arrival, even if it was last minute ;) i do recommand this place to any airbnb user :)\n",
      "compound: 0.9626, neg: 0.0, neu: 0.648, pos: 0.352, \n",
      "Great location for both airport and city - great amenities in the house: Plus Islam was always very helpful even though he was away\n",
      "compound: 0.9061, neg: 0.0, neu: 0.639, pos: 0.361, \n",
      "We really enjoyed our stay at Islams house. From the outside the house didn't look so inviting but the inside was very nice! Even though Islam himself was not there everything was prepared for our arrival. The airport T Station is only a 5-10 min walk away. The only little issue was that all the people in the house had to share one bathroom. But it was not really a problem and it worked out fine. We would recommend Islams place for a stay in Boston. \n",
      "compound: 0.9663, neg: 0.0, neu: 0.767, pos: 0.233, \n",
      "The room was nice and clean and so were the commodities. Very close to the airport metro station and located in quite safe area. Islam responds very quickly and is very helpful. I would recommend it. \n",
      "compound: 0.9267, neg: 0.0, neu: 0.673, pos: 0.327, \n",
      "Great location. Just 5 mins walk from the Airport Station. Good food nearby.\r\n",
      "Room was simple, clean, just what I was after.\n",
      "compound: 0.8658, neg: 0.0, neu: 0.637, pos: 0.363, \n"
     ]
    }
   ],
   "source": [
    "sid = SentimentIntensityAnalyzer()\n",
    "for sentence in df_reviews['comments'].values[:5]:\n",
    "    print(sentence)\n",
    "    ss = sid.polarity_scores(sentence)\n",
    "    for k in sorted(ss):\n",
    "        print('{0}: {1}, '.format(k, ss[k]), end='')\n",
    "    print()"
   ]
  },
  {
   "cell_type": "code",
   "execution_count": 11,
   "metadata": {},
   "outputs": [],
   "source": []
  },
  {
   "cell_type": "code",
   "execution_count": 28,
   "metadata": {},
   "outputs": [
    {
     "name": "stderr",
     "output_type": "stream",
     "text": [
      "[nltk_data] Downloading package punkt to\n",
      "[nltk_data]     C:\\Users\\zzguk\\AppData\\Roaming\\nltk_data...\n",
      "[nltk_data]   Unzipping tokenizers\\punkt.zip.\n"
     ]
    },
    {
     "data": {
      "text/plain": [
       "True"
      ]
     },
     "execution_count": 28,
     "metadata": {},
     "output_type": "execute_result"
    }
   ],
   "source": [
    "nltk.download('punkt')"
   ]
  },
  {
   "cell_type": "code",
   "execution_count": 8,
   "metadata": {},
   "outputs": [
    {
     "name": "stderr",
     "output_type": "stream",
     "text": [
      "[nltk_data] Downloading package vader_lexicon to\n",
      "[nltk_data]     C:\\Users\\zzguk\\AppData\\Roaming\\nltk_data...\n"
     ]
    },
    {
     "data": {
      "text/plain": [
       "True"
      ]
     },
     "execution_count": 8,
     "metadata": {},
     "output_type": "execute_result"
    }
   ],
   "source": [
    "nltk.download('vader_lexicon')"
   ]
  },
  {
   "cell_type": "code",
   "execution_count": 11,
   "metadata": {},
   "outputs": [
    {
     "name": "stderr",
     "output_type": "stream",
     "text": [
      "[nltk_data] Downloading package twitter_samples to\n",
      "[nltk_data]     C:\\Users\\zzguk\\AppData\\Roaming\\nltk_data...\n",
      "[nltk_data]   Unzipping corpora\\twitter_samples.zip.\n"
     ]
    },
    {
     "data": {
      "text/plain": [
       "True"
      ]
     },
     "execution_count": 11,
     "metadata": {},
     "output_type": "execute_result"
    }
   ],
   "source": [
    "nltk.download('twitter_samples')"
   ]
  },
  {
   "cell_type": "code",
   "execution_count": 12,
   "metadata": {},
   "outputs": [
    {
     "name": "stderr",
     "output_type": "stream",
     "text": [
      "[nltk_data] Downloading package averaged_perceptron_tagger to\n",
      "[nltk_data]     C:\\Users\\zzguk\\AppData\\Roaming\\nltk_data...\n",
      "[nltk_data]   Unzipping taggers\\averaged_perceptron_tagger.zip.\n"
     ]
    },
    {
     "data": {
      "text/plain": [
       "True"
      ]
     },
     "execution_count": 12,
     "metadata": {},
     "output_type": "execute_result"
    }
   ],
   "source": [
    "nltk.download('averaged_perceptron_tagger')"
   ]
  },
  {
   "cell_type": "code",
   "execution_count": 13,
   "metadata": {},
   "outputs": [],
   "source": []
  },
  {
   "cell_type": "code",
   "execution_count": 14,
   "metadata": {},
   "outputs": [
    {
     "data": {
      "text/plain": [
       "['negative_tweets.json', 'positive_tweets.json', 'tweets.20150430-223406.json']"
      ]
     },
     "execution_count": 14,
     "metadata": {},
     "output_type": "execute_result"
    }
   ],
   "source": [
    "twitter_samples.fileids()"
   ]
  },
  {
   "cell_type": "code",
   "execution_count": 7,
   "metadata": {},
   "outputs": [],
   "source": []
  },
  {
   "cell_type": "code",
   "execution_count": 3,
   "metadata": {},
   "outputs": [],
   "source": [
    "\n",
    "\n",
    "def get_language_likelihood(input_text):\n",
    "    \"\"\"Return a dictionary of languages and their likelihood of being the \n",
    "    natural language of the input text\n",
    "    \"\"\"\n",
    " \n",
    "    input_text = input_text.lower()\n",
    "    input_words = wordpunct_tokenize(input_text)\n",
    " \n",
    "    language_likelihood = {}\n",
    "    total_matches = 0\n",
    "    for language in stopwords._fileids:\n",
    "        language_likelihood[language] = len(set(input_words) &\n",
    "                set(stopwords.words(language)))\n",
    " \n",
    "    return language_likelihood\n",
    " \n",
    "def get_language(input_text):\n",
    "    \"\"\"Return the most likely language of the given text\n",
    "    \"\"\" \n",
    "    likelihoods = get_language_likelihood(input_text)\n",
    "    return sorted(likelihoods, key=likelihoods.get, reverse=True)[0]"
   ]
  },
  {
   "cell_type": "code",
   "execution_count": null,
   "metadata": {},
   "outputs": [],
   "source": [
    "reviews_f = [r for r in df_reviews['comments'] if pd.notnull(r) and get_language(r) == 'english']"
   ]
  },
  {
   "cell_type": "code",
   "execution_count": 7,
   "metadata": {},
   "outputs": [
    {
     "data": {
      "text/plain": [
       "'english'"
      ]
     },
     "execution_count": 7,
     "metadata": {},
     "output_type": "execute_result"
    }
   ],
   "source": [
    "get_language(df_reviews['comments'][1])"
   ]
  },
  {
   "cell_type": "code",
   "execution_count": 8,
   "metadata": {},
   "outputs": [
    {
     "data": {
      "text/plain": [
       "(68275, 6)"
      ]
     },
     "execution_count": 8,
     "metadata": {},
     "output_type": "execute_result"
    }
   ],
   "source": [
    "df_reviews.shape"
   ]
  },
  {
   "cell_type": "code",
   "execution_count": 9,
   "metadata": {},
   "outputs": [],
   "source": [
    "df_reviews_no_na = df_reviews.dropna()"
   ]
  },
  {
   "cell_type": "code",
   "execution_count": 10,
   "metadata": {},
   "outputs": [
    {
     "data": {
      "text/plain": [
       "(68222, 6)"
      ]
     },
     "execution_count": 10,
     "metadata": {},
     "output_type": "execute_result"
    }
   ],
   "source": [
    "df_reviews_no_na.shape"
   ]
  },
  {
   "cell_type": "code",
   "execution_count": 11,
   "metadata": {},
   "outputs": [
    {
     "name": "stderr",
     "output_type": "stream",
     "text": [
      "C:\\Users\\zzguk\\Anaconda3\\lib\\site-packages\\ipykernel_launcher.py:1: SettingWithCopyWarning: \n",
      "A value is trying to be set on a copy of a slice from a DataFrame.\n",
      "Try using .loc[row_indexer,col_indexer] = value instead\n",
      "\n",
      "See the caveats in the documentation: http://pandas.pydata.org/pandas-docs/stable/indexing.html#indexing-view-versus-copy\n",
      "  \"\"\"Entry point for launching an IPython kernel.\n"
     ]
    }
   ],
   "source": [
    "df_reviews_no_na['language'] = df_reviews_no_na['comments'].apply(get_language)"
   ]
  },
  {
   "cell_type": "code",
   "execution_count": 19,
   "metadata": {},
   "outputs": [
    {
     "name": "stderr",
     "output_type": "stream",
     "text": [
      "[nltk_data] Downloading package stopwords to\n",
      "[nltk_data]     C:\\Users\\zzguk\\AppData\\Roaming\\nltk_data...\n",
      "[nltk_data]   Unzipping corpora\\stopwords.zip.\n"
     ]
    },
    {
     "data": {
      "text/plain": [
       "True"
      ]
     },
     "execution_count": 19,
     "metadata": {},
     "output_type": "execute_result"
    }
   ],
   "source": [
    "nltk.download('stopwords')"
   ]
  },
  {
   "cell_type": "code",
   "execution_count": 21,
   "metadata": {},
   "outputs": [
    {
     "data": {
      "text/plain": [
       "listing_id       0.000000\n",
       "id               0.000000\n",
       "date             0.000000\n",
       "reviewer_id      0.000000\n",
       "reviewer_name    0.000000\n",
       "comments         0.000776\n",
       "dtype: float64"
      ]
     },
     "execution_count": 21,
     "metadata": {},
     "output_type": "execute_result"
    }
   ],
   "source": [
    "df_reviews.isnull().mean()"
   ]
  },
  {
   "cell_type": "code",
   "execution_count": 24,
   "metadata": {},
   "outputs": [
    {
     "data": {
      "text/plain": [
       "'french'"
      ]
     },
     "execution_count": 24,
     "metadata": {},
     "output_type": "execute_result"
    }
   ],
   "source": [
    "get_language(df_reviews['comments'][50])"
   ]
  },
  {
   "cell_type": "code",
   "execution_count": 25,
   "metadata": {},
   "outputs": [
    {
     "data": {
      "text/plain": [
       "'La maison située dans East Boston était sympathique, propre et non loin du métro (arrêt \"airport\" de la blue line).\\nLa cuisine est bien équipée avec lave vaisselle, micro ondes, cafetière et autres!!\\nLa chambre située en sous bassement était propre, grande, avec literie confortable et des rangements.\\nLa situation de la chambre ne permet pas l\\'accès à des personnes à mobilité réduite (escaliers).\\nNous avons passé 7 nuits agréables dans un quartier plutôt calme.'"
      ]
     },
     "execution_count": 25,
     "metadata": {},
     "output_type": "execute_result"
    }
   ],
   "source": [
    "df_reviews['comments'][50]"
   ]
  },
  {
   "cell_type": "code",
   "execution_count": 12,
   "metadata": {},
   "outputs": [
    {
     "data": {
      "text/html": [
       "<div>\n",
       "<style scoped>\n",
       "    .dataframe tbody tr th:only-of-type {\n",
       "        vertical-align: middle;\n",
       "    }\n",
       "\n",
       "    .dataframe tbody tr th {\n",
       "        vertical-align: top;\n",
       "    }\n",
       "\n",
       "    .dataframe thead th {\n",
       "        text-align: right;\n",
       "    }\n",
       "</style>\n",
       "<table border=\"1\" class=\"dataframe\">\n",
       "  <thead>\n",
       "    <tr style=\"text-align: right;\">\n",
       "      <th></th>\n",
       "      <th>listing_id</th>\n",
       "      <th>id</th>\n",
       "      <th>date</th>\n",
       "      <th>reviewer_id</th>\n",
       "      <th>reviewer_name</th>\n",
       "      <th>comments</th>\n",
       "      <th>language</th>\n",
       "    </tr>\n",
       "  </thead>\n",
       "  <tbody>\n",
       "    <tr>\n",
       "      <th>0</th>\n",
       "      <td>1178162</td>\n",
       "      <td>4724140</td>\n",
       "      <td>2013-05-21</td>\n",
       "      <td>4298113</td>\n",
       "      <td>Olivier</td>\n",
       "      <td>My stay at islam's place was really cool! Good...</td>\n",
       "      <td>english</td>\n",
       "    </tr>\n",
       "    <tr>\n",
       "      <th>1</th>\n",
       "      <td>1178162</td>\n",
       "      <td>4869189</td>\n",
       "      <td>2013-05-29</td>\n",
       "      <td>6452964</td>\n",
       "      <td>Charlotte</td>\n",
       "      <td>Great location for both airport and city - gre...</td>\n",
       "      <td>english</td>\n",
       "    </tr>\n",
       "    <tr>\n",
       "      <th>2</th>\n",
       "      <td>1178162</td>\n",
       "      <td>5003196</td>\n",
       "      <td>2013-06-06</td>\n",
       "      <td>6449554</td>\n",
       "      <td>Sebastian</td>\n",
       "      <td>We really enjoyed our stay at Islams house. Fr...</td>\n",
       "      <td>english</td>\n",
       "    </tr>\n",
       "    <tr>\n",
       "      <th>3</th>\n",
       "      <td>1178162</td>\n",
       "      <td>5150351</td>\n",
       "      <td>2013-06-15</td>\n",
       "      <td>2215611</td>\n",
       "      <td>Marine</td>\n",
       "      <td>The room was nice and clean and so were the co...</td>\n",
       "      <td>english</td>\n",
       "    </tr>\n",
       "    <tr>\n",
       "      <th>4</th>\n",
       "      <td>1178162</td>\n",
       "      <td>5171140</td>\n",
       "      <td>2013-06-16</td>\n",
       "      <td>6848427</td>\n",
       "      <td>Andrew</td>\n",
       "      <td>Great location. Just 5 mins walk from the Airp...</td>\n",
       "      <td>english</td>\n",
       "    </tr>\n",
       "  </tbody>\n",
       "</table>\n",
       "</div>"
      ],
      "text/plain": [
       "   listing_id       id        date  reviewer_id reviewer_name  \\\n",
       "0     1178162  4724140  2013-05-21      4298113       Olivier   \n",
       "1     1178162  4869189  2013-05-29      6452964     Charlotte   \n",
       "2     1178162  5003196  2013-06-06      6449554     Sebastian   \n",
       "3     1178162  5150351  2013-06-15      2215611        Marine   \n",
       "4     1178162  5171140  2013-06-16      6848427        Andrew   \n",
       "\n",
       "                                            comments language  \n",
       "0  My stay at islam's place was really cool! Good...  english  \n",
       "1  Great location for both airport and city - gre...  english  \n",
       "2  We really enjoyed our stay at Islams house. Fr...  english  \n",
       "3  The room was nice and clean and so were the co...  english  \n",
       "4  Great location. Just 5 mins walk from the Airp...  english  "
      ]
     },
     "execution_count": 12,
     "metadata": {},
     "output_type": "execute_result"
    }
   ],
   "source": [
    "df_reviews_no_na.head()"
   ]
  },
  {
   "cell_type": "code",
   "execution_count": 15,
   "metadata": {},
   "outputs": [
    {
     "data": {
      "text/plain": [
       "english        64001\n",
       "french          1285\n",
       "arabic          1050\n",
       "spanish          630\n",
       "german           535\n",
       "italian          191\n",
       "dutch            184\n",
       "portuguese       101\n",
       "azerbaijani       99\n",
       "danish            58\n",
       "russian           27\n",
       "swedish           18\n",
       "norwegian         16\n",
       "greek              8\n",
       "romanian           7\n",
       "finnish            5\n",
       "hungarian          3\n",
       "turkish            3\n",
       "indonesian         1\n",
       "Name: language, dtype: int64"
      ]
     },
     "execution_count": 15,
     "metadata": {},
     "output_type": "execute_result"
    }
   ],
   "source": [
    "df_reviews_no_na['language'].value_counts()"
   ]
  },
  {
   "cell_type": "code",
   "execution_count": 17,
   "metadata": {},
   "outputs": [],
   "source": [
    "df_reviews_no_na.to_csv('boston/reviews_no_na_language_type.csv',index=False)"
   ]
  },
  {
   "cell_type": "code",
   "execution_count": 5,
   "metadata": {},
   "outputs": [],
   "source": [
    "df_reviews_no_na = pd.read_csv('boston/reviews_no_na_language_type.csv')"
   ]
  },
  {
   "cell_type": "code",
   "execution_count": 6,
   "metadata": {},
   "outputs": [],
   "source": [
    "#only include english\n",
    "df_reviews_clean = df_reviews_no_na[df_reviews_no_na['language']=='english'].copy()"
   ]
  },
  {
   "cell_type": "code",
   "execution_count": 7,
   "metadata": {},
   "outputs": [
    {
     "data": {
      "text/plain": [
       "'The room was nice and clean and so were the commodities. Very close to the airport metro station and located in quite safe area. Islam responds very quickly and is very helpful. I would recommend it. '"
      ]
     },
     "execution_count": 7,
     "metadata": {},
     "output_type": "execute_result"
    }
   ],
   "source": [
    "df_reviews_clean['comments'][3]"
   ]
  },
  {
   "cell_type": "code",
   "execution_count": 9,
   "metadata": {},
   "outputs": [
    {
     "data": {
      "text/plain": [
       "['The',\n",
       " 'room',\n",
       " 'was',\n",
       " 'nice',\n",
       " 'and',\n",
       " 'clean',\n",
       " 'and',\n",
       " 'so',\n",
       " 'were',\n",
       " 'the',\n",
       " 'commodities',\n",
       " '.',\n",
       " 'Very',\n",
       " 'close',\n",
       " 'to',\n",
       " 'the',\n",
       " 'airport',\n",
       " 'metro',\n",
       " 'station',\n",
       " 'and',\n",
       " 'located',\n",
       " 'in',\n",
       " 'quite',\n",
       " 'safe',\n",
       " 'area',\n",
       " '.',\n",
       " 'Islam',\n",
       " 'responds',\n",
       " 'very',\n",
       " 'quickly',\n",
       " 'and',\n",
       " 'is',\n",
       " 'very',\n",
       " 'helpful',\n",
       " '.',\n",
       " 'I',\n",
       " 'would',\n",
       " 'recommend',\n",
       " 'it',\n",
       " '.']"
      ]
     },
     "execution_count": 9,
     "metadata": {},
     "output_type": "execute_result"
    }
   ],
   "source": [
    "wordpunct_tokenize(df_reviews_clean['comments'][3])"
   ]
  },
  {
   "cell_type": "code",
   "execution_count": 158,
   "metadata": {},
   "outputs": [],
   "source": []
  },
  {
   "cell_type": "code",
   "execution_count": 8,
   "metadata": {},
   "outputs": [
    {
     "name": "stdout",
     "output_type": "stream",
     "text": [
      "We really enjoyed our stay at Islams house.\n",
      "compound: 0.5563, neg: 0.0, neu: 0.661, pos: 0.339, \n",
      "From the outside the house didn't look so inviting but the inside was very nice!\n",
      "compound: 0.7526, neg: 0.0, neu: 0.669, pos: 0.331, \n",
      "Even though Islam himself was not there everything was prepared for our arrival.\n",
      "compound: 0.2263, neg: 0.0, neu: 0.863, pos: 0.137, \n",
      "The airport T Station is only a 5-10 min walk away.\n",
      "compound: 0.0, neg: 0.0, neu: 1.0, pos: 0.0, \n",
      "The only little issue was that all the people in the house had to share one bathroom.\n",
      "compound: 0.296, neg: 0.0, neu: 0.879, pos: 0.121, \n",
      "But it was not really a problem and it worked out fine.\n",
      "compound: 0.5065, neg: 0.0, neu: 0.678, pos: 0.322, \n",
      "We would recommend Islams place for a stay in Boston.\n",
      "compound: 0.3612, neg: 0.0, neu: 0.762, pos: 0.238, \n"
     ]
    }
   ],
   "source": [
    "sentences=sent_tokenize(df_reviews_clean['comments'][2]) #sentence\n",
    "sid = SentimentIntensityAnalyzer()\n",
    "for sentence in sentences:\n",
    "    print(sentence)\n",
    "    ss = sid.polarity_scores(sentence)\n",
    "    for k in sorted(ss):\n",
    "        print('{0}: {1}, '.format(k, ss[k]), end='')\n",
    "    print()"
   ]
  },
  {
   "cell_type": "code",
   "execution_count": 160,
   "metadata": {},
   "outputs": [],
   "source": []
  },
  {
   "cell_type": "code",
   "execution_count": 9,
   "metadata": {
    "scrolled": true
   },
   "outputs": [
    {
     "data": {
      "text/plain": [
       "[('Gregs', 'NNP'),\n",
       " ('Apartment', 'NNP'),\n",
       " ('is', 'VBZ'),\n",
       " ('a', 'DT'),\n",
       " ('lovely', 'JJ'),\n",
       " ('place', 'NN'),\n",
       " (',', ','),\n",
       " ('well', 'RB'),\n",
       " ('arranged', 'VBN'),\n",
       " ('with', 'IN'),\n",
       " ('all', 'DT'),\n",
       " ('you', 'PRP'),\n",
       " ('may', 'MD'),\n",
       " ('need', 'VB'),\n",
       " ('during', 'IN'),\n",
       " ('your', 'PRP$'),\n",
       " ('stay', 'NN'),\n",
       " ('.', '.'),\n",
       " ('The', 'DT'),\n",
       " ('south', 'JJ'),\n",
       " ('Boston', 'NNP'),\n",
       " ('neighborhood', 'NN'),\n",
       " ('is', 'VBZ'),\n",
       " ('quite', 'RB'),\n",
       " ('and', 'CC'),\n",
       " ('was', 'VBD'),\n",
       " ('perfectly', 'RB'),\n",
       " ('located', 'VBN'),\n",
       " ('just', 'RB'),\n",
       " ('10', 'CD'),\n",
       " ('minutes', 'NNS'),\n",
       " ('to', 'TO'),\n",
       " ('the', 'DT'),\n",
       " ('airport', 'NN'),\n",
       " ('and', 'CC'),\n",
       " ('10', 'CD'),\n",
       " ('minutes', 'NNS'),\n",
       " ('to', 'TO'),\n",
       " ('business', 'NN'),\n",
       " ('district', 'NN'),\n",
       " ('.', '.'),\n",
       " ('Restaurants', 'NNS'),\n",
       " ('and', 'CC'),\n",
       " ('supermarkets', 'NNS'),\n",
       " ('are', 'VBP'),\n",
       " ('close', 'JJ'),\n",
       " ('by', 'IN'),\n",
       " ('in', 'IN'),\n",
       " ('walking', 'VBG'),\n",
       " ('distance', 'NN'),\n",
       " ('.', '.'),\n",
       " ('I', 'PRP'),\n",
       " (\"'ll\", 'MD'),\n",
       " ('book', 'NN'),\n",
       " ('his', 'PRP$'),\n",
       " ('apartment', 'NN'),\n",
       " ('for', 'IN'),\n",
       " ('sure', 'JJ'),\n",
       " ('when', 'WRB'),\n",
       " ('I', 'PRP'),\n",
       " (\"'m\", 'VBP'),\n",
       " ('coming', 'VBG'),\n",
       " ('back', 'RB'),\n",
       " ('to', 'TO'),\n",
       " ('Boston', 'NNP'),\n",
       " ('.', '.')]"
      ]
     },
     "execution_count": 9,
     "metadata": {},
     "output_type": "execute_result"
    }
   ],
   "source": [
    "tokens = word_tokenize(df_reviews_clean['comments'][400])\n",
    "nltk.pos_tag(tokens)"
   ]
  },
  {
   "cell_type": "code",
   "execution_count": 90,
   "metadata": {},
   "outputs": [
    {
     "ename": "NameError",
     "evalue": "name 'string' is not defined",
     "output_type": "error",
     "traceback": [
      "\u001b[1;31m---------------------------------------------------------------------------\u001b[0m",
      "\u001b[1;31mNameError\u001b[0m                                 Traceback (most recent call last)",
      "\u001b[1;32m<ipython-input-90-c93acdd50369>\u001b[0m in \u001b[0;36m<module>\u001b[1;34m\u001b[0m\n\u001b[1;32m----> 1\u001b[1;33m \u001b[0mstring\u001b[0m\u001b[1;33m.\u001b[0m\u001b[0mpunctuation\u001b[0m\u001b[1;33m\u001b[0m\u001b[1;33m\u001b[0m\u001b[0m\n\u001b[0m",
      "\u001b[1;31mNameError\u001b[0m: name 'string' is not defined"
     ]
    }
   ],
   "source": [
    "string.punctuation"
   ]
  },
  {
   "cell_type": "code",
   "execution_count": 97,
   "metadata": {},
   "outputs": [],
   "source": [
    "nn_freq = {}\n",
    "num_nn=[]\n",
    "count=0\n",
    "stop_words_set=set(stopwords.words('english'))\n",
    "for comment in df_reviews_clean['comments'][0:-1]:\n",
    "    tokens = wordpunct_tokenize(comment.lower())\n",
    "    tags = nltk.pos_tag(tokens)\n",
    "    for tag in tags:\n",
    "        if tag[1]=='NN' or tag[1]=='NNP'or tag[1]=='NNS':\n",
    "            #print(tag[0])\n",
    "            if tag[0] in stop_words_set:\n",
    "                continue\n",
    "            if tag[0] in nn_freq:\n",
    "                nn_freq[tag[0]] += 1\n",
    "            else:\n",
    "                nn_freq[tag[0]] =1\n",
    "    count+=1\n",
    "    \n",
    "    "
   ]
  },
  {
   "cell_type": "code",
   "execution_count": null,
   "metadata": {},
   "outputs": [],
   "source": []
  },
  {
   "cell_type": "code",
   "execution_count": 98,
   "metadata": {},
   "outputs": [
    {
     "data": {
      "text/plain": [
       "19605"
      ]
     },
     "execution_count": 98,
     "metadata": {},
     "output_type": "execute_result"
    }
   ],
   "source": [
    "len(nn_freq)"
   ]
  },
  {
   "cell_type": "code",
   "execution_count": 104,
   "metadata": {},
   "outputs": [
    {
     "data": {
      "text/plain": [
       "True"
      ]
     },
     "execution_count": 104,
     "metadata": {},
     "output_type": "execute_result"
    }
   ],
   "source": [
    "'min' in nn_freq"
   ]
  },
  {
   "cell_type": "code",
   "execution_count": 105,
   "metadata": {},
   "outputs": [
    {
     "data": {
      "text/plain": [
       "1423"
      ]
     },
     "execution_count": 105,
     "metadata": {},
     "output_type": "execute_result"
    }
   ],
   "source": []
  },
  {
   "cell_type": "code",
   "execution_count": 99,
   "metadata": {},
   "outputs": [],
   "source": [
    "nn_list=[]\n",
    "for nn in nn_freq:\n",
    "    nn_list.append((nn_freq[nn],nn))\n",
    "    "
   ]
  },
  {
   "cell_type": "code",
   "execution_count": 100,
   "metadata": {},
   "outputs": [
    {
     "data": {
      "text/plain": [
       "[(19427, 'stay'),\n",
       " (46, 'islam'),\n",
       " (30098, 'place'),\n",
       " (22746, 'location'),\n",
       " (3409, 'subway'),\n",
       " (1569, 'downtown'),\n",
       " (20102, 'room'),\n",
       " (3794, 'arrival'),\n",
       " (66, ';)'),\n",
       " (56, 'user')]"
      ]
     },
     "execution_count": 100,
     "metadata": {},
     "output_type": "execute_result"
    }
   ],
   "source": [
    "nn_list[0:10]"
   ]
  },
  {
   "cell_type": "code",
   "execution_count": null,
   "metadata": {},
   "outputs": [],
   "source": []
  },
  {
   "cell_type": "code",
   "execution_count": 101,
   "metadata": {},
   "outputs": [],
   "source": [
    "nn_list.sort(reverse=True)"
   ]
  },
  {
   "cell_type": "code",
   "execution_count": 103,
   "metadata": {},
   "outputs": [
    {
     "data": {
      "text/plain": [
       "[(30098, 'place'),\n",
       " (28194, 'apartment'),\n",
       " (26221, 'boston'),\n",
       " (22746, 'location'),\n",
       " (20102, 'room'),\n",
       " (19427, 'stay'),\n",
       " (17657, 'host'),\n",
       " (14456, 'house'),\n",
       " (13791, 'everything'),\n",
       " (12308, 'time'),\n",
       " (11184, 'home'),\n",
       " (10211, 'neighborhood'),\n",
       " (8398, 'experience'),\n",
       " (7940, 'area'),\n",
       " (7265, 'bed'),\n",
       " (7072, 'restaurants'),\n",
       " (6623, 'walk'),\n",
       " (6174, 'city'),\n",
       " (5925, 'night'),\n",
       " (5680, 'station'),\n",
       " (5628, 'bathroom'),\n",
       " (5530, 'street'),\n",
       " (5376, 'space'),\n",
       " (5375, 'kitchen'),\n",
       " (4860, 'day'),\n",
       " (4531, 'thanks'),\n",
       " (4440, 'hosts'),\n",
       " (4432, 'distance'),\n",
       " (4055, 'minutes'),\n",
       " (3836, 'trip'),\n",
       " (3797, 'questions'),\n",
       " (3794, 'arrival'),\n",
       " (3758, '/'),\n",
       " (3577, 'access'),\n",
       " (3559, 'people'),\n",
       " (3487, 'family'),\n",
       " (3430, 'line'),\n",
       " (3417, 'airbnb'),\n",
       " (3409, 'subway'),\n",
       " (3391, 'breakfast'),\n",
       " (3307, 'airport'),\n",
       " (3230, 'end'),\n",
       " (3226, 'days'),\n",
       " (3224, 'minute'),\n",
       " (3221, 'coffee'),\n",
       " (3162, 'lot'),\n",
       " (3160, 'check'),\n",
       " (3002, 'kind'),\n",
       " (2963, 'parking'),\n",
       " (2943, 'thank'),\n",
       " (2802, 'building'),\n",
       " (2792, 'morning'),\n",
       " (2777, 'places'),\n",
       " (2776, 'way'),\n",
       " (2755, 'bedroom'),\n",
       " (2731, 'things'),\n",
       " (2683, 'anyone'),\n",
       " (2660, 'studio'),\n",
       " (2623, 'train'),\n",
       " (2588, 'communication'),\n",
       " (2559, 'bit'),\n",
       " (2535, 'lots'),\n",
       " (2464, 'bus'),\n",
       " (2463, 'town'),\n",
       " (2366, 'food'),\n",
       " (2360, 'floor'),\n",
       " (2282, 'transportation'),\n",
       " (2234, 'towels'),\n",
       " (2220, 'plenty'),\n",
       " (2194, 'shops'),\n",
       " (2184, 'information'),\n",
       " (2165, 'door'),\n",
       " (2161, 'convenient'),\n",
       " (2116, 'guests'),\n",
       " (2113, '\"'),\n",
       " (2092, 'pictures'),\n",
       " (2049, 'listing'),\n",
       " (2042, 'unit'),\n",
       " (2032, 'center'),\n",
       " (2019, 'person'),\n",
       " (2003, 'air'),\n",
       " (1994, 'car'),\n",
       " (1980, 'weekend'),\n",
       " (1956, 'nights'),\n",
       " (1906, ').'),\n",
       " (1878, 'jason'),\n",
       " (1861, 'amenities'),\n",
       " (1845, 'instructions'),\n",
       " (1842, 'visit'),\n",
       " (1841, 'couple'),\n",
       " (1831, 'problem'),\n",
       " (1830, 'neighbourhood'),\n",
       " (1809, 'water'),\n",
       " (1789, 'stop'),\n",
       " (1703, 'hotel'),\n",
       " (1669, 'price'),\n",
       " (1635, 'living'),\n",
       " (1584, 'spot'),\n",
       " (1571, 'rooms'),\n",
       " (1569, 'downtown')]"
      ]
     },
     "execution_count": 103,
     "metadata": {},
     "output_type": "execute_result"
    }
   ],
   "source": [
    "nn_list[0:100]"
   ]
  },
  {
   "cell_type": "code",
   "execution_count": 84,
   "metadata": {},
   "outputs": [],
   "source": [
    "freq_list=[]\n",
    "for t in nn_list:\n",
    "    freq_list.append(t[0])"
   ]
  },
  {
   "cell_type": "code",
   "execution_count": 85,
   "metadata": {},
   "outputs": [
    {
     "data": {
      "image/png": "[encoded data removed]",
      "text/plain": [
       "<Figure size 432x288 with 1 Axes>"
      ]
     },
     "metadata": {
      "needs_background": "light"
     },
     "output_type": "display_data"
    }
   ],
   "source": [
    "plt.hist(freq_list,bins=200);\n",
    "plt.xscale('log')\n",
    "plt.yscale('log')"
   ]
  },
  {
   "cell_type": "code",
   "execution_count": 86,
   "metadata": {},
   "outputs": [
    {
     "name": "stdout",
     "output_type": "stream",
     "text": [
      "print number above 100 : 1115\n"
     ]
    }
   ],
   "source": [
    "ct=0\n",
    "thresh = 100\n",
    "for t in nn_list:\n",
    "    if t[0]>thresh:\n",
    "        ct +=1\n",
    "print(\"print number above {} : {}\".format(thresh,ct))"
   ]
  },
  {
   "cell_type": "code",
   "execution_count": 89,
   "metadata": {
    "scrolled": true
   },
   "outputs": [
    {
     "data": {
      "text/plain": [
       "[(116, 'advices'),\n",
       " (115, 'pans'),\n",
       " (115, 'p'),\n",
       " (115, 'kept'),\n",
       " (115, 'girls'),\n",
       " (115, 'fire'),\n",
       " (115, 'deepti'),\n",
       " (115, 'carl'),\n",
       " (114, 'sleeping'),\n",
       " (114, 'simple'),\n",
       " (114, 'nury'),\n",
       " (114, 'mikhail'),\n",
       " (114, 'kitchenette'),\n",
       " (114, 'interaction'),\n",
       " (114, 'fit'),\n",
       " (114, 'dust'),\n",
       " (114, 'difficulty'),\n",
       " (114, 'brochures'),\n",
       " (114, ':-)'),\n",
       " (113, 'pots'),\n",
       " (113, 'personality'),\n",
       " (113, 'extras'),\n",
       " (113, 'carlos'),\n",
       " (113, 'amanda'),\n",
       " (112, 'purpose'),\n",
       " (112, 'none'),\n",
       " (112, 'nancy'),\n",
       " (112, 'lounge'),\n",
       " (112, 'linen'),\n",
       " (112, 'dishwasher'),\n",
       " (112, 'blinds'),\n",
       " (111, '–'),\n",
       " (111, 'torry'),\n",
       " (111, 'supermarkets'),\n",
       " (111, 'snow'),\n",
       " (111, 'relaxing'),\n",
       " (111, 'pick'),\n",
       " (111, 'pack'),\n",
       " (111, 'locks'),\n",
       " (111, 'layover'),\n",
       " (111, 'gym'),\n",
       " (111, 'fine'),\n",
       " (111, 'drawback'),\n",
       " (110, 'yogurt'),\n",
       " (110, 'southie'),\n",
       " (110, 'marina'),\n",
       " (110, 'driveway'),\n",
       " (110, 'choices'),\n",
       " (110, 'anna'),\n",
       " (109, 'townhouse'),\n",
       " (109, 'sam'),\n",
       " (109, 'museums'),\n",
       " (109, 'megan'),\n",
       " (109, 'exchange'),\n",
       " (109, 'example'),\n",
       " (109, 'chocolates'),\n",
       " (108, 'rent'),\n",
       " (108, 'range'),\n",
       " (108, 'prices'),\n",
       " (108, 'path'),\n",
       " (108, 'con'),\n",
       " (108, 'accomodation'),\n",
       " (107, 'trees'),\n",
       " (107, 'comforts'),\n",
       " (107, 'availability'),\n",
       " (106, 'slippers'),\n",
       " (106, 'setup'),\n",
       " (106, 'mix'),\n",
       " (106, 'marilyn'),\n",
       " (106, 'juliet'),\n",
       " (106, 'andy'),\n",
       " (105, 'tuomas'),\n",
       " (105, 'tickets'),\n",
       " (105, 'route'),\n",
       " (105, 'roslindale'),\n",
       " (105, 'liquor'),\n",
       " (105, 'keith'),\n",
       " (105, 'collection'),\n",
       " (105, 'cheers'),\n",
       " (104, 'toaster'),\n",
       " (104, 'surroundings'),\n",
       " (104, 'mine'),\n",
       " (104, 'kinds'),\n",
       " (104, 'isa'),\n",
       " (104, 'housing'),\n",
       " (104, 'guess'),\n",
       " (104, 'christopher'),\n",
       " (104, 'christine'),\n",
       " (104, 'bikes'),\n",
       " (104, 'alexandra'),\n",
       " (103, '´'),\n",
       " (103, 'wow'),\n",
       " (103, 'visitor'),\n",
       " (103, 'silver'),\n",
       " (103, 'shelley'),\n",
       " (103, 'safety'),\n",
       " (103, 'maintenance'),\n",
       " (103, 'inviting'),\n",
       " (103, 'campus'),\n",
       " (103, 'body')]"
      ]
     },
     "execution_count": 89,
     "metadata": {},
     "output_type": "execute_result"
    }
   ],
   "source": [
    "nn_list[1000:1100]"
   ]
  },
  {
   "cell_type": "code",
   "execution_count": 21,
   "metadata": {},
   "outputs": [
    {
     "name": "stderr",
     "output_type": "stream",
     "text": [
      "C:\\Users\\zzguk\\Anaconda3\\lib\\site-packages\\gensim\\utils.py:1197: UserWarning: detected Windows; aliasing chunkize to chunkize_serial\n",
      "  warnings.warn(\"detected Windows; aliasing chunkize to chunkize_serial\")\n"
     ]
    }
   ],
   "source": [
    "import gensim\n",
    "from gensim.models import word2vec"
   ]
  },
  {
   "cell_type": "code",
   "execution_count": 10,
   "metadata": {},
   "outputs": [],
   "source": [
    "data1=[]\n",
    "for comment in df_reviews_clean['comments']:\n",
    "    sentences = sent_tokenize(comment)\n",
    "    for sentence in sentences:\n",
    "        tmp=[]\n",
    "        for w in word_tokenize(sentence):\n",
    "            tmp.append(w.lower())\n",
    "        data1.append(tmp)"
   ]
  },
  {
   "cell_type": "code",
   "execution_count": 11,
   "metadata": {},
   "outputs": [
    {
     "data": {
      "text/plain": [
       "['good',\n",
       " 'location',\n",
       " ',',\n",
       " '5min',\n",
       " 'away',\n",
       " 'from',\n",
       " 'subway',\n",
       " ',',\n",
       " 'then',\n",
       " '10min',\n",
       " 'from',\n",
       " 'downtown',\n",
       " '.']"
      ]
     },
     "execution_count": 11,
     "metadata": {},
     "output_type": "execute_result"
    }
   ],
   "source": [
    "data1[1]"
   ]
  },
  {
   "cell_type": "code",
   "execution_count": 95,
   "metadata": {},
   "outputs": [
    {
     "data": {
      "text/plain": [
       "['arabic',\n",
       " 'azerbaijani',\n",
       " 'danish',\n",
       " 'dutch',\n",
       " 'english',\n",
       " 'finnish',\n",
       " 'french',\n",
       " 'german',\n",
       " 'greek',\n",
       " 'hungarian',\n",
       " 'indonesian',\n",
       " 'italian',\n",
       " 'kazakh',\n",
       " 'nepali',\n",
       " 'norwegian',\n",
       " 'portuguese',\n",
       " 'romanian',\n",
       " 'russian',\n",
       " 'spanish',\n",
       " 'swedish',\n",
       " 'turkish']"
      ]
     },
     "execution_count": 95,
     "metadata": {},
     "output_type": "execute_result"
    }
   ],
   "source": [
    "stopwords._fileids"
   ]
  },
  {
   "cell_type": "code",
   "execution_count": 96,
   "metadata": {},
   "outputs": [
    {
     "data": {
      "text/plain": [
       "['i',\n",
       " 'me',\n",
       " 'my',\n",
       " 'myself',\n",
       " 'we',\n",
       " 'our',\n",
       " 'ours',\n",
       " 'ourselves',\n",
       " 'you',\n",
       " \"you're\",\n",
       " \"you've\",\n",
       " \"you'll\",\n",
       " \"you'd\",\n",
       " 'your',\n",
       " 'yours',\n",
       " 'yourself',\n",
       " 'yourselves',\n",
       " 'he',\n",
       " 'him',\n",
       " 'his',\n",
       " 'himself',\n",
       " 'she',\n",
       " \"she's\",\n",
       " 'her',\n",
       " 'hers',\n",
       " 'herself',\n",
       " 'it',\n",
       " \"it's\",\n",
       " 'its',\n",
       " 'itself',\n",
       " 'they',\n",
       " 'them',\n",
       " 'their',\n",
       " 'theirs',\n",
       " 'themselves',\n",
       " 'what',\n",
       " 'which',\n",
       " 'who',\n",
       " 'whom',\n",
       " 'this',\n",
       " 'that',\n",
       " \"that'll\",\n",
       " 'these',\n",
       " 'those',\n",
       " 'am',\n",
       " 'is',\n",
       " 'are',\n",
       " 'was',\n",
       " 'were',\n",
       " 'be',\n",
       " 'been',\n",
       " 'being',\n",
       " 'have',\n",
       " 'has',\n",
       " 'had',\n",
       " 'having',\n",
       " 'do',\n",
       " 'does',\n",
       " 'did',\n",
       " 'doing',\n",
       " 'a',\n",
       " 'an',\n",
       " 'the',\n",
       " 'and',\n",
       " 'but',\n",
       " 'if',\n",
       " 'or',\n",
       " 'because',\n",
       " 'as',\n",
       " 'until',\n",
       " 'while',\n",
       " 'of',\n",
       " 'at',\n",
       " 'by',\n",
       " 'for',\n",
       " 'with',\n",
       " 'about',\n",
       " 'against',\n",
       " 'between',\n",
       " 'into',\n",
       " 'through',\n",
       " 'during',\n",
       " 'before',\n",
       " 'after',\n",
       " 'above',\n",
       " 'below',\n",
       " 'to',\n",
       " 'from',\n",
       " 'up',\n",
       " 'down',\n",
       " 'in',\n",
       " 'out',\n",
       " 'on',\n",
       " 'off',\n",
       " 'over',\n",
       " 'under',\n",
       " 'again',\n",
       " 'further',\n",
       " 'then',\n",
       " 'once',\n",
       " 'here',\n",
       " 'there',\n",
       " 'when',\n",
       " 'where',\n",
       " 'why',\n",
       " 'how',\n",
       " 'all',\n",
       " 'any',\n",
       " 'both',\n",
       " 'each',\n",
       " 'few',\n",
       " 'more',\n",
       " 'most',\n",
       " 'other',\n",
       " 'some',\n",
       " 'such',\n",
       " 'no',\n",
       " 'nor',\n",
       " 'not',\n",
       " 'only',\n",
       " 'own',\n",
       " 'same',\n",
       " 'so',\n",
       " 'than',\n",
       " 'too',\n",
       " 'very',\n",
       " 's',\n",
       " 't',\n",
       " 'can',\n",
       " 'will',\n",
       " 'just',\n",
       " 'don',\n",
       " \"don't\",\n",
       " 'should',\n",
       " \"should've\",\n",
       " 'now',\n",
       " 'd',\n",
       " 'll',\n",
       " 'm',\n",
       " 'o',\n",
       " 're',\n",
       " 've',\n",
       " 'y',\n",
       " 'ain',\n",
       " 'aren',\n",
       " \"aren't\",\n",
       " 'couldn',\n",
       " \"couldn't\",\n",
       " 'didn',\n",
       " \"didn't\",\n",
       " 'doesn',\n",
       " \"doesn't\",\n",
       " 'hadn',\n",
       " \"hadn't\",\n",
       " 'hasn',\n",
       " \"hasn't\",\n",
       " 'haven',\n",
       " \"haven't\",\n",
       " 'isn',\n",
       " \"isn't\",\n",
       " 'ma',\n",
       " 'mightn',\n",
       " \"mightn't\",\n",
       " 'mustn',\n",
       " \"mustn't\",\n",
       " 'needn',\n",
       " \"needn't\",\n",
       " 'shan',\n",
       " \"shan't\",\n",
       " 'shouldn',\n",
       " \"shouldn't\",\n",
       " 'wasn',\n",
       " \"wasn't\",\n",
       " 'weren',\n",
       " \"weren't\",\n",
       " 'won',\n",
       " \"won't\",\n",
       " 'wouldn',\n",
       " \"wouldn't\"]"
      ]
     },
     "execution_count": 96,
     "metadata": {},
     "output_type": "execute_result"
    }
   ],
   "source": [
    "stopwords.words('english')"
   ]
  },
  {
   "cell_type": "code",
   "execution_count": 112,
   "metadata": {},
   "outputs": [],
   "source": [
    "jj_freq = {}\n",
    "stop_words_set=set(stopwords.words('english'))\n",
    "for comment in df_reviews_clean['comments']:\n",
    "    tokens = wordpunct_tokenize(comment.lower())\n",
    "    tags = nltk.pos_tag(tokens)\n",
    "    for tag in tags:\n",
    "        if tag[1]=='JJ':\n",
    "            #print(tag[0])\n",
    "            if tag[0] in stop_words_set:\n",
    "                continue\n",
    "            if tag[0] in jj_freq:\n",
    "                jj_freq[tag[0]] += 1\n",
    "            else:\n",
    "                jj_freq[tag[0]] =1"
   ]
  },
  {
   "cell_type": "code",
   "execution_count": 113,
   "metadata": {},
   "outputs": [
    {
     "data": {
      "text/plain": [
       "7871"
      ]
     },
     "execution_count": 113,
     "metadata": {},
     "output_type": "execute_result"
    }
   ],
   "source": [
    "len(jj_freq)"
   ]
  },
  {
   "cell_type": "code",
   "execution_count": 115,
   "metadata": {},
   "outputs": [],
   "source": [
    "jj_list=[]\n",
    "for jj in jj_freq:\n",
    "    jj_list.append((jj_freq[jj],jj))\n",
    "\n",
    "jj_list.sort(reverse=True)"
   ]
  },
  {
   "cell_type": "code",
   "execution_count": 116,
   "metadata": {},
   "outputs": [
    {
     "data": {
      "text/plain": [
       "[(39890, 'great'),\n",
       " (21471, 'clean'),\n",
       " (18374, 'nice'),\n",
       " (15830, 'comfortable'),\n",
       " (12427, 'easy'),\n",
       " (11394, 'good'),\n",
       " (9608, 'perfect'),\n",
       " (8095, 'helpful'),\n",
       " (6661, 'quiet'),\n",
       " (6645, 'wonderful'),\n",
       " (5988, 'beautiful'),\n",
       " (5508, 'friendly'),\n",
       " (4979, 'first'),\n",
       " (4699, 'little'),\n",
       " (4282, 'spacious'),\n",
       " (4119, 'super'),\n",
       " (4063, 'short'),\n",
       " (4055, 'next'),\n",
       " (4045, 'excellent'),\n",
       " (3835, 'convenient')]"
      ]
     },
     "execution_count": 116,
     "metadata": {},
     "output_type": "execute_result"
    }
   ],
   "source": [
    "jj_list[0:20]"
   ]
  },
  {
   "cell_type": "code",
   "execution_count": 123,
   "metadata": {},
   "outputs": [
    {
     "data": {
      "text/plain": [
       "[(39890, 'great'),\n",
       " (21471, 'clean'),\n",
       " (18374, 'nice'),\n",
       " (15830, 'comfortable'),\n",
       " (12427, 'easy'),\n",
       " (11394, 'good'),\n",
       " (9608, 'perfect'),\n",
       " (8095, 'helpful'),\n",
       " (6661, 'quiet'),\n",
       " (6645, 'wonderful'),\n",
       " (5988, 'beautiful'),\n",
       " (5508, 'friendly'),\n",
       " (4979, 'first'),\n",
       " (4699, 'little'),\n",
       " (4282, 'spacious'),\n",
       " (4119, 'super'),\n",
       " (4063, 'short'),\n",
       " (4055, 'next'),\n",
       " (4045, 'excellent'),\n",
       " (3835, 'convenient'),\n",
       " (3661, 'safe'),\n",
       " (3543, 'fantastic'),\n",
       " (3466, 'small'),\n",
       " (3191, 'close'),\n",
       " (3154, 'sure'),\n",
       " (3152, 'responsive'),\n",
       " (3100, 'available'),\n",
       " (3025, 'public'),\n",
       " (3007, 'many'),\n",
       " (2955, 'able'),\n",
       " (2906, 'much'),\n",
       " (2838, 'overall'),\n",
       " (2837, 'quick'),\n",
       " (2662, 'lovely'),\n",
       " (2596, 'amazing'),\n",
       " (2416, 'welcome'),\n",
       " (2384, 'awesome'),\n",
       " (2362, 'warm'),\n",
       " (2310, 'big'),\n",
       " (2186, 'private'),\n",
       " (2147, 'cozy'),\n",
       " (2084, 'north'),\n",
       " (2028, 'right'),\n",
       " (2016, 'old'),\n",
       " (1915, 'pleasant'),\n",
       " (1884, 'large'),\n",
       " (1806, 'whole'),\n",
       " (1772, 'local'),\n",
       " (1771, 'new'),\n",
       " (1739, 'full'),\n",
       " (1692, 'airbnb'),\n",
       " (1662, 'late'),\n",
       " (1579, 'welcoming'),\n",
       " (1506, 'free'),\n",
       " (1444, 'flexible'),\n",
       " (1434, '/'),\n",
       " (1423, 'last'),\n",
       " (1399, 'downtown'),\n",
       " (1393, 'clear'),\n",
       " (1389, 'fine'),\n",
       " (1363, 'happy'),\n",
       " (1339, 'south'),\n",
       " (1311, 'early'),\n",
       " (1278, 'hot'),\n",
       " (1269, 'accurate'),\n",
       " (1248, 'long'),\n",
       " (1234, 'central'),\n",
       " (1218, 'red'),\n",
       " (1167, 'common'),\n",
       " (1161, 'several'),\n",
       " (1157, 'accessible'),\n",
       " (1152, 'extra'),\n",
       " (1127, 'gracious'),\n",
       " (1121, 'fresh'),\n",
       " (1040, 'enough'),\n",
       " (1035, 'flat'),\n",
       " (1023, 'modern'),\n",
       " (1019, 'cute'),\n",
       " (1004, 'second'),\n",
       " (980, 'recommended'),\n",
       " (970, 'automated'),\n",
       " (958, 'back'),\n",
       " (950, 'green'),\n",
       " (927, 'nearby'),\n",
       " (913, 'recommend'),\n",
       " (901, 'cool'),\n",
       " (898, 'main'),\n",
       " (890, 'huge'),\n",
       " (857, 'simple'),\n",
       " (841, 'ready'),\n",
       " (838, 'delicious'),\n",
       " (836, 'advertised'),\n",
       " (813, 'neat'),\n",
       " (797, 'entire'),\n",
       " (794, 'due'),\n",
       " (774, 'real'),\n",
       " (766, 'sweet'),\n",
       " (763, 'ideal'),\n",
       " (745, 'high'),\n",
       " (738, 'busy')]"
      ]
     },
     "execution_count": 123,
     "metadata": {},
     "output_type": "execute_result"
    }
   ],
   "source": [
    "jj_list[0:100]"
   ]
  },
  {
   "cell_type": "code",
   "execution_count": 117,
   "metadata": {},
   "outputs": [],
   "source": [
    "freq_jj=[]\n",
    "for t in jj_list:\n",
    "    freq_jj.append(t[0])"
   ]
  },
  {
   "cell_type": "code",
   "execution_count": 120,
   "metadata": {},
   "outputs": [
    {
     "data": {
      "image/png": "[encoded data removed]",
      "text/plain": [
       "<Figure size 432x288 with 1 Axes>"
      ]
     },
     "metadata": {
      "needs_background": "light"
     },
     "output_type": "display_data"
    }
   ],
   "source": [
    "plt.hist(freq_jj);\n",
    "plt.xscale('log')\n",
    "plt.yscale('log')"
   ]
  },
  {
   "cell_type": "code",
   "execution_count": 125,
   "metadata": {},
   "outputs": [
    {
     "name": "stderr",
     "output_type": "stream",
     "text": [
      "[nltk_data] Downloading package words to\n",
      "[nltk_data]     C:\\Users\\zzguk\\AppData\\Roaming\\nltk_data...\n",
      "[nltk_data]   Unzipping corpora\\words.zip.\n"
     ]
    },
    {
     "data": {
      "text/plain": [
       "True"
      ]
     },
     "execution_count": 125,
     "metadata": {},
     "output_type": "execute_result"
    }
   ],
   "source": [
    "nltk.download('words')"
   ]
  },
  {
   "cell_type": "code",
   "execution_count": 126,
   "metadata": {},
   "outputs": [
    {
     "data": {
      "text/plain": [
       "['A',\n",
       " 'a',\n",
       " 'aa',\n",
       " 'aal',\n",
       " 'aalii',\n",
       " 'aam',\n",
       " 'Aani',\n",
       " 'aardvark',\n",
       " 'aardwolf',\n",
       " 'Aaron',\n",
       " 'Aaronic',\n",
       " 'Aaronical',\n",
       " 'Aaronite',\n",
       " 'Aaronitic',\n",
       " 'Aaru',\n",
       " 'Ab',\n",
       " 'aba',\n",
       " 'Ababdeh',\n",
       " 'Ababua',\n",
       " 'abac',\n",
       " 'abaca',\n",
       " 'abacate',\n",
       " 'abacay',\n",
       " 'abacinate',\n",
       " 'abacination',\n",
       " 'abaciscus',\n",
       " 'abacist',\n",
       " 'aback',\n",
       " 'abactinal',\n",
       " 'abactinally',\n",
       " 'abaction',\n",
       " 'abactor',\n",
       " 'abaculus',\n",
       " 'abacus',\n",
       " 'Abadite',\n",
       " 'abaff',\n",
       " 'abaft',\n",
       " 'abaisance',\n",
       " 'abaiser',\n",
       " 'abaissed',\n",
       " 'abalienate',\n",
       " 'abalienation',\n",
       " 'abalone',\n",
       " 'Abama',\n",
       " 'abampere',\n",
       " 'abandon',\n",
       " 'abandonable',\n",
       " 'abandoned',\n",
       " 'abandonedly',\n",
       " 'abandonee',\n",
       " 'abandoner',\n",
       " 'abandonment',\n",
       " 'Abanic',\n",
       " 'Abantes',\n",
       " 'abaptiston',\n",
       " 'Abarambo',\n",
       " 'Abaris',\n",
       " 'abarthrosis',\n",
       " 'abarticular',\n",
       " 'abarticulation',\n",
       " 'abas',\n",
       " 'abase',\n",
       " 'abased',\n",
       " 'abasedly',\n",
       " 'abasedness',\n",
       " 'abasement',\n",
       " 'abaser',\n",
       " 'Abasgi',\n",
       " 'abash',\n",
       " 'abashed',\n",
       " 'abashedly',\n",
       " 'abashedness',\n",
       " 'abashless',\n",
       " 'abashlessly',\n",
       " 'abashment',\n",
       " 'abasia',\n",
       " 'abasic',\n",
       " 'abask',\n",
       " 'Abassin',\n",
       " 'abastardize',\n",
       " 'abatable',\n",
       " 'abate',\n",
       " 'abatement',\n",
       " 'abater',\n",
       " 'abatis',\n",
       " 'abatised',\n",
       " 'abaton',\n",
       " 'abator',\n",
       " 'abattoir',\n",
       " 'Abatua',\n",
       " 'abature',\n",
       " 'abave',\n",
       " 'abaxial',\n",
       " 'abaxile',\n",
       " 'abaze',\n",
       " 'abb',\n",
       " 'Abba',\n",
       " 'abbacomes',\n",
       " 'abbacy',\n",
       " 'Abbadide',\n",
       " 'abbas',\n",
       " 'abbasi',\n",
       " 'abbassi',\n",
       " 'Abbasside',\n",
       " 'abbatial',\n",
       " 'abbatical',\n",
       " 'abbess',\n",
       " 'abbey',\n",
       " 'abbeystede',\n",
       " 'Abbie',\n",
       " 'abbot',\n",
       " 'abbotcy',\n",
       " 'abbotnullius',\n",
       " 'abbotship',\n",
       " 'abbreviate',\n",
       " 'abbreviately',\n",
       " 'abbreviation',\n",
       " 'abbreviator',\n",
       " 'abbreviatory',\n",
       " 'abbreviature',\n",
       " 'Abby',\n",
       " 'abcoulomb',\n",
       " 'abdal',\n",
       " 'abdat',\n",
       " 'Abderian',\n",
       " 'Abderite',\n",
       " 'abdest',\n",
       " 'abdicable',\n",
       " 'abdicant',\n",
       " 'abdicate',\n",
       " 'abdication',\n",
       " 'abdicative',\n",
       " 'abdicator',\n",
       " 'Abdiel',\n",
       " 'abditive',\n",
       " 'abditory',\n",
       " 'abdomen',\n",
       " 'abdominal',\n",
       " 'Abdominales',\n",
       " 'abdominalian',\n",
       " 'abdominally',\n",
       " 'abdominoanterior',\n",
       " 'abdominocardiac',\n",
       " 'abdominocentesis',\n",
       " 'abdominocystic',\n",
       " 'abdominogenital',\n",
       " 'abdominohysterectomy',\n",
       " 'abdominohysterotomy',\n",
       " 'abdominoposterior',\n",
       " 'abdominoscope',\n",
       " 'abdominoscopy',\n",
       " 'abdominothoracic',\n",
       " 'abdominous',\n",
       " 'abdominovaginal',\n",
       " 'abdominovesical',\n",
       " 'abduce',\n",
       " 'abducens',\n",
       " 'abducent',\n",
       " 'abduct',\n",
       " 'abduction',\n",
       " 'abductor',\n",
       " 'Abe',\n",
       " 'abeam',\n",
       " 'abear',\n",
       " 'abearance',\n",
       " 'abecedarian',\n",
       " 'abecedarium',\n",
       " 'abecedary',\n",
       " 'abed',\n",
       " 'abeigh',\n",
       " 'Abel',\n",
       " 'abele',\n",
       " 'Abelia',\n",
       " 'Abelian',\n",
       " 'Abelicea',\n",
       " 'Abelite',\n",
       " 'abelite',\n",
       " 'Abelmoschus',\n",
       " 'abelmosk',\n",
       " 'Abelonian',\n",
       " 'abeltree',\n",
       " 'Abencerrages',\n",
       " 'abenteric',\n",
       " 'abepithymia',\n",
       " 'Aberdeen',\n",
       " 'aberdevine',\n",
       " 'Aberdonian',\n",
       " 'Aberia',\n",
       " 'aberrance',\n",
       " 'aberrancy',\n",
       " 'aberrant',\n",
       " 'aberrate',\n",
       " 'aberration',\n",
       " 'aberrational',\n",
       " 'aberrator',\n",
       " 'aberrometer',\n",
       " 'aberroscope',\n",
       " 'aberuncator',\n",
       " 'abet',\n",
       " 'abetment',\n",
       " 'abettal',\n",
       " 'abettor',\n",
       " 'abevacuation',\n",
       " 'abey',\n",
       " 'abeyance',\n",
       " 'abeyancy',\n",
       " 'abeyant',\n",
       " 'abfarad',\n",
       " 'abhenry',\n",
       " 'abhiseka',\n",
       " 'abhominable',\n",
       " 'abhor',\n",
       " 'abhorrence',\n",
       " 'abhorrency',\n",
       " 'abhorrent',\n",
       " 'abhorrently',\n",
       " 'abhorrer',\n",
       " 'abhorrible',\n",
       " 'abhorring',\n",
       " 'Abhorson',\n",
       " 'abidal',\n",
       " 'abidance',\n",
       " 'abide',\n",
       " 'abider',\n",
       " 'abidi',\n",
       " 'abiding',\n",
       " 'abidingly',\n",
       " 'abidingness',\n",
       " 'Abie',\n",
       " 'Abies',\n",
       " 'abietate',\n",
       " 'abietene',\n",
       " 'abietic',\n",
       " 'abietin',\n",
       " 'Abietineae',\n",
       " 'abietineous',\n",
       " 'abietinic',\n",
       " 'Abiezer',\n",
       " 'Abigail',\n",
       " 'abigail',\n",
       " 'abigailship',\n",
       " 'abigeat',\n",
       " 'abigeus',\n",
       " 'abilao',\n",
       " 'ability',\n",
       " 'abilla',\n",
       " 'abilo',\n",
       " 'abintestate',\n",
       " 'abiogenesis',\n",
       " 'abiogenesist',\n",
       " 'abiogenetic',\n",
       " 'abiogenetical',\n",
       " 'abiogenetically',\n",
       " 'abiogenist',\n",
       " 'abiogenous',\n",
       " 'abiogeny',\n",
       " 'abiological',\n",
       " 'abiologically',\n",
       " 'abiology',\n",
       " 'abiosis',\n",
       " 'abiotic',\n",
       " 'abiotrophic',\n",
       " 'abiotrophy',\n",
       " 'Abipon',\n",
       " 'abir',\n",
       " 'abirritant',\n",
       " 'abirritate',\n",
       " 'abirritation',\n",
       " 'abirritative',\n",
       " 'abiston',\n",
       " 'Abitibi',\n",
       " 'abiuret',\n",
       " 'abject',\n",
       " 'abjectedness',\n",
       " 'abjection',\n",
       " 'abjective',\n",
       " 'abjectly',\n",
       " 'abjectness',\n",
       " 'abjoint',\n",
       " 'abjudge',\n",
       " 'abjudicate',\n",
       " 'abjudication',\n",
       " 'abjunction',\n",
       " 'abjunctive',\n",
       " 'abjuration',\n",
       " 'abjuratory',\n",
       " 'abjure',\n",
       " 'abjurement',\n",
       " 'abjurer',\n",
       " 'abkar',\n",
       " 'abkari',\n",
       " 'Abkhas',\n",
       " 'Abkhasian',\n",
       " 'ablach',\n",
       " 'ablactate',\n",
       " 'ablactation',\n",
       " 'ablare',\n",
       " 'ablastemic',\n",
       " 'ablastous',\n",
       " 'ablate',\n",
       " 'ablation',\n",
       " 'ablatitious',\n",
       " 'ablatival',\n",
       " 'ablative',\n",
       " 'ablator',\n",
       " 'ablaut',\n",
       " 'ablaze',\n",
       " 'able',\n",
       " 'ableeze',\n",
       " 'ablegate',\n",
       " 'ableness',\n",
       " 'ablepharia',\n",
       " 'ablepharon',\n",
       " 'ablepharous',\n",
       " 'Ablepharus',\n",
       " 'ablepsia',\n",
       " 'ableptical',\n",
       " 'ableptically',\n",
       " 'abler',\n",
       " 'ablest',\n",
       " 'ablewhackets',\n",
       " 'ablins',\n",
       " 'abloom',\n",
       " 'ablow',\n",
       " 'ablude',\n",
       " 'abluent',\n",
       " 'ablush',\n",
       " 'ablution',\n",
       " 'ablutionary',\n",
       " 'abluvion',\n",
       " 'ably',\n",
       " 'abmho',\n",
       " 'Abnaki',\n",
       " 'abnegate',\n",
       " 'abnegation',\n",
       " 'abnegative',\n",
       " 'abnegator',\n",
       " 'Abner',\n",
       " 'abnerval',\n",
       " 'abnet',\n",
       " 'abneural',\n",
       " 'abnormal',\n",
       " 'abnormalism',\n",
       " 'abnormalist',\n",
       " 'abnormality',\n",
       " 'abnormalize',\n",
       " 'abnormally',\n",
       " 'abnormalness',\n",
       " 'abnormity',\n",
       " 'abnormous',\n",
       " 'abnumerable',\n",
       " 'Abo',\n",
       " 'aboard',\n",
       " 'Abobra',\n",
       " 'abode',\n",
       " 'abodement',\n",
       " 'abody',\n",
       " 'abohm',\n",
       " 'aboil',\n",
       " 'abolish',\n",
       " 'abolisher',\n",
       " 'abolishment',\n",
       " 'abolition',\n",
       " 'abolitionary',\n",
       " 'abolitionism',\n",
       " 'abolitionist',\n",
       " 'abolitionize',\n",
       " 'abolla',\n",
       " 'aboma',\n",
       " 'abomasum',\n",
       " 'abomasus',\n",
       " 'abominable',\n",
       " 'abominableness',\n",
       " 'abominably',\n",
       " 'abominate',\n",
       " 'abomination',\n",
       " 'abominator',\n",
       " 'abomine',\n",
       " 'Abongo',\n",
       " 'aboon',\n",
       " 'aborad',\n",
       " 'aboral',\n",
       " 'aborally',\n",
       " 'abord',\n",
       " 'aboriginal',\n",
       " 'aboriginality',\n",
       " 'aboriginally',\n",
       " 'aboriginary',\n",
       " 'aborigine',\n",
       " 'abort',\n",
       " 'aborted',\n",
       " 'aborticide',\n",
       " 'abortient',\n",
       " 'abortifacient',\n",
       " 'abortin',\n",
       " 'abortion',\n",
       " 'abortional',\n",
       " 'abortionist',\n",
       " 'abortive',\n",
       " 'abortively',\n",
       " 'abortiveness',\n",
       " 'abortus',\n",
       " 'abouchement',\n",
       " 'abound',\n",
       " 'abounder',\n",
       " 'abounding',\n",
       " 'aboundingly',\n",
       " 'about',\n",
       " 'abouts',\n",
       " 'above',\n",
       " 'aboveboard',\n",
       " 'abovedeck',\n",
       " 'aboveground',\n",
       " 'aboveproof',\n",
       " 'abovestairs',\n",
       " 'abox',\n",
       " 'abracadabra',\n",
       " 'abrachia',\n",
       " 'abradant',\n",
       " 'abrade',\n",
       " 'abrader',\n",
       " 'Abraham',\n",
       " 'Abrahamic',\n",
       " 'Abrahamidae',\n",
       " 'Abrahamite',\n",
       " 'Abrahamitic',\n",
       " 'abraid',\n",
       " 'Abram',\n",
       " 'Abramis',\n",
       " 'abranchial',\n",
       " 'abranchialism',\n",
       " 'abranchian',\n",
       " 'Abranchiata',\n",
       " 'abranchiate',\n",
       " 'abranchious',\n",
       " 'abrasax',\n",
       " 'abrase',\n",
       " 'abrash',\n",
       " 'abrasiometer',\n",
       " 'abrasion',\n",
       " 'abrasive',\n",
       " 'abrastol',\n",
       " 'abraum',\n",
       " 'abraxas',\n",
       " 'abreact',\n",
       " 'abreaction',\n",
       " 'abreast',\n",
       " 'abrenounce',\n",
       " 'abret',\n",
       " 'abrico',\n",
       " 'abridge',\n",
       " 'abridgeable',\n",
       " 'abridged',\n",
       " 'abridgedly',\n",
       " 'abridger',\n",
       " 'abridgment',\n",
       " 'abrim',\n",
       " 'abrin',\n",
       " 'abristle',\n",
       " 'abroach',\n",
       " 'abroad',\n",
       " 'Abrocoma',\n",
       " 'abrocome',\n",
       " 'abrogable',\n",
       " 'abrogate',\n",
       " 'abrogation',\n",
       " 'abrogative',\n",
       " 'abrogator',\n",
       " 'Abroma',\n",
       " 'Abronia',\n",
       " 'abrook',\n",
       " 'abrotanum',\n",
       " 'abrotine',\n",
       " 'abrupt',\n",
       " 'abruptedly',\n",
       " 'abruption',\n",
       " 'abruptly',\n",
       " 'abruptness',\n",
       " 'Abrus',\n",
       " 'Absalom',\n",
       " 'absampere',\n",
       " 'Absaroka',\n",
       " 'absarokite',\n",
       " 'abscess',\n",
       " 'abscessed',\n",
       " 'abscession',\n",
       " 'abscessroot',\n",
       " 'abscind',\n",
       " 'abscise',\n",
       " 'abscision',\n",
       " 'absciss',\n",
       " 'abscissa',\n",
       " 'abscissae',\n",
       " 'abscisse',\n",
       " 'abscission',\n",
       " 'absconce',\n",
       " 'abscond',\n",
       " 'absconded',\n",
       " 'abscondedly',\n",
       " 'abscondence',\n",
       " 'absconder',\n",
       " 'absconsa',\n",
       " 'abscoulomb',\n",
       " 'absence',\n",
       " 'absent',\n",
       " 'absentation',\n",
       " 'absentee',\n",
       " 'absenteeism',\n",
       " 'absenteeship',\n",
       " 'absenter',\n",
       " 'absently',\n",
       " 'absentment',\n",
       " 'absentmindedly',\n",
       " 'absentness',\n",
       " 'absfarad',\n",
       " 'abshenry',\n",
       " 'Absi',\n",
       " 'absinthe',\n",
       " 'absinthial',\n",
       " 'absinthian',\n",
       " 'absinthiate',\n",
       " 'absinthic',\n",
       " 'absinthin',\n",
       " 'absinthine',\n",
       " 'absinthism',\n",
       " 'absinthismic',\n",
       " 'absinthium',\n",
       " 'absinthol',\n",
       " 'absit',\n",
       " 'absmho',\n",
       " 'absohm',\n",
       " 'absolute',\n",
       " 'absolutely',\n",
       " 'absoluteness',\n",
       " 'absolution',\n",
       " 'absolutism',\n",
       " 'absolutist',\n",
       " 'absolutistic',\n",
       " 'absolutistically',\n",
       " 'absolutive',\n",
       " 'absolutization',\n",
       " 'absolutize',\n",
       " 'absolutory',\n",
       " 'absolvable',\n",
       " 'absolvatory',\n",
       " 'absolve',\n",
       " 'absolvent',\n",
       " 'absolver',\n",
       " 'absolvitor',\n",
       " 'absolvitory',\n",
       " 'absonant',\n",
       " 'absonous',\n",
       " 'absorb',\n",
       " 'absorbability',\n",
       " 'absorbable',\n",
       " 'absorbed',\n",
       " 'absorbedly',\n",
       " 'absorbedness',\n",
       " 'absorbefacient',\n",
       " 'absorbency',\n",
       " 'absorbent',\n",
       " 'absorber',\n",
       " 'absorbing',\n",
       " 'absorbingly',\n",
       " 'absorbition',\n",
       " 'absorpt',\n",
       " 'absorptance',\n",
       " 'absorptiometer',\n",
       " 'absorptiometric',\n",
       " 'absorption',\n",
       " 'absorptive',\n",
       " 'absorptively',\n",
       " 'absorptiveness',\n",
       " 'absorptivity',\n",
       " 'absquatulate',\n",
       " 'abstain',\n",
       " 'abstainer',\n",
       " 'abstainment',\n",
       " 'abstemious',\n",
       " 'abstemiously',\n",
       " 'abstemiousness',\n",
       " 'abstention',\n",
       " 'abstentionist',\n",
       " 'abstentious',\n",
       " 'absterge',\n",
       " 'abstergent',\n",
       " 'abstersion',\n",
       " 'abstersive',\n",
       " 'abstersiveness',\n",
       " 'abstinence',\n",
       " 'abstinency',\n",
       " 'abstinent',\n",
       " 'abstinential',\n",
       " 'abstinently',\n",
       " 'abstract',\n",
       " 'abstracted',\n",
       " 'abstractedly',\n",
       " 'abstractedness',\n",
       " 'abstracter',\n",
       " 'abstraction',\n",
       " 'abstractional',\n",
       " 'abstractionism',\n",
       " 'abstractionist',\n",
       " 'abstractitious',\n",
       " 'abstractive',\n",
       " 'abstractively',\n",
       " 'abstractiveness',\n",
       " 'abstractly',\n",
       " 'abstractness',\n",
       " 'abstractor',\n",
       " 'abstrahent',\n",
       " 'abstricted',\n",
       " 'abstriction',\n",
       " 'abstruse',\n",
       " 'abstrusely',\n",
       " 'abstruseness',\n",
       " 'abstrusion',\n",
       " 'abstrusity',\n",
       " 'absume',\n",
       " 'absumption',\n",
       " 'absurd',\n",
       " 'absurdity',\n",
       " 'absurdly',\n",
       " 'absurdness',\n",
       " 'absvolt',\n",
       " 'Absyrtus',\n",
       " 'abterminal',\n",
       " 'abthain',\n",
       " 'abthainrie',\n",
       " 'abthainry',\n",
       " 'abthanage',\n",
       " 'Abu',\n",
       " 'abu',\n",
       " 'abucco',\n",
       " 'abulia',\n",
       " 'abulic',\n",
       " 'abulomania',\n",
       " 'abuna',\n",
       " 'abundance',\n",
       " 'abundancy',\n",
       " 'abundant',\n",
       " 'Abundantia',\n",
       " 'abundantly',\n",
       " 'abura',\n",
       " 'aburabozu',\n",
       " 'aburban',\n",
       " 'aburst',\n",
       " 'aburton',\n",
       " 'abusable',\n",
       " 'abuse',\n",
       " 'abusedly',\n",
       " 'abusee',\n",
       " 'abuseful',\n",
       " 'abusefully',\n",
       " 'abusefulness',\n",
       " 'abuser',\n",
       " 'abusion',\n",
       " 'abusious',\n",
       " 'abusive',\n",
       " 'abusively',\n",
       " 'abusiveness',\n",
       " 'abut',\n",
       " 'Abuta',\n",
       " 'Abutilon',\n",
       " 'abutment',\n",
       " 'abuttal',\n",
       " 'abutter',\n",
       " 'abutting',\n",
       " 'abuzz',\n",
       " 'abvolt',\n",
       " 'abwab',\n",
       " 'aby',\n",
       " 'abysm',\n",
       " 'abysmal',\n",
       " 'abysmally',\n",
       " 'abyss',\n",
       " 'abyssal',\n",
       " 'Abyssinian',\n",
       " 'abyssobenthonic',\n",
       " 'abyssolith',\n",
       " 'abyssopelagic',\n",
       " 'acacatechin',\n",
       " 'acacatechol',\n",
       " 'acacetin',\n",
       " 'Acacia',\n",
       " 'Acacian',\n",
       " 'acaciin',\n",
       " 'acacin',\n",
       " 'academe',\n",
       " 'academial',\n",
       " 'academian',\n",
       " 'Academic',\n",
       " 'academic',\n",
       " 'academical',\n",
       " 'academically',\n",
       " 'academicals',\n",
       " 'academician',\n",
       " 'academicism',\n",
       " 'academism',\n",
       " 'academist',\n",
       " 'academite',\n",
       " 'academization',\n",
       " 'academize',\n",
       " 'Academus',\n",
       " 'academy',\n",
       " 'Acadia',\n",
       " 'acadialite',\n",
       " 'Acadian',\n",
       " 'Acadie',\n",
       " 'Acaena',\n",
       " 'acajou',\n",
       " 'acaleph',\n",
       " 'Acalepha',\n",
       " 'Acalephae',\n",
       " 'acalephan',\n",
       " 'acalephoid',\n",
       " 'acalycal',\n",
       " 'acalycine',\n",
       " 'acalycinous',\n",
       " 'acalyculate',\n",
       " 'Acalypha',\n",
       " 'Acalypterae',\n",
       " 'Acalyptrata',\n",
       " 'Acalyptratae',\n",
       " 'acalyptrate',\n",
       " 'Acamar',\n",
       " 'acampsia',\n",
       " 'acana',\n",
       " 'acanaceous',\n",
       " 'acanonical',\n",
       " 'acanth',\n",
       " 'acantha',\n",
       " 'Acanthaceae',\n",
       " 'acanthaceous',\n",
       " 'acanthad',\n",
       " 'Acantharia',\n",
       " 'Acanthia',\n",
       " 'acanthial',\n",
       " 'acanthin',\n",
       " 'acanthine',\n",
       " 'acanthion',\n",
       " 'acanthite',\n",
       " 'acanthocarpous',\n",
       " 'Acanthocephala',\n",
       " 'acanthocephalan',\n",
       " 'Acanthocephali',\n",
       " 'acanthocephalous',\n",
       " 'Acanthocereus',\n",
       " 'acanthocladous',\n",
       " 'Acanthodea',\n",
       " 'acanthodean',\n",
       " 'Acanthodei',\n",
       " 'Acanthodes',\n",
       " 'acanthodian',\n",
       " 'Acanthodidae',\n",
       " 'Acanthodii',\n",
       " 'Acanthodini',\n",
       " 'acanthoid',\n",
       " 'Acantholimon',\n",
       " 'acanthological',\n",
       " 'acanthology',\n",
       " 'acantholysis',\n",
       " 'acanthoma',\n",
       " 'Acanthomeridae',\n",
       " 'acanthon',\n",
       " 'Acanthopanax',\n",
       " 'Acanthophis',\n",
       " 'acanthophorous',\n",
       " 'acanthopod',\n",
       " 'acanthopodous',\n",
       " 'acanthopomatous',\n",
       " 'acanthopore',\n",
       " 'acanthopteran',\n",
       " 'Acanthopteri',\n",
       " 'acanthopterous',\n",
       " 'acanthopterygian',\n",
       " 'Acanthopterygii',\n",
       " 'acanthosis',\n",
       " 'acanthous',\n",
       " 'Acanthuridae',\n",
       " 'Acanthurus',\n",
       " 'acanthus',\n",
       " 'acapnia',\n",
       " 'acapnial',\n",
       " 'acapsular',\n",
       " 'acapu',\n",
       " 'acapulco',\n",
       " 'acara',\n",
       " 'Acarapis',\n",
       " 'acardia',\n",
       " 'acardiac',\n",
       " 'acari',\n",
       " 'acarian',\n",
       " 'acariasis',\n",
       " 'acaricidal',\n",
       " 'acaricide',\n",
       " 'acarid',\n",
       " 'Acarida',\n",
       " 'Acaridea',\n",
       " 'acaridean',\n",
       " 'acaridomatium',\n",
       " 'acariform',\n",
       " 'Acarina',\n",
       " 'acarine',\n",
       " 'acarinosis',\n",
       " 'acarocecidium',\n",
       " 'acarodermatitis',\n",
       " 'acaroid',\n",
       " 'acarol',\n",
       " 'acarologist',\n",
       " 'acarology',\n",
       " 'acarophilous',\n",
       " 'acarophobia',\n",
       " 'acarotoxic',\n",
       " 'acarpelous',\n",
       " 'acarpous',\n",
       " 'Acarus',\n",
       " 'Acastus',\n",
       " 'acatalectic',\n",
       " 'acatalepsia',\n",
       " 'acatalepsy',\n",
       " 'acataleptic',\n",
       " 'acatallactic',\n",
       " 'acatamathesia',\n",
       " 'acataphasia',\n",
       " 'acataposis',\n",
       " 'acatastasia',\n",
       " 'acatastatic',\n",
       " 'acate',\n",
       " 'acategorical',\n",
       " 'acatery',\n",
       " 'acatharsia',\n",
       " 'acatharsy',\n",
       " 'acatholic',\n",
       " 'acaudal',\n",
       " 'acaudate',\n",
       " 'acaulescent',\n",
       " 'acauline',\n",
       " 'acaulose',\n",
       " 'acaulous',\n",
       " 'acca',\n",
       " 'accede',\n",
       " 'accedence',\n",
       " 'acceder',\n",
       " 'accelerable',\n",
       " 'accelerando',\n",
       " 'accelerant',\n",
       " 'accelerate',\n",
       " 'accelerated',\n",
       " 'acceleratedly',\n",
       " 'acceleration',\n",
       " 'accelerative',\n",
       " 'accelerator',\n",
       " 'acceleratory',\n",
       " 'accelerograph',\n",
       " 'accelerometer',\n",
       " 'accend',\n",
       " 'accendibility',\n",
       " 'accendible',\n",
       " 'accension',\n",
       " 'accensor',\n",
       " 'accent',\n",
       " 'accentless',\n",
       " 'accentor',\n",
       " 'accentuable',\n",
       " 'accentual',\n",
       " 'accentuality',\n",
       " 'accentually',\n",
       " 'accentuate',\n",
       " 'accentuation',\n",
       " 'accentuator',\n",
       " 'accentus',\n",
       " 'accept',\n",
       " 'acceptability',\n",
       " 'acceptable',\n",
       " 'acceptableness',\n",
       " 'acceptably',\n",
       " 'acceptance',\n",
       " 'acceptancy',\n",
       " 'acceptant',\n",
       " 'acceptation',\n",
       " 'accepted',\n",
       " 'acceptedly',\n",
       " 'accepter',\n",
       " 'acceptilate',\n",
       " 'acceptilation',\n",
       " 'acception',\n",
       " 'acceptive',\n",
       " 'acceptor',\n",
       " 'acceptress',\n",
       " 'accerse',\n",
       " 'accersition',\n",
       " 'accersitor',\n",
       " 'access',\n",
       " 'accessarily',\n",
       " 'accessariness',\n",
       " 'accessary',\n",
       " 'accessaryship',\n",
       " 'accessibility',\n",
       " 'accessible',\n",
       " 'accessibly',\n",
       " 'accession',\n",
       " 'accessional',\n",
       " 'accessioner',\n",
       " 'accessive',\n",
       " 'accessively',\n",
       " 'accessless',\n",
       " 'accessorial',\n",
       " 'accessorily',\n",
       " 'accessoriness',\n",
       " 'accessorius',\n",
       " 'accessory',\n",
       " 'accidence',\n",
       " 'accidency',\n",
       " 'accident',\n",
       " 'accidental',\n",
       " 'accidentalism',\n",
       " 'accidentalist',\n",
       " 'accidentality',\n",
       " 'accidentally',\n",
       " 'accidentalness',\n",
       " 'accidented',\n",
       " 'accidential',\n",
       " 'accidentiality',\n",
       " 'accidently',\n",
       " 'accidia',\n",
       " 'accidie',\n",
       " 'accinge',\n",
       " 'accipient',\n",
       " 'Accipiter',\n",
       " 'accipitral',\n",
       " 'accipitrary',\n",
       " 'Accipitres',\n",
       " 'accipitrine',\n",
       " 'accismus',\n",
       " 'accite',\n",
       " 'acclaim',\n",
       " 'acclaimable',\n",
       " 'acclaimer',\n",
       " 'acclamation',\n",
       " 'acclamator',\n",
       " 'acclamatory',\n",
       " 'acclimatable',\n",
       " 'acclimatation',\n",
       " 'acclimate',\n",
       " 'acclimatement',\n",
       " 'acclimation',\n",
       " 'acclimatizable',\n",
       " 'acclimatization',\n",
       " 'acclimatize',\n",
       " 'acclimatizer',\n",
       " 'acclimature',\n",
       " 'acclinal',\n",
       " 'acclinate',\n",
       " 'acclivitous',\n",
       " 'acclivity',\n",
       " 'acclivous',\n",
       " 'accloy',\n",
       " 'accoast',\n",
       " 'accoil',\n",
       " 'accolade',\n",
       " 'accoladed',\n",
       " 'accolated',\n",
       " 'accolent',\n",
       " 'accolle',\n",
       " 'accombination',\n",
       " 'accommodable',\n",
       " 'accommodableness',\n",
       " 'accommodate',\n",
       " 'accommodately',\n",
       " 'accommodateness',\n",
       " 'accommodating',\n",
       " 'accommodatingly',\n",
       " 'accommodation',\n",
       " 'accommodational',\n",
       " 'accommodative',\n",
       " 'accommodativeness',\n",
       " 'accommodator',\n",
       " 'accompanier',\n",
       " 'accompaniment',\n",
       " 'accompanimental',\n",
       " 'accompanist',\n",
       " 'accompany',\n",
       " 'accompanyist',\n",
       " 'accompletive',\n",
       " 'accomplice',\n",
       " 'accompliceship',\n",
       " 'accomplicity',\n",
       " 'accomplish',\n",
       " 'accomplishable',\n",
       " 'accomplished',\n",
       " 'accomplisher',\n",
       " 'accomplishment',\n",
       " 'accomplisht',\n",
       " 'accompt',\n",
       " 'accord',\n",
       " 'accordable',\n",
       " 'accordance',\n",
       " 'accordancy',\n",
       " 'accordant',\n",
       " ...]"
      ]
     },
     "execution_count": 126,
     "metadata": {},
     "output_type": "execute_result"
    }
   ],
   "source": [
    "nltk.corpus.words.words()"
   ]
  },
  {
   "cell_type": "code",
   "execution_count": 16,
   "metadata": {},
   "outputs": [],
   "source": [
    "words_set = set(nltk.corpus.words.words())"
   ]
  },
  {
   "cell_type": "code",
   "execution_count": 142,
   "metadata": {},
   "outputs": [
    {
     "data": {
      "text/plain": [
       "False"
      ]
     },
     "execution_count": 142,
     "metadata": {},
     "output_type": "execute_result"
    }
   ],
   "source": [
    "'advices' in words_set"
   ]
  },
  {
   "cell_type": "code",
   "execution_count": 143,
   "metadata": {},
   "outputs": [
    {
     "data": {
      "text/plain": [
       "235892"
      ]
     },
     "execution_count": 143,
     "metadata": {},
     "output_type": "execute_result"
    }
   ],
   "source": [
    "len(words_set)"
   ]
  },
  {
   "cell_type": "code",
   "execution_count": 57,
   "metadata": {},
   "outputs": [],
   "source": [
    "from nltk.stem import PorterStemmer\n",
    "stemmer = PorterStemmer()"
   ]
  },
  {
   "cell_type": "code",
   "execution_count": 132,
   "metadata": {},
   "outputs": [
    {
     "data": {
      "text/plain": [
       "'advic'"
      ]
     },
     "execution_count": 132,
     "metadata": {},
     "output_type": "execute_result"
    }
   ],
   "source": [
    "stemmer.stem('advices')"
   ]
  },
  {
   "cell_type": "code",
   "execution_count": 59,
   "metadata": {},
   "outputs": [
    {
     "data": {
      "text/plain": [
       "'minut'"
      ]
     },
     "execution_count": 59,
     "metadata": {},
     "output_type": "execute_result"
    }
   ],
   "source": []
  },
  {
   "cell_type": "code",
   "execution_count": 134,
   "metadata": {},
   "outputs": [
    {
     "name": "stderr",
     "output_type": "stream",
     "text": [
      "[nltk_data] Downloading package wordnet to\n",
      "[nltk_data]     C:\\Users\\zzguk\\AppData\\Roaming\\nltk_data...\n",
      "[nltk_data]   Unzipping corpora\\wordnet.zip.\n"
     ]
    },
    {
     "data": {
      "text/plain": [
       "True"
      ]
     },
     "execution_count": 134,
     "metadata": {},
     "output_type": "execute_result"
    }
   ],
   "source": [
    "nltk.download('wordnet')"
   ]
  },
  {
   "cell_type": "code",
   "execution_count": 12,
   "metadata": {},
   "outputs": [
    {
     "name": "stdout",
     "output_type": "stream",
     "text": [
      "play\n"
     ]
    }
   ],
   "source": [
    "from nltk.stem import WordNetLemmatizer\n",
    "lemmatizer = WordNetLemmatizer()\n",
    "print(lemmatizer.lemmatize('playing', pos=\"v\"))"
   ]
  },
  {
   "cell_type": "code",
   "execution_count": 13,
   "metadata": {},
   "outputs": [
    {
     "data": {
      "text/plain": [
       "'play'"
      ]
     },
     "execution_count": 13,
     "metadata": {},
     "output_type": "execute_result"
    }
   ],
   "source": [
    "lemmatizer.lemmatize('plays')"
   ]
  },
  {
   "cell_type": "code",
   "execution_count": 15,
   "metadata": {},
   "outputs": [],
   "source": [
    "stop_words_set=set(stopwords.words('english'))"
   ]
  },
  {
   "cell_type": "code",
   "execution_count": 146,
   "metadata": {},
   "outputs": [],
   "source": [
    "nn_freq_dic = {}\n",
    "stop_words_set=set(stopwords.words('english'))\n",
    "for comment in df_reviews_clean['comments']:\n",
    "    tokens = wordpunct_tokenize(comment.lower())\n",
    "    tags = nltk.pos_tag(tokens)\n",
    "    for tag in tags:\n",
    "        if tag[1]=='NN' or tag[1]=='NNP'or tag[1]=='NNS':\n",
    "            #print(tag[0])\n",
    "            tmp_word = lemmatizer.lemmatize(tag[0],pos=\"n\")\n",
    "            if tmp_word not in words_set:\n",
    "                continue\n",
    "            if tmp_word in stop_words_set:\n",
    "                continue\n",
    "            if tmp_word in nn_freq_dic:\n",
    "                nn_freq_dic[tmp_word] += 1\n",
    "            else:\n",
    "                nn_freq_dic[tmp_word] =1"
   ]
  },
  {
   "cell_type": "code",
   "execution_count": 147,
   "metadata": {},
   "outputs": [
    {
     "data": {
      "text/plain": [
       "7702"
      ]
     },
     "execution_count": 147,
     "metadata": {},
     "output_type": "execute_result"
    }
   ],
   "source": [
    "len(nn_freq_dic)"
   ]
  },
  {
   "cell_type": "code",
   "execution_count": 168,
   "metadata": {},
   "outputs": [
    {
     "data": {
      "text/plain": [
       "False"
      ]
     },
     "execution_count": 168,
     "metadata": {},
     "output_type": "execute_result"
    }
   ],
   "source": [
    "'islam' in nn_freq_dic"
   ]
  },
  {
   "cell_type": "code",
   "execution_count": null,
   "metadata": {},
   "outputs": [],
   "source": []
  },
  {
   "cell_type": "code",
   "execution_count": 149,
   "metadata": {},
   "outputs": [],
   "source": [
    "nn_list=[]\n",
    "for nn in nn_freq_dic:\n",
    "    nn_list.append((nn_freq_dic[nn],nn))\n",
    "nn_list.sort(reverse=True)"
   ]
  },
  {
   "cell_type": "code",
   "execution_count": 153,
   "metadata": {},
   "outputs": [
    {
     "data": {
      "text/plain": [
       "[(1, 'arctic'),\n",
       " (1, 'archetype'),\n",
       " (1, 'archaic'),\n",
       " (1, 'apropos'),\n",
       " (1, 'approachable'),\n",
       " (1, 'apprehensive'),\n",
       " (1, 'appealing'),\n",
       " (1, 'aplomb'),\n",
       " (1, 'anxiousness'),\n",
       " (1, 'antler'),\n",
       " (1, 'antiquarian'),\n",
       " (1, 'antihistamine'),\n",
       " (1, 'anticipation'),\n",
       " (1, 'anonymity'),\n",
       " (1, 'anomaly'),\n",
       " (1, 'annex'),\n",
       " (1, 'anger'),\n",
       " (1, 'ancient'),\n",
       " (1, 'anchor'),\n",
       " (1, 'amply'),\n",
       " (1, 'amplifier'),\n",
       " (1, 'amour'),\n",
       " (1, 'amidst'),\n",
       " (1, 'ambition'),\n",
       " (1, 'ambiguity'),\n",
       " (1, 'aly'),\n",
       " (1, 'alum'),\n",
       " (1, 'altogether'),\n",
       " (1, 'alto'),\n",
       " (1, 'altercation'),\n",
       " (1, 'alp'),\n",
       " (1, 'alongside'),\n",
       " (1, 'alone'),\n",
       " (1, 'allover'),\n",
       " (1, 'allot'),\n",
       " (1, 'allocation'),\n",
       " (1, 'alliteration'),\n",
       " (1, 'alligator'),\n",
       " (1, 'allergen'),\n",
       " (1, 'aliyah'),\n",
       " (1, 'align'),\n",
       " (1, 'algorithm'),\n",
       " (1, 'alfresco'),\n",
       " (1, 'alf'),\n",
       " (1, 'alcoholic'),\n",
       " (1, 'akin'),\n",
       " (1, 'aisling'),\n",
       " (1, 'airway'),\n",
       " (1, 'airt'),\n",
       " (1, 'airing'),\n",
       " (1, 'airhead'),\n",
       " (1, 'aim'),\n",
       " (1, 'ailing'),\n",
       " (1, 'aider'),\n",
       " (1, 'aide'),\n",
       " (1, 'ai'),\n",
       " (1, 'aha'),\n",
       " (1, 'aggression'),\n",
       " (1, 'aggravation'),\n",
       " (1, 'aggravating'),\n",
       " (1, 'afterward'),\n",
       " (1, 'afterhours'),\n",
       " (1, 'affront'),\n",
       " (1, 'affluent'),\n",
       " (1, 'afflict'),\n",
       " (1, 'affinity'),\n",
       " (1, 'aeroplane'),\n",
       " (1, 'aerator'),\n",
       " (1, 'adore'),\n",
       " (1, 'admittance'),\n",
       " (1, 'administer'),\n",
       " (1, 'adjacency'),\n",
       " (1, 'adequacy'),\n",
       " (1, 'adept'),\n",
       " (1, 'adaptation'),\n",
       " (1, 'adage'),\n",
       " (1, 'activist'),\n",
       " (1, 'acoustic'),\n",
       " (1, 'acknowledge'),\n",
       " (1, 'acid'),\n",
       " (1, 'ache'),\n",
       " (1, 'accustom'),\n",
       " (1, 'accusation'),\n",
       " (1, 'accouterment'),\n",
       " (1, 'accounting'),\n",
       " (1, 'accountability'),\n",
       " (1, 'accompany'),\n",
       " (1, 'acceptor'),\n",
       " (1, 'accept'),\n",
       " (1, 'aby'),\n",
       " (1, 'abut'),\n",
       " (1, 'abuse'),\n",
       " (1, 'absentee'),\n",
       " (1, 'abigail'),\n",
       " (1, 'abhorrent'),\n",
       " (1, 'aberration'),\n",
       " (1, 'abele'),\n",
       " (1, 'abbey'),\n",
       " (1, 'abandon'),\n",
       " (1, 'aa')]"
      ]
     },
     "execution_count": 153,
     "metadata": {},
     "output_type": "execute_result"
    }
   ],
   "source": [
    "nn_list[-100:]"
   ]
  },
  {
   "cell_type": "code",
   "execution_count": 162,
   "metadata": {},
   "outputs": [],
   "source": [
    "freq_list=[]\n",
    "for t in nn_list:\n",
    "    freq_list.append(t[0])"
   ]
  },
  {
   "cell_type": "code",
   "execution_count": 163,
   "metadata": {},
   "outputs": [
    {
     "data": {
      "image/png": "[encoded data removed]",
      "text/plain": [
       "<Figure size 432x288 with 1 Axes>"
      ]
     },
     "metadata": {
      "needs_background": "light"
     },
     "output_type": "display_data"
    }
   ],
   "source": [
    "plt.hist(freq_list);\n",
    "plt.xscale('log');\n",
    "plt.yscale('log');"
   ]
  },
  {
   "cell_type": "code",
   "execution_count": 166,
   "metadata": {},
   "outputs": [],
   "source": [
    "jj_freq_dic = {}\n",
    "stop_words_set=set(stopwords.words('english'))\n",
    "for comment in df_reviews_clean['comments']:\n",
    "    tokens = wordpunct_tokenize(comment.lower())\n",
    "    tags = nltk.pos_tag(tokens)\n",
    "    for tag in tags:\n",
    "        if tag[1]=='JJ':\n",
    "            #print(tag[0])\n",
    "            tmp_word = lemmatizer.lemmatize(tag[0],pos=\"a\")\n",
    "            if tmp_word not in words_set:\n",
    "                continue\n",
    "            if tmp_word in stop_words_set:\n",
    "                continue\n",
    "            if tmp_word in jj_freq_dic:\n",
    "                jj_freq_dic[tmp_word] += 1\n",
    "            else:\n",
    "                jj_freq_dic[tmp_word] =1"
   ]
  },
  {
   "cell_type": "code",
   "execution_count": 167,
   "metadata": {},
   "outputs": [
    {
     "data": {
      "text/plain": [
       "4265"
      ]
     },
     "execution_count": 167,
     "metadata": {},
     "output_type": "execute_result"
    }
   ],
   "source": [
    "len(jj_freq_dic)"
   ]
  },
  {
   "cell_type": "code",
   "execution_count": 180,
   "metadata": {},
   "outputs": [],
   "source": [
    "jj_list=[]\n",
    "for jj in jj_freq_dic:\n",
    "    jj_list.append((jj_freq_dic[jj],jj))\n",
    "jj_list.sort(reverse=True)"
   ]
  },
  {
   "cell_type": "code",
   "execution_count": 182,
   "metadata": {},
   "outputs": [
    {
     "data": {
      "text/plain": [
       "[(39891, 'great'),\n",
       " (21476, 'clean'),\n",
       " (18443, 'nice'),\n",
       " (15830, 'comfortable'),\n",
       " (12430, 'easy'),\n",
       " (11397, 'good'),\n",
       " (9608, 'perfect'),\n",
       " (8095, 'helpful'),\n",
       " (6676, 'quiet'),\n",
       " (6645, 'wonderful')]"
      ]
     },
     "execution_count": 182,
     "metadata": {},
     "output_type": "execute_result"
    }
   ],
   "source": [
    "jj_list[0:10]"
   ]
  },
  {
   "cell_type": "code",
   "execution_count": 183,
   "metadata": {},
   "outputs": [],
   "source": [
    "from gensim.models.phrases import Phrases, Phraser"
   ]
  },
  {
   "cell_type": "code",
   "execution_count": 17,
   "metadata": {},
   "outputs": [],
   "source": [
    "data=[]\n",
    "for comment in df_reviews_clean['comments']:\n",
    "    sentences = sent_tokenize(comment)\n",
    "    for sentence in sentences:\n",
    "        tmp=[]\n",
    "        for w in word_tokenize(sentence):\n",
    "            tmp_word = lemmatizer.lemmatize(w.lower())\n",
    "            if tmp_word not in words_set:\n",
    "                continue\n",
    "            tmp.append(w.lower())\n",
    "        if len(tmp)>0:\n",
    "            data.append(tmp)"
   ]
  },
  {
   "cell_type": "code",
   "execution_count": 206,
   "metadata": {},
   "outputs": [
    {
     "data": {
      "text/plain": [
       "317132"
      ]
     },
     "execution_count": 206,
     "metadata": {},
     "output_type": "execute_result"
    }
   ],
   "source": [
    "len(data)"
   ]
  },
  {
   "cell_type": "code",
   "execution_count": 207,
   "metadata": {
    "scrolled": true
   },
   "outputs": [],
   "source": [
    "phrases = Phrases(data, min_count=30, progress_per=10000)"
   ]
  },
  {
   "cell_type": "code",
   "execution_count": 209,
   "metadata": {},
   "outputs": [],
   "source": [
    "bigram = Phraser(phrases)"
   ]
  },
  {
   "cell_type": "code",
   "execution_count": 210,
   "metadata": {},
   "outputs": [],
   "source": [
    "data_bigram = bigram[data]"
   ]
  },
  {
   "cell_type": "code",
   "execution_count": 221,
   "metadata": {},
   "outputs": [
    {
     "data": {
      "text/plain": [
       "['the', 'airport', 't', 'station', 'is', 'only', 'a', 'min', 'walk', 'away']"
      ]
     },
     "execution_count": 221,
     "metadata": {},
     "output_type": "execute_result"
    }
   ],
   "source": [
    "data[8]"
   ]
  },
  {
   "cell_type": "code",
   "execution_count": 239,
   "metadata": {},
   "outputs": [
    {
     "data": {
      "text/plain": [
       "['really',\n",
       " 'nice',\n",
       " 'and',\n",
       " 'helpful',\n",
       " 'hosts',\n",
       " 'taking',\n",
       " 'there',\n",
       " 'time',\n",
       " 'to',\n",
       " 'explain',\n",
       " 'all',\n",
       " 'the',\n",
       " 'good',\n",
       " 'things',\n",
       " 'to',\n",
       " 'see',\n",
       " 'and',\n",
       " 'how',\n",
       " 'to',\n",
       " 'come',\n",
       " 'there']"
      ]
     },
     "execution_count": 239,
     "metadata": {},
     "output_type": "execute_result"
    }
   ],
   "source": [
    "data_bigram[25]"
   ]
  },
  {
   "cell_type": "code",
   "execution_count": 195,
   "metadata": {},
   "outputs": [],
   "source": [
    "bigrm = list(nltk.bigrams(data))"
   ]
  },
  {
   "cell_type": "code",
   "execution_count": 198,
   "metadata": {},
   "outputs": [
    {
     "data": {
      "text/plain": [
       "(['the', 'room', 'was', 'nice', ',', 'all', 'place', 'was', 'clean', '.'],\n",
       " ['islam',\n",
       "  'managed',\n",
       "  'pretty',\n",
       "  'well',\n",
       "  'our',\n",
       "  'arrival',\n",
       "  ',',\n",
       "  'even',\n",
       "  'if',\n",
       "  'it',\n",
       "  'was',\n",
       "  'last',\n",
       "  'minute',\n",
       "  ';',\n",
       "  ')',\n",
       "  'i',\n",
       "  'do',\n",
       "  'recommand',\n",
       "  'this',\n",
       "  'place',\n",
       "  'to',\n",
       "  'any',\n",
       "  'airbnb',\n",
       "  'user',\n",
       "  ':',\n",
       "  ')'])"
      ]
     },
     "execution_count": 198,
     "metadata": {},
     "output_type": "execute_result"
    }
   ],
   "source": [
    "bigrm[2]"
   ]
  },
  {
   "cell_type": "code",
   "execution_count": 230,
   "metadata": {},
   "outputs": [
    {
     "data": {
      "text/plain": [
       "'min'"
      ]
     },
     "execution_count": 230,
     "metadata": {},
     "output_type": "execute_result"
    }
   ],
   "source": [
    "lemmatizer.lemmatize('min')"
   ]
  },
  {
   "cell_type": "code",
   "execution_count": 20,
   "metadata": {},
   "outputs": [],
   "source": [
    "from nltk.corpus import webtext"
   ]
  },
  {
   "cell_type": "code",
   "execution_count": 243,
   "metadata": {},
   "outputs": [
    {
     "name": "stderr",
     "output_type": "stream",
     "text": [
      "[nltk_data] Downloading package webtext to\n",
      "[nltk_data]     C:\\Users\\zzguk\\AppData\\Roaming\\nltk_data...\n",
      "[nltk_data]   Unzipping corpora\\webtext.zip.\n"
     ]
    },
    {
     "data": {
      "text/plain": [
       "True"
      ]
     },
     "execution_count": 243,
     "metadata": {},
     "output_type": "execute_result"
    }
   ],
   "source": [
    "nltk.download('webtext')"
   ]
  },
  {
   "cell_type": "code",
   "execution_count": 18,
   "metadata": {},
   "outputs": [],
   "source": [
    "from nltk.collocations import BigramCollocationFinder\n",
    "from nltk.metrics import BigramAssocMeasures"
   ]
  },
  {
   "cell_type": "code",
   "execution_count": 248,
   "metadata": {},
   "outputs": [
    {
     "data": {
      "text/plain": [
       "22679"
      ]
     },
     "execution_count": 248,
     "metadata": {},
     "output_type": "execute_result"
    }
   ],
   "source": [
    "len(webtext.words('pirates.txt'))"
   ]
  },
  {
   "cell_type": "code",
   "execution_count": 249,
   "metadata": {},
   "outputs": [],
   "source": [
    "data_word=[]\n",
    "for sen in data:\n",
    "    for w in sen:\n",
    "        if w not in stop_words_set:\n",
    "            data_word.append(w)\n",
    "    "
   ]
  },
  {
   "cell_type": "code",
   "execution_count": 251,
   "metadata": {},
   "outputs": [
    {
     "data": {
      "text/plain": [
       "1819216"
      ]
     },
     "execution_count": 251,
     "metadata": {},
     "output_type": "execute_result"
    }
   ],
   "source": [
    "len(data_word)"
   ]
  },
  {
   "cell_type": "code",
   "execution_count": 252,
   "metadata": {},
   "outputs": [],
   "source": [
    "finder = BigramCollocationFinder.from_documents(data)"
   ]
  },
  {
   "cell_type": "code",
   "execution_count": 253,
   "metadata": {},
   "outputs": [
    {
     "data": {
      "text/plain": [
       "[('a', 'great'),\n",
       " ('the', 'apartment'),\n",
       " ('walking', 'distance'),\n",
       " ('it', 'was'),\n",
       " ('was', 'very'),\n",
       " ('we', 'had'),\n",
       " ('in', 'boston'),\n",
       " ('close', 'to'),\n",
       " ('would', 'definitely'),\n",
       " ('if', 'you')]"
      ]
     },
     "execution_count": 253,
     "metadata": {},
     "output_type": "execute_result"
    }
   ],
   "source": [
    "finder.nbest(BigramAssocMeasures.likelihood_ratio,10)"
   ]
  },
  {
   "cell_type": "code",
   "execution_count": 254,
   "metadata": {},
   "outputs": [],
   "source": [
    "finder2 = BigramCollocationFinder.from_words(data_word)"
   ]
  },
  {
   "cell_type": "code",
   "execution_count": 257,
   "metadata": {},
   "outputs": [
    {
     "data": {
      "text/plain": [
       "[('walking', 'distance'),\n",
       " ('would', 'definitely'),\n",
       " ('highly', 'recommend'),\n",
       " ('north', 'end'),\n",
       " ('public', 'transportation'),\n",
       " ('great', 'location'),\n",
       " ('minute', 'walk'),\n",
       " ('definitely', 'recommend'),\n",
       " ('within', 'walking'),\n",
       " ('come', 'back'),\n",
       " ('definitely', 'stay'),\n",
       " ('freedom', 'trail'),\n",
       " ('beacon', 'hill'),\n",
       " ('gave', 'us'),\n",
       " ('back', 'bay'),\n",
       " ('feel', 'welcome'),\n",
       " ('great', 'host'),\n",
       " ('arrival', 'posting'),\n",
       " ('short', 'walk'),\n",
       " ('would', 'recommend'),\n",
       " ('easy', 'access'),\n",
       " ('orange', 'line'),\n",
       " ('whole', 'foods'),\n",
       " ('quick', 'respond'),\n",
       " ('make', 'sure'),\n",
       " ('next', 'time'),\n",
       " ('us', 'feel'),\n",
       " ('red', 'line'),\n",
       " ('reservation', 'days'),\n",
       " ('easy', 'get'),\n",
       " ('recommend', 'place'),\n",
       " ('clean', 'comfortable'),\n",
       " ('first', 'experience'),\n",
       " ('even', 'though'),\n",
       " ('living', 'room'),\n",
       " ('bed', 'comfortable'),\n",
       " ('places', 'eat'),\n",
       " ('made', 'sure'),\n",
       " ('convention', 'center'),\n",
       " ('train', 'station'),\n",
       " ('place', 'stay'),\n",
       " ('visit', 'boston'),\n",
       " ('public', 'transport'),\n",
       " ('south', 'end'),\n",
       " ('days', 'arrival'),\n",
       " ('upon', 'arrival'),\n",
       " ('around', 'corner'),\n",
       " ('would', 'highly'),\n",
       " ('downtown', 'boston'),\n",
       " ('across', 'street'),\n",
       " ('first', 'time'),\n",
       " ('made', 'us'),\n",
       " ('felt', 'like'),\n",
       " ('subway', 'station'),\n",
       " ('recommend', 'anyone'),\n",
       " ('everything', 'need'),\n",
       " ('visiting', 'boston'),\n",
       " ('last', 'minute'),\n",
       " ('min', 'walk'),\n",
       " ('could', 'better'),\n",
       " ('really', 'nice'),\n",
       " ('answer', 'questions'),\n",
       " ('felt', 'safe'),\n",
       " ('one', 'night'),\n",
       " ('made', 'feel'),\n",
       " ('easy', 'communicate'),\n",
       " ('green', 'line'),\n",
       " ('blocks', 'away'),\n",
       " ('apartment', 'clean'),\n",
       " ('host', 'reservation'),\n",
       " ('grocery', 'store'),\n",
       " ('great', 'experience'),\n",
       " ('minutes', 'walk'),\n",
       " ('trip', 'boston'),\n",
       " ('room', 'clean'),\n",
       " ('let', 'us'),\n",
       " ('location', 'perfect'),\n",
       " ('shops', 'restaurants'),\n",
       " ('anyone', 'looking'),\n",
       " ('stay', 'boston'),\n",
       " ('went', 'way'),\n",
       " ('get', 'around'),\n",
       " ('easily', 'accessible'),\n",
       " ('friendly', 'helpful'),\n",
       " ('bus', 'stop'),\n",
       " ('look', 'forward'),\n",
       " ('public', 'transit'),\n",
       " ('perfect', 'location'),\n",
       " ('would', 'stay'),\n",
       " ('walk', 'away'),\n",
       " ('like', 'home'),\n",
       " ('late', 'night'),\n",
       " ('bottle', 'wine'),\n",
       " ('boston', 'common'),\n",
       " ('time', 'boston'),\n",
       " ('feel', 'like'),\n",
       " ('thank', 'much'),\n",
       " ('wonderful', 'host'),\n",
       " ('close', 'airport'),\n",
       " ('street', 'parking')]"
      ]
     },
     "execution_count": 257,
     "metadata": {},
     "output_type": "execute_result"
    }
   ],
   "source": [
    "finder2.nbest(BigramAssocMeasures.likelihood_ratio,100)"
   ]
  },
  {
   "cell_type": "code",
   "execution_count": 22,
   "metadata": {},
   "outputs": [],
   "source": [
    "new_model = gensim.models.Word2Vec(data1,min_count=10,size=100,window=5)"
   ]
  },
  {
   "cell_type": "code",
   "execution_count": 34,
   "metadata": {},
   "outputs": [
    {
     "name": "stderr",
     "output_type": "stream",
     "text": [
      "C:\\Users\\zzguk\\Anaconda3\\lib\\site-packages\\ipykernel_launcher.py:1: DeprecationWarning: Call to deprecated `similarity` (Method will be removed in 4.0.0, use self.wv.similarity() instead).\n",
      "  \"\"\"Entry point for launching an IPython kernel.\n"
     ]
    },
    {
     "data": {
      "text/plain": [
       "0.6660431969844693"
      ]
     },
     "execution_count": 34,
     "metadata": {},
     "output_type": "execute_result"
    }
   ],
   "source": [
    "new_model.similarity('airport','bus')"
   ]
  },
  {
   "cell_type": "code",
   "execution_count": 30,
   "metadata": {},
   "outputs": [],
   "source": [
    "new_model2 = gensim.models.Word2Vec(data,min_count=10,size=100,window=5)"
   ]
  },
  {
   "cell_type": "code",
   "execution_count": 43,
   "metadata": {},
   "outputs": [
    {
     "name": "stderr",
     "output_type": "stream",
     "text": [
      "C:\\Users\\zzguk\\Anaconda3\\lib\\site-packages\\ipykernel_launcher.py:1: DeprecationWarning: Call to deprecated `similarity` (Method will be removed in 4.0.0, use self.wv.similarity() instead).\n",
      "  \"\"\"Entry point for launching an IPython kernel.\n"
     ]
    },
    {
     "data": {
      "text/plain": [
       "0.4164431949366509"
      ]
     },
     "execution_count": 43,
     "metadata": {},
     "output_type": "execute_result"
    }
   ],
   "source": [
    "new_model2.similarity('walk','distance')"
   ]
  },
  {
   "cell_type": "code",
   "execution_count": 51,
   "metadata": {},
   "outputs": [
    {
     "name": "stderr",
     "output_type": "stream",
     "text": [
      "C:\\Users\\zzguk\\Anaconda3\\lib\\site-packages\\ipykernel_launcher.py:1: DeprecationWarning: Call to deprecated `most_similar` (Method will be removed in 4.0.0, use self.wv.most_similar() instead).\n",
      "  \"\"\"Entry point for launching an IPython kernel.\n"
     ]
    },
    {
     "data": {
      "text/plain": [
       "[('town', 0.683240532875061),\n",
       " ('city', 0.6527020335197449),\n",
       " ('jp', 0.6187501549720764),\n",
       " ('coast', 0.5539652109146118),\n",
       " ('southie', 0.5000901222229004),\n",
       " ('cambridge', 0.4844672381877899),\n",
       " ('america', 0.47865551710128784),\n",
       " ('charlestown', 0.4719010591506958),\n",
       " ('dorchester', 0.4501623511314392),\n",
       " ('allston', 0.43878018856048584),\n",
       " ('bu', 0.42966967821121216),\n",
       " ('northeastern', 0.4258280396461487),\n",
       " ('seaport', 0.4127236306667328),\n",
       " ('usa', 0.41092514991760254),\n",
       " ('pax', 0.41041475534439087),\n",
       " ('events', 0.4041166305541992),\n",
       " ('brighton', 0.4016995131969452),\n",
       " ('tourist', 0.39776378870010376),\n",
       " ('harvard', 0.3974798023700714),\n",
       " ('boston-', 0.388888955116272)]"
      ]
     },
     "execution_count": 51,
     "metadata": {},
     "output_type": "execute_result"
    }
   ],
   "source": [
    "new_model.most_similar(positive=['boston'],topn=20)"
   ]
  },
  {
   "cell_type": "code",
   "execution_count": 46,
   "metadata": {},
   "outputs": [
    {
     "name": "stderr",
     "output_type": "stream",
     "text": [
      "C:\\Users\\zzguk\\Anaconda3\\lib\\site-packages\\ipykernel_launcher.py:1: DeprecationWarning: Call to deprecated `most_similar` (Method will be removed in 4.0.0, use self.wv.most_similar() instead).\n",
      "  \"\"\"Entry point for launching an IPython kernel.\n"
     ]
    },
    {
     "data": {
      "text/plain": [
       "[('town', 0.6670703887939453),\n",
       " ('city', 0.6434167623519897),\n",
       " ('coast', 0.6094403266906738),\n",
       " ('plain', 0.4922192096710205),\n",
       " ('school', 0.408843994140625),\n",
       " ('seaport', 0.40533143281936646),\n",
       " ('northeastern', 0.4025724530220032),\n",
       " ('pax', 0.3944511413574219),\n",
       " ('hotels', 0.39168328046798706),\n",
       " ('bu', 0.3898742198944092)]"
      ]
     },
     "execution_count": 46,
     "metadata": {},
     "output_type": "execute_result"
    }
   ],
   "source": [
    "new_model2.most_similar(positive=['boston'],topn=10)"
   ]
  },
  {
   "cell_type": "code",
   "execution_count": 55,
   "metadata": {},
   "outputs": [
    {
     "name": "stderr",
     "output_type": "stream",
     "text": [
      "C:\\Users\\zzguk\\Anaconda3\\lib\\site-packages\\ipykernel_launcher.py:1: DeprecationWarning: Call to deprecated `syn0` (Attribute will be removed in 4.0.0, use self.wv.vectors instead).\n",
      "  \"\"\"Entry point for launching an IPython kernel.\n"
     ]
    },
    {
     "data": {
      "text/plain": [
       "(7061, 100)"
      ]
     },
     "execution_count": 55,
     "metadata": {},
     "output_type": "execute_result"
    }
   ],
   "source": [
    "new_model.wv.syn0.shape"
   ]
  },
  {
   "cell_type": "code",
   "execution_count": 56,
   "metadata": {},
   "outputs": [
    {
     "data": {
      "text/plain": [
       "['.',\n",
       " 'the',\n",
       " 'and',\n",
       " ',',\n",
       " 'to',\n",
       " 'was',\n",
       " 'a',\n",
       " 'is',\n",
       " 'in',\n",
       " 'we',\n",
       " 'very',\n",
       " 'i',\n",
       " '!',\n",
       " 'of',\n",
       " 'for',\n",
       " 'it',\n",
       " 'great',\n",
       " 'with',\n",
       " 'stay',\n",
       " 'boston',\n",
       " 'place',\n",
       " 'apartment',\n",
       " 'were',\n",
       " \"'s\",\n",
       " 'our',\n",
       " 'you',\n",
       " 'had',\n",
       " 'this',\n",
       " 'clean',\n",
       " 'as',\n",
       " 'location',\n",
       " 'at',\n",
       " 'my',\n",
       " 'us',\n",
       " 'there',\n",
       " 'room',\n",
       " 'would',\n",
       " 'but',\n",
       " 'nice',\n",
       " 'that',\n",
       " 'on',\n",
       " 'host',\n",
       " 'from',\n",
       " 'comfortable',\n",
       " ')',\n",
       " 'so',\n",
       " 'all',\n",
       " 'house',\n",
       " 'not',\n",
       " 'everything',\n",
       " 'are',\n",
       " '(',\n",
       " 'easy',\n",
       " 'again',\n",
       " 'an',\n",
       " \"n't\",\n",
       " 'really',\n",
       " 'have',\n",
       " 'recommend',\n",
       " 'time',\n",
       " 'he',\n",
       " 'me',\n",
       " 'good',\n",
       " 'if',\n",
       " 'she',\n",
       " 'home',\n",
       " 'be',\n",
       " 'perfect',\n",
       " 'well',\n",
       " 'neighborhood',\n",
       " 'also',\n",
       " 'her',\n",
       " 'close',\n",
       " 'definitely',\n",
       " 'just',\n",
       " 'walk',\n",
       " 'which',\n",
       " 'out',\n",
       " 'made',\n",
       " 'when',\n",
       " 'get',\n",
       " 'did',\n",
       " 'helpful',\n",
       " 'experience',\n",
       " 'about',\n",
       " 'here',\n",
       " 'area',\n",
       " '-',\n",
       " 'could',\n",
       " 'they',\n",
       " 'bed',\n",
       " 'even',\n",
       " 'one',\n",
       " 'staying',\n",
       " 'only',\n",
       " 'back',\n",
       " 'his',\n",
       " 'needed',\n",
       " 'restaurants',\n",
       " 'like',\n",
       " 'wonderful',\n",
       " 'quiet',\n",
       " 'friendly',\n",
       " 'or',\n",
       " 'will',\n",
       " 'beautiful',\n",
       " 'by',\n",
       " 'has',\n",
       " 'around',\n",
       " 'city',\n",
       " 'convenient',\n",
       " 'walking',\n",
       " 'up',\n",
       " 'night',\n",
       " 't',\n",
       " 'highly',\n",
       " 'some',\n",
       " 'kitchen',\n",
       " 'lovely',\n",
       " 'bathroom',\n",
       " 'station',\n",
       " 'street',\n",
       " 'no',\n",
       " 'first',\n",
       " 'enjoyed',\n",
       " 'space',\n",
       " 'much',\n",
       " 'feel',\n",
       " 'airbnb',\n",
       " 'located',\n",
       " 'can',\n",
       " ':',\n",
       " 'more',\n",
       " 'away',\n",
       " 'do',\n",
       " 'than',\n",
       " 'stayed',\n",
       " 'right',\n",
       " 'downtown',\n",
       " 'welcoming',\n",
       " 'little',\n",
       " 'need',\n",
       " 'day',\n",
       " 'what',\n",
       " 'thanks',\n",
       " 'super',\n",
       " 'felt',\n",
       " 'any',\n",
       " 'hosts',\n",
       " 'distance',\n",
       " 'accommodating',\n",
       " 'two',\n",
       " 'next',\n",
       " 'their',\n",
       " 'parking',\n",
       " 'spacious',\n",
       " 'during',\n",
       " 'arrival',\n",
       " 'provided',\n",
       " 'excellent',\n",
       " 'other',\n",
       " 'before',\n",
       " 'minutes',\n",
       " 'subway',\n",
       " 'exactly',\n",
       " 'short',\n",
       " 'amazing',\n",
       " 'described',\n",
       " 'loved',\n",
       " 'check',\n",
       " 'your',\n",
       " 'visit',\n",
       " 'thank',\n",
       " 'go',\n",
       " 'trip',\n",
       " 'arrived',\n",
       " 'questions',\n",
       " 'make',\n",
       " 'cozy',\n",
       " 'safe',\n",
       " '&',\n",
       " 'few',\n",
       " 'sure',\n",
       " 'access',\n",
       " 'people',\n",
       " 'fantastic',\n",
       " 'breakfast',\n",
       " 'overall',\n",
       " 'small',\n",
       " 'airport',\n",
       " 'family',\n",
       " 'into',\n",
       " 'within',\n",
       " 'gave',\n",
       " 'end',\n",
       " 'responsive',\n",
       " 'after',\n",
       " 'best',\n",
       " 'line',\n",
       " 'who',\n",
       " 'days',\n",
       " 'welcome',\n",
       " 'extremely',\n",
       " 'lot',\n",
       " 'coffee',\n",
       " 'use',\n",
       " 'minute',\n",
       " 'available',\n",
       " 'too',\n",
       " 'always',\n",
       " 'public',\n",
       " 'many',\n",
       " 'quick',\n",
       " 'kind',\n",
       " 'been',\n",
       " 'where',\n",
       " '2',\n",
       " 'able',\n",
       " 'come',\n",
       " 'while',\n",
       " 'better',\n",
       " 'find',\n",
       " 'most',\n",
       " '...',\n",
       " 'building',\n",
       " 'places',\n",
       " 'left',\n",
       " 'morning',\n",
       " 'how',\n",
       " ';',\n",
       " 'way',\n",
       " 'got',\n",
       " 'bit',\n",
       " 'things',\n",
       " 'quite',\n",
       " 'near',\n",
       " 'bedroom',\n",
       " 'anyone',\n",
       " 'train',\n",
       " 'them',\n",
       " 'studio',\n",
       " 'warm',\n",
       " 'because',\n",
       " 'enough',\n",
       " 'bus',\n",
       " 'meet',\n",
       " 'see',\n",
       " 'communication',\n",
       " 'awesome',\n",
       " 'late',\n",
       " 'lots',\n",
       " '5',\n",
       " 'being',\n",
       " 'town',\n",
       " 'both',\n",
       " 'met',\n",
       " 'though',\n",
       " 'plenty',\n",
       " 'looking',\n",
       " 'floor',\n",
       " 'food',\n",
       " 'big',\n",
       " 'went',\n",
       " 'absolutely',\n",
       " 'nearby',\n",
       " 'transportation',\n",
       " 'towels',\n",
       " 'want',\n",
       " 'getting',\n",
       " 'itself',\n",
       " 'door',\n",
       " 'shops',\n",
       " 'information',\n",
       " 'listing',\n",
       " 'private',\n",
       " 'every',\n",
       " 'such',\n",
       " 'north',\n",
       " 'guests',\n",
       " 'pictures',\n",
       " 'him',\n",
       " 'park',\n",
       " 'etc',\n",
       " 'work',\n",
       " 'center',\n",
       " 'living',\n",
       " 'found',\n",
       " 'stop',\n",
       " 'pleasant',\n",
       " 'unit',\n",
       " \"''\",\n",
       " 'pretty',\n",
       " 'couple',\n",
       " 'person',\n",
       " 'never',\n",
       " 'car',\n",
       " 'weekend',\n",
       " 'recommended',\n",
       " 'nights',\n",
       " 'early',\n",
       " '3',\n",
       " \"'re\",\n",
       " 'whole',\n",
       " 'help',\n",
       " '``',\n",
       " 'old',\n",
       " 'air',\n",
       " 'large',\n",
       " 'neighbourhood',\n",
       " 'amenities',\n",
       " '10',\n",
       " 'jason',\n",
       " 'easily',\n",
       " 'down',\n",
       " 'love',\n",
       " 'over',\n",
       " 'needs',\n",
       " 'instructions',\n",
       " 'although',\n",
       " 'problem',\n",
       " 'comfy',\n",
       " \"'d\",\n",
       " 'take',\n",
       " 'water',\n",
       " '--',\n",
       " 'local',\n",
       " 'since',\n",
       " 'visiting',\n",
       " 'new',\n",
       " 'off',\n",
       " 'having',\n",
       " 'spot',\n",
       " 'going',\n",
       " 'full',\n",
       " 'hotel',\n",
       " 'took',\n",
       " 'shower',\n",
       " 'appreciated',\n",
       " 'price',\n",
       " 'helped',\n",
       " 'ever',\n",
       " 'sean',\n",
       " 'know',\n",
       " 'friends',\n",
       " 'rooms',\n",
       " 'quickly',\n",
       " 'hill',\n",
       " 'worked',\n",
       " 'however',\n",
       " 'fine',\n",
       " 'let',\n",
       " 'anything',\n",
       " 'south',\n",
       " 'sleep',\n",
       " 'long',\n",
       " 'eat',\n",
       " 'own',\n",
       " 'part',\n",
       " 'far',\n",
       " 'beds',\n",
       " 'especially',\n",
       " 'view',\n",
       " 'through',\n",
       " 'key',\n",
       " 'lisa',\n",
       " 'flat',\n",
       " 'check-in',\n",
       " 'cute',\n",
       " 'blocks',\n",
       " \"'m\",\n",
       " 'apt',\n",
       " 'came',\n",
       " 'flexible',\n",
       " 'equipped',\n",
       " 'reservation',\n",
       " 'its',\n",
       " 'accurate',\n",
       " 'min',\n",
       " 'charming',\n",
       " 'outside',\n",
       " 'free',\n",
       " 'clear',\n",
       " 'tv',\n",
       " 'metro',\n",
       " 'wifi',\n",
       " 'used',\n",
       " 'am',\n",
       " '4',\n",
       " 'decorated',\n",
       " 'making',\n",
       " 'expected',\n",
       " 'happy',\n",
       " 'times',\n",
       " 'last',\n",
       " 'description',\n",
       " 'perfectly',\n",
       " 'then',\n",
       " 'bay',\n",
       " 'keys',\n",
       " 'condo',\n",
       " 'ride',\n",
       " 'noise',\n",
       " 'fenway',\n",
       " 'without',\n",
       " 'return',\n",
       " 'friend',\n",
       " 'wanted',\n",
       " 'hot',\n",
       " 'corner',\n",
       " 'husband',\n",
       " 'light',\n",
       " 'across',\n",
       " 'enjoy',\n",
       " 'jamaica',\n",
       " 'book',\n",
       " \"'ll\",\n",
       " 'say',\n",
       " 'thing',\n",
       " 'bars',\n",
       " 'central',\n",
       " 'plus',\n",
       " 'another',\n",
       " 'flight',\n",
       " \"'ve\",\n",
       " 'leave',\n",
       " 'kept',\n",
       " 'directions',\n",
       " 'recommendations',\n",
       " 'welcomed',\n",
       " 'front',\n",
       " 'cool',\n",
       " 'future',\n",
       " 'advertised',\n",
       " 'extra',\n",
       " \"'\",\n",
       " 'ca',\n",
       " 'shared',\n",
       " 'red',\n",
       " '$',\n",
       " 'several',\n",
       " 'accessible',\n",
       " 'hope',\n",
       " 'asked',\n",
       " 'common',\n",
       " 'sarah',\n",
       " 'conveniently',\n",
       " 'travel',\n",
       " 'property',\n",
       " 'spent',\n",
       " 'luggage',\n",
       " 'walked',\n",
       " 'issue',\n",
       " 'using',\n",
       " 'fresh',\n",
       " 'three',\n",
       " 'gracious',\n",
       " 'week',\n",
       " 'block',\n",
       " 'offered',\n",
       " 'responded',\n",
       " 'fun',\n",
       " 'fridge',\n",
       " 'heart',\n",
       " 'robert',\n",
       " 'store',\n",
       " 'orange',\n",
       " 'including',\n",
       " 'each',\n",
       " 'still',\n",
       " 'susan',\n",
       " 'top',\n",
       " 'uber',\n",
       " 'look',\n",
       " 'less',\n",
       " 'beacon',\n",
       " 'incredibly',\n",
       " 'should',\n",
       " 'think',\n",
       " 'photos',\n",
       " 'dog',\n",
       " 'contact',\n",
       " 'modern',\n",
       " 'second',\n",
       " 'posting',\n",
       " 'makes',\n",
       " 'stairs',\n",
       " 'may',\n",
       " 'shopping',\n",
       " 'canceled',\n",
       " 'ideal',\n",
       " 'via',\n",
       " 'explore',\n",
       " 'might',\n",
       " 'privacy',\n",
       " '’',\n",
       " 'tidy',\n",
       " 'guest',\n",
       " 'hermina',\n",
       " 'set',\n",
       " 'coming',\n",
       " 'automated',\n",
       " 'ready',\n",
       " 'process',\n",
       " 'everywhere',\n",
       " 'open',\n",
       " 'tips',\n",
       " 'simple',\n",
       " 'upon',\n",
       " 'transport',\n",
       " 'stocked',\n",
       " 'evening',\n",
       " 'give',\n",
       " 'trail',\n",
       " 'freedom',\n",
       " '15',\n",
       " 'does',\n",
       " 'answered',\n",
       " 'respond',\n",
       " 'neat',\n",
       " 'green',\n",
       " 'tom',\n",
       " 'touch',\n",
       " 'same',\n",
       " 'booking',\n",
       " 'issues',\n",
       " 'throughout',\n",
       " 'nicely',\n",
       " 'actually',\n",
       " '1',\n",
       " 'transit',\n",
       " 'plain',\n",
       " 'once',\n",
       " 'suggestions',\n",
       " 'value',\n",
       " 'main',\n",
       " 'said',\n",
       " 'huge',\n",
       " 'restaurant',\n",
       " 'showed',\n",
       " 'accommodations',\n",
       " 'hours',\n",
       " 'interesting',\n",
       " 'size',\n",
       " 'sweet',\n",
       " 'grocery',\n",
       " 'spend',\n",
       " 'hospitality',\n",
       " 'care',\n",
       " 'communicate',\n",
       " 'delicious',\n",
       " 'certainly',\n",
       " 'stores',\n",
       " 'fast',\n",
       " 'immediately',\n",
       " 'foods',\n",
       " 'due',\n",
       " 'joe',\n",
       " 'liked',\n",
       " 'looks',\n",
       " 'wife',\n",
       " 'booked',\n",
       " 'traveling',\n",
       " 'centre',\n",
       " 'above',\n",
       " 'convention',\n",
       " 'conference',\n",
       " 'others',\n",
       " 'chance',\n",
       " 'almost',\n",
       " 'entire',\n",
       " 'live',\n",
       " 'anywhere',\n",
       " 'problems',\n",
       " 'checking',\n",
       " 'bedrooms',\n",
       " 'deal',\n",
       " 'steps',\n",
       " 'rest',\n",
       " 'attractions',\n",
       " 'exploring',\n",
       " 'deck',\n",
       " 'pictured',\n",
       " 'checked',\n",
       " 'chris',\n",
       " 'furnished',\n",
       " 'real',\n",
       " 'jp',\n",
       " 'until',\n",
       " 'snacks',\n",
       " 'dinner',\n",
       " 's',\n",
       " 'window',\n",
       " 'organized',\n",
       " 'daughter',\n",
       " 'attentive',\n",
       " 'truly',\n",
       " 'son',\n",
       " 'those',\n",
       " 'ac',\n",
       " 'business',\n",
       " '20',\n",
       " 'slept',\n",
       " 'rental',\n",
       " 'stops',\n",
       " 'someone',\n",
       " 'busy',\n",
       " 'thought',\n",
       " 'accommodation',\n",
       " 't.',\n",
       " 'areas',\n",
       " 'reach',\n",
       " 'something',\n",
       " 'appartment',\n",
       " 'b',\n",
       " 'hospitable',\n",
       " '6',\n",
       " 'different',\n",
       " 'windows',\n",
       " 'everyone',\n",
       " 'phone',\n",
       " 'wish',\n",
       " 'prompt',\n",
       " 'email',\n",
       " 'text',\n",
       " 'bath',\n",
       " 'basement',\n",
       " 'gorgeous',\n",
       " 'prepared',\n",
       " 'sheets',\n",
       " 'noisy',\n",
       " 'else',\n",
       " 'answer',\n",
       " 'fully',\n",
       " 'totally',\n",
       " 'beyond',\n",
       " 'takes',\n",
       " 'bright',\n",
       " 'historic',\n",
       " 'enjoyable',\n",
       " 'pleasure',\n",
       " 'keep',\n",
       " 'communicative',\n",
       " 'inside',\n",
       " 'working',\n",
       " 'mattress',\n",
       " 'put',\n",
       " 'advice',\n",
       " 'high',\n",
       " 'service',\n",
       " 'allowed',\n",
       " 'along',\n",
       " 'ask',\n",
       " 'garden',\n",
       " 'tour',\n",
       " 'mins',\n",
       " 'cosy',\n",
       " 'bags',\n",
       " 'jose',\n",
       " 'greeted',\n",
       " 'prior',\n",
       " 'nothing',\n",
       " 'longer',\n",
       " 'four',\n",
       " 'later',\n",
       " 'basic',\n",
       " 'looked',\n",
       " 'wine',\n",
       " 'fabulous',\n",
       " 'bruce',\n",
       " 'ari',\n",
       " 'cold',\n",
       " 'laundry',\n",
       " 'internet',\n",
       " 'thoughtful',\n",
       " 'jonathan',\n",
       " 'detailed',\n",
       " 'tea',\n",
       " 'bad',\n",
       " 'unfortunately',\n",
       " 'given',\n",
       " 'harvard',\n",
       " 'note',\n",
       " 'soon',\n",
       " 'literally',\n",
       " 'mary',\n",
       " 'beautifully',\n",
       " 'offer',\n",
       " 'bathrooms',\n",
       " 'told',\n",
       " 'middle',\n",
       " 'group',\n",
       " 'worth',\n",
       " 'cook',\n",
       " 'start',\n",
       " 'smooth',\n",
       " 'seemed',\n",
       " 'hear',\n",
       " 'market',\n",
       " 'choice',\n",
       " 'details',\n",
       " 'situated',\n",
       " 'cat',\n",
       " 'appointed',\n",
       " 'hard',\n",
       " 'plan',\n",
       " 'promptly',\n",
       " 'expect',\n",
       " 'ok',\n",
       " 'possible',\n",
       " 'messages',\n",
       " 'guy',\n",
       " '?',\n",
       " 'schedule',\n",
       " 'try',\n",
       " 'hour',\n",
       " 'rent',\n",
       " 'show',\n",
       " 'newbury',\n",
       " 'talk',\n",
       " 'dining',\n",
       " 'useful',\n",
       " 'myself',\n",
       " 'drive',\n",
       " 'bring',\n",
       " 'probably',\n",
       " 'options',\n",
       " 'generous',\n",
       " 'sleeping',\n",
       " 'couch',\n",
       " 'five',\n",
       " 'provide',\n",
       " 'hostess',\n",
       " 'muffins',\n",
       " 'upstairs',\n",
       " 'incredible',\n",
       " 'yet',\n",
       " 'convenience',\n",
       " 'facilities',\n",
       " 'system',\n",
       " 'toiletries',\n",
       " 'side',\n",
       " 'entrance',\n",
       " 'waiting',\n",
       " 'steve',\n",
       " 'square',\n",
       " 'terrific',\n",
       " 'izzy',\n",
       " 'saw',\n",
       " 'kids',\n",
       " 'providing',\n",
       " 'cafes',\n",
       " 'barney',\n",
       " 'forward',\n",
       " 'sent',\n",
       " 'run',\n",
       " 'charles',\n",
       " 'between',\n",
       " 'hidden',\n",
       " 'alex',\n",
       " 'dan',\n",
       " 'spotless',\n",
       " 'italian',\n",
       " 'john',\n",
       " 'cleaning',\n",
       " 'cooking',\n",
       " 'dirty',\n",
       " 'beat',\n",
       " 'relaxing',\n",
       " 'table',\n",
       " 'parents',\n",
       " 'boyfriend',\n",
       " 'loud',\n",
       " 'bnb',\n",
       " 'bonus',\n",
       " 'fact',\n",
       " 'leaving',\n",
       " 'weather',\n",
       " 'expectations',\n",
       " 'owner',\n",
       " 'dryer',\n",
       " 'peaceful',\n",
       " 'already',\n",
       " 'adorable',\n",
       " 'fan',\n",
       " 'sites',\n",
       " 'case',\n",
       " 'mind',\n",
       " 'completely',\n",
       " 'called',\n",
       " 'info',\n",
       " 'difficult',\n",
       " 'michelle',\n",
       " 'money',\n",
       " 'proximity',\n",
       " 'arriving',\n",
       " 'sara',\n",
       " 'despite',\n",
       " 'done',\n",
       " 'views',\n",
       " 'call',\n",
       " 'linens',\n",
       " 'lock',\n",
       " 'cambridge',\n",
       " 'loft',\n",
       " 'shown',\n",
       " '7',\n",
       " 'willing',\n",
       " 'wait',\n",
       " 'arrive',\n",
       " 'these',\n",
       " 'items',\n",
       " 'jay',\n",
       " 'jeff',\n",
       " 'maps',\n",
       " 'meeting',\n",
       " 'summer',\n",
       " 'taking',\n",
       " 'relax',\n",
       " 'positive',\n",
       " 'pleased',\n",
       " 'conditioning',\n",
       " 'andrew',\n",
       " 'inviting',\n",
       " 'walkable',\n",
       " 'base',\n",
       " 'traffic',\n",
       " 'cindy',\n",
       " 'finding',\n",
       " 'ed',\n",
       " 'bernie',\n",
       " 'request',\n",
       " 'mike',\n",
       " 'either',\n",
       " 'closet',\n",
       " 'pick',\n",
       " 'share',\n",
       " 'point',\n",
       " 'fit',\n",
       " 'company',\n",
       " 'accommodate',\n",
       " 'breeze',\n",
       " 'check-out',\n",
       " 'roof',\n",
       " 'commons',\n",
       " 'job',\n",
       " 'trouble',\n",
       " 'stuff',\n",
       " 'shop',\n",
       " 'fruit',\n",
       " 'year',\n",
       " 'question',\n",
       " 'paul',\n",
       " 'consider',\n",
       " 'foot',\n",
       " 'downstairs',\n",
       " 'hesitate',\n",
       " 'brian',\n",
       " 'marathon',\n",
       " 'professional',\n",
       " 'centrally',\n",
       " 'sharing',\n",
       " 'personal',\n",
       " 'rather',\n",
       " 'major',\n",
       " 'streets',\n",
       " 'reviews',\n",
       " 'ourselves',\n",
       " 'sights',\n",
       " 'picture',\n",
       " 'sofa',\n",
       " 'half',\n",
       " 'spots',\n",
       " 'thoroughly',\n",
       " 'tourist',\n",
       " 'important',\n",
       " 'furniture',\n",
       " 'giving',\n",
       " 'special',\n",
       " 'quaint',\n",
       " 'cats',\n",
       " 'communicated',\n",
       " 'road',\n",
       " 'books',\n",
       " 'considerate',\n",
       " 'drop',\n",
       " 'maintained',\n",
       " 'departure',\n",
       " 'andrea',\n",
       " 'carney',\n",
       " 'rooftop',\n",
       " 'charlestown',\n",
       " 'third',\n",
       " 'anthony',\n",
       " 'number',\n",
       " 'hotels',\n",
       " 'residential',\n",
       " 'immaculate',\n",
       " 'college',\n",
       " 'cleaned',\n",
       " 'affordable',\n",
       " 'included',\n",
       " 'necessary',\n",
       " 'james',\n",
       " 'logan',\n",
       " 'girlfriend',\n",
       " 'otherwise',\n",
       " 'communicating',\n",
       " 'supermarket',\n",
       " 'quality',\n",
       " 'character',\n",
       " 'knew',\n",
       " 'tiffany',\n",
       " 'list',\n",
       " 'adam',\n",
       " 'bar',\n",
       " 'neighbors',\n",
       " 'choose',\n",
       " 'single',\n",
       " 'copley',\n",
       " 'provides',\n",
       " 'desk',\n",
       " 'bottle',\n",
       " 'glad',\n",
       " 'river',\n",
       " 'a/c',\n",
       " 'whenever',\n",
       " '30',\n",
       " 'now',\n",
       " 'st',\n",
       " 'life',\n",
       " 'terry',\n",
       " 'sightseeing',\n",
       " 'true',\n",
       " 'ended',\n",
       " 'rented',\n",
       " 'floors',\n",
       " 'elizabeth',\n",
       " 'ravi',\n",
       " 'vacation',\n",
       " 'maybe',\n",
       " 'fairly',\n",
       " 'julie',\n",
       " 'mentioned',\n",
       " 'running',\n",
       " 'taxi',\n",
       " 'level',\n",
       " 'move',\n",
       " 'stations',\n",
       " 'feeling',\n",
       " 'together',\n",
       " 'handy',\n",
       " 'condition',\n",
       " 'phyllis',\n",
       " 'heat',\n",
       " 'delightful',\n",
       " 'touches',\n",
       " 'weeks',\n",
       " 'charm',\n",
       " 'surrounding',\n",
       " 'seems',\n",
       " 'accommodated',\n",
       " 'sally',\n",
       " 'smoothly',\n",
       " 'tons',\n",
       " 'hall',\n",
       " 'soap',\n",
       " '8',\n",
       " 'received',\n",
       " 'emails',\n",
       " 'david',\n",
       " 'detail',\n",
       " 'overnight',\n",
       " 'taken',\n",
       " 'simply',\n",
       " 'renovated',\n",
       " 'patio',\n",
       " 'mile',\n",
       " 'must',\n",
       " 'bill',\n",
       " 'blue',\n",
       " 'flights',\n",
       " 'directly',\n",
       " 'chat',\n",
       " 'comfortably',\n",
       " 'meals',\n",
       " 'expensive',\n",
       " 'hand',\n",
       " 'beach',\n",
       " 'reasonable',\n",
       " 'shampoo',\n",
       " 'moment',\n",
       " 'option',\n",
       " 'history',\n",
       " 'frank',\n",
       " 'liz',\n",
       " 'hang',\n",
       " 'favorite',\n",
       " 'eddie',\n",
       " 'feels',\n",
       " 'earlier',\n",
       " ...]"
      ]
     },
     "execution_count": 56,
     "metadata": {},
     "output_type": "execute_result"
    }
   ],
   "source": [
    "new_model.wv.index2word"
   ]
  },
  {
   "cell_type": "code",
   "execution_count": null,
   "metadata": {},
   "outputs": [],
   "source": []
  }
 ],
 "metadata": {
  "kernelspec": {
   "display_name": "Python 3",
   "language": "python",
   "name": "python3"
  },
  "language_info": {
   "codemirror_mode": {
    "name": "ipython",
    "version": 3
   },
   "file_extension": ".py",
   "mimetype": "text/x-python",
   "name": "python",
   "nbconvert_exporter": "python",
   "pygments_lexer": "ipython3",
   "version": "3.6.8"
  }
 },
 "nbformat": 4,
 "nbformat_minor": 2
}
