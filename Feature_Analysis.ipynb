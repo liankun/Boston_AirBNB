{
 "cells": [
  {
   "cell_type": "code",
   "execution_count": 1,
   "metadata": {},
   "outputs": [],
   "source": [
    "import pandas as pd\n",
    "import seaborn as sb"
   ]
  },
  {
   "cell_type": "code",
   "execution_count": 2,
   "metadata": {},
   "outputs": [],
   "source": [
    "df_listings = pd.read_csv('boston/listings.csv')"
   ]
  },
  {
   "cell_type": "code",
   "execution_count": 3,
   "metadata": {},
   "outputs": [
    {
     "data": {
      "text/html": [
       "<div>\n",
       "<style scoped>\n",
       "    .dataframe tbody tr th:only-of-type {\n",
       "        vertical-align: middle;\n",
       "    }\n",
       "\n",
       "    .dataframe tbody tr th {\n",
       "        vertical-align: top;\n",
       "    }\n",
       "\n",
       "    .dataframe thead th {\n",
       "        text-align: right;\n",
       "    }\n",
       "</style>\n",
       "<table border=\"1\" class=\"dataframe\">\n",
       "  <thead>\n",
       "    <tr style=\"text-align: right;\">\n",
       "      <th></th>\n",
       "      <th>id</th>\n",
       "      <th>listing_url</th>\n",
       "      <th>scrape_id</th>\n",
       "      <th>last_scraped</th>\n",
       "      <th>name</th>\n",
       "      <th>summary</th>\n",
       "      <th>space</th>\n",
       "      <th>description</th>\n",
       "      <th>experiences_offered</th>\n",
       "      <th>neighborhood_overview</th>\n",
       "      <th>...</th>\n",
       "      <th>review_scores_value</th>\n",
       "      <th>requires_license</th>\n",
       "      <th>license</th>\n",
       "      <th>jurisdiction_names</th>\n",
       "      <th>instant_bookable</th>\n",
       "      <th>cancellation_policy</th>\n",
       "      <th>require_guest_profile_picture</th>\n",
       "      <th>require_guest_phone_verification</th>\n",
       "      <th>calculated_host_listings_count</th>\n",
       "      <th>reviews_per_month</th>\n",
       "    </tr>\n",
       "  </thead>\n",
       "  <tbody>\n",
       "    <tr>\n",
       "      <th>0</th>\n",
       "      <td>12147973</td>\n",
       "      <td>https://www.airbnb.com/rooms/12147973</td>\n",
       "      <td>20160906204935</td>\n",
       "      <td>2016-09-07</td>\n",
       "      <td>Sunny Bungalow in the City</td>\n",
       "      <td>Cozy, sunny, family home.  Master bedroom high...</td>\n",
       "      <td>The house has an open and cozy feel at the sam...</td>\n",
       "      <td>Cozy, sunny, family home.  Master bedroom high...</td>\n",
       "      <td>none</td>\n",
       "      <td>Roslindale is quiet, convenient and friendly. ...</td>\n",
       "      <td>...</td>\n",
       "      <td>NaN</td>\n",
       "      <td>f</td>\n",
       "      <td>NaN</td>\n",
       "      <td>NaN</td>\n",
       "      <td>f</td>\n",
       "      <td>moderate</td>\n",
       "      <td>f</td>\n",
       "      <td>f</td>\n",
       "      <td>1</td>\n",
       "      <td>NaN</td>\n",
       "    </tr>\n",
       "    <tr>\n",
       "      <th>1</th>\n",
       "      <td>3075044</td>\n",
       "      <td>https://www.airbnb.com/rooms/3075044</td>\n",
       "      <td>20160906204935</td>\n",
       "      <td>2016-09-07</td>\n",
       "      <td>Charming room in pet friendly apt</td>\n",
       "      <td>Charming and quiet room in a second floor 1910...</td>\n",
       "      <td>Small but cozy and quite room with a full size...</td>\n",
       "      <td>Charming and quiet room in a second floor 1910...</td>\n",
       "      <td>none</td>\n",
       "      <td>The room is in Roslindale, a diverse and prima...</td>\n",
       "      <td>...</td>\n",
       "      <td>9.0</td>\n",
       "      <td>f</td>\n",
       "      <td>NaN</td>\n",
       "      <td>NaN</td>\n",
       "      <td>t</td>\n",
       "      <td>moderate</td>\n",
       "      <td>f</td>\n",
       "      <td>f</td>\n",
       "      <td>1</td>\n",
       "      <td>1.30</td>\n",
       "    </tr>\n",
       "    <tr>\n",
       "      <th>2</th>\n",
       "      <td>6976</td>\n",
       "      <td>https://www.airbnb.com/rooms/6976</td>\n",
       "      <td>20160906204935</td>\n",
       "      <td>2016-09-07</td>\n",
       "      <td>Mexican Folk Art Haven in Boston</td>\n",
       "      <td>Come stay with a friendly, middle-aged guy in ...</td>\n",
       "      <td>Come stay with a friendly, middle-aged guy in ...</td>\n",
       "      <td>Come stay with a friendly, middle-aged guy in ...</td>\n",
       "      <td>none</td>\n",
       "      <td>The LOCATION: Roslindale is a safe and diverse...</td>\n",
       "      <td>...</td>\n",
       "      <td>10.0</td>\n",
       "      <td>f</td>\n",
       "      <td>NaN</td>\n",
       "      <td>NaN</td>\n",
       "      <td>f</td>\n",
       "      <td>moderate</td>\n",
       "      <td>t</td>\n",
       "      <td>f</td>\n",
       "      <td>1</td>\n",
       "      <td>0.47</td>\n",
       "    </tr>\n",
       "    <tr>\n",
       "      <th>3</th>\n",
       "      <td>1436513</td>\n",
       "      <td>https://www.airbnb.com/rooms/1436513</td>\n",
       "      <td>20160906204935</td>\n",
       "      <td>2016-09-07</td>\n",
       "      <td>Spacious Sunny Bedroom Suite in Historic Home</td>\n",
       "      <td>Come experience the comforts of home away from...</td>\n",
       "      <td>Most places you find in Boston are small howev...</td>\n",
       "      <td>Come experience the comforts of home away from...</td>\n",
       "      <td>none</td>\n",
       "      <td>Roslindale is a lovely little neighborhood loc...</td>\n",
       "      <td>...</td>\n",
       "      <td>10.0</td>\n",
       "      <td>f</td>\n",
       "      <td>NaN</td>\n",
       "      <td>NaN</td>\n",
       "      <td>f</td>\n",
       "      <td>moderate</td>\n",
       "      <td>f</td>\n",
       "      <td>f</td>\n",
       "      <td>1</td>\n",
       "      <td>1.00</td>\n",
       "    </tr>\n",
       "    <tr>\n",
       "      <th>4</th>\n",
       "      <td>7651065</td>\n",
       "      <td>https://www.airbnb.com/rooms/7651065</td>\n",
       "      <td>20160906204935</td>\n",
       "      <td>2016-09-07</td>\n",
       "      <td>Come Home to Boston</td>\n",
       "      <td>My comfy, clean and relaxing home is one block...</td>\n",
       "      <td>Clean, attractive, private room, one block fro...</td>\n",
       "      <td>My comfy, clean and relaxing home is one block...</td>\n",
       "      <td>none</td>\n",
       "      <td>I love the proximity to downtown, the neighbor...</td>\n",
       "      <td>...</td>\n",
       "      <td>10.0</td>\n",
       "      <td>f</td>\n",
       "      <td>NaN</td>\n",
       "      <td>NaN</td>\n",
       "      <td>f</td>\n",
       "      <td>flexible</td>\n",
       "      <td>f</td>\n",
       "      <td>f</td>\n",
       "      <td>1</td>\n",
       "      <td>2.25</td>\n",
       "    </tr>\n",
       "  </tbody>\n",
       "</table>\n",
       "<p>5 rows × 95 columns</p>\n",
       "</div>"
      ],
      "text/plain": [
       "         id                            listing_url       scrape_id  \\\n",
       "0  12147973  https://www.airbnb.com/rooms/12147973  20160906204935   \n",
       "1   3075044   https://www.airbnb.com/rooms/3075044  20160906204935   \n",
       "2      6976      https://www.airbnb.com/rooms/6976  20160906204935   \n",
       "3   1436513   https://www.airbnb.com/rooms/1436513  20160906204935   \n",
       "4   7651065   https://www.airbnb.com/rooms/7651065  20160906204935   \n",
       "\n",
       "  last_scraped                                           name  \\\n",
       "0   2016-09-07                     Sunny Bungalow in the City   \n",
       "1   2016-09-07              Charming room in pet friendly apt   \n",
       "2   2016-09-07               Mexican Folk Art Haven in Boston   \n",
       "3   2016-09-07  Spacious Sunny Bedroom Suite in Historic Home   \n",
       "4   2016-09-07                            Come Home to Boston   \n",
       "\n",
       "                                             summary  \\\n",
       "0  Cozy, sunny, family home.  Master bedroom high...   \n",
       "1  Charming and quiet room in a second floor 1910...   \n",
       "2  Come stay with a friendly, middle-aged guy in ...   \n",
       "3  Come experience the comforts of home away from...   \n",
       "4  My comfy, clean and relaxing home is one block...   \n",
       "\n",
       "                                               space  \\\n",
       "0  The house has an open and cozy feel at the sam...   \n",
       "1  Small but cozy and quite room with a full size...   \n",
       "2  Come stay with a friendly, middle-aged guy in ...   \n",
       "3  Most places you find in Boston are small howev...   \n",
       "4  Clean, attractive, private room, one block fro...   \n",
       "\n",
       "                                         description experiences_offered  \\\n",
       "0  Cozy, sunny, family home.  Master bedroom high...                none   \n",
       "1  Charming and quiet room in a second floor 1910...                none   \n",
       "2  Come stay with a friendly, middle-aged guy in ...                none   \n",
       "3  Come experience the comforts of home away from...                none   \n",
       "4  My comfy, clean and relaxing home is one block...                none   \n",
       "\n",
       "                               neighborhood_overview        ...          \\\n",
       "0  Roslindale is quiet, convenient and friendly. ...        ...           \n",
       "1  The room is in Roslindale, a diverse and prima...        ...           \n",
       "2  The LOCATION: Roslindale is a safe and diverse...        ...           \n",
       "3  Roslindale is a lovely little neighborhood loc...        ...           \n",
       "4  I love the proximity to downtown, the neighbor...        ...           \n",
       "\n",
       "  review_scores_value requires_license license jurisdiction_names  \\\n",
       "0                 NaN                f     NaN                NaN   \n",
       "1                 9.0                f     NaN                NaN   \n",
       "2                10.0                f     NaN                NaN   \n",
       "3                10.0                f     NaN                NaN   \n",
       "4                10.0                f     NaN                NaN   \n",
       "\n",
       "  instant_bookable cancellation_policy require_guest_profile_picture  \\\n",
       "0                f            moderate                             f   \n",
       "1                t            moderate                             f   \n",
       "2                f            moderate                             t   \n",
       "3                f            moderate                             f   \n",
       "4                f            flexible                             f   \n",
       "\n",
       "  require_guest_phone_verification calculated_host_listings_count  \\\n",
       "0                                f                              1   \n",
       "1                                f                              1   \n",
       "2                                f                              1   \n",
       "3                                f                              1   \n",
       "4                                f                              1   \n",
       "\n",
       "   reviews_per_month  \n",
       "0                NaN  \n",
       "1               1.30  \n",
       "2               0.47  \n",
       "3               1.00  \n",
       "4               2.25  \n",
       "\n",
       "[5 rows x 95 columns]"
      ]
     },
     "execution_count": 3,
     "metadata": {},
     "output_type": "execute_result"
    }
   ],
   "source": [
    "df_listings.head()"
   ]
  },
  {
   "cell_type": "code",
   "execution_count": 3,
   "metadata": {
    "scrolled": true
   },
   "outputs": [
    {
     "data": {
      "text/plain": [
       "['id',\n",
       " 'listing_url',\n",
       " 'scrape_id',\n",
       " 'last_scraped',\n",
       " 'name',\n",
       " 'summary',\n",
       " 'space',\n",
       " 'description',\n",
       " 'experiences_offered',\n",
       " 'neighborhood_overview',\n",
       " 'notes',\n",
       " 'transit',\n",
       " 'access',\n",
       " 'interaction',\n",
       " 'house_rules',\n",
       " 'thumbnail_url',\n",
       " 'medium_url',\n",
       " 'picture_url',\n",
       " 'xl_picture_url',\n",
       " 'host_id',\n",
       " 'host_url',\n",
       " 'host_name',\n",
       " 'host_since',\n",
       " 'host_location',\n",
       " 'host_about',\n",
       " 'host_response_time',\n",
       " 'host_response_rate',\n",
       " 'host_acceptance_rate',\n",
       " 'host_is_superhost',\n",
       " 'host_thumbnail_url',\n",
       " 'host_picture_url',\n",
       " 'host_neighbourhood',\n",
       " 'host_listings_count',\n",
       " 'host_total_listings_count',\n",
       " 'host_verifications',\n",
       " 'host_has_profile_pic',\n",
       " 'host_identity_verified',\n",
       " 'street',\n",
       " 'neighbourhood',\n",
       " 'neighbourhood_cleansed',\n",
       " 'neighbourhood_group_cleansed',\n",
       " 'city',\n",
       " 'state',\n",
       " 'zipcode',\n",
       " 'market',\n",
       " 'smart_location',\n",
       " 'country_code',\n",
       " 'country',\n",
       " 'latitude',\n",
       " 'longitude',\n",
       " 'is_location_exact',\n",
       " 'property_type',\n",
       " 'room_type',\n",
       " 'accommodates',\n",
       " 'bathrooms',\n",
       " 'bedrooms',\n",
       " 'beds',\n",
       " 'bed_type',\n",
       " 'amenities',\n",
       " 'square_feet',\n",
       " 'price',\n",
       " 'weekly_price',\n",
       " 'monthly_price',\n",
       " 'security_deposit',\n",
       " 'cleaning_fee',\n",
       " 'guests_included',\n",
       " 'extra_people',\n",
       " 'minimum_nights',\n",
       " 'maximum_nights',\n",
       " 'calendar_updated',\n",
       " 'has_availability',\n",
       " 'availability_30',\n",
       " 'availability_60',\n",
       " 'availability_90',\n",
       " 'availability_365',\n",
       " 'calendar_last_scraped',\n",
       " 'number_of_reviews',\n",
       " 'first_review',\n",
       " 'last_review',\n",
       " 'review_scores_rating',\n",
       " 'review_scores_accuracy',\n",
       " 'review_scores_cleanliness',\n",
       " 'review_scores_checkin',\n",
       " 'review_scores_communication',\n",
       " 'review_scores_location',\n",
       " 'review_scores_value',\n",
       " 'requires_license',\n",
       " 'license',\n",
       " 'jurisdiction_names',\n",
       " 'instant_bookable',\n",
       " 'cancellation_policy',\n",
       " 'require_guest_profile_picture',\n",
       " 'require_guest_phone_verification',\n",
       " 'calculated_host_listings_count',\n",
       " 'reviews_per_month']"
      ]
     },
     "execution_count": 3,
     "metadata": {},
     "output_type": "execute_result"
    }
   ],
   "source": [
    "df_listings.columns.tolist()"
   ]
  },
  {
   "cell_type": "code",
   "execution_count": null,
   "metadata": {},
   "outputs": [],
   "source": [
    "df_lis"
   ]
  },
  {
   "cell_type": "code",
   "execution_count": 4,
   "metadata": {},
   "outputs": [
    {
     "data": {
      "text/plain": [
       "0    12147973\n",
       "1     3075044\n",
       "2        6976\n",
       "3     1436513\n",
       "4     7651065\n",
       "Name: id, dtype: int64"
      ]
     },
     "execution_count": 4,
     "metadata": {},
     "output_type": "execute_result"
    }
   ],
   "source": [
    "df_listings['id'].head()"
   ]
  },
  {
   "cell_type": "code",
   "execution_count": 5,
   "metadata": {},
   "outputs": [
    {
     "data": {
      "text/plain": [
       "0    https://www.airbnb.com/rooms/12147973\n",
       "1     https://www.airbnb.com/rooms/3075044\n",
       "2        https://www.airbnb.com/rooms/6976\n",
       "3     https://www.airbnb.com/rooms/1436513\n",
       "4     https://www.airbnb.com/rooms/7651065\n",
       "Name: listing_url, dtype: object"
      ]
     },
     "execution_count": 5,
     "metadata": {},
     "output_type": "execute_result"
    }
   ],
   "source": [
    "#check url\n",
    "df_listings['listing_url'].head()"
   ]
  },
  {
   "cell_type": "code",
   "execution_count": 5,
   "metadata": {},
   "outputs": [
    {
     "data": {
      "text/plain": [
       "0    20160906204935\n",
       "1    20160906204935\n",
       "2    20160906204935\n",
       "3    20160906204935\n",
       "4    20160906204935\n",
       "Name: scrape_id, dtype: int64"
      ]
     },
     "execution_count": 5,
     "metadata": {},
     "output_type": "execute_result"
    }
   ],
   "source": [
    "df_listings['scrape_id'].head()"
   ]
  },
  {
   "cell_type": "code",
   "execution_count": 8,
   "metadata": {},
   "outputs": [
    {
     "data": {
      "text/plain": [
       "<matplotlib.axes._subplots.AxesSubplot at 0x2228f9eb748>"
      ]
     },
     "execution_count": 8,
     "metadata": {},
     "output_type": "execute_result"
    },
    {
     "data": {
      "image/png": "[encoded data removed]",
      "text/plain": [
       "<Figure size 432x288 with 1 Axes>"
      ]
     },
     "metadata": {
      "needs_background": "light"
     },
     "output_type": "display_data"
    }
   ],
   "source": [
    "df_listings.isnull().mean().hist()"
   ]
  },
  {
   "cell_type": "code",
   "execution_count": 9,
   "metadata": {},
   "outputs": [],
   "source": [
    "df_listings_null_mean=df_listings.isnull().mean()"
   ]
  },
  {
   "cell_type": "code",
   "execution_count": 11,
   "metadata": {},
   "outputs": [
    {
     "data": {
      "text/plain": [
       "id              0.0\n",
       "listing_url     0.0\n",
       "scrape_id       0.0\n",
       "last_scraped    0.0\n",
       "name            0.0\n",
       "dtype: float64"
      ]
     },
     "execution_count": 11,
     "metadata": {},
     "output_type": "execute_result"
    }
   ],
   "source": [
    "df_listings_null_mean.head()"
   ]
  },
  {
   "cell_type": "code",
   "execution_count": 15,
   "metadata": {},
   "outputs": [
    {
     "data": {
      "text/plain": [
       "neighbourhood_group_cleansed    1.000000\n",
       "square_feet                     0.984379\n",
       "weekly_price                    0.751185\n",
       "monthly_price                   0.752301\n",
       "has_availability                1.000000\n",
       "license                         1.000000\n",
       "jurisdiction_names              1.000000\n",
       "dtype: float64"
      ]
     },
     "execution_count": 15,
     "metadata": {},
     "output_type": "execute_result"
    }
   ],
   "source": [
    "df_listings_null_mean[df_listings_null_mean>0.7]"
   ]
  },
  {
   "cell_type": "code",
   "execution_count": 16,
   "metadata": {},
   "outputs": [
    {
     "data": {
      "text/plain": [
       "0   NaN\n",
       "1   NaN\n",
       "2   NaN\n",
       "3   NaN\n",
       "4   NaN\n",
       "Name: square_feet, dtype: float64"
      ]
     },
     "execution_count": 16,
     "metadata": {},
     "output_type": "execute_result"
    }
   ],
   "source": [
    "df_listings['square_feet'].head()"
   ]
  },
  {
   "cell_type": "code",
   "execution_count": 3,
   "metadata": {},
   "outputs": [
    {
     "data": {
      "text/plain": [
       "0.9843793584379359"
      ]
     },
     "execution_count": 3,
     "metadata": {},
     "output_type": "execute_result"
    }
   ],
   "source": [
    "df_listings['square_feet'].isnull().mean()"
   ]
  },
  {
   "cell_type": "code",
   "execution_count": 5,
   "metadata": {},
   "outputs": [
    {
     "data": {
      "text/html": [
       "<div>\n",
       "<style scoped>\n",
       "    .dataframe tbody tr th:only-of-type {\n",
       "        vertical-align: middle;\n",
       "    }\n",
       "\n",
       "    .dataframe tbody tr th {\n",
       "        vertical-align: top;\n",
       "    }\n",
       "\n",
       "    .dataframe thead th {\n",
       "        text-align: right;\n",
       "    }\n",
       "</style>\n",
       "<table border=\"1\" class=\"dataframe\">\n",
       "  <thead>\n",
       "    <tr style=\"text-align: right;\">\n",
       "      <th></th>\n",
       "      <th>square_feet</th>\n",
       "      <th>price</th>\n",
       "    </tr>\n",
       "  </thead>\n",
       "  <tbody>\n",
       "    <tr>\n",
       "      <th>8</th>\n",
       "      <td>12.0</td>\n",
       "      <td>$58.00</td>\n",
       "    </tr>\n",
       "    <tr>\n",
       "      <th>47</th>\n",
       "      <td>200.0</td>\n",
       "      <td>$75.00</td>\n",
       "    </tr>\n",
       "    <tr>\n",
       "      <th>50</th>\n",
       "      <td>90.0</td>\n",
       "      <td>$60.00</td>\n",
       "    </tr>\n",
       "    <tr>\n",
       "      <th>59</th>\n",
       "      <td>1000.0</td>\n",
       "      <td>$55.00</td>\n",
       "    </tr>\n",
       "    <tr>\n",
       "      <th>72</th>\n",
       "      <td>1700.0</td>\n",
       "      <td>$62.00</td>\n",
       "    </tr>\n",
       "    <tr>\n",
       "      <th>132</th>\n",
       "      <td>1000.0</td>\n",
       "      <td>$200.00</td>\n",
       "    </tr>\n",
       "    <tr>\n",
       "      <th>152</th>\n",
       "      <td>2200.0</td>\n",
       "      <td>$300.00</td>\n",
       "    </tr>\n",
       "    <tr>\n",
       "      <th>209</th>\n",
       "      <td>1500.0</td>\n",
       "      <td>$178.00</td>\n",
       "    </tr>\n",
       "    <tr>\n",
       "      <th>239</th>\n",
       "      <td>200.0</td>\n",
       "      <td>$70.00</td>\n",
       "    </tr>\n",
       "    <tr>\n",
       "      <th>379</th>\n",
       "      <td>2300.0</td>\n",
       "      <td>$525.00</td>\n",
       "    </tr>\n",
       "    <tr>\n",
       "      <th>391</th>\n",
       "      <td>2000.0</td>\n",
       "      <td>$725.00</td>\n",
       "    </tr>\n",
       "    <tr>\n",
       "      <th>446</th>\n",
       "      <td>1200.0</td>\n",
       "      <td>$115.00</td>\n",
       "    </tr>\n",
       "    <tr>\n",
       "      <th>547</th>\n",
       "      <td>2000.0</td>\n",
       "      <td>$500.00</td>\n",
       "    </tr>\n",
       "    <tr>\n",
       "      <th>694</th>\n",
       "      <td>0.0</td>\n",
       "      <td>$250.00</td>\n",
       "    </tr>\n",
       "    <tr>\n",
       "      <th>780</th>\n",
       "      <td>225.0</td>\n",
       "      <td>$145.00</td>\n",
       "    </tr>\n",
       "    <tr>\n",
       "      <th>922</th>\n",
       "      <td>650.0</td>\n",
       "      <td>$279.00</td>\n",
       "    </tr>\n",
       "    <tr>\n",
       "      <th>1028</th>\n",
       "      <td>750.0</td>\n",
       "      <td>$225.00</td>\n",
       "    </tr>\n",
       "    <tr>\n",
       "      <th>1146</th>\n",
       "      <td>450.0</td>\n",
       "      <td>$145.00</td>\n",
       "    </tr>\n",
       "    <tr>\n",
       "      <th>1173</th>\n",
       "      <td>340.0</td>\n",
       "      <td>$130.00</td>\n",
       "    </tr>\n",
       "    <tr>\n",
       "      <th>1196</th>\n",
       "      <td>450.0</td>\n",
       "      <td>$199.00</td>\n",
       "    </tr>\n",
       "    <tr>\n",
       "      <th>1210</th>\n",
       "      <td>920.0</td>\n",
       "      <td>$295.00</td>\n",
       "    </tr>\n",
       "    <tr>\n",
       "      <th>1214</th>\n",
       "      <td>630.0</td>\n",
       "      <td>$160.00</td>\n",
       "    </tr>\n",
       "    <tr>\n",
       "      <th>1253</th>\n",
       "      <td>850.0</td>\n",
       "      <td>$449.00</td>\n",
       "    </tr>\n",
       "    <tr>\n",
       "      <th>1256</th>\n",
       "      <td>700.0</td>\n",
       "      <td>$251.00</td>\n",
       "    </tr>\n",
       "    <tr>\n",
       "      <th>1260</th>\n",
       "      <td>900.0</td>\n",
       "      <td>$342.00</td>\n",
       "    </tr>\n",
       "    <tr>\n",
       "      <th>1425</th>\n",
       "      <td>500.0</td>\n",
       "      <td>$229.00</td>\n",
       "    </tr>\n",
       "    <tr>\n",
       "      <th>1457</th>\n",
       "      <td>1100.0</td>\n",
       "      <td>$285.00</td>\n",
       "    </tr>\n",
       "    <tr>\n",
       "      <th>1553</th>\n",
       "      <td>1300.0</td>\n",
       "      <td>$210.00</td>\n",
       "    </tr>\n",
       "    <tr>\n",
       "      <th>1657</th>\n",
       "      <td>850.0</td>\n",
       "      <td>$320.00</td>\n",
       "    </tr>\n",
       "    <tr>\n",
       "      <th>1753</th>\n",
       "      <td>800.0</td>\n",
       "      <td>$150.00</td>\n",
       "    </tr>\n",
       "    <tr>\n",
       "      <th>1770</th>\n",
       "      <td>875.0</td>\n",
       "      <td>$169.00</td>\n",
       "    </tr>\n",
       "    <tr>\n",
       "      <th>1828</th>\n",
       "      <td>925.0</td>\n",
       "      <td>$219.00</td>\n",
       "    </tr>\n",
       "    <tr>\n",
       "      <th>1946</th>\n",
       "      <td>580.0</td>\n",
       "      <td>$175.00</td>\n",
       "    </tr>\n",
       "    <tr>\n",
       "      <th>1972</th>\n",
       "      <td>400.0</td>\n",
       "      <td>$185.00</td>\n",
       "    </tr>\n",
       "    <tr>\n",
       "      <th>2047</th>\n",
       "      <td>1200.0</td>\n",
       "      <td>$334.00</td>\n",
       "    </tr>\n",
       "    <tr>\n",
       "      <th>2124</th>\n",
       "      <td>1200.0</td>\n",
       "      <td>$250.00</td>\n",
       "    </tr>\n",
       "    <tr>\n",
       "      <th>2252</th>\n",
       "      <td>700.0</td>\n",
       "      <td>$135.00</td>\n",
       "    </tr>\n",
       "    <tr>\n",
       "      <th>2472</th>\n",
       "      <td>1050.0</td>\n",
       "      <td>$359.00</td>\n",
       "    </tr>\n",
       "    <tr>\n",
       "      <th>2483</th>\n",
       "      <td>800.0</td>\n",
       "      <td>$79.00</td>\n",
       "    </tr>\n",
       "    <tr>\n",
       "      <th>2557</th>\n",
       "      <td>2.0</td>\n",
       "      <td>$400.00</td>\n",
       "    </tr>\n",
       "    <tr>\n",
       "      <th>2559</th>\n",
       "      <td>675.0</td>\n",
       "      <td>$184.00</td>\n",
       "    </tr>\n",
       "    <tr>\n",
       "      <th>2681</th>\n",
       "      <td>1200.0</td>\n",
       "      <td>$125.00</td>\n",
       "    </tr>\n",
       "    <tr>\n",
       "      <th>2843</th>\n",
       "      <td>120.0</td>\n",
       "      <td>$90.00</td>\n",
       "    </tr>\n",
       "    <tr>\n",
       "      <th>2889</th>\n",
       "      <td>190.0</td>\n",
       "      <td>$80.00</td>\n",
       "    </tr>\n",
       "    <tr>\n",
       "      <th>2924</th>\n",
       "      <td>1200.0</td>\n",
       "      <td>$125.00</td>\n",
       "    </tr>\n",
       "    <tr>\n",
       "      <th>2935</th>\n",
       "      <td>2400.0</td>\n",
       "      <td>$175.00</td>\n",
       "    </tr>\n",
       "    <tr>\n",
       "      <th>2937</th>\n",
       "      <td>1200.0</td>\n",
       "      <td>$125.00</td>\n",
       "    </tr>\n",
       "    <tr>\n",
       "      <th>2945</th>\n",
       "      <td>1200.0</td>\n",
       "      <td>$125.00</td>\n",
       "    </tr>\n",
       "    <tr>\n",
       "      <th>2966</th>\n",
       "      <td>1200.0</td>\n",
       "      <td>$126.00</td>\n",
       "    </tr>\n",
       "    <tr>\n",
       "      <th>2986</th>\n",
       "      <td>1200.0</td>\n",
       "      <td>$168.00</td>\n",
       "    </tr>\n",
       "    <tr>\n",
       "      <th>3045</th>\n",
       "      <td>0.0</td>\n",
       "      <td>$149.00</td>\n",
       "    </tr>\n",
       "    <tr>\n",
       "      <th>3219</th>\n",
       "      <td>1600.0</td>\n",
       "      <td>$150.00</td>\n",
       "    </tr>\n",
       "    <tr>\n",
       "      <th>3266</th>\n",
       "      <td>800.0</td>\n",
       "      <td>$88.00</td>\n",
       "    </tr>\n",
       "    <tr>\n",
       "      <th>3284</th>\n",
       "      <td>0.0</td>\n",
       "      <td>$99.00</td>\n",
       "    </tr>\n",
       "    <tr>\n",
       "      <th>3299</th>\n",
       "      <td>420.0</td>\n",
       "      <td>$175.00</td>\n",
       "    </tr>\n",
       "    <tr>\n",
       "      <th>3448</th>\n",
       "      <td>120.0</td>\n",
       "      <td>$62.00</td>\n",
       "    </tr>\n",
       "  </tbody>\n",
       "</table>\n",
       "</div>"
      ],
      "text/plain": [
       "      square_feet    price\n",
       "8            12.0   $58.00\n",
       "47          200.0   $75.00\n",
       "50           90.0   $60.00\n",
       "59         1000.0   $55.00\n",
       "72         1700.0   $62.00\n",
       "132        1000.0  $200.00\n",
       "152        2200.0  $300.00\n",
       "209        1500.0  $178.00\n",
       "239         200.0   $70.00\n",
       "379        2300.0  $525.00\n",
       "391        2000.0  $725.00\n",
       "446        1200.0  $115.00\n",
       "547        2000.0  $500.00\n",
       "694           0.0  $250.00\n",
       "780         225.0  $145.00\n",
       "922         650.0  $279.00\n",
       "1028        750.0  $225.00\n",
       "1146        450.0  $145.00\n",
       "1173        340.0  $130.00\n",
       "1196        450.0  $199.00\n",
       "1210        920.0  $295.00\n",
       "1214        630.0  $160.00\n",
       "1253        850.0  $449.00\n",
       "1256        700.0  $251.00\n",
       "1260        900.0  $342.00\n",
       "1425        500.0  $229.00\n",
       "1457       1100.0  $285.00\n",
       "1553       1300.0  $210.00\n",
       "1657        850.0  $320.00\n",
       "1753        800.0  $150.00\n",
       "1770        875.0  $169.00\n",
       "1828        925.0  $219.00\n",
       "1946        580.0  $175.00\n",
       "1972        400.0  $185.00\n",
       "2047       1200.0  $334.00\n",
       "2124       1200.0  $250.00\n",
       "2252        700.0  $135.00\n",
       "2472       1050.0  $359.00\n",
       "2483        800.0   $79.00\n",
       "2557          2.0  $400.00\n",
       "2559        675.0  $184.00\n",
       "2681       1200.0  $125.00\n",
       "2843        120.0   $90.00\n",
       "2889        190.0   $80.00\n",
       "2924       1200.0  $125.00\n",
       "2935       2400.0  $175.00\n",
       "2937       1200.0  $125.00\n",
       "2945       1200.0  $125.00\n",
       "2966       1200.0  $126.00\n",
       "2986       1200.0  $168.00\n",
       "3045          0.0  $149.00\n",
       "3219       1600.0  $150.00\n",
       "3266        800.0   $88.00\n",
       "3284          0.0   $99.00\n",
       "3299        420.0  $175.00\n",
       "3448        120.0   $62.00"
      ]
     },
     "execution_count": 5,
     "metadata": {},
     "output_type": "execute_result"
    }
   ],
   "source": [
    "df_listings[['square_feet','price']][df_listings['square_feet'].notnull()]"
   ]
  },
  {
   "cell_type": "code",
   "execution_count": 19,
   "metadata": {},
   "outputs": [
    {
     "data": {
      "text/plain": [
       "2016-09-07    3585\n",
       "Name: last_scraped, dtype: int64"
      ]
     },
     "execution_count": 19,
     "metadata": {},
     "output_type": "execute_result"
    }
   ],
   "source": [
    "df_listings['last_scraped'].value_counts() # is the same"
   ]
  },
  {
   "cell_type": "code",
   "execution_count": 21,
   "metadata": {},
   "outputs": [
    {
     "data": {
      "text/plain": [
       "0                       Sunny Bungalow in the City\n",
       "1                Charming room in pet friendly apt\n",
       "2                 Mexican Folk Art Haven in Boston\n",
       "3    Spacious Sunny Bedroom Suite in Historic Home\n",
       "4                              Come Home to Boston\n",
       "Name: name, dtype: object"
      ]
     },
     "execution_count": 21,
     "metadata": {},
     "output_type": "execute_result"
    }
   ],
   "source": [
    "df_listings['name'].head()"
   ]
  },
  {
   "cell_type": "code",
   "execution_count": 24,
   "metadata": {},
   "outputs": [
    {
     "data": {
      "text/plain": [
       "0    Cozy, sunny, family home.  Master bedroom high...\n",
       "1    Charming and quiet room in a second floor 1910...\n",
       "2    Come stay with a friendly, middle-aged guy in ...\n",
       "3    Come experience the comforts of home away from...\n",
       "4    My comfy, clean and relaxing home is one block...\n",
       "Name: summary, dtype: object"
      ]
     },
     "execution_count": 24,
     "metadata": {},
     "output_type": "execute_result"
    }
   ],
   "source": [
    "df_listings['summary'].head()"
   ]
  },
  {
   "cell_type": "code",
   "execution_count": 6,
   "metadata": {},
   "outputs": [
    {
     "data": {
      "text/plain": [
       "'Cozy, sunny, family home.  Master bedroom high ceilings. Deck, garden with hens, beehives & play structure.   Short walk to charming village with  attractive stores, groceries & local restaurants. Friendly neighborhood. Access public transportation.'"
      ]
     },
     "execution_count": 6,
     "metadata": {},
     "output_type": "execute_result"
    }
   ],
   "source": [
    "df_listings['summary'][0]"
   ]
  },
  {
   "cell_type": "code",
   "execution_count": 25,
   "metadata": {},
   "outputs": [
    {
     "data": {
      "text/plain": [
       "0    The house has an open and cozy feel at the sam...\n",
       "1    Small but cozy and quite room with a full size...\n",
       "2    Come stay with a friendly, middle-aged guy in ...\n",
       "3    Most places you find in Boston are small howev...\n",
       "4    Clean, attractive, private room, one block fro...\n",
       "Name: space, dtype: object"
      ]
     },
     "execution_count": 25,
     "metadata": {},
     "output_type": "execute_result"
    }
   ],
   "source": [
    "df_listings['space'].head()"
   ]
  },
  {
   "cell_type": "code",
   "execution_count": 7,
   "metadata": {},
   "outputs": [
    {
     "data": {
      "text/plain": [
       "'The house has an open and cozy feel at the same time.  The living room has a flat screen TV.  The kitchen has all you need for cooking.  We prefer you buy your food but can use the organic oils, herbs, etc.   The yard can be seen from sitting room and when the weather allows, the yard is a place children can lose themselves in a safe way.  We have 2 bee hives, 6 hens fenced in (sometimes they get out of their coop area & into the yard), 2 rabbits in a hutch and play structure.'"
      ]
     },
     "execution_count": 7,
     "metadata": {},
     "output_type": "execute_result"
    }
   ],
   "source": [
    "df_listings['space'][0]"
   ]
  },
  {
   "cell_type": "code",
   "execution_count": 26,
   "metadata": {},
   "outputs": [
    {
     "data": {
      "text/plain": [
       "0    Cozy, sunny, family home.  Master bedroom high...\n",
       "1    Charming and quiet room in a second floor 1910...\n",
       "2    Come stay with a friendly, middle-aged guy in ...\n",
       "3    Come experience the comforts of home away from...\n",
       "4    My comfy, clean and relaxing home is one block...\n",
       "Name: description, dtype: object"
      ]
     },
     "execution_count": 26,
     "metadata": {},
     "output_type": "execute_result"
    }
   ],
   "source": [
    "df_listings['description'].head()"
   ]
  },
  {
   "cell_type": "code",
   "execution_count": 8,
   "metadata": {},
   "outputs": [
    {
     "data": {
      "text/plain": [
       "\"Cozy, sunny, family home.  Master bedroom high ceilings. Deck, garden with hens, beehives & play structure.   Short walk to charming village with  attractive stores, groceries & local restaurants. Friendly neighborhood. Access public transportation. The house has an open and cozy feel at the same time.  The living room has a flat screen TV.  The kitchen has all you need for cooking.  We prefer you buy your food but can use the organic oils, herbs, etc.   The yard can be seen from sitting room and when the weather allows, the yard is a place children can lose themselves in a safe way.  We have 2 bee hives, 6 hens fenced in (sometimes they get out of their coop area & into the yard), 2 rabbits in a hutch and play structure. You will have access to 2 bedrooms, a living room, kitchen, bathrooms, and yard. Roslindale is quiet, convenient and friendly.  For Southern food try Redd's in Rozzie.  Italian Delfino's or Sophia's Grotto are great. Birch St Bistro has nice atmostphere--a little pric\""
      ]
     },
     "execution_count": 8,
     "metadata": {},
     "output_type": "execute_result"
    }
   ],
   "source": [
    "df_listings['description'][0]"
   ]
  },
  {
   "cell_type": "code",
   "execution_count": 28,
   "metadata": {},
   "outputs": [
    {
     "data": {
      "text/plain": [
       "none    3585\n",
       "Name: experiences_offered, dtype: int64"
      ]
     },
     "execution_count": 28,
     "metadata": {},
     "output_type": "execute_result"
    }
   ],
   "source": [
    "df_listings['experiences_offered'].value_counts() #use less"
   ]
  },
  {
   "cell_type": "code",
   "execution_count": 30,
   "metadata": {},
   "outputs": [
    {
     "data": {
      "text/plain": [
       "0    Roslindale is quiet, convenient and friendly. ...\n",
       "1    The room is in Roslindale, a diverse and prima...\n",
       "2    The LOCATION: Roslindale is a safe and diverse...\n",
       "3    Roslindale is a lovely little neighborhood loc...\n",
       "4    I love the proximity to downtown, the neighbor...\n",
       "Name: neighborhood_overview, dtype: object"
      ]
     },
     "execution_count": 30,
     "metadata": {},
     "output_type": "execute_result"
    }
   ],
   "source": [
    "df_listings['neighborhood_overview'].head()"
   ]
  },
  {
   "cell_type": "code",
   "execution_count": 9,
   "metadata": {},
   "outputs": [
    {
     "data": {
      "text/plain": [
       "\"Roslindale is quiet, convenient and friendly.  For Southern food try Redd's in Rozzie.  Italian Delfino's or Sophia's Grotto are great. Birch St Bistro has nice atmostphere--a little pricier.   If you are cooking the Fish Market has fresh fish daily; Tony's makes his own sausages and has Italian foods;  for  a wide variety of delicious cheeses and chocolates go to the Cheese Cellar on Birch St.\""
      ]
     },
     "execution_count": 9,
     "metadata": {},
     "output_type": "execute_result"
    }
   ],
   "source": [
    "df_listings['neighborhood_overview'][0]"
   ]
  },
  {
   "cell_type": "code",
   "execution_count": 10,
   "metadata": {},
   "outputs": [
    {
     "data": {
      "text/plain": [
       "\"If you don't have a US cell phone, you can text me using (SENSITIVE CONTENTS HIDDEN).\""
      ]
     },
     "execution_count": 10,
     "metadata": {},
     "output_type": "execute_result"
    }
   ],
   "source": [
    "df_listings['notes'][1]"
   ]
  },
  {
   "cell_type": "code",
   "execution_count": 36,
   "metadata": {},
   "outputs": [
    {
     "data": {
      "text/plain": [
       "'PUBLIC TRANSPORTATION: From the house, quick public transportation to Forest Hills station (Orange Line and Commuter Rail) is via two nearby MBTA bus lines. The #38 bus stops one-half block away, and takes you past the Faulkner, then to Jamaica Plain and Forest Hills.  The #51 bus stops one block away, and goes a more direct route to Forest Hills. (The bus also goes to Cleveland Circle in Brookline.) Between the two bus lines, there is a bus that stops here every 15 minutes or so on weekdays; but no service on Sunday. ALSO, the apartment is just 1/2 mile walk to the Roslindale Village MBTA commuter rail stop, Needham Line. The train takes you to Ruggles Station at Northeastern Univ., to Back Bay station and to South Station in downtown Boston, in about 15 minutes time.  There are more city busses, running 7 days a week, from this MBTA rail station. You can also pick up ZIP Cars there.  GETTING HERE FROM LOGAN AIRPORT: By public transportation: You take the free shuttle bus at the airpo'"
      ]
     },
     "execution_count": 36,
     "metadata": {},
     "output_type": "execute_result"
    }
   ],
   "source": [
    "df_listings['transit'][2]"
   ]
  },
  {
   "cell_type": "code",
   "execution_count": 37,
   "metadata": {},
   "outputs": [
    {
     "data": {
      "text/plain": [
       "0    You will have access to 2 bedrooms, a living r...\n",
       "1    Apt has one more bedroom (which I use) and lar...\n",
       "2    I am living in the apartment during your stay,...\n",
       "3    The basement has a washer dryer and gym area. ...\n",
       "4    You will have access to the front and side por...\n",
       "Name: access, dtype: object"
      ]
     },
     "execution_count": 37,
     "metadata": {},
     "output_type": "execute_result"
    }
   ],
   "source": [
    "df_listings['access'].head()"
   ]
  },
  {
   "cell_type": "code",
   "execution_count": 11,
   "metadata": {},
   "outputs": [
    {
     "data": {
      "text/plain": [
       "'You will have access to 2 bedrooms, a living room, kitchen, bathrooms, and yard.'"
      ]
     },
     "execution_count": 11,
     "metadata": {},
     "output_type": "execute_result"
    }
   ],
   "source": [
    "df_listings['access'][0]"
   ]
  },
  {
   "cell_type": "code",
   "execution_count": 38,
   "metadata": {},
   "outputs": [
    {
     "data": {
      "text/plain": [
       "0                                                  NaN\n",
       "1    If I am at home, I am likely working in my hom...\n",
       "2    ABOUT ME: I'm a laid-back, friendly, unmarried...\n",
       "3    We do live in the house therefore might be som...\n",
       "4    I love my city and really enjoy sharing it wit...\n",
       "Name: interaction, dtype: object"
      ]
     },
     "execution_count": 38,
     "metadata": {},
     "output_type": "execute_result"
    }
   ],
   "source": [
    "df_listings['interaction'].head()"
   ]
  },
  {
   "cell_type": "code",
   "execution_count": 13,
   "metadata": {},
   "outputs": [
    {
     "data": {
      "text/plain": [
       "'If I am at home, I am likely working in my home office, which is a separate room. I can help you settle in and give you tips and directions on the neighborhood and Boston. '"
      ]
     },
     "execution_count": 13,
     "metadata": {},
     "output_type": "execute_result"
    }
   ],
   "source": [
    "df_listings['interaction'][1]"
   ]
  },
  {
   "cell_type": "code",
   "execution_count": 40,
   "metadata": {},
   "outputs": [
    {
     "data": {
      "text/plain": [
       "0    Clean up and treat the home the way you'd like...\n",
       "1    Pet friendly but please confirm with me if the...\n",
       "2    I encourage you to use my kitchen, cooking and...\n",
       "3    - The bathroom and house are shared so please ...\n",
       "4    Please no smoking in the house, porch or on th...\n",
       "Name: house_rules, dtype: object"
      ]
     },
     "execution_count": 40,
     "metadata": {},
     "output_type": "execute_result"
    }
   ],
   "source": [
    "df_listings['house_rules'].head()"
   ]
  },
  {
   "cell_type": "code",
   "execution_count": 41,
   "metadata": {},
   "outputs": [
    {
     "data": {
      "text/plain": [
       "'- The bathroom and house are shared so please respect the privacy of others living in the home.  The sunroom and the patio in the yard are available for you to use.  There is a Keurig in the Kitchen is free for you to use.  There is a washer and dryer in the basement which you can use.  The formal living or dining areas are available for light use only.  You may only take water into these areas.  Please do not take food into any part of the house other than the kitchen, sunroom or back patio.  Additional guests to the ones already committed to staying on the premises is not permitted.'"
      ]
     },
     "execution_count": 41,
     "metadata": {},
     "output_type": "execute_result"
    }
   ],
   "source": [
    "df_listings['house_rules'][3]"
   ]
  },
  {
   "cell_type": "code",
   "execution_count": 42,
   "metadata": {},
   "outputs": [
    {
     "data": {
      "text/plain": [
       "0    https://a2.muscache.com/im/pictures/c0842db1-e...\n",
       "1    https://a1.muscache.com/im/pictures/39327812/d...\n",
       "2    https://a2.muscache.com/im/pictures/6ae8335d-9...\n",
       "3    https://a2.muscache.com/im/pictures/39764190-1...\n",
       "4    https://a1.muscache.com/im/pictures/97154760/8...\n",
       "Name: thumbnail_url, dtype: object"
      ]
     },
     "execution_count": 42,
     "metadata": {},
     "output_type": "execute_result"
    }
   ],
   "source": [
    "df_listings['thumbnail_url'].head() # not userful"
   ]
  },
  {
   "cell_type": "code",
   "execution_count": 43,
   "metadata": {},
   "outputs": [
    {
     "data": {
      "text/plain": [
       "0    https://a2.muscache.com/im/pictures/c0842db1-e...\n",
       "1    https://a1.muscache.com/im/pictures/39327812/d...\n",
       "2    https://a2.muscache.com/im/pictures/6ae8335d-9...\n",
       "3    https://a2.muscache.com/im/pictures/39764190-1...\n",
       "4    https://a1.muscache.com/im/pictures/97154760/8...\n",
       "Name: medium_url, dtype: object"
      ]
     },
     "execution_count": 43,
     "metadata": {},
     "output_type": "execute_result"
    }
   ],
   "source": [
    "df_listings['medium_url'].head()"
   ]
  },
  {
   "cell_type": "code",
   "execution_count": 44,
   "metadata": {},
   "outputs": [
    {
     "data": {
      "text/plain": [
       "0    https://a2.muscache.com/im/pictures/c0842db1-e...\n",
       "1    https://a1.muscache.com/im/pictures/39327812/d...\n",
       "2    https://a2.muscache.com/im/pictures/6ae8335d-9...\n",
       "3    https://a2.muscache.com/im/pictures/39764190-1...\n",
       "4    https://a1.muscache.com/im/pictures/97154760/8...\n",
       "Name: picture_url, dtype: object"
      ]
     },
     "execution_count": 44,
     "metadata": {},
     "output_type": "execute_result"
    }
   ],
   "source": [
    "df_listings['picture_url'].head() # can not open not useful"
   ]
  },
  {
   "cell_type": "code",
   "execution_count": 45,
   "metadata": {},
   "outputs": [
    {
     "data": {
      "text/plain": [
       "0    https://a2.muscache.com/im/pictures/c0842db1-e...\n",
       "1    https://a1.muscache.com/im/pictures/39327812/d...\n",
       "2    https://a2.muscache.com/im/pictures/6ae8335d-9...\n",
       "3    https://a2.muscache.com/im/pictures/39764190-1...\n",
       "4    https://a1.muscache.com/im/pictures/97154760/8...\n",
       "Name: xl_picture_url, dtype: object"
      ]
     },
     "execution_count": 45,
     "metadata": {},
     "output_type": "execute_result"
    }
   ],
   "source": [
    "df_listings['xl_picture_url'].head()"
   ]
  },
  {
   "cell_type": "code",
   "execution_count": 46,
   "metadata": {},
   "outputs": [],
   "source": [
    "host_info=['host_id',\n",
    " 'host_url',\n",
    " 'host_name',\n",
    " 'host_since',\n",
    " 'host_location',\n",
    " 'host_about',\n",
    " 'host_response_time',\n",
    " 'host_response_rate',\n",
    " 'host_acceptance_rate',\n",
    " 'host_is_superhost',\n",
    " 'host_thumbnail_url',\n",
    " 'host_picture_url',\n",
    " 'host_neighbourhood',\n",
    " 'host_listings_count',\n",
    " 'host_total_listings_count',\n",
    " 'host_verifications',\n",
    " 'host_has_profile_pic',\n",
    " 'host_identity_verified']"
   ]
  },
  {
   "cell_type": "code",
   "execution_count": 48,
   "metadata": {},
   "outputs": [
    {
     "data": {
      "text/html": [
       "<div>\n",
       "<style scoped>\n",
       "    .dataframe tbody tr th:only-of-type {\n",
       "        vertical-align: middle;\n",
       "    }\n",
       "\n",
       "    .dataframe tbody tr th {\n",
       "        vertical-align: top;\n",
       "    }\n",
       "\n",
       "    .dataframe thead th {\n",
       "        text-align: right;\n",
       "    }\n",
       "</style>\n",
       "<table border=\"1\" class=\"dataframe\">\n",
       "  <thead>\n",
       "    <tr style=\"text-align: right;\">\n",
       "      <th></th>\n",
       "      <th>host_id</th>\n",
       "      <th>host_url</th>\n",
       "      <th>host_name</th>\n",
       "      <th>host_since</th>\n",
       "      <th>host_location</th>\n",
       "      <th>host_about</th>\n",
       "      <th>host_response_time</th>\n",
       "      <th>host_response_rate</th>\n",
       "      <th>host_acceptance_rate</th>\n",
       "      <th>host_is_superhost</th>\n",
       "      <th>host_thumbnail_url</th>\n",
       "      <th>host_picture_url</th>\n",
       "      <th>host_neighbourhood</th>\n",
       "      <th>host_listings_count</th>\n",
       "      <th>host_total_listings_count</th>\n",
       "      <th>host_verifications</th>\n",
       "      <th>host_has_profile_pic</th>\n",
       "      <th>host_identity_verified</th>\n",
       "    </tr>\n",
       "  </thead>\n",
       "  <tbody>\n",
       "    <tr>\n",
       "      <th>0</th>\n",
       "      <td>31303940</td>\n",
       "      <td>https://www.airbnb.com/users/show/31303940</td>\n",
       "      <td>Virginia</td>\n",
       "      <td>2015-04-15</td>\n",
       "      <td>Boston, Massachusetts, United States</td>\n",
       "      <td>We are country and city connecting in our deck...</td>\n",
       "      <td>NaN</td>\n",
       "      <td>NaN</td>\n",
       "      <td>NaN</td>\n",
       "      <td>f</td>\n",
       "      <td>https://a2.muscache.com/im/pictures/5936fef0-b...</td>\n",
       "      <td>https://a2.muscache.com/im/pictures/5936fef0-b...</td>\n",
       "      <td>Roslindale</td>\n",
       "      <td>1</td>\n",
       "      <td>1</td>\n",
       "      <td>['email', 'phone', 'facebook', 'reviews']</td>\n",
       "      <td>t</td>\n",
       "      <td>f</td>\n",
       "    </tr>\n",
       "    <tr>\n",
       "      <th>1</th>\n",
       "      <td>2572247</td>\n",
       "      <td>https://www.airbnb.com/users/show/2572247</td>\n",
       "      <td>Andrea</td>\n",
       "      <td>2012-06-07</td>\n",
       "      <td>Boston, Massachusetts, United States</td>\n",
       "      <td>I live in Boston and I like to travel and have...</td>\n",
       "      <td>within an hour</td>\n",
       "      <td>100%</td>\n",
       "      <td>100%</td>\n",
       "      <td>f</td>\n",
       "      <td>https://a2.muscache.com/im/users/2572247/profi...</td>\n",
       "      <td>https://a2.muscache.com/im/users/2572247/profi...</td>\n",
       "      <td>Roslindale</td>\n",
       "      <td>1</td>\n",
       "      <td>1</td>\n",
       "      <td>['email', 'phone', 'facebook', 'linkedin', 'am...</td>\n",
       "      <td>t</td>\n",
       "      <td>t</td>\n",
       "    </tr>\n",
       "    <tr>\n",
       "      <th>2</th>\n",
       "      <td>16701</td>\n",
       "      <td>https://www.airbnb.com/users/show/16701</td>\n",
       "      <td>Phil</td>\n",
       "      <td>2009-05-11</td>\n",
       "      <td>Boston, Massachusetts, United States</td>\n",
       "      <td>I am a middle-aged, single male with a wide ra...</td>\n",
       "      <td>within a few hours</td>\n",
       "      <td>100%</td>\n",
       "      <td>88%</td>\n",
       "      <td>t</td>\n",
       "      <td>https://a2.muscache.com/im/users/16701/profile...</td>\n",
       "      <td>https://a2.muscache.com/im/users/16701/profile...</td>\n",
       "      <td>Roslindale</td>\n",
       "      <td>1</td>\n",
       "      <td>1</td>\n",
       "      <td>['email', 'phone', 'reviews', 'jumio']</td>\n",
       "      <td>t</td>\n",
       "      <td>t</td>\n",
       "    </tr>\n",
       "    <tr>\n",
       "      <th>3</th>\n",
       "      <td>6031442</td>\n",
       "      <td>https://www.airbnb.com/users/show/6031442</td>\n",
       "      <td>Meghna</td>\n",
       "      <td>2013-04-21</td>\n",
       "      <td>Boston, Massachusetts, United States</td>\n",
       "      <td>My husband and I live on the property.  He’s a...</td>\n",
       "      <td>within a few hours</td>\n",
       "      <td>100%</td>\n",
       "      <td>50%</td>\n",
       "      <td>f</td>\n",
       "      <td>https://a2.muscache.com/im/pictures/5d430cde-7...</td>\n",
       "      <td>https://a2.muscache.com/im/pictures/5d430cde-7...</td>\n",
       "      <td>NaN</td>\n",
       "      <td>1</td>\n",
       "      <td>1</td>\n",
       "      <td>['email', 'phone', 'reviews']</td>\n",
       "      <td>t</td>\n",
       "      <td>f</td>\n",
       "    </tr>\n",
       "    <tr>\n",
       "      <th>4</th>\n",
       "      <td>15396970</td>\n",
       "      <td>https://www.airbnb.com/users/show/15396970</td>\n",
       "      <td>Linda</td>\n",
       "      <td>2014-05-11</td>\n",
       "      <td>Boston, Massachusetts, United States</td>\n",
       "      <td>I work full time for a public school district....</td>\n",
       "      <td>within an hour</td>\n",
       "      <td>100%</td>\n",
       "      <td>100%</td>\n",
       "      <td>t</td>\n",
       "      <td>https://a0.muscache.com/im/users/15396970/prof...</td>\n",
       "      <td>https://a0.muscache.com/im/users/15396970/prof...</td>\n",
       "      <td>Roslindale</td>\n",
       "      <td>1</td>\n",
       "      <td>1</td>\n",
       "      <td>['email', 'phone', 'reviews', 'kba']</td>\n",
       "      <td>t</td>\n",
       "      <td>t</td>\n",
       "    </tr>\n",
       "    <tr>\n",
       "      <th>5</th>\n",
       "      <td>64200298</td>\n",
       "      <td>https://www.airbnb.com/users/show/64200298</td>\n",
       "      <td>Deborah</td>\n",
       "      <td>2016-03-23</td>\n",
       "      <td>Boston, Massachusetts, United States</td>\n",
       "      <td>NaN</td>\n",
       "      <td>within a few hours</td>\n",
       "      <td>100%</td>\n",
       "      <td>95%</td>\n",
       "      <td>t</td>\n",
       "      <td>https://a2.muscache.com/im/pictures/ab20c2a0-8...</td>\n",
       "      <td>https://a2.muscache.com/im/pictures/ab20c2a0-8...</td>\n",
       "      <td>Roslindale</td>\n",
       "      <td>2</td>\n",
       "      <td>2</td>\n",
       "      <td>['email', 'phone', 'reviews', 'kba']</td>\n",
       "      <td>t</td>\n",
       "      <td>t</td>\n",
       "    </tr>\n",
       "    <tr>\n",
       "      <th>6</th>\n",
       "      <td>6570877</td>\n",
       "      <td>https://www.airbnb.com/users/show/6570877</td>\n",
       "      <td>Juliet</td>\n",
       "      <td>2013-05-25</td>\n",
       "      <td>Milton, Massachusetts, United States</td>\n",
       "      <td>American, Retired Banker. I travel a lot and a...</td>\n",
       "      <td>within an hour</td>\n",
       "      <td>98%</td>\n",
       "      <td>96%</td>\n",
       "      <td>f</td>\n",
       "      <td>https://a2.muscache.com/im/users/6570877/profi...</td>\n",
       "      <td>https://a2.muscache.com/im/users/6570877/profi...</td>\n",
       "      <td>Roslindale</td>\n",
       "      <td>5</td>\n",
       "      <td>5</td>\n",
       "      <td>['email', 'phone', 'reviews', 'jumio', 'kba']</td>\n",
       "      <td>t</td>\n",
       "      <td>t</td>\n",
       "    </tr>\n",
       "    <tr>\n",
       "      <th>7</th>\n",
       "      <td>3164508</td>\n",
       "      <td>https://www.airbnb.com/users/show/3164508</td>\n",
       "      <td>Marilyn</td>\n",
       "      <td>2012-08-05</td>\n",
       "      <td>Boston, Massachusetts, United States</td>\n",
       "      <td>My husband, Alan, and I are empty nesters and ...</td>\n",
       "      <td>within a few hours</td>\n",
       "      <td>100%</td>\n",
       "      <td>100%</td>\n",
       "      <td>t</td>\n",
       "      <td>https://a2.muscache.com/im/users/3164508/profi...</td>\n",
       "      <td>https://a2.muscache.com/im/users/3164508/profi...</td>\n",
       "      <td>Roslindale</td>\n",
       "      <td>2</td>\n",
       "      <td>2</td>\n",
       "      <td>['email', 'phone', 'facebook', 'reviews', 'kba']</td>\n",
       "      <td>t</td>\n",
       "      <td>t</td>\n",
       "    </tr>\n",
       "    <tr>\n",
       "      <th>8</th>\n",
       "      <td>3962517</td>\n",
       "      <td>https://www.airbnb.com/users/show/3962517</td>\n",
       "      <td>Sami</td>\n",
       "      <td>2012-10-24</td>\n",
       "      <td>Boston, Massachusetts, United States</td>\n",
       "      <td>An avid lover of street art!</td>\n",
       "      <td>within an hour</td>\n",
       "      <td>100%</td>\n",
       "      <td>100%</td>\n",
       "      <td>t</td>\n",
       "      <td>https://a2.muscache.com/im/pictures/28ded429-6...</td>\n",
       "      <td>https://a2.muscache.com/im/pictures/28ded429-6...</td>\n",
       "      <td>Roslindale</td>\n",
       "      <td>1</td>\n",
       "      <td>1</td>\n",
       "      <td>['email', 'phone', 'facebook', 'reviews', 'kba']</td>\n",
       "      <td>t</td>\n",
       "      <td>t</td>\n",
       "    </tr>\n",
       "    <tr>\n",
       "      <th>9</th>\n",
       "      <td>4434391</td>\n",
       "      <td>https://www.airbnb.com/users/show/4434391</td>\n",
       "      <td>Damon</td>\n",
       "      <td>2012-12-18</td>\n",
       "      <td>Boston, Massachusetts, United States</td>\n",
       "      <td>Hi, I am a thirty something, happy-go-lucky ki...</td>\n",
       "      <td>within an hour</td>\n",
       "      <td>100%</td>\n",
       "      <td>100%</td>\n",
       "      <td>t</td>\n",
       "      <td>https://a2.muscache.com/im/users/4434391/profi...</td>\n",
       "      <td>https://a2.muscache.com/im/users/4434391/profi...</td>\n",
       "      <td>Roslindale</td>\n",
       "      <td>2</td>\n",
       "      <td>2</td>\n",
       "      <td>['email', 'phone', 'facebook', 'reviews', 'kba']</td>\n",
       "      <td>t</td>\n",
       "      <td>t</td>\n",
       "    </tr>\n",
       "    <tr>\n",
       "      <th>10</th>\n",
       "      <td>64331842</td>\n",
       "      <td>https://www.airbnb.com/users/show/64331842</td>\n",
       "      <td>Ricardo</td>\n",
       "      <td>2016-03-24</td>\n",
       "      <td>Boston, Massachusetts, United States</td>\n",
       "      <td>NaN</td>\n",
       "      <td>within a day</td>\n",
       "      <td>83%</td>\n",
       "      <td>100%</td>\n",
       "      <td>f</td>\n",
       "      <td>https://a2.muscache.com/im/pictures/00a17c83-1...</td>\n",
       "      <td>https://a2.muscache.com/im/pictures/00a17c83-1...</td>\n",
       "      <td>Roslindale</td>\n",
       "      <td>1</td>\n",
       "      <td>1</td>\n",
       "      <td>['email', 'phone', 'reviews']</td>\n",
       "      <td>t</td>\n",
       "      <td>f</td>\n",
       "    </tr>\n",
       "    <tr>\n",
       "      <th>11</th>\n",
       "      <td>8834105</td>\n",
       "      <td>https://www.airbnb.com/users/show/8834105</td>\n",
       "      <td>Rebecca</td>\n",
       "      <td>2013-09-14</td>\n",
       "      <td>Roslindale (part of Boston), MA</td>\n",
       "      <td>Bon Jour, Bom Dia, Good Day,\\r\\n\\r\\nI'm a mid-...</td>\n",
       "      <td>within an hour</td>\n",
       "      <td>100%</td>\n",
       "      <td>89%</td>\n",
       "      <td>t</td>\n",
       "      <td>https://a2.muscache.com/im/users/8834105/profi...</td>\n",
       "      <td>https://a2.muscache.com/im/users/8834105/profi...</td>\n",
       "      <td>Roslindale</td>\n",
       "      <td>2</td>\n",
       "      <td>2</td>\n",
       "      <td>['email', 'phone', 'reviews', 'kba']</td>\n",
       "      <td>t</td>\n",
       "      <td>t</td>\n",
       "    </tr>\n",
       "    <tr>\n",
       "      <th>12</th>\n",
       "      <td>13743098</td>\n",
       "      <td>https://www.airbnb.com/users/show/13743098</td>\n",
       "      <td>Megan</td>\n",
       "      <td>2014-03-31</td>\n",
       "      <td>Boston, Massachusetts, United States</td>\n",
       "      <td>I am a working professional in biotech. I typi...</td>\n",
       "      <td>within a few hours</td>\n",
       "      <td>100%</td>\n",
       "      <td>100%</td>\n",
       "      <td>f</td>\n",
       "      <td>https://a2.muscache.com/im/pictures/30071847-b...</td>\n",
       "      <td>https://a2.muscache.com/im/pictures/30071847-b...</td>\n",
       "      <td>Roslindale</td>\n",
       "      <td>2</td>\n",
       "      <td>2</td>\n",
       "      <td>['email', 'phone', 'reviews']</td>\n",
       "      <td>t</td>\n",
       "      <td>f</td>\n",
       "    </tr>\n",
       "    <tr>\n",
       "      <th>13</th>\n",
       "      <td>57402911</td>\n",
       "      <td>https://www.airbnb.com/users/show/57402911</td>\n",
       "      <td>Georgia</td>\n",
       "      <td>2016-02-04</td>\n",
       "      <td>Boston, Massachusetts, United States</td>\n",
       "      <td>A life-long Bostonian.</td>\n",
       "      <td>within an hour</td>\n",
       "      <td>100%</td>\n",
       "      <td>97%</td>\n",
       "      <td>f</td>\n",
       "      <td>https://a2.muscache.com/im/pictures/dad297dc-5...</td>\n",
       "      <td>https://a2.muscache.com/im/pictures/dad297dc-5...</td>\n",
       "      <td>Roslindale</td>\n",
       "      <td>1</td>\n",
       "      <td>1</td>\n",
       "      <td>['email', 'phone', 'reviews', 'kba']</td>\n",
       "      <td>t</td>\n",
       "      <td>t</td>\n",
       "    </tr>\n",
       "    <tr>\n",
       "      <th>14</th>\n",
       "      <td>9658771</td>\n",
       "      <td>https://www.airbnb.com/users/show/9658771</td>\n",
       "      <td>Anthony</td>\n",
       "      <td>2013-10-27</td>\n",
       "      <td>Boston, Massachusetts, United States</td>\n",
       "      <td>As a Program Director for Viking River Cruises...</td>\n",
       "      <td>within a day</td>\n",
       "      <td>75%</td>\n",
       "      <td>100%</td>\n",
       "      <td>f</td>\n",
       "      <td>https://a1.muscache.com/im/users/9658771/profi...</td>\n",
       "      <td>https://a1.muscache.com/im/users/9658771/profi...</td>\n",
       "      <td>Roslindale</td>\n",
       "      <td>1</td>\n",
       "      <td>1</td>\n",
       "      <td>['email', 'phone', 'reviews', 'kba']</td>\n",
       "      <td>t</td>\n",
       "      <td>t</td>\n",
       "    </tr>\n",
       "    <tr>\n",
       "      <th>15</th>\n",
       "      <td>1176995</td>\n",
       "      <td>https://www.airbnb.com/users/show/1176995</td>\n",
       "      <td>Duane</td>\n",
       "      <td>2011-09-18</td>\n",
       "      <td>Boston, Massachusetts, United States</td>\n",
       "      <td>I am a self-employed professional. I work as a...</td>\n",
       "      <td>within an hour</td>\n",
       "      <td>100%</td>\n",
       "      <td>79%</td>\n",
       "      <td>f</td>\n",
       "      <td>https://a1.muscache.com/im/users/1176995/profi...</td>\n",
       "      <td>https://a1.muscache.com/im/users/1176995/profi...</td>\n",
       "      <td>Roslindale</td>\n",
       "      <td>2</td>\n",
       "      <td>2</td>\n",
       "      <td>['email', 'phone', 'facebook', 'reviews']</td>\n",
       "      <td>t</td>\n",
       "      <td>f</td>\n",
       "    </tr>\n",
       "    <tr>\n",
       "      <th>16</th>\n",
       "      <td>431385</td>\n",
       "      <td>https://www.airbnb.com/users/show/431385</td>\n",
       "      <td>Cynthia</td>\n",
       "      <td>2011-03-09</td>\n",
       "      <td>Boston, Massachusetts, United States</td>\n",
       "      <td>My husband, John is an artist and retired adve...</td>\n",
       "      <td>within a few hours</td>\n",
       "      <td>100%</td>\n",
       "      <td>100%</td>\n",
       "      <td>f</td>\n",
       "      <td>https://a0.muscache.com/im/users/431385/profil...</td>\n",
       "      <td>https://a0.muscache.com/im/users/431385/profil...</td>\n",
       "      <td>Roslindale</td>\n",
       "      <td>1</td>\n",
       "      <td>1</td>\n",
       "      <td>['email', 'phone', 'reviews']</td>\n",
       "      <td>t</td>\n",
       "      <td>f</td>\n",
       "    </tr>\n",
       "    <tr>\n",
       "      <th>17</th>\n",
       "      <td>13743098</td>\n",
       "      <td>https://www.airbnb.com/users/show/13743098</td>\n",
       "      <td>Megan</td>\n",
       "      <td>2014-03-31</td>\n",
       "      <td>Boston, Massachusetts, United States</td>\n",
       "      <td>I am a working professional in biotech. I typi...</td>\n",
       "      <td>within a few hours</td>\n",
       "      <td>100%</td>\n",
       "      <td>100%</td>\n",
       "      <td>f</td>\n",
       "      <td>https://a2.muscache.com/im/pictures/30071847-b...</td>\n",
       "      <td>https://a2.muscache.com/im/pictures/30071847-b...</td>\n",
       "      <td>Roslindale</td>\n",
       "      <td>2</td>\n",
       "      <td>2</td>\n",
       "      <td>['email', 'phone', 'reviews']</td>\n",
       "      <td>t</td>\n",
       "      <td>f</td>\n",
       "    </tr>\n",
       "    <tr>\n",
       "      <th>18</th>\n",
       "      <td>34552909</td>\n",
       "      <td>https://www.airbnb.com/users/show/34552909</td>\n",
       "      <td>Barrie</td>\n",
       "      <td>2015-05-30</td>\n",
       "      <td>Boston, Massachusetts, United States</td>\n",
       "      <td>NaN</td>\n",
       "      <td>within a day</td>\n",
       "      <td>100%</td>\n",
       "      <td>100%</td>\n",
       "      <td>t</td>\n",
       "      <td>https://a2.muscache.com/im/pictures/a787a340-0...</td>\n",
       "      <td>https://a2.muscache.com/im/pictures/a787a340-0...</td>\n",
       "      <td>Roslindale</td>\n",
       "      <td>3</td>\n",
       "      <td>3</td>\n",
       "      <td>['email', 'phone', 'reviews', 'kba']</td>\n",
       "      <td>t</td>\n",
       "      <td>t</td>\n",
       "    </tr>\n",
       "    <tr>\n",
       "      <th>19</th>\n",
       "      <td>34552909</td>\n",
       "      <td>https://www.airbnb.com/users/show/34552909</td>\n",
       "      <td>Barrie</td>\n",
       "      <td>2015-05-30</td>\n",
       "      <td>Boston, Massachusetts, United States</td>\n",
       "      <td>NaN</td>\n",
       "      <td>within a day</td>\n",
       "      <td>100%</td>\n",
       "      <td>100%</td>\n",
       "      <td>t</td>\n",
       "      <td>https://a2.muscache.com/im/pictures/a787a340-0...</td>\n",
       "      <td>https://a2.muscache.com/im/pictures/a787a340-0...</td>\n",
       "      <td>Roslindale</td>\n",
       "      <td>3</td>\n",
       "      <td>3</td>\n",
       "      <td>['email', 'phone', 'reviews', 'kba']</td>\n",
       "      <td>t</td>\n",
       "      <td>t</td>\n",
       "    </tr>\n",
       "    <tr>\n",
       "      <th>20</th>\n",
       "      <td>13226301</td>\n",
       "      <td>https://www.airbnb.com/users/show/13226301</td>\n",
       "      <td>Mohamed</td>\n",
       "      <td>2014-03-17</td>\n",
       "      <td>Boston, Massachusetts, United States</td>\n",
       "      <td>I am an easy going person and enjoy the compan...</td>\n",
       "      <td>within a few hours</td>\n",
       "      <td>100%</td>\n",
       "      <td>94%</td>\n",
       "      <td>t</td>\n",
       "      <td>https://a0.muscache.com/im/users/13226301/prof...</td>\n",
       "      <td>https://a0.muscache.com/im/users/13226301/prof...</td>\n",
       "      <td>Roslindale</td>\n",
       "      <td>3</td>\n",
       "      <td>3</td>\n",
       "      <td>['email', 'phone', 'reviews', 'kba']</td>\n",
       "      <td>t</td>\n",
       "      <td>t</td>\n",
       "    </tr>\n",
       "    <tr>\n",
       "      <th>21</th>\n",
       "      <td>74531248</td>\n",
       "      <td>https://www.airbnb.com/users/show/74531248</td>\n",
       "      <td>Carl &amp; Judy</td>\n",
       "      <td>2016-05-28</td>\n",
       "      <td>Boston, Massachusetts, United States</td>\n",
       "      <td>Judy and I are newlyweds and empty-nesters.  R...</td>\n",
       "      <td>within an hour</td>\n",
       "      <td>100%</td>\n",
       "      <td>100%</td>\n",
       "      <td>f</td>\n",
       "      <td>https://a2.muscache.com/im/pictures/fcd40df2-1...</td>\n",
       "      <td>https://a2.muscache.com/im/pictures/fcd40df2-1...</td>\n",
       "      <td>Roslindale</td>\n",
       "      <td>1</td>\n",
       "      <td>1</td>\n",
       "      <td>['email', 'phone', 'linkedin', 'reviews', 'kba']</td>\n",
       "      <td>t</td>\n",
       "      <td>t</td>\n",
       "    </tr>\n",
       "    <tr>\n",
       "      <th>22</th>\n",
       "      <td>1176995</td>\n",
       "      <td>https://www.airbnb.com/users/show/1176995</td>\n",
       "      <td>Duane</td>\n",
       "      <td>2011-09-18</td>\n",
       "      <td>Boston, Massachusetts, United States</td>\n",
       "      <td>I am a self-employed professional. I work as a...</td>\n",
       "      <td>within an hour</td>\n",
       "      <td>100%</td>\n",
       "      <td>79%</td>\n",
       "      <td>f</td>\n",
       "      <td>https://a1.muscache.com/im/users/1176995/profi...</td>\n",
       "      <td>https://a1.muscache.com/im/users/1176995/profi...</td>\n",
       "      <td>Roslindale</td>\n",
       "      <td>2</td>\n",
       "      <td>2</td>\n",
       "      <td>['email', 'phone', 'facebook', 'reviews']</td>\n",
       "      <td>t</td>\n",
       "      <td>f</td>\n",
       "    </tr>\n",
       "    <tr>\n",
       "      <th>23</th>\n",
       "      <td>23127285</td>\n",
       "      <td>https://www.airbnb.com/users/show/23127285</td>\n",
       "      <td>Jesús</td>\n",
       "      <td>2014-10-29</td>\n",
       "      <td>Boston, Massachusetts, United States</td>\n",
       "      <td>NaN</td>\n",
       "      <td>within a day</td>\n",
       "      <td>100%</td>\n",
       "      <td>63%</td>\n",
       "      <td>f</td>\n",
       "      <td>https://a2.muscache.com/im/pictures/6b31bd2d-e...</td>\n",
       "      <td>https://a2.muscache.com/im/pictures/6b31bd2d-e...</td>\n",
       "      <td>NaN</td>\n",
       "      <td>1</td>\n",
       "      <td>1</td>\n",
       "      <td>['email', 'phone', 'reviews', 'kba']</td>\n",
       "      <td>t</td>\n",
       "      <td>t</td>\n",
       "    </tr>\n",
       "    <tr>\n",
       "      <th>24</th>\n",
       "      <td>28518068</td>\n",
       "      <td>https://www.airbnb.com/users/show/28518068</td>\n",
       "      <td>Colette</td>\n",
       "      <td>2015-02-28</td>\n",
       "      <td>Boston, Massachusetts, United States</td>\n",
       "      <td>NaN</td>\n",
       "      <td>NaN</td>\n",
       "      <td>NaN</td>\n",
       "      <td>NaN</td>\n",
       "      <td>f</td>\n",
       "      <td>https://a1.muscache.com/im/users/28518068/prof...</td>\n",
       "      <td>https://a1.muscache.com/im/users/28518068/prof...</td>\n",
       "      <td>Roslindale</td>\n",
       "      <td>1</td>\n",
       "      <td>1</td>\n",
       "      <td>['email', 'reviews']</td>\n",
       "      <td>t</td>\n",
       "      <td>f</td>\n",
       "    </tr>\n",
       "    <tr>\n",
       "      <th>25</th>\n",
       "      <td>4762495</td>\n",
       "      <td>https://www.airbnb.com/users/show/4762495</td>\n",
       "      <td>Jennifer</td>\n",
       "      <td>2013-01-19</td>\n",
       "      <td>Boston, Massachusetts, United States</td>\n",
       "      <td>I'm an architect and work out of my home.\\r\\nI...</td>\n",
       "      <td>within an hour</td>\n",
       "      <td>100%</td>\n",
       "      <td>92%</td>\n",
       "      <td>t</td>\n",
       "      <td>https://a1.muscache.com/im/users/4762495/profi...</td>\n",
       "      <td>https://a1.muscache.com/im/users/4762495/profi...</td>\n",
       "      <td>Roslindale</td>\n",
       "      <td>2</td>\n",
       "      <td>2</td>\n",
       "      <td>['email', 'phone', 'reviews', 'kba']</td>\n",
       "      <td>t</td>\n",
       "      <td>t</td>\n",
       "    </tr>\n",
       "    <tr>\n",
       "      <th>26</th>\n",
       "      <td>4653380</td>\n",
       "      <td>https://www.airbnb.com/users/show/4653380</td>\n",
       "      <td>Beth</td>\n",
       "      <td>2013-01-10</td>\n",
       "      <td>Boston Massachusetts, Roslindale Neighborhood</td>\n",
       "      <td>Artist who travels quite a bit. Easy going , q...</td>\n",
       "      <td>within an hour</td>\n",
       "      <td>100%</td>\n",
       "      <td>100%</td>\n",
       "      <td>f</td>\n",
       "      <td>https://a1.muscache.com/im/users/4653380/profi...</td>\n",
       "      <td>https://a1.muscache.com/im/users/4653380/profi...</td>\n",
       "      <td>Roslindale</td>\n",
       "      <td>1</td>\n",
       "      <td>1</td>\n",
       "      <td>['email', 'phone', 'reviews']</td>\n",
       "      <td>t</td>\n",
       "      <td>f</td>\n",
       "    </tr>\n",
       "    <tr>\n",
       "      <th>27</th>\n",
       "      <td>47935411</td>\n",
       "      <td>https://www.airbnb.com/users/show/47935411</td>\n",
       "      <td>Jone</td>\n",
       "      <td>2015-11-01</td>\n",
       "      <td>Boston, Massachusetts, United States</td>\n",
       "      <td>NaN</td>\n",
       "      <td>within a few hours</td>\n",
       "      <td>100%</td>\n",
       "      <td>100%</td>\n",
       "      <td>t</td>\n",
       "      <td>https://a2.muscache.com/im/pictures/5a6d42d3-0...</td>\n",
       "      <td>https://a2.muscache.com/im/pictures/5a6d42d3-0...</td>\n",
       "      <td>Roslindale</td>\n",
       "      <td>1</td>\n",
       "      <td>1</td>\n",
       "      <td>['email', 'phone', 'reviews', 'kba']</td>\n",
       "      <td>t</td>\n",
       "      <td>t</td>\n",
       "    </tr>\n",
       "    <tr>\n",
       "      <th>28</th>\n",
       "      <td>8302344</td>\n",
       "      <td>https://www.airbnb.com/users/show/8302344</td>\n",
       "      <td>Dan</td>\n",
       "      <td>2013-08-21</td>\n",
       "      <td>Boston, Massachusetts, United States</td>\n",
       "      <td>I am very outdoors oriented and love spending ...</td>\n",
       "      <td>within a day</td>\n",
       "      <td>60%</td>\n",
       "      <td>100%</td>\n",
       "      <td>f</td>\n",
       "      <td>https://a0.muscache.com/im/users/8302344/profi...</td>\n",
       "      <td>https://a0.muscache.com/im/users/8302344/profi...</td>\n",
       "      <td>Roslindale</td>\n",
       "      <td>1</td>\n",
       "      <td>1</td>\n",
       "      <td>['email', 'phone', 'reviews', 'jumio']</td>\n",
       "      <td>t</td>\n",
       "      <td>t</td>\n",
       "    </tr>\n",
       "    <tr>\n",
       "      <th>29</th>\n",
       "      <td>8834105</td>\n",
       "      <td>https://www.airbnb.com/users/show/8834105</td>\n",
       "      <td>Rebecca</td>\n",
       "      <td>2013-09-14</td>\n",
       "      <td>Roslindale (part of Boston), MA</td>\n",
       "      <td>Bon Jour, Bom Dia, Good Day,\\r\\n\\r\\nI'm a mid-...</td>\n",
       "      <td>within an hour</td>\n",
       "      <td>100%</td>\n",
       "      <td>89%</td>\n",
       "      <td>t</td>\n",
       "      <td>https://a2.muscache.com/im/users/8834105/profi...</td>\n",
       "      <td>https://a2.muscache.com/im/users/8834105/profi...</td>\n",
       "      <td>Roslindale</td>\n",
       "      <td>2</td>\n",
       "      <td>2</td>\n",
       "      <td>['email', 'phone', 'reviews', 'kba']</td>\n",
       "      <td>t</td>\n",
       "      <td>t</td>\n",
       "    </tr>\n",
       "    <tr>\n",
       "      <th>...</th>\n",
       "      <td>...</td>\n",
       "      <td>...</td>\n",
       "      <td>...</td>\n",
       "      <td>...</td>\n",
       "      <td>...</td>\n",
       "      <td>...</td>\n",
       "      <td>...</td>\n",
       "      <td>...</td>\n",
       "      <td>...</td>\n",
       "      <td>...</td>\n",
       "      <td>...</td>\n",
       "      <td>...</td>\n",
       "      <td>...</td>\n",
       "      <td>...</td>\n",
       "      <td>...</td>\n",
       "      <td>...</td>\n",
       "      <td>...</td>\n",
       "      <td>...</td>\n",
       "    </tr>\n",
       "    <tr>\n",
       "      <th>3555</th>\n",
       "      <td>45902201</td>\n",
       "      <td>https://www.airbnb.com/users/show/45902201</td>\n",
       "      <td>Wencai</td>\n",
       "      <td>2015-10-06</td>\n",
       "      <td>Boston, Massachusetts, United States</td>\n",
       "      <td>Biomedical researcher. With PhD and MD.</td>\n",
       "      <td>within a few hours</td>\n",
       "      <td>100%</td>\n",
       "      <td>100%</td>\n",
       "      <td>f</td>\n",
       "      <td>https://a2.muscache.com/im/users/45902201/prof...</td>\n",
       "      <td>https://a2.muscache.com/im/users/45902201/prof...</td>\n",
       "      <td>Brookline</td>\n",
       "      <td>1</td>\n",
       "      <td>1</td>\n",
       "      <td>['email', 'phone', 'reviews']</td>\n",
       "      <td>t</td>\n",
       "      <td>f</td>\n",
       "    </tr>\n",
       "    <tr>\n",
       "      <th>3556</th>\n",
       "      <td>19246369</td>\n",
       "      <td>https://www.airbnb.com/users/show/19246369</td>\n",
       "      <td>Joe</td>\n",
       "      <td>2014-07-31</td>\n",
       "      <td>Somerville, Massachusetts, United States</td>\n",
       "      <td>NaN</td>\n",
       "      <td>within an hour</td>\n",
       "      <td>96%</td>\n",
       "      <td>100%</td>\n",
       "      <td>f</td>\n",
       "      <td>https://a2.muscache.com/im/users/19246369/prof...</td>\n",
       "      <td>https://a2.muscache.com/im/users/19246369/prof...</td>\n",
       "      <td>Somerville</td>\n",
       "      <td>28</td>\n",
       "      <td>28</td>\n",
       "      <td>['email', 'phone', 'reviews', 'jumio']</td>\n",
       "      <td>t</td>\n",
       "      <td>t</td>\n",
       "    </tr>\n",
       "    <tr>\n",
       "      <th>3557</th>\n",
       "      <td>90615440</td>\n",
       "      <td>https://www.airbnb.com/users/show/90615440</td>\n",
       "      <td>Maureen</td>\n",
       "      <td>2016-08-18</td>\n",
       "      <td>Boston, Massachusetts, United States</td>\n",
       "      <td>Hi there, \\r\\nI am Maureen. I moved to Boston ...</td>\n",
       "      <td>within a day</td>\n",
       "      <td>100%</td>\n",
       "      <td>67%</td>\n",
       "      <td>f</td>\n",
       "      <td>https://a2.muscache.com/im/pictures/01813b0c-7...</td>\n",
       "      <td>https://a2.muscache.com/im/pictures/01813b0c-7...</td>\n",
       "      <td>NaN</td>\n",
       "      <td>1</td>\n",
       "      <td>1</td>\n",
       "      <td>['email', 'phone']</td>\n",
       "      <td>t</td>\n",
       "      <td>f</td>\n",
       "    </tr>\n",
       "    <tr>\n",
       "      <th>3558</th>\n",
       "      <td>13993089</td>\n",
       "      <td>https://www.airbnb.com/users/show/13993089</td>\n",
       "      <td>Nonna</td>\n",
       "      <td>2014-04-07</td>\n",
       "      <td>Newport Beach, California, United States</td>\n",
       "      <td>We live in Newport beach.\\r\\nWe are couple wit...</td>\n",
       "      <td>within a few hours</td>\n",
       "      <td>100%</td>\n",
       "      <td>100%</td>\n",
       "      <td>f</td>\n",
       "      <td>https://a2.muscache.com/im/pictures/8d788688-2...</td>\n",
       "      <td>https://a2.muscache.com/im/pictures/8d788688-2...</td>\n",
       "      <td>NaN</td>\n",
       "      <td>2</td>\n",
       "      <td>2</td>\n",
       "      <td>['email', 'phone', 'reviews', 'kba']</td>\n",
       "      <td>t</td>\n",
       "      <td>t</td>\n",
       "    </tr>\n",
       "    <tr>\n",
       "      <th>3559</th>\n",
       "      <td>28364516</td>\n",
       "      <td>https://www.airbnb.com/users/show/28364516</td>\n",
       "      <td>Ryan</td>\n",
       "      <td>2015-02-25</td>\n",
       "      <td>Boston, Massachusetts, United States</td>\n",
       "      <td>NaN</td>\n",
       "      <td>within a few hours</td>\n",
       "      <td>100%</td>\n",
       "      <td>60%</td>\n",
       "      <td>f</td>\n",
       "      <td>https://a2.muscache.com/im/users/28364516/prof...</td>\n",
       "      <td>https://a2.muscache.com/im/users/28364516/prof...</td>\n",
       "      <td>NaN</td>\n",
       "      <td>1</td>\n",
       "      <td>1</td>\n",
       "      <td>['email', 'phone', 'facebook', 'linkedin', 're...</td>\n",
       "      <td>t</td>\n",
       "      <td>t</td>\n",
       "    </tr>\n",
       "    <tr>\n",
       "      <th>3560</th>\n",
       "      <td>19246369</td>\n",
       "      <td>https://www.airbnb.com/users/show/19246369</td>\n",
       "      <td>Joe</td>\n",
       "      <td>2014-07-31</td>\n",
       "      <td>Somerville, Massachusetts, United States</td>\n",
       "      <td>NaN</td>\n",
       "      <td>within an hour</td>\n",
       "      <td>96%</td>\n",
       "      <td>100%</td>\n",
       "      <td>f</td>\n",
       "      <td>https://a2.muscache.com/im/users/19246369/prof...</td>\n",
       "      <td>https://a2.muscache.com/im/users/19246369/prof...</td>\n",
       "      <td>Somerville</td>\n",
       "      <td>28</td>\n",
       "      <td>28</td>\n",
       "      <td>['email', 'phone', 'reviews', 'jumio']</td>\n",
       "      <td>t</td>\n",
       "      <td>t</td>\n",
       "    </tr>\n",
       "    <tr>\n",
       "      <th>3561</th>\n",
       "      <td>92650841</td>\n",
       "      <td>https://www.airbnb.com/users/show/92650841</td>\n",
       "      <td>Chloe</td>\n",
       "      <td>2016-08-30</td>\n",
       "      <td>US</td>\n",
       "      <td>NaN</td>\n",
       "      <td>NaN</td>\n",
       "      <td>NaN</td>\n",
       "      <td>NaN</td>\n",
       "      <td>f</td>\n",
       "      <td>https://a2.muscache.com/im/pictures/4e879db2-1...</td>\n",
       "      <td>https://a2.muscache.com/im/pictures/4e879db2-1...</td>\n",
       "      <td>NaN</td>\n",
       "      <td>1</td>\n",
       "      <td>1</td>\n",
       "      <td>['email', 'phone']</td>\n",
       "      <td>t</td>\n",
       "      <td>f</td>\n",
       "    </tr>\n",
       "    <tr>\n",
       "      <th>3562</th>\n",
       "      <td>36947843</td>\n",
       "      <td>https://www.airbnb.com/users/show/36947843</td>\n",
       "      <td>Rich</td>\n",
       "      <td>2015-06-28</td>\n",
       "      <td>Ashland, Massachusetts, United States</td>\n",
       "      <td>NaN</td>\n",
       "      <td>NaN</td>\n",
       "      <td>NaN</td>\n",
       "      <td>NaN</td>\n",
       "      <td>f</td>\n",
       "      <td>https://a2.muscache.com/im/pictures/02d5a236-2...</td>\n",
       "      <td>https://a2.muscache.com/im/pictures/02d5a236-2...</td>\n",
       "      <td>NaN</td>\n",
       "      <td>1</td>\n",
       "      <td>1</td>\n",
       "      <td>['email', 'phone']</td>\n",
       "      <td>t</td>\n",
       "      <td>f</td>\n",
       "    </tr>\n",
       "    <tr>\n",
       "      <th>3563</th>\n",
       "      <td>60214403</td>\n",
       "      <td>https://www.airbnb.com/users/show/60214403</td>\n",
       "      <td>Melinda</td>\n",
       "      <td>2016-02-24</td>\n",
       "      <td>US</td>\n",
       "      <td>We are listing our second home, located only a...</td>\n",
       "      <td>NaN</td>\n",
       "      <td>NaN</td>\n",
       "      <td>NaN</td>\n",
       "      <td>f</td>\n",
       "      <td>https://a2.muscache.com/im/pictures/9f2bd8ec-3...</td>\n",
       "      <td>https://a2.muscache.com/im/pictures/9f2bd8ec-3...</td>\n",
       "      <td>Somerville</td>\n",
       "      <td>1</td>\n",
       "      <td>1</td>\n",
       "      <td>['email', 'phone']</td>\n",
       "      <td>t</td>\n",
       "      <td>f</td>\n",
       "    </tr>\n",
       "    <tr>\n",
       "      <th>3564</th>\n",
       "      <td>19246369</td>\n",
       "      <td>https://www.airbnb.com/users/show/19246369</td>\n",
       "      <td>Joe</td>\n",
       "      <td>2014-07-31</td>\n",
       "      <td>Somerville, Massachusetts, United States</td>\n",
       "      <td>NaN</td>\n",
       "      <td>within an hour</td>\n",
       "      <td>96%</td>\n",
       "      <td>100%</td>\n",
       "      <td>f</td>\n",
       "      <td>https://a2.muscache.com/im/users/19246369/prof...</td>\n",
       "      <td>https://a2.muscache.com/im/users/19246369/prof...</td>\n",
       "      <td>Somerville</td>\n",
       "      <td>28</td>\n",
       "      <td>28</td>\n",
       "      <td>['email', 'phone', 'reviews', 'jumio']</td>\n",
       "      <td>t</td>\n",
       "      <td>t</td>\n",
       "    </tr>\n",
       "    <tr>\n",
       "      <th>3565</th>\n",
       "      <td>74137888</td>\n",
       "      <td>https://www.airbnb.com/users/show/74137888</td>\n",
       "      <td>Chris</td>\n",
       "      <td>2016-05-26</td>\n",
       "      <td>NaN</td>\n",
       "      <td>NaN</td>\n",
       "      <td>within a few hours</td>\n",
       "      <td>100%</td>\n",
       "      <td>100%</td>\n",
       "      <td>f</td>\n",
       "      <td>https://a2.muscache.com/im/pictures/fbe399f8-8...</td>\n",
       "      <td>https://a2.muscache.com/im/pictures/fbe399f8-8...</td>\n",
       "      <td>NaN</td>\n",
       "      <td>1</td>\n",
       "      <td>1</td>\n",
       "      <td>['phone', 'reviews']</td>\n",
       "      <td>t</td>\n",
       "      <td>f</td>\n",
       "    </tr>\n",
       "    <tr>\n",
       "      <th>3566</th>\n",
       "      <td>33913874</td>\n",
       "      <td>https://www.airbnb.com/users/show/33913874</td>\n",
       "      <td>Mir</td>\n",
       "      <td>2015-05-21</td>\n",
       "      <td>Boston, Massachusetts, United States</td>\n",
       "      <td>NaN</td>\n",
       "      <td>within an hour</td>\n",
       "      <td>100%</td>\n",
       "      <td>100%</td>\n",
       "      <td>f</td>\n",
       "      <td>https://a2.muscache.com/im/pictures/eee27483-6...</td>\n",
       "      <td>https://a2.muscache.com/im/pictures/eee27483-6...</td>\n",
       "      <td>Brookline</td>\n",
       "      <td>2</td>\n",
       "      <td>2</td>\n",
       "      <td>['email', 'phone', 'reviews', 'kba']</td>\n",
       "      <td>t</td>\n",
       "      <td>t</td>\n",
       "    </tr>\n",
       "    <tr>\n",
       "      <th>3567</th>\n",
       "      <td>12243051</td>\n",
       "      <td>https://www.airbnb.com/users/show/12243051</td>\n",
       "      <td>Flatbook</td>\n",
       "      <td>2014-02-14</td>\n",
       "      <td>Montreal, Quebec, Canada</td>\n",
       "      <td>We think a great trip starts with a 5-star hos...</td>\n",
       "      <td>within a few hours</td>\n",
       "      <td>71%</td>\n",
       "      <td>98%</td>\n",
       "      <td>f</td>\n",
       "      <td>https://a2.muscache.com/im/pictures/50576553-3...</td>\n",
       "      <td>https://a2.muscache.com/im/pictures/50576553-3...</td>\n",
       "      <td>Gay Village</td>\n",
       "      <td>363</td>\n",
       "      <td>363</td>\n",
       "      <td>['email', 'phone', 'reviews', 'manual_offline'...</td>\n",
       "      <td>t</td>\n",
       "      <td>t</td>\n",
       "    </tr>\n",
       "    <tr>\n",
       "      <th>3568</th>\n",
       "      <td>19246369</td>\n",
       "      <td>https://www.airbnb.com/users/show/19246369</td>\n",
       "      <td>Joe</td>\n",
       "      <td>2014-07-31</td>\n",
       "      <td>Somerville, Massachusetts, United States</td>\n",
       "      <td>NaN</td>\n",
       "      <td>within an hour</td>\n",
       "      <td>96%</td>\n",
       "      <td>100%</td>\n",
       "      <td>f</td>\n",
       "      <td>https://a2.muscache.com/im/users/19246369/prof...</td>\n",
       "      <td>https://a2.muscache.com/im/users/19246369/prof...</td>\n",
       "      <td>Somerville</td>\n",
       "      <td>28</td>\n",
       "      <td>28</td>\n",
       "      <td>['email', 'phone', 'reviews', 'jumio']</td>\n",
       "      <td>t</td>\n",
       "      <td>t</td>\n",
       "    </tr>\n",
       "    <tr>\n",
       "      <th>3569</th>\n",
       "      <td>21149134</td>\n",
       "      <td>https://www.airbnb.com/users/show/21149134</td>\n",
       "      <td>Johanna</td>\n",
       "      <td>2014-09-09</td>\n",
       "      <td>Boston, Massachusetts, United States</td>\n",
       "      <td>NaN</td>\n",
       "      <td>within an hour</td>\n",
       "      <td>100%</td>\n",
       "      <td>53%</td>\n",
       "      <td>f</td>\n",
       "      <td>https://a0.muscache.com/im/users/21149134/prof...</td>\n",
       "      <td>https://a0.muscache.com/im/users/21149134/prof...</td>\n",
       "      <td>NaN</td>\n",
       "      <td>2</td>\n",
       "      <td>2</td>\n",
       "      <td>['phone', 'reviews']</td>\n",
       "      <td>t</td>\n",
       "      <td>f</td>\n",
       "    </tr>\n",
       "    <tr>\n",
       "      <th>3570</th>\n",
       "      <td>6331373</td>\n",
       "      <td>https://www.airbnb.com/users/show/6331373</td>\n",
       "      <td>Quinn-May</td>\n",
       "      <td>2013-05-11</td>\n",
       "      <td>Boston, Massachusetts, United States</td>\n",
       "      <td>我喜欢帮助旅游者; I enjoy to help my friends.\\r\\n我的客房离...</td>\n",
       "      <td>within an hour</td>\n",
       "      <td>100%</td>\n",
       "      <td>100%</td>\n",
       "      <td>f</td>\n",
       "      <td>https://a0.muscache.com/im/users/6331373/profi...</td>\n",
       "      <td>https://a0.muscache.com/im/users/6331373/profi...</td>\n",
       "      <td>East Boston</td>\n",
       "      <td>20</td>\n",
       "      <td>20</td>\n",
       "      <td>['email', 'phone', 'manual_online', 'reviews',...</td>\n",
       "      <td>t</td>\n",
       "      <td>t</td>\n",
       "    </tr>\n",
       "    <tr>\n",
       "      <th>3571</th>\n",
       "      <td>90497470</td>\n",
       "      <td>https://www.airbnb.com/users/show/90497470</td>\n",
       "      <td>Sofia And Kim</td>\n",
       "      <td>2016-08-17</td>\n",
       "      <td>Brookline, Massachusetts, United States</td>\n",
       "      <td>Hello, \\r\\nWe are Kim and Sofie. We're roommat...</td>\n",
       "      <td>within an hour</td>\n",
       "      <td>100%</td>\n",
       "      <td>100%</td>\n",
       "      <td>f</td>\n",
       "      <td>https://a2.muscache.com/im/pictures/33734fb2-b...</td>\n",
       "      <td>https://a2.muscache.com/im/pictures/33734fb2-b...</td>\n",
       "      <td>Brookline</td>\n",
       "      <td>1</td>\n",
       "      <td>1</td>\n",
       "      <td>['email', 'phone', 'reviews']</td>\n",
       "      <td>t</td>\n",
       "      <td>f</td>\n",
       "    </tr>\n",
       "    <tr>\n",
       "      <th>3572</th>\n",
       "      <td>12243051</td>\n",
       "      <td>https://www.airbnb.com/users/show/12243051</td>\n",
       "      <td>Flatbook</td>\n",
       "      <td>2014-02-14</td>\n",
       "      <td>Montreal, Quebec, Canada</td>\n",
       "      <td>We think a great trip starts with a 5-star hos...</td>\n",
       "      <td>within a few hours</td>\n",
       "      <td>71%</td>\n",
       "      <td>98%</td>\n",
       "      <td>f</td>\n",
       "      <td>https://a2.muscache.com/im/pictures/50576553-3...</td>\n",
       "      <td>https://a2.muscache.com/im/pictures/50576553-3...</td>\n",
       "      <td>Gay Village</td>\n",
       "      <td>363</td>\n",
       "      <td>363</td>\n",
       "      <td>['email', 'phone', 'reviews', 'manual_offline'...</td>\n",
       "      <td>t</td>\n",
       "      <td>t</td>\n",
       "    </tr>\n",
       "    <tr>\n",
       "      <th>3573</th>\n",
       "      <td>42070843</td>\n",
       "      <td>https://www.airbnb.com/users/show/42070843</td>\n",
       "      <td>Rachel</td>\n",
       "      <td>2015-08-20</td>\n",
       "      <td>Somerville, Massachusetts, United States</td>\n",
       "      <td>I just moved to the city. I absolutely love it...</td>\n",
       "      <td>within an hour</td>\n",
       "      <td>100%</td>\n",
       "      <td>95%</td>\n",
       "      <td>f</td>\n",
       "      <td>https://a2.muscache.com/im/pictures/9caa4601-0...</td>\n",
       "      <td>https://a2.muscache.com/im/pictures/9caa4601-0...</td>\n",
       "      <td>Somerville</td>\n",
       "      <td>14</td>\n",
       "      <td>14</td>\n",
       "      <td>['email', 'phone', 'reviews', 'manual_offline'...</td>\n",
       "      <td>t</td>\n",
       "      <td>t</td>\n",
       "    </tr>\n",
       "    <tr>\n",
       "      <th>3574</th>\n",
       "      <td>91855319</td>\n",
       "      <td>https://www.airbnb.com/users/show/91855319</td>\n",
       "      <td>公主</td>\n",
       "      <td>2016-08-25</td>\n",
       "      <td>US</td>\n",
       "      <td>NaN</td>\n",
       "      <td>within an hour</td>\n",
       "      <td>100%</td>\n",
       "      <td>100%</td>\n",
       "      <td>f</td>\n",
       "      <td>https://a2.muscache.com/im/pictures/f3c41005-c...</td>\n",
       "      <td>https://a2.muscache.com/im/pictures/f3c41005-c...</td>\n",
       "      <td>Chestnut Hill</td>\n",
       "      <td>2</td>\n",
       "      <td>2</td>\n",
       "      <td>['email', 'phone', 'reviews']</td>\n",
       "      <td>t</td>\n",
       "      <td>f</td>\n",
       "    </tr>\n",
       "    <tr>\n",
       "      <th>3575</th>\n",
       "      <td>19246369</td>\n",
       "      <td>https://www.airbnb.com/users/show/19246369</td>\n",
       "      <td>Joe</td>\n",
       "      <td>2014-07-31</td>\n",
       "      <td>Somerville, Massachusetts, United States</td>\n",
       "      <td>NaN</td>\n",
       "      <td>within an hour</td>\n",
       "      <td>96%</td>\n",
       "      <td>100%</td>\n",
       "      <td>f</td>\n",
       "      <td>https://a2.muscache.com/im/users/19246369/prof...</td>\n",
       "      <td>https://a2.muscache.com/im/users/19246369/prof...</td>\n",
       "      <td>Somerville</td>\n",
       "      <td>28</td>\n",
       "      <td>28</td>\n",
       "      <td>['email', 'phone', 'reviews', 'jumio']</td>\n",
       "      <td>t</td>\n",
       "      <td>t</td>\n",
       "    </tr>\n",
       "    <tr>\n",
       "      <th>3576</th>\n",
       "      <td>50546418</td>\n",
       "      <td>https://www.airbnb.com/users/show/50546418</td>\n",
       "      <td>Thomas</td>\n",
       "      <td>2015-12-04</td>\n",
       "      <td>Somerville, Massachusetts, United States</td>\n",
       "      <td>NaN</td>\n",
       "      <td>within a day</td>\n",
       "      <td>100%</td>\n",
       "      <td>100%</td>\n",
       "      <td>f</td>\n",
       "      <td>https://a2.muscache.com/im/pictures/f44ebd43-8...</td>\n",
       "      <td>https://a2.muscache.com/im/pictures/f44ebd43-8...</td>\n",
       "      <td>Cambridge</td>\n",
       "      <td>1</td>\n",
       "      <td>1</td>\n",
       "      <td>['email', 'phone', 'reviews', 'jumio']</td>\n",
       "      <td>t</td>\n",
       "      <td>t</td>\n",
       "    </tr>\n",
       "    <tr>\n",
       "      <th>3577</th>\n",
       "      <td>33906096</td>\n",
       "      <td>https://www.airbnb.com/users/show/33906096</td>\n",
       "      <td>Gillian</td>\n",
       "      <td>2015-05-21</td>\n",
       "      <td>Brookline, Massachusetts, United States</td>\n",
       "      <td>I am a professional woman, married to a wonder...</td>\n",
       "      <td>NaN</td>\n",
       "      <td>NaN</td>\n",
       "      <td>NaN</td>\n",
       "      <td>f</td>\n",
       "      <td>https://a0.muscache.com/im/users/33906096/prof...</td>\n",
       "      <td>https://a0.muscache.com/im/users/33906096/prof...</td>\n",
       "      <td>Brookline</td>\n",
       "      <td>1</td>\n",
       "      <td>1</td>\n",
       "      <td>['email', 'phone', 'kba']</td>\n",
       "      <td>t</td>\n",
       "      <td>f</td>\n",
       "    </tr>\n",
       "    <tr>\n",
       "      <th>3578</th>\n",
       "      <td>78459716</td>\n",
       "      <td>https://www.airbnb.com/users/show/78459716</td>\n",
       "      <td>Charles</td>\n",
       "      <td>2016-06-18</td>\n",
       "      <td>Boston, Massachusetts, United States</td>\n",
       "      <td>An Accounting Professor, Certified Fraud Exami...</td>\n",
       "      <td>within an hour</td>\n",
       "      <td>100%</td>\n",
       "      <td>100%</td>\n",
       "      <td>f</td>\n",
       "      <td>https://a2.muscache.com/im/pictures/7eff3261-a...</td>\n",
       "      <td>https://a2.muscache.com/im/pictures/7eff3261-a...</td>\n",
       "      <td>NaN</td>\n",
       "      <td>4</td>\n",
       "      <td>4</td>\n",
       "      <td>['email', 'phone', 'reviews']</td>\n",
       "      <td>t</td>\n",
       "      <td>f</td>\n",
       "    </tr>\n",
       "    <tr>\n",
       "      <th>3579</th>\n",
       "      <td>67981314</td>\n",
       "      <td>https://www.airbnb.com/users/show/67981314</td>\n",
       "      <td>Max</td>\n",
       "      <td>2016-04-19</td>\n",
       "      <td>Boston, Massachusetts, United States</td>\n",
       "      <td>NaN</td>\n",
       "      <td>NaN</td>\n",
       "      <td>NaN</td>\n",
       "      <td>NaN</td>\n",
       "      <td>f</td>\n",
       "      <td>https://a2.muscache.com/im/pictures/e17a5223-1...</td>\n",
       "      <td>https://a2.muscache.com/im/pictures/e17a5223-1...</td>\n",
       "      <td>Brookline</td>\n",
       "      <td>1</td>\n",
       "      <td>1</td>\n",
       "      <td>['email', 'phone', 'facebook', 'jumio']</td>\n",
       "      <td>t</td>\n",
       "      <td>t</td>\n",
       "    </tr>\n",
       "    <tr>\n",
       "      <th>3580</th>\n",
       "      <td>19246369</td>\n",
       "      <td>https://www.airbnb.com/users/show/19246369</td>\n",
       "      <td>Joe</td>\n",
       "      <td>2014-07-31</td>\n",
       "      <td>Somerville, Massachusetts, United States</td>\n",
       "      <td>NaN</td>\n",
       "      <td>within an hour</td>\n",
       "      <td>96%</td>\n",
       "      <td>100%</td>\n",
       "      <td>f</td>\n",
       "      <td>https://a2.muscache.com/im/users/19246369/prof...</td>\n",
       "      <td>https://a2.muscache.com/im/users/19246369/prof...</td>\n",
       "      <td>Somerville</td>\n",
       "      <td>28</td>\n",
       "      <td>28</td>\n",
       "      <td>['email', 'phone', 'reviews', 'jumio']</td>\n",
       "      <td>t</td>\n",
       "      <td>t</td>\n",
       "    </tr>\n",
       "    <tr>\n",
       "      <th>3581</th>\n",
       "      <td>37366454</td>\n",
       "      <td>https://www.airbnb.com/users/show/37366454</td>\n",
       "      <td>Ivy</td>\n",
       "      <td>2015-07-02</td>\n",
       "      <td>US</td>\n",
       "      <td>this is Ivy</td>\n",
       "      <td>a few days or more</td>\n",
       "      <td>10%</td>\n",
       "      <td>83%</td>\n",
       "      <td>f</td>\n",
       "      <td>https://a2.muscache.com/im/pictures/685b7a0d-8...</td>\n",
       "      <td>https://a2.muscache.com/im/pictures/685b7a0d-8...</td>\n",
       "      <td>NaN</td>\n",
       "      <td>2</td>\n",
       "      <td>2</td>\n",
       "      <td>['email', 'phone', 'reviews', 'weibo', 'jumio']</td>\n",
       "      <td>t</td>\n",
       "      <td>t</td>\n",
       "    </tr>\n",
       "    <tr>\n",
       "      <th>3582</th>\n",
       "      <td>11311919</td>\n",
       "      <td>https://www.airbnb.com/users/show/11311919</td>\n",
       "      <td>Vera</td>\n",
       "      <td>2014-01-14</td>\n",
       "      <td>New York, New York, United States</td>\n",
       "      <td>NaN</td>\n",
       "      <td>within a day</td>\n",
       "      <td>78%</td>\n",
       "      <td>50%</td>\n",
       "      <td>f</td>\n",
       "      <td>https://a0.muscache.com/im/users/11311919/prof...</td>\n",
       "      <td>https://a0.muscache.com/im/users/11311919/prof...</td>\n",
       "      <td>NaN</td>\n",
       "      <td>1</td>\n",
       "      <td>1</td>\n",
       "      <td>['phone']</td>\n",
       "      <td>t</td>\n",
       "      <td>f</td>\n",
       "    </tr>\n",
       "    <tr>\n",
       "      <th>3583</th>\n",
       "      <td>74318064</td>\n",
       "      <td>https://www.airbnb.com/users/show/74318064</td>\n",
       "      <td>Medi</td>\n",
       "      <td>2016-05-27</td>\n",
       "      <td>Somerville, Massachusetts, United States</td>\n",
       "      <td>Hi, I am very friendly, helpful, positive and ...</td>\n",
       "      <td>within an hour</td>\n",
       "      <td>100%</td>\n",
       "      <td>96%</td>\n",
       "      <td>f</td>\n",
       "      <td>https://a2.muscache.com/im/pictures/312fe94a-c...</td>\n",
       "      <td>https://a2.muscache.com/im/pictures/312fe94a-c...</td>\n",
       "      <td>Somerville</td>\n",
       "      <td>4</td>\n",
       "      <td>4</td>\n",
       "      <td>['email', 'phone', 'google', 'reviews', 'jumio']</td>\n",
       "      <td>t</td>\n",
       "      <td>t</td>\n",
       "    </tr>\n",
       "    <tr>\n",
       "      <th>3584</th>\n",
       "      <td>42070843</td>\n",
       "      <td>https://www.airbnb.com/users/show/42070843</td>\n",
       "      <td>Rachel</td>\n",
       "      <td>2015-08-20</td>\n",
       "      <td>Somerville, Massachusetts, United States</td>\n",
       "      <td>I just moved to the city. I absolutely love it...</td>\n",
       "      <td>within an hour</td>\n",
       "      <td>100%</td>\n",
       "      <td>95%</td>\n",
       "      <td>f</td>\n",
       "      <td>https://a2.muscache.com/im/pictures/9caa4601-0...</td>\n",
       "      <td>https://a2.muscache.com/im/pictures/9caa4601-0...</td>\n",
       "      <td>Somerville</td>\n",
       "      <td>14</td>\n",
       "      <td>14</td>\n",
       "      <td>['email', 'phone', 'reviews', 'manual_offline'...</td>\n",
       "      <td>t</td>\n",
       "      <td>t</td>\n",
       "    </tr>\n",
       "  </tbody>\n",
       "</table>\n",
       "<p>3585 rows × 18 columns</p>\n",
       "</div>"
      ],
      "text/plain": [
       "       host_id                                    host_url      host_name  \\\n",
       "0     31303940  https://www.airbnb.com/users/show/31303940       Virginia   \n",
       "1      2572247   https://www.airbnb.com/users/show/2572247         Andrea   \n",
       "2        16701     https://www.airbnb.com/users/show/16701           Phil   \n",
       "3      6031442   https://www.airbnb.com/users/show/6031442         Meghna   \n",
       "4     15396970  https://www.airbnb.com/users/show/15396970          Linda   \n",
       "5     64200298  https://www.airbnb.com/users/show/64200298        Deborah   \n",
       "6      6570877   https://www.airbnb.com/users/show/6570877         Juliet   \n",
       "7      3164508   https://www.airbnb.com/users/show/3164508        Marilyn   \n",
       "8      3962517   https://www.airbnb.com/users/show/3962517           Sami   \n",
       "9      4434391   https://www.airbnb.com/users/show/4434391          Damon   \n",
       "10    64331842  https://www.airbnb.com/users/show/64331842        Ricardo   \n",
       "11     8834105   https://www.airbnb.com/users/show/8834105        Rebecca   \n",
       "12    13743098  https://www.airbnb.com/users/show/13743098          Megan   \n",
       "13    57402911  https://www.airbnb.com/users/show/57402911        Georgia   \n",
       "14     9658771   https://www.airbnb.com/users/show/9658771        Anthony   \n",
       "15     1176995   https://www.airbnb.com/users/show/1176995          Duane   \n",
       "16      431385    https://www.airbnb.com/users/show/431385        Cynthia   \n",
       "17    13743098  https://www.airbnb.com/users/show/13743098          Megan   \n",
       "18    34552909  https://www.airbnb.com/users/show/34552909         Barrie   \n",
       "19    34552909  https://www.airbnb.com/users/show/34552909         Barrie   \n",
       "20    13226301  https://www.airbnb.com/users/show/13226301        Mohamed   \n",
       "21    74531248  https://www.airbnb.com/users/show/74531248    Carl & Judy   \n",
       "22     1176995   https://www.airbnb.com/users/show/1176995          Duane   \n",
       "23    23127285  https://www.airbnb.com/users/show/23127285          Jesús   \n",
       "24    28518068  https://www.airbnb.com/users/show/28518068        Colette   \n",
       "25     4762495   https://www.airbnb.com/users/show/4762495       Jennifer   \n",
       "26     4653380   https://www.airbnb.com/users/show/4653380           Beth   \n",
       "27    47935411  https://www.airbnb.com/users/show/47935411           Jone   \n",
       "28     8302344   https://www.airbnb.com/users/show/8302344            Dan   \n",
       "29     8834105   https://www.airbnb.com/users/show/8834105        Rebecca   \n",
       "...        ...                                         ...            ...   \n",
       "3555  45902201  https://www.airbnb.com/users/show/45902201         Wencai   \n",
       "3556  19246369  https://www.airbnb.com/users/show/19246369            Joe   \n",
       "3557  90615440  https://www.airbnb.com/users/show/90615440        Maureen   \n",
       "3558  13993089  https://www.airbnb.com/users/show/13993089          Nonna   \n",
       "3559  28364516  https://www.airbnb.com/users/show/28364516           Ryan   \n",
       "3560  19246369  https://www.airbnb.com/users/show/19246369            Joe   \n",
       "3561  92650841  https://www.airbnb.com/users/show/92650841          Chloe   \n",
       "3562  36947843  https://www.airbnb.com/users/show/36947843           Rich   \n",
       "3563  60214403  https://www.airbnb.com/users/show/60214403        Melinda   \n",
       "3564  19246369  https://www.airbnb.com/users/show/19246369            Joe   \n",
       "3565  74137888  https://www.airbnb.com/users/show/74137888          Chris   \n",
       "3566  33913874  https://www.airbnb.com/users/show/33913874            Mir   \n",
       "3567  12243051  https://www.airbnb.com/users/show/12243051       Flatbook   \n",
       "3568  19246369  https://www.airbnb.com/users/show/19246369            Joe   \n",
       "3569  21149134  https://www.airbnb.com/users/show/21149134        Johanna   \n",
       "3570   6331373   https://www.airbnb.com/users/show/6331373      Quinn-May   \n",
       "3571  90497470  https://www.airbnb.com/users/show/90497470  Sofia And Kim   \n",
       "3572  12243051  https://www.airbnb.com/users/show/12243051       Flatbook   \n",
       "3573  42070843  https://www.airbnb.com/users/show/42070843         Rachel   \n",
       "3574  91855319  https://www.airbnb.com/users/show/91855319             公主   \n",
       "3575  19246369  https://www.airbnb.com/users/show/19246369            Joe   \n",
       "3576  50546418  https://www.airbnb.com/users/show/50546418         Thomas   \n",
       "3577  33906096  https://www.airbnb.com/users/show/33906096        Gillian   \n",
       "3578  78459716  https://www.airbnb.com/users/show/78459716        Charles   \n",
       "3579  67981314  https://www.airbnb.com/users/show/67981314            Max   \n",
       "3580  19246369  https://www.airbnb.com/users/show/19246369            Joe   \n",
       "3581  37366454  https://www.airbnb.com/users/show/37366454            Ivy   \n",
       "3582  11311919  https://www.airbnb.com/users/show/11311919           Vera   \n",
       "3583  74318064  https://www.airbnb.com/users/show/74318064           Medi   \n",
       "3584  42070843  https://www.airbnb.com/users/show/42070843         Rachel   \n",
       "\n",
       "      host_since                                  host_location  \\\n",
       "0     2015-04-15           Boston, Massachusetts, United States   \n",
       "1     2012-06-07           Boston, Massachusetts, United States   \n",
       "2     2009-05-11           Boston, Massachusetts, United States   \n",
       "3     2013-04-21           Boston, Massachusetts, United States   \n",
       "4     2014-05-11           Boston, Massachusetts, United States   \n",
       "5     2016-03-23           Boston, Massachusetts, United States   \n",
       "6     2013-05-25           Milton, Massachusetts, United States   \n",
       "7     2012-08-05           Boston, Massachusetts, United States   \n",
       "8     2012-10-24           Boston, Massachusetts, United States   \n",
       "9     2012-12-18           Boston, Massachusetts, United States   \n",
       "10    2016-03-24           Boston, Massachusetts, United States   \n",
       "11    2013-09-14                Roslindale (part of Boston), MA   \n",
       "12    2014-03-31           Boston, Massachusetts, United States   \n",
       "13    2016-02-04           Boston, Massachusetts, United States   \n",
       "14    2013-10-27           Boston, Massachusetts, United States   \n",
       "15    2011-09-18           Boston, Massachusetts, United States   \n",
       "16    2011-03-09           Boston, Massachusetts, United States   \n",
       "17    2014-03-31           Boston, Massachusetts, United States   \n",
       "18    2015-05-30           Boston, Massachusetts, United States   \n",
       "19    2015-05-30           Boston, Massachusetts, United States   \n",
       "20    2014-03-17           Boston, Massachusetts, United States   \n",
       "21    2016-05-28           Boston, Massachusetts, United States   \n",
       "22    2011-09-18           Boston, Massachusetts, United States   \n",
       "23    2014-10-29           Boston, Massachusetts, United States   \n",
       "24    2015-02-28           Boston, Massachusetts, United States   \n",
       "25    2013-01-19           Boston, Massachusetts, United States   \n",
       "26    2013-01-10  Boston Massachusetts, Roslindale Neighborhood   \n",
       "27    2015-11-01           Boston, Massachusetts, United States   \n",
       "28    2013-08-21           Boston, Massachusetts, United States   \n",
       "29    2013-09-14                Roslindale (part of Boston), MA   \n",
       "...          ...                                            ...   \n",
       "3555  2015-10-06           Boston, Massachusetts, United States   \n",
       "3556  2014-07-31       Somerville, Massachusetts, United States   \n",
       "3557  2016-08-18           Boston, Massachusetts, United States   \n",
       "3558  2014-04-07       Newport Beach, California, United States   \n",
       "3559  2015-02-25           Boston, Massachusetts, United States   \n",
       "3560  2014-07-31       Somerville, Massachusetts, United States   \n",
       "3561  2016-08-30                                             US   \n",
       "3562  2015-06-28          Ashland, Massachusetts, United States   \n",
       "3563  2016-02-24                                             US   \n",
       "3564  2014-07-31       Somerville, Massachusetts, United States   \n",
       "3565  2016-05-26                                            NaN   \n",
       "3566  2015-05-21           Boston, Massachusetts, United States   \n",
       "3567  2014-02-14                       Montreal, Quebec, Canada   \n",
       "3568  2014-07-31       Somerville, Massachusetts, United States   \n",
       "3569  2014-09-09           Boston, Massachusetts, United States   \n",
       "3570  2013-05-11           Boston, Massachusetts, United States   \n",
       "3571  2016-08-17        Brookline, Massachusetts, United States   \n",
       "3572  2014-02-14                       Montreal, Quebec, Canada   \n",
       "3573  2015-08-20       Somerville, Massachusetts, United States   \n",
       "3574  2016-08-25                                             US   \n",
       "3575  2014-07-31       Somerville, Massachusetts, United States   \n",
       "3576  2015-12-04       Somerville, Massachusetts, United States   \n",
       "3577  2015-05-21        Brookline, Massachusetts, United States   \n",
       "3578  2016-06-18           Boston, Massachusetts, United States   \n",
       "3579  2016-04-19           Boston, Massachusetts, United States   \n",
       "3580  2014-07-31       Somerville, Massachusetts, United States   \n",
       "3581  2015-07-02                                             US   \n",
       "3582  2014-01-14              New York, New York, United States   \n",
       "3583  2016-05-27       Somerville, Massachusetts, United States   \n",
       "3584  2015-08-20       Somerville, Massachusetts, United States   \n",
       "\n",
       "                                             host_about  host_response_time  \\\n",
       "0     We are country and city connecting in our deck...                 NaN   \n",
       "1     I live in Boston and I like to travel and have...      within an hour   \n",
       "2     I am a middle-aged, single male with a wide ra...  within a few hours   \n",
       "3     My husband and I live on the property.  He’s a...  within a few hours   \n",
       "4     I work full time for a public school district....      within an hour   \n",
       "5                                                   NaN  within a few hours   \n",
       "6     American, Retired Banker. I travel a lot and a...      within an hour   \n",
       "7     My husband, Alan, and I are empty nesters and ...  within a few hours   \n",
       "8                          An avid lover of street art!      within an hour   \n",
       "9     Hi, I am a thirty something, happy-go-lucky ki...      within an hour   \n",
       "10                                                  NaN        within a day   \n",
       "11    Bon Jour, Bom Dia, Good Day,\\r\\n\\r\\nI'm a mid-...      within an hour   \n",
       "12    I am a working professional in biotech. I typi...  within a few hours   \n",
       "13                               A life-long Bostonian.      within an hour   \n",
       "14    As a Program Director for Viking River Cruises...        within a day   \n",
       "15    I am a self-employed professional. I work as a...      within an hour   \n",
       "16    My husband, John is an artist and retired adve...  within a few hours   \n",
       "17    I am a working professional in biotech. I typi...  within a few hours   \n",
       "18                                                  NaN        within a day   \n",
       "19                                                  NaN        within a day   \n",
       "20    I am an easy going person and enjoy the compan...  within a few hours   \n",
       "21    Judy and I are newlyweds and empty-nesters.  R...      within an hour   \n",
       "22    I am a self-employed professional. I work as a...      within an hour   \n",
       "23                                                  NaN        within a day   \n",
       "24                                                  NaN                 NaN   \n",
       "25    I'm an architect and work out of my home.\\r\\nI...      within an hour   \n",
       "26    Artist who travels quite a bit. Easy going , q...      within an hour   \n",
       "27                                                  NaN  within a few hours   \n",
       "28    I am very outdoors oriented and love spending ...        within a day   \n",
       "29    Bon Jour, Bom Dia, Good Day,\\r\\n\\r\\nI'm a mid-...      within an hour   \n",
       "...                                                 ...                 ...   \n",
       "3555           Biomedical researcher. With PhD and MD.   within a few hours   \n",
       "3556                                                NaN      within an hour   \n",
       "3557  Hi there, \\r\\nI am Maureen. I moved to Boston ...        within a day   \n",
       "3558  We live in Newport beach.\\r\\nWe are couple wit...  within a few hours   \n",
       "3559                                                NaN  within a few hours   \n",
       "3560                                                NaN      within an hour   \n",
       "3561                                                NaN                 NaN   \n",
       "3562                                                NaN                 NaN   \n",
       "3563  We are listing our second home, located only a...                 NaN   \n",
       "3564                                                NaN      within an hour   \n",
       "3565                                                NaN  within a few hours   \n",
       "3566                                                NaN      within an hour   \n",
       "3567  We think a great trip starts with a 5-star hos...  within a few hours   \n",
       "3568                                                NaN      within an hour   \n",
       "3569                                                NaN      within an hour   \n",
       "3570  我喜欢帮助旅游者; I enjoy to help my friends.\\r\\n我的客房离...      within an hour   \n",
       "3571  Hello, \\r\\nWe are Kim and Sofie. We're roommat...      within an hour   \n",
       "3572  We think a great trip starts with a 5-star hos...  within a few hours   \n",
       "3573  I just moved to the city. I absolutely love it...      within an hour   \n",
       "3574                                                NaN      within an hour   \n",
       "3575                                                NaN      within an hour   \n",
       "3576                                                NaN        within a day   \n",
       "3577  I am a professional woman, married to a wonder...                 NaN   \n",
       "3578  An Accounting Professor, Certified Fraud Exami...      within an hour   \n",
       "3579                                                NaN                 NaN   \n",
       "3580                                                NaN      within an hour   \n",
       "3581                                        this is Ivy  a few days or more   \n",
       "3582                                                NaN        within a day   \n",
       "3583  Hi, I am very friendly, helpful, positive and ...      within an hour   \n",
       "3584  I just moved to the city. I absolutely love it...      within an hour   \n",
       "\n",
       "     host_response_rate host_acceptance_rate host_is_superhost  \\\n",
       "0                   NaN                  NaN                 f   \n",
       "1                  100%                 100%                 f   \n",
       "2                  100%                  88%                 t   \n",
       "3                  100%                  50%                 f   \n",
       "4                  100%                 100%                 t   \n",
       "5                  100%                  95%                 t   \n",
       "6                   98%                  96%                 f   \n",
       "7                  100%                 100%                 t   \n",
       "8                  100%                 100%                 t   \n",
       "9                  100%                 100%                 t   \n",
       "10                  83%                 100%                 f   \n",
       "11                 100%                  89%                 t   \n",
       "12                 100%                 100%                 f   \n",
       "13                 100%                  97%                 f   \n",
       "14                  75%                 100%                 f   \n",
       "15                 100%                  79%                 f   \n",
       "16                 100%                 100%                 f   \n",
       "17                 100%                 100%                 f   \n",
       "18                 100%                 100%                 t   \n",
       "19                 100%                 100%                 t   \n",
       "20                 100%                  94%                 t   \n",
       "21                 100%                 100%                 f   \n",
       "22                 100%                  79%                 f   \n",
       "23                 100%                  63%                 f   \n",
       "24                  NaN                  NaN                 f   \n",
       "25                 100%                  92%                 t   \n",
       "26                 100%                 100%                 f   \n",
       "27                 100%                 100%                 t   \n",
       "28                  60%                 100%                 f   \n",
       "29                 100%                  89%                 t   \n",
       "...                 ...                  ...               ...   \n",
       "3555               100%                 100%                 f   \n",
       "3556                96%                 100%                 f   \n",
       "3557               100%                  67%                 f   \n",
       "3558               100%                 100%                 f   \n",
       "3559               100%                  60%                 f   \n",
       "3560                96%                 100%                 f   \n",
       "3561                NaN                  NaN                 f   \n",
       "3562                NaN                  NaN                 f   \n",
       "3563                NaN                  NaN                 f   \n",
       "3564                96%                 100%                 f   \n",
       "3565               100%                 100%                 f   \n",
       "3566               100%                 100%                 f   \n",
       "3567                71%                  98%                 f   \n",
       "3568                96%                 100%                 f   \n",
       "3569               100%                  53%                 f   \n",
       "3570               100%                 100%                 f   \n",
       "3571               100%                 100%                 f   \n",
       "3572                71%                  98%                 f   \n",
       "3573               100%                  95%                 f   \n",
       "3574               100%                 100%                 f   \n",
       "3575                96%                 100%                 f   \n",
       "3576               100%                 100%                 f   \n",
       "3577                NaN                  NaN                 f   \n",
       "3578               100%                 100%                 f   \n",
       "3579                NaN                  NaN                 f   \n",
       "3580                96%                 100%                 f   \n",
       "3581                10%                  83%                 f   \n",
       "3582                78%                  50%                 f   \n",
       "3583               100%                  96%                 f   \n",
       "3584               100%                  95%                 f   \n",
       "\n",
       "                                     host_thumbnail_url  \\\n",
       "0     https://a2.muscache.com/im/pictures/5936fef0-b...   \n",
       "1     https://a2.muscache.com/im/users/2572247/profi...   \n",
       "2     https://a2.muscache.com/im/users/16701/profile...   \n",
       "3     https://a2.muscache.com/im/pictures/5d430cde-7...   \n",
       "4     https://a0.muscache.com/im/users/15396970/prof...   \n",
       "5     https://a2.muscache.com/im/pictures/ab20c2a0-8...   \n",
       "6     https://a2.muscache.com/im/users/6570877/profi...   \n",
       "7     https://a2.muscache.com/im/users/3164508/profi...   \n",
       "8     https://a2.muscache.com/im/pictures/28ded429-6...   \n",
       "9     https://a2.muscache.com/im/users/4434391/profi...   \n",
       "10    https://a2.muscache.com/im/pictures/00a17c83-1...   \n",
       "11    https://a2.muscache.com/im/users/8834105/profi...   \n",
       "12    https://a2.muscache.com/im/pictures/30071847-b...   \n",
       "13    https://a2.muscache.com/im/pictures/dad297dc-5...   \n",
       "14    https://a1.muscache.com/im/users/9658771/profi...   \n",
       "15    https://a1.muscache.com/im/users/1176995/profi...   \n",
       "16    https://a0.muscache.com/im/users/431385/profil...   \n",
       "17    https://a2.muscache.com/im/pictures/30071847-b...   \n",
       "18    https://a2.muscache.com/im/pictures/a787a340-0...   \n",
       "19    https://a2.muscache.com/im/pictures/a787a340-0...   \n",
       "20    https://a0.muscache.com/im/users/13226301/prof...   \n",
       "21    https://a2.muscache.com/im/pictures/fcd40df2-1...   \n",
       "22    https://a1.muscache.com/im/users/1176995/profi...   \n",
       "23    https://a2.muscache.com/im/pictures/6b31bd2d-e...   \n",
       "24    https://a1.muscache.com/im/users/28518068/prof...   \n",
       "25    https://a1.muscache.com/im/users/4762495/profi...   \n",
       "26    https://a1.muscache.com/im/users/4653380/profi...   \n",
       "27    https://a2.muscache.com/im/pictures/5a6d42d3-0...   \n",
       "28    https://a0.muscache.com/im/users/8302344/profi...   \n",
       "29    https://a2.muscache.com/im/users/8834105/profi...   \n",
       "...                                                 ...   \n",
       "3555  https://a2.muscache.com/im/users/45902201/prof...   \n",
       "3556  https://a2.muscache.com/im/users/19246369/prof...   \n",
       "3557  https://a2.muscache.com/im/pictures/01813b0c-7...   \n",
       "3558  https://a2.muscache.com/im/pictures/8d788688-2...   \n",
       "3559  https://a2.muscache.com/im/users/28364516/prof...   \n",
       "3560  https://a2.muscache.com/im/users/19246369/prof...   \n",
       "3561  https://a2.muscache.com/im/pictures/4e879db2-1...   \n",
       "3562  https://a2.muscache.com/im/pictures/02d5a236-2...   \n",
       "3563  https://a2.muscache.com/im/pictures/9f2bd8ec-3...   \n",
       "3564  https://a2.muscache.com/im/users/19246369/prof...   \n",
       "3565  https://a2.muscache.com/im/pictures/fbe399f8-8...   \n",
       "3566  https://a2.muscache.com/im/pictures/eee27483-6...   \n",
       "3567  https://a2.muscache.com/im/pictures/50576553-3...   \n",
       "3568  https://a2.muscache.com/im/users/19246369/prof...   \n",
       "3569  https://a0.muscache.com/im/users/21149134/prof...   \n",
       "3570  https://a0.muscache.com/im/users/6331373/profi...   \n",
       "3571  https://a2.muscache.com/im/pictures/33734fb2-b...   \n",
       "3572  https://a2.muscache.com/im/pictures/50576553-3...   \n",
       "3573  https://a2.muscache.com/im/pictures/9caa4601-0...   \n",
       "3574  https://a2.muscache.com/im/pictures/f3c41005-c...   \n",
       "3575  https://a2.muscache.com/im/users/19246369/prof...   \n",
       "3576  https://a2.muscache.com/im/pictures/f44ebd43-8...   \n",
       "3577  https://a0.muscache.com/im/users/33906096/prof...   \n",
       "3578  https://a2.muscache.com/im/pictures/7eff3261-a...   \n",
       "3579  https://a2.muscache.com/im/pictures/e17a5223-1...   \n",
       "3580  https://a2.muscache.com/im/users/19246369/prof...   \n",
       "3581  https://a2.muscache.com/im/pictures/685b7a0d-8...   \n",
       "3582  https://a0.muscache.com/im/users/11311919/prof...   \n",
       "3583  https://a2.muscache.com/im/pictures/312fe94a-c...   \n",
       "3584  https://a2.muscache.com/im/pictures/9caa4601-0...   \n",
       "\n",
       "                                       host_picture_url host_neighbourhood  \\\n",
       "0     https://a2.muscache.com/im/pictures/5936fef0-b...         Roslindale   \n",
       "1     https://a2.muscache.com/im/users/2572247/profi...         Roslindale   \n",
       "2     https://a2.muscache.com/im/users/16701/profile...         Roslindale   \n",
       "3     https://a2.muscache.com/im/pictures/5d430cde-7...                NaN   \n",
       "4     https://a0.muscache.com/im/users/15396970/prof...         Roslindale   \n",
       "5     https://a2.muscache.com/im/pictures/ab20c2a0-8...         Roslindale   \n",
       "6     https://a2.muscache.com/im/users/6570877/profi...         Roslindale   \n",
       "7     https://a2.muscache.com/im/users/3164508/profi...         Roslindale   \n",
       "8     https://a2.muscache.com/im/pictures/28ded429-6...         Roslindale   \n",
       "9     https://a2.muscache.com/im/users/4434391/profi...         Roslindale   \n",
       "10    https://a2.muscache.com/im/pictures/00a17c83-1...         Roslindale   \n",
       "11    https://a2.muscache.com/im/users/8834105/profi...         Roslindale   \n",
       "12    https://a2.muscache.com/im/pictures/30071847-b...         Roslindale   \n",
       "13    https://a2.muscache.com/im/pictures/dad297dc-5...         Roslindale   \n",
       "14    https://a1.muscache.com/im/users/9658771/profi...         Roslindale   \n",
       "15    https://a1.muscache.com/im/users/1176995/profi...         Roslindale   \n",
       "16    https://a0.muscache.com/im/users/431385/profil...         Roslindale   \n",
       "17    https://a2.muscache.com/im/pictures/30071847-b...         Roslindale   \n",
       "18    https://a2.muscache.com/im/pictures/a787a340-0...         Roslindale   \n",
       "19    https://a2.muscache.com/im/pictures/a787a340-0...         Roslindale   \n",
       "20    https://a0.muscache.com/im/users/13226301/prof...         Roslindale   \n",
       "21    https://a2.muscache.com/im/pictures/fcd40df2-1...         Roslindale   \n",
       "22    https://a1.muscache.com/im/users/1176995/profi...         Roslindale   \n",
       "23    https://a2.muscache.com/im/pictures/6b31bd2d-e...                NaN   \n",
       "24    https://a1.muscache.com/im/users/28518068/prof...         Roslindale   \n",
       "25    https://a1.muscache.com/im/users/4762495/profi...         Roslindale   \n",
       "26    https://a1.muscache.com/im/users/4653380/profi...         Roslindale   \n",
       "27    https://a2.muscache.com/im/pictures/5a6d42d3-0...         Roslindale   \n",
       "28    https://a0.muscache.com/im/users/8302344/profi...         Roslindale   \n",
       "29    https://a2.muscache.com/im/users/8834105/profi...         Roslindale   \n",
       "...                                                 ...                ...   \n",
       "3555  https://a2.muscache.com/im/users/45902201/prof...          Brookline   \n",
       "3556  https://a2.muscache.com/im/users/19246369/prof...         Somerville   \n",
       "3557  https://a2.muscache.com/im/pictures/01813b0c-7...                NaN   \n",
       "3558  https://a2.muscache.com/im/pictures/8d788688-2...                NaN   \n",
       "3559  https://a2.muscache.com/im/users/28364516/prof...                NaN   \n",
       "3560  https://a2.muscache.com/im/users/19246369/prof...         Somerville   \n",
       "3561  https://a2.muscache.com/im/pictures/4e879db2-1...                NaN   \n",
       "3562  https://a2.muscache.com/im/pictures/02d5a236-2...                NaN   \n",
       "3563  https://a2.muscache.com/im/pictures/9f2bd8ec-3...         Somerville   \n",
       "3564  https://a2.muscache.com/im/users/19246369/prof...         Somerville   \n",
       "3565  https://a2.muscache.com/im/pictures/fbe399f8-8...                NaN   \n",
       "3566  https://a2.muscache.com/im/pictures/eee27483-6...          Brookline   \n",
       "3567  https://a2.muscache.com/im/pictures/50576553-3...        Gay Village   \n",
       "3568  https://a2.muscache.com/im/users/19246369/prof...         Somerville   \n",
       "3569  https://a0.muscache.com/im/users/21149134/prof...                NaN   \n",
       "3570  https://a0.muscache.com/im/users/6331373/profi...        East Boston   \n",
       "3571  https://a2.muscache.com/im/pictures/33734fb2-b...          Brookline   \n",
       "3572  https://a2.muscache.com/im/pictures/50576553-3...        Gay Village   \n",
       "3573  https://a2.muscache.com/im/pictures/9caa4601-0...         Somerville   \n",
       "3574  https://a2.muscache.com/im/pictures/f3c41005-c...      Chestnut Hill   \n",
       "3575  https://a2.muscache.com/im/users/19246369/prof...         Somerville   \n",
       "3576  https://a2.muscache.com/im/pictures/f44ebd43-8...          Cambridge   \n",
       "3577  https://a0.muscache.com/im/users/33906096/prof...          Brookline   \n",
       "3578  https://a2.muscache.com/im/pictures/7eff3261-a...                NaN   \n",
       "3579  https://a2.muscache.com/im/pictures/e17a5223-1...          Brookline   \n",
       "3580  https://a2.muscache.com/im/users/19246369/prof...         Somerville   \n",
       "3581  https://a2.muscache.com/im/pictures/685b7a0d-8...                NaN   \n",
       "3582  https://a0.muscache.com/im/users/11311919/prof...                NaN   \n",
       "3583  https://a2.muscache.com/im/pictures/312fe94a-c...         Somerville   \n",
       "3584  https://a2.muscache.com/im/pictures/9caa4601-0...         Somerville   \n",
       "\n",
       "      host_listings_count  host_total_listings_count  \\\n",
       "0                       1                          1   \n",
       "1                       1                          1   \n",
       "2                       1                          1   \n",
       "3                       1                          1   \n",
       "4                       1                          1   \n",
       "5                       2                          2   \n",
       "6                       5                          5   \n",
       "7                       2                          2   \n",
       "8                       1                          1   \n",
       "9                       2                          2   \n",
       "10                      1                          1   \n",
       "11                      2                          2   \n",
       "12                      2                          2   \n",
       "13                      1                          1   \n",
       "14                      1                          1   \n",
       "15                      2                          2   \n",
       "16                      1                          1   \n",
       "17                      2                          2   \n",
       "18                      3                          3   \n",
       "19                      3                          3   \n",
       "20                      3                          3   \n",
       "21                      1                          1   \n",
       "22                      2                          2   \n",
       "23                      1                          1   \n",
       "24                      1                          1   \n",
       "25                      2                          2   \n",
       "26                      1                          1   \n",
       "27                      1                          1   \n",
       "28                      1                          1   \n",
       "29                      2                          2   \n",
       "...                   ...                        ...   \n",
       "3555                    1                          1   \n",
       "3556                   28                         28   \n",
       "3557                    1                          1   \n",
       "3558                    2                          2   \n",
       "3559                    1                          1   \n",
       "3560                   28                         28   \n",
       "3561                    1                          1   \n",
       "3562                    1                          1   \n",
       "3563                    1                          1   \n",
       "3564                   28                         28   \n",
       "3565                    1                          1   \n",
       "3566                    2                          2   \n",
       "3567                  363                        363   \n",
       "3568                   28                         28   \n",
       "3569                    2                          2   \n",
       "3570                   20                         20   \n",
       "3571                    1                          1   \n",
       "3572                  363                        363   \n",
       "3573                   14                         14   \n",
       "3574                    2                          2   \n",
       "3575                   28                         28   \n",
       "3576                    1                          1   \n",
       "3577                    1                          1   \n",
       "3578                    4                          4   \n",
       "3579                    1                          1   \n",
       "3580                   28                         28   \n",
       "3581                    2                          2   \n",
       "3582                    1                          1   \n",
       "3583                    4                          4   \n",
       "3584                   14                         14   \n",
       "\n",
       "                                     host_verifications host_has_profile_pic  \\\n",
       "0             ['email', 'phone', 'facebook', 'reviews']                    t   \n",
       "1     ['email', 'phone', 'facebook', 'linkedin', 'am...                    t   \n",
       "2                ['email', 'phone', 'reviews', 'jumio']                    t   \n",
       "3                         ['email', 'phone', 'reviews']                    t   \n",
       "4                  ['email', 'phone', 'reviews', 'kba']                    t   \n",
       "5                  ['email', 'phone', 'reviews', 'kba']                    t   \n",
       "6         ['email', 'phone', 'reviews', 'jumio', 'kba']                    t   \n",
       "7      ['email', 'phone', 'facebook', 'reviews', 'kba']                    t   \n",
       "8      ['email', 'phone', 'facebook', 'reviews', 'kba']                    t   \n",
       "9      ['email', 'phone', 'facebook', 'reviews', 'kba']                    t   \n",
       "10                        ['email', 'phone', 'reviews']                    t   \n",
       "11                 ['email', 'phone', 'reviews', 'kba']                    t   \n",
       "12                        ['email', 'phone', 'reviews']                    t   \n",
       "13                 ['email', 'phone', 'reviews', 'kba']                    t   \n",
       "14                 ['email', 'phone', 'reviews', 'kba']                    t   \n",
       "15            ['email', 'phone', 'facebook', 'reviews']                    t   \n",
       "16                        ['email', 'phone', 'reviews']                    t   \n",
       "17                        ['email', 'phone', 'reviews']                    t   \n",
       "18                 ['email', 'phone', 'reviews', 'kba']                    t   \n",
       "19                 ['email', 'phone', 'reviews', 'kba']                    t   \n",
       "20                 ['email', 'phone', 'reviews', 'kba']                    t   \n",
       "21     ['email', 'phone', 'linkedin', 'reviews', 'kba']                    t   \n",
       "22            ['email', 'phone', 'facebook', 'reviews']                    t   \n",
       "23                 ['email', 'phone', 'reviews', 'kba']                    t   \n",
       "24                                 ['email', 'reviews']                    t   \n",
       "25                 ['email', 'phone', 'reviews', 'kba']                    t   \n",
       "26                        ['email', 'phone', 'reviews']                    t   \n",
       "27                 ['email', 'phone', 'reviews', 'kba']                    t   \n",
       "28               ['email', 'phone', 'reviews', 'jumio']                    t   \n",
       "29                 ['email', 'phone', 'reviews', 'kba']                    t   \n",
       "...                                                 ...                  ...   \n",
       "3555                      ['email', 'phone', 'reviews']                    t   \n",
       "3556             ['email', 'phone', 'reviews', 'jumio']                    t   \n",
       "3557                                 ['email', 'phone']                    t   \n",
       "3558               ['email', 'phone', 'reviews', 'kba']                    t   \n",
       "3559  ['email', 'phone', 'facebook', 'linkedin', 're...                    t   \n",
       "3560             ['email', 'phone', 'reviews', 'jumio']                    t   \n",
       "3561                                 ['email', 'phone']                    t   \n",
       "3562                                 ['email', 'phone']                    t   \n",
       "3563                                 ['email', 'phone']                    t   \n",
       "3564             ['email', 'phone', 'reviews', 'jumio']                    t   \n",
       "3565                               ['phone', 'reviews']                    t   \n",
       "3566               ['email', 'phone', 'reviews', 'kba']                    t   \n",
       "3567  ['email', 'phone', 'reviews', 'manual_offline'...                    t   \n",
       "3568             ['email', 'phone', 'reviews', 'jumio']                    t   \n",
       "3569                               ['phone', 'reviews']                    t   \n",
       "3570  ['email', 'phone', 'manual_online', 'reviews',...                    t   \n",
       "3571                      ['email', 'phone', 'reviews']                    t   \n",
       "3572  ['email', 'phone', 'reviews', 'manual_offline'...                    t   \n",
       "3573  ['email', 'phone', 'reviews', 'manual_offline'...                    t   \n",
       "3574                      ['email', 'phone', 'reviews']                    t   \n",
       "3575             ['email', 'phone', 'reviews', 'jumio']                    t   \n",
       "3576             ['email', 'phone', 'reviews', 'jumio']                    t   \n",
       "3577                          ['email', 'phone', 'kba']                    t   \n",
       "3578                      ['email', 'phone', 'reviews']                    t   \n",
       "3579            ['email', 'phone', 'facebook', 'jumio']                    t   \n",
       "3580             ['email', 'phone', 'reviews', 'jumio']                    t   \n",
       "3581    ['email', 'phone', 'reviews', 'weibo', 'jumio']                    t   \n",
       "3582                                          ['phone']                    t   \n",
       "3583   ['email', 'phone', 'google', 'reviews', 'jumio']                    t   \n",
       "3584  ['email', 'phone', 'reviews', 'manual_offline'...                    t   \n",
       "\n",
       "     host_identity_verified  \n",
       "0                         f  \n",
       "1                         t  \n",
       "2                         t  \n",
       "3                         f  \n",
       "4                         t  \n",
       "5                         t  \n",
       "6                         t  \n",
       "7                         t  \n",
       "8                         t  \n",
       "9                         t  \n",
       "10                        f  \n",
       "11                        t  \n",
       "12                        f  \n",
       "13                        t  \n",
       "14                        t  \n",
       "15                        f  \n",
       "16                        f  \n",
       "17                        f  \n",
       "18                        t  \n",
       "19                        t  \n",
       "20                        t  \n",
       "21                        t  \n",
       "22                        f  \n",
       "23                        t  \n",
       "24                        f  \n",
       "25                        t  \n",
       "26                        f  \n",
       "27                        t  \n",
       "28                        t  \n",
       "29                        t  \n",
       "...                     ...  \n",
       "3555                      f  \n",
       "3556                      t  \n",
       "3557                      f  \n",
       "3558                      t  \n",
       "3559                      t  \n",
       "3560                      t  \n",
       "3561                      f  \n",
       "3562                      f  \n",
       "3563                      f  \n",
       "3564                      t  \n",
       "3565                      f  \n",
       "3566                      t  \n",
       "3567                      t  \n",
       "3568                      t  \n",
       "3569                      f  \n",
       "3570                      t  \n",
       "3571                      f  \n",
       "3572                      t  \n",
       "3573                      t  \n",
       "3574                      f  \n",
       "3575                      t  \n",
       "3576                      t  \n",
       "3577                      f  \n",
       "3578                      f  \n",
       "3579                      t  \n",
       "3580                      t  \n",
       "3581                      t  \n",
       "3582                      f  \n",
       "3583                      t  \n",
       "3584                      t  \n",
       "\n",
       "[3585 rows x 18 columns]"
      ]
     },
     "execution_count": 48,
     "metadata": {},
     "output_type": "execute_result"
    }
   ],
   "source": [
    "df_listings[host_info]# some may userful 'host_response_time','host_response_rate','host_acceptance_rate',"
   ]
  },
  {
   "cell_type": "code",
   "execution_count": 7,
   "metadata": {},
   "outputs": [
    {
     "data": {
      "text/plain": [
       "0    We are country and city connecting in our deck...\n",
       "1    I live in Boston and I like to travel and have...\n",
       "2    I am a middle-aged, single male with a wide ra...\n",
       "3    My husband and I live on the property.  He’s a...\n",
       "4    I work full time for a public school district....\n",
       "Name: host_about, dtype: object"
      ]
     },
     "execution_count": 7,
     "metadata": {},
     "output_type": "execute_result"
    }
   ],
   "source": [
    "df_listings['host_about'].head()"
   ]
  },
  {
   "cell_type": "code",
   "execution_count": 9,
   "metadata": {},
   "outputs": [
    {
     "data": {
      "text/plain": [
       "'I live in Boston and I like to travel and have travelers staying at my place.'"
      ]
     },
     "execution_count": 9,
     "metadata": {},
     "output_type": "execute_result"
    }
   ],
   "source": [
    "df_listings['host_about'][1]"
   ]
  },
  {
   "cell_type": "code",
   "execution_count": 6,
   "metadata": {},
   "outputs": [
    {
     "data": {
      "text/plain": [
       "Boston, Massachusetts, United States               2421\n",
       "US                                                  521\n",
       "New York, New York, United States                   113\n",
       "Montreal, Quebec, Canada                             59\n",
       "Middlesex County, Massachusetts, United States       50\n",
       "Cambridge, Massachusetts, United States              42\n",
       "Massachusetts, United States                         28\n",
       "Spokane, Washington, United States                   25\n",
       "Brookline, Massachusetts, United States              19\n",
       "Somerville, Massachusetts, United States             17\n",
       "Milton, Massachusetts, United States                 10\n",
       "Medford, Massachusetts, United States                10\n",
       "San Francisco, California, United States              7\n",
       "Newton, Massachusetts, United States                  6\n",
       "Santa Monica, California, United States               6\n",
       "Cohasset, Massachusetts, United States                6\n",
       "United States                                         6\n",
       "Belmont, Massachusetts, United States                 5\n",
       "Miami, Florida, United States                         5\n",
       "Waltham, Massachusetts, United States                 5\n",
       "Jersey City, New Jersey, United States                5\n",
       "Washington, District of Columbia, United States       5\n",
       "Paris, Île-de-France, France                          5\n",
       "Atlanta, Georgia, United States                       4\n",
       "Quincy, Massachusetts, United States                  4\n",
       "Lexington, Massachusetts, United States               3\n",
       "Easton, Massachusetts, United States                  3\n",
       "Los Angeles, California, United States                3\n",
       "Gearhart, Oregon, United States                       3\n",
       "Massachusetts                                         3\n",
       "                                                   ... \n",
       "Cork, Cork, Ireland                                   1\n",
       "Anaheim, California, United States                    1\n",
       "Mumbai, Maharashtra, India                            1\n",
       "New Delhi, Delhi, India                               1\n",
       "Houston, Texas, United States                         1\n",
       "North Kingstown, Rhode Island, United States          1\n",
       "Abington, Massachusetts, United States                1\n",
       "Taipei, Taiwan                                        1\n",
       "Hong Kong                                             1\n",
       "Newport, Rhode Island, United States                  1\n",
       "Beirut, Beirut, Lebanon                               1\n",
       "Beverly, Massachusetts, United States                 1\n",
       "Santos, State of São Paulo, Brazil                    1\n",
       "Chongqing, Chongqing, China                           1\n",
       "St. Johnsbury, Vermont, United States                 1\n",
       "Marblehead, Massachusetts, United States              1\n",
       "Irvine, California, United States                     1\n",
       "Cape Coral, Florida, United States                    1\n",
       "Alkmaar, Noord-Holland, Netherlands                   1\n",
       "Jaffrey, New Hampshire, United States                 1\n",
       "San Diego, California, United States                  1\n",
       "Lansdale, Pennsylvania, United States                 1\n",
       "Hillside, New Jersey, United States                   1\n",
       "Fort Benton, Montana, United States                   1\n",
       "Livingston, New Jersey, United States                 1\n",
       "Boston Massachusetts, Roslindale Neighborhood         1\n",
       "São Caetano do Sul, São Paulo, Brazil                 1\n",
       "Schaumburg, Illinois, United States                   1\n",
       "Tel-Aviv, Israel                                      1\n",
       "Watertown, Massachusetts, United States               1\n",
       "Name: host_location, Length: 176, dtype: int64"
      ]
     },
     "execution_count": 6,
     "metadata": {},
     "output_type": "execute_result"
    }
   ],
   "source": [
    "df_listings['host_location'].value_counts()"
   ]
  },
  {
   "cell_type": "code",
   "execution_count": 50,
   "metadata": {},
   "outputs": [
    {
     "data": {
      "text/plain": [
       "Allston-Brighton             375\n",
       "Jamaica Plain                319\n",
       "Back Bay                     312\n",
       "Fenway/Kenmore               290\n",
       "South End                    233\n",
       "Dorchester                   218\n",
       "South Boston                 198\n",
       "Beacon Hill                  194\n",
       "Roxbury                      143\n",
       "North End                    126\n",
       "East Boston                  114\n",
       "Mission Hill                  96\n",
       "West End                      82\n",
       "Charlestown                   65\n",
       "Gay Village                   58\n",
       "Roslindale                    53\n",
       "Cambridge                     51\n",
       "Downtown Crossing             33\n",
       "West Roxbury                  32\n",
       "Hyde Park                     31\n",
       "Theater District              26\n",
       "Central Business District     25\n",
       "Mattapan                      25\n",
       "Somerville                    24\n",
       "Medford                       20\n",
       "Chinatown                     13\n",
       "Financial District            13\n",
       "Upper East Side               13\n",
       "Downtown                      12\n",
       "Leather District               8\n",
       "Brookline                      8\n",
       "South Beach                    4\n",
       "Los Altos Hills                3\n",
       "Chestnut Hill                  3\n",
       "Flatiron District              3\n",
       "Chelsea                        2\n",
       "Coolidge Corner                2\n",
       "East Harlem                    2\n",
       "Harvard Square                 2\n",
       "Belváros                       2\n",
       "Mission District               1\n",
       "Newton                         1\n",
       "Government Center              1\n",
       "South of Nevsky                1\n",
       "Miami Beach                    1\n",
       "Midtown East                   1\n",
       "Malden                         1\n",
       "Santa Cruz                     1\n",
       "Sunnyvale                      1\n",
       "Coral Way                      1\n",
       "Winthrop                       1\n",
       "Benton Park                    1\n",
       "Bernal Heights                 1\n",
       "Name: host_neighbourhood, dtype: int64"
      ]
     },
     "execution_count": 50,
     "metadata": {},
     "output_type": "execute_result"
    }
   ],
   "source": [
    "df_listings['host_neighbourhood'].value_counts()"
   ]
  },
  {
   "cell_type": "code",
   "execution_count": 51,
   "metadata": {},
   "outputs": [
    {
     "data": {
      "text/plain": [
       "0                   NaN\n",
       "1        within an hour\n",
       "2    within a few hours\n",
       "3    within a few hours\n",
       "4        within an hour\n",
       "Name: host_response_time, dtype: object"
      ]
     },
     "execution_count": 51,
     "metadata": {},
     "output_type": "execute_result"
    }
   ],
   "source": [
    "df_listings['host_response_time'].head()"
   ]
  },
  {
   "cell_type": "code",
   "execution_count": 55,
   "metadata": {},
   "outputs": [
    {
     "data": {
      "text/plain": [
       "0.13138075313807532"
      ]
     },
     "execution_count": 55,
     "metadata": {},
     "output_type": "execute_result"
    }
   ],
   "source": [
    "df_listings['host_response_time'].isnull().mean()"
   ]
  },
  {
   "cell_type": "code",
   "execution_count": 56,
   "metadata": {},
   "outputs": [
    {
     "data": {
      "text/plain": [
       "0.13138075313807532"
      ]
     },
     "execution_count": 56,
     "metadata": {},
     "output_type": "execute_result"
    }
   ],
   "source": [
    "df_listings['host_response_rate'].isnull().mean()"
   ]
  },
  {
   "cell_type": "code",
   "execution_count": 59,
   "metadata": {},
   "outputs": [
    {
     "data": {
      "text/plain": [
       "0.13138075313807532"
      ]
     },
     "execution_count": 59,
     "metadata": {},
     "output_type": "execute_result"
    }
   ],
   "source": [
    "df_listings['host_acceptance_rate'].isnull().mean()"
   ]
  },
  {
   "cell_type": "code",
   "execution_count": 62,
   "metadata": {},
   "outputs": [
    {
     "data": {
      "text/plain": [
       "1.0"
      ]
     },
     "execution_count": 62,
     "metadata": {},
     "output_type": "execute_result"
    }
   ],
   "source": [
    "((df_listings['host_response_time'].isnull())==(df_listings['host_acceptance_rate'].isnull())).mean()"
   ]
  },
  {
   "cell_type": "code",
   "execution_count": 63,
   "metadata": {},
   "outputs": [
    {
     "data": {
      "text/plain": [
       "1.0"
      ]
     },
     "execution_count": 63,
     "metadata": {},
     "output_type": "execute_result"
    }
   ],
   "source": [
    "((df_listings['host_response_rate'].isnull())==(df_listings['host_acceptance_rate'].isnull())).mean()"
   ]
  },
  {
   "cell_type": "code",
   "execution_count": 64,
   "metadata": {},
   "outputs": [
    {
     "data": {
      "text/plain": [
       "0            ['email', 'phone', 'facebook', 'reviews']\n",
       "1    ['email', 'phone', 'facebook', 'linkedin', 'am...\n",
       "2               ['email', 'phone', 'reviews', 'jumio']\n",
       "3                        ['email', 'phone', 'reviews']\n",
       "4                 ['email', 'phone', 'reviews', 'kba']\n",
       "Name: host_verifications, dtype: object"
      ]
     },
     "execution_count": 64,
     "metadata": {},
     "output_type": "execute_result"
    }
   ],
   "source": [
    "df_listings['host_verifications'].head()"
   ]
  },
  {
   "cell_type": "code",
   "execution_count": 67,
   "metadata": {},
   "outputs": [
    {
     "data": {
      "text/plain": [
       "0        Birch Street, Boston, MA 02131, United States\n",
       "1    Pinehurst Street, Boston, MA 02131, United States\n",
       "2          Ardale St., Boston, MA 02131, United States\n",
       "3                            Boston, MA, United States\n",
       "4      Durnell Avenue, Boston, MA 02131, United States\n",
       "Name: street, dtype: object"
      ]
     },
     "execution_count": 67,
     "metadata": {},
     "output_type": "execute_result"
    }
   ],
   "source": [
    "df_listings['street'].head()"
   ]
  },
  {
   "cell_type": "code",
   "execution_count": 10,
   "metadata": {},
   "outputs": [
    {
     "data": {
      "text/plain": [
       "Boylston Street, Boston, MA 02215, United States            64\n",
       "Beacon Street, Boston, MA 02116, United States              50\n",
       "Garrison Street, Boston, MA 02116, United States            44\n",
       "Brookline Avenue, Boston, MA 02215, United States           41\n",
       "Columbus Avenue, Boston, MA 02116, United States            31\n",
       "Massachusetts Avenue, Boston, MA 02118, United States       30\n",
       "Boston, MA, United States                                   30\n",
       "Commonwealth Avenue, Boston, MA 02134, United States        30\n",
       "Commonwealth Avenue, Boston, MA 02135, United States        28\n",
       "Seaport Boulevard, Boston, MA 02210, United States          28\n",
       "Newbury Street, Boston, MA 02116, United States             26\n",
       "Washington Street, Boston, MA 02116, United States          24\n",
       "Charles Street, Boston, MA 02114, United States             24\n",
       "Harrison Avenue, Boston, MA 02118, United States            22\n",
       "Emerson Place, Boston, MA 02114, United States              22\n",
       "Tremont Street, Boston, MA 02118, United States             22\n",
       "Marlborough Street, Boston, MA 02116, United States         21\n",
       "Washington Street, Boston, MA 02111, United States          21\n",
       "Tremont Street, Boston, MA 02120, United States             21\n",
       "Columbus Avenue, Boston, MA 02118, United States            19\n",
       "Gardner Street, Boston, MA 02134, United States             19\n",
       "Park Drive, Boston, MA 02215, United States                 19\n",
       "Brainerd Road, Boston, MA 02134, United States              19\n",
       "Beacon Street, Boston, MA 02108, United States              18\n",
       "Temple Street, Boston, MA 02114, United States              18\n",
       "Blaine Street, Boston, MA 02134, United States              18\n",
       "Litchfield Street, Boston, MA 02135, United States          17\n",
       "Commonwealth Avenue, Boston, MA 02116, United States        17\n",
       "Commonwealth Avenue, Boston, MA 02215, United States        17\n",
       "Park Lane, Boston, MA 02210, United States                  16\n",
       "                                                            ..\n",
       "Alameda Rd, Boston, MA 02132, United States                  1\n",
       "Parker St, Boston, MA 02120, United States                   1\n",
       "Green St, Charlestown, MA 02129, United States               1\n",
       "Dorr St, Boston, MA 02119, United States                     1\n",
       "L Street, Boston, MA 02127, United States                    1\n",
       "Oakdale Street, Boston, MA 02130, United States              1\n",
       "Geneva Avenue, Boston, MA, United States                     1\n",
       "Salem St, Boston, MA 02113, United States                    1\n",
       "Schuyler Street, Boston, MA 02121, United States             1\n",
       "Fenway Triangle Trilogy, Boston, MA 02215, United States     1\n",
       "M Street, Boston, MA 02127, United States                    1\n",
       "N Street, Boston, MA 02127, United States                    1\n",
       "Leland Street, Boston, MA 02130, United States               1\n",
       "Greenfield Rd, Boston, MA 02136, United States               1\n",
       "Goodway Road, Boston, MA 02130, United States                1\n",
       "Elm Hill Park, Boston, MA 02121, United States               1\n",
       "Washington Street, Brighton , MA 02135, United States        1\n",
       "R Saint Martin Street, Boston, MA 02129, United States       1\n",
       "Buckley Avenue, Boston, MA 02130, United States              1\n",
       "Sylvia St, Boston, MA 02130, United States                   1\n",
       "Falkland Street, Boston, MA 02135, United States             1\n",
       "Cedar Ln Way, Boston, MA 02114, United States                1\n",
       "Boston, MA 02108, United States                              1\n",
       "Everett Street, Boston, MA 02128, United States              1\n",
       "Windermere Road, Boston, MA 02125, United States             1\n",
       "N. Harvard Street, Boston, MA 02134, United States           1\n",
       "Seminary Street, Boston, MA 02129, United States             1\n",
       "Creighton St, Boston, MA 02130, United States                1\n",
       "Myrtle Street, unit, Boston, MA 02114, United States         1\n",
       "Lamartine Street, Jamaica Plain, MA 02130, United States     1\n",
       "Name: street, Length: 1239, dtype: int64"
      ]
     },
     "execution_count": 10,
     "metadata": {},
     "output_type": "execute_result"
    }
   ],
   "source": [
    "df_listings['street'].value_counts()"
   ]
  },
  {
   "cell_type": "code",
   "execution_count": 69,
   "metadata": {},
   "outputs": [
    {
     "data": {
      "text/html": [
       "<div>\n",
       "<style scoped>\n",
       "    .dataframe tbody tr th:only-of-type {\n",
       "        vertical-align: middle;\n",
       "    }\n",
       "\n",
       "    .dataframe tbody tr th {\n",
       "        vertical-align: top;\n",
       "    }\n",
       "\n",
       "    .dataframe thead th {\n",
       "        text-align: right;\n",
       "    }\n",
       "</style>\n",
       "<table border=\"1\" class=\"dataframe\">\n",
       "  <thead>\n",
       "    <tr style=\"text-align: right;\">\n",
       "      <th></th>\n",
       "      <th>neighbourhood</th>\n",
       "      <th>neighbourhood_cleansed</th>\n",
       "      <th>neighbourhood_group_cleansed</th>\n",
       "    </tr>\n",
       "  </thead>\n",
       "  <tbody>\n",
       "    <tr>\n",
       "      <th>0</th>\n",
       "      <td>Roslindale</td>\n",
       "      <td>Roslindale</td>\n",
       "      <td>NaN</td>\n",
       "    </tr>\n",
       "    <tr>\n",
       "      <th>1</th>\n",
       "      <td>Roslindale</td>\n",
       "      <td>Roslindale</td>\n",
       "      <td>NaN</td>\n",
       "    </tr>\n",
       "    <tr>\n",
       "      <th>2</th>\n",
       "      <td>Roslindale</td>\n",
       "      <td>Roslindale</td>\n",
       "      <td>NaN</td>\n",
       "    </tr>\n",
       "    <tr>\n",
       "      <th>3</th>\n",
       "      <td>NaN</td>\n",
       "      <td>Roslindale</td>\n",
       "      <td>NaN</td>\n",
       "    </tr>\n",
       "    <tr>\n",
       "      <th>4</th>\n",
       "      <td>Roslindale</td>\n",
       "      <td>Roslindale</td>\n",
       "      <td>NaN</td>\n",
       "    </tr>\n",
       "  </tbody>\n",
       "</table>\n",
       "</div>"
      ],
      "text/plain": [
       "  neighbourhood neighbourhood_cleansed  neighbourhood_group_cleansed\n",
       "0    Roslindale             Roslindale                           NaN\n",
       "1    Roslindale             Roslindale                           NaN\n",
       "2    Roslindale             Roslindale                           NaN\n",
       "3           NaN             Roslindale                           NaN\n",
       "4    Roslindale             Roslindale                           NaN"
      ]
     },
     "execution_count": 69,
     "metadata": {},
     "output_type": "execute_result"
    }
   ],
   "source": [
    "df_listings[['neighbourhood','neighbourhood_cleansed','neighbourhood_group_cleansed']].head()"
   ]
  },
  {
   "cell_type": "code",
   "execution_count": 71,
   "metadata": {},
   "outputs": [
    {
     "data": {
      "text/plain": [
       "Allston-Brighton      364\n",
       "Jamaica Plain         314\n",
       "South End             298\n",
       "Back Bay              291\n",
       "Fenway/Kenmore        249\n",
       "South Boston          216\n",
       "Dorchester            195\n",
       "Beacon Hill           174\n",
       "North End             125\n",
       "East Boston           117\n",
       "Roxbury               116\n",
       "Mission Hill          103\n",
       "Charlestown            79\n",
       "Chinatown              78\n",
       "West End               68\n",
       "Roslindale             50\n",
       "West Roxbury           35\n",
       "Theater District       33\n",
       "Downtown Crossing      26\n",
       "Hyde Park              25\n",
       "Mattapan               20\n",
       "Financial District     13\n",
       "Somerville             13\n",
       "Brookline               8\n",
       "Downtown                8\n",
       "Leather District        8\n",
       "Cambridge               7\n",
       "Chestnut Hill           4\n",
       "Government Center       3\n",
       "Harvard Square          2\n",
       "Name: neighbourhood, dtype: int64"
      ]
     },
     "execution_count": 71,
     "metadata": {},
     "output_type": "execute_result"
    }
   ],
   "source": [
    "df_listings['neighbourhood'].value_counts() # may be useful"
   ]
  },
  {
   "cell_type": "code",
   "execution_count": 73,
   "metadata": {},
   "outputs": [
    {
     "data": {
      "text/plain": [
       "Jamaica Plain              343\n",
       "South End                  326\n",
       "Back Bay                   302\n",
       "Fenway                     290\n",
       "Dorchester                 269\n",
       "Allston                    260\n",
       "Beacon Hill                194\n",
       "Brighton                   185\n",
       "South Boston               174\n",
       "Downtown                   172\n",
       "East Boston                150\n",
       "Roxbury                    144\n",
       "North End                  143\n",
       "Mission Hill               124\n",
       "Charlestown                111\n",
       "South Boston Waterfront     83\n",
       "Chinatown                   71\n",
       "Roslindale                  56\n",
       "West End                    49\n",
       "West Roxbury                46\n",
       "Hyde Park                   31\n",
       "Mattapan                    24\n",
       "Bay Village                 24\n",
       "Longwood Medical Area        9\n",
       "Leather District             5\n",
       "Name: neighbourhood_cleansed, dtype: int64"
      ]
     },
     "execution_count": 73,
     "metadata": {},
     "output_type": "execute_result"
    }
   ],
   "source": [
    "df_listings['neighbourhood_cleansed'].value_counts()"
   ]
  },
  {
   "cell_type": "code",
   "execution_count": 75,
   "metadata": {},
   "outputs": [
    {
     "data": {
      "text/plain": [
       "Series([], Name: neighbourhood_group_cleansed, dtype: int64)"
      ]
     },
     "execution_count": 75,
     "metadata": {},
     "output_type": "execute_result"
    }
   ],
   "source": [
    "df_listings['neighbourhood_group_cleansed'].value_counts() #All NaN "
   ]
  },
  {
   "cell_type": "code",
   "execution_count": 77,
   "metadata": {},
   "outputs": [
    {
     "data": {
      "text/html": [
       "<div>\n",
       "<style scoped>\n",
       "    .dataframe tbody tr th:only-of-type {\n",
       "        vertical-align: middle;\n",
       "    }\n",
       "\n",
       "    .dataframe tbody tr th {\n",
       "        vertical-align: top;\n",
       "    }\n",
       "\n",
       "    .dataframe thead th {\n",
       "        text-align: right;\n",
       "    }\n",
       "</style>\n",
       "<table border=\"1\" class=\"dataframe\">\n",
       "  <thead>\n",
       "    <tr style=\"text-align: right;\">\n",
       "      <th></th>\n",
       "      <th>city</th>\n",
       "      <th>state</th>\n",
       "      <th>zipcode</th>\n",
       "    </tr>\n",
       "  </thead>\n",
       "  <tbody>\n",
       "    <tr>\n",
       "      <th>0</th>\n",
       "      <td>Boston</td>\n",
       "      <td>MA</td>\n",
       "      <td>02131</td>\n",
       "    </tr>\n",
       "    <tr>\n",
       "      <th>1</th>\n",
       "      <td>Boston</td>\n",
       "      <td>MA</td>\n",
       "      <td>02131</td>\n",
       "    </tr>\n",
       "    <tr>\n",
       "      <th>2</th>\n",
       "      <td>Boston</td>\n",
       "      <td>MA</td>\n",
       "      <td>02131</td>\n",
       "    </tr>\n",
       "    <tr>\n",
       "      <th>3</th>\n",
       "      <td>Boston</td>\n",
       "      <td>MA</td>\n",
       "      <td>NaN</td>\n",
       "    </tr>\n",
       "    <tr>\n",
       "      <th>4</th>\n",
       "      <td>Boston</td>\n",
       "      <td>MA</td>\n",
       "      <td>02131</td>\n",
       "    </tr>\n",
       "  </tbody>\n",
       "</table>\n",
       "</div>"
      ],
      "text/plain": [
       "     city state zipcode\n",
       "0  Boston    MA   02131\n",
       "1  Boston    MA   02131\n",
       "2  Boston    MA   02131\n",
       "3  Boston    MA     NaN\n",
       "4  Boston    MA   02131"
      ]
     },
     "execution_count": 77,
     "metadata": {},
     "output_type": "execute_result"
    }
   ],
   "source": [
    "df_listings[['city','state','zipcode']].head()"
   ]
  },
  {
   "cell_type": "code",
   "execution_count": 78,
   "metadata": {},
   "outputs": [
    {
     "data": {
      "text/plain": [
       "Boston                       3381\n",
       "Roxbury Crossing               24\n",
       "Somerville                     19\n",
       "Brookline                      18\n",
       "Jamaica Plain                  18\n",
       "Cambridge                      16\n",
       "Dorchester                     15\n",
       "Brighton                       15\n",
       "Charlestown                    15\n",
       "Allston                        12\n",
       "Roslindale                      6\n",
       "West Roxbury                    5\n",
       "ROXBURY CROSSING                4\n",
       "East Boston                     3\n",
       "Mattapan                        3\n",
       "Boston, Massachusetts, US       2\n",
       "South Boston                    2\n",
       "Hyde Park                       2\n",
       "Jamaica Plain, Boston           2\n",
       "ALLSTON                         2\n",
       "Jamaica Plain                   2\n",
       "Jamaica Plain, MA               1\n",
       "Boston (Charlestown)            1\n",
       "boston                          1\n",
       "Mission Hill, Boston            1\n",
       "Watertown                       1\n",
       "east Boston                     1\n",
       "South End, Boston               1\n",
       "dorchester, boston              1\n",
       "Milton                          1\n",
       "Jamaica Plain (Boston)          1\n",
       "波士顿                             1\n",
       "Brighton                        1\n",
       "Boston                          1\n",
       "Jamaica plain                   1\n",
       "Newton                          1\n",
       "Boston (Jamaica Plain)          1\n",
       "Roslindale, Boston              1\n",
       "Name: city, dtype: int64"
      ]
     },
     "execution_count": 78,
     "metadata": {},
     "output_type": "execute_result"
    }
   ],
   "source": [
    "df_listings['city'].value_counts()"
   ]
  },
  {
   "cell_type": "code",
   "execution_count": 79,
   "metadata": {},
   "outputs": [
    {
     "data": {
      "text/plain": [
       "MA    3585\n",
       "Name: state, dtype: int64"
      ]
     },
     "execution_count": 79,
     "metadata": {},
     "output_type": "execute_result"
    }
   ],
   "source": [
    "df_listings['state'].value_counts() # useless"
   ]
  },
  {
   "cell_type": "code",
   "execution_count": 81,
   "metadata": {},
   "outputs": [
    {
     "data": {
      "text/plain": [
       "02116          388\n",
       "02130          331\n",
       "02118          247\n",
       "02215          236\n",
       "02134          232\n",
       "02114          231\n",
       "02127          180\n",
       "02135          172\n",
       "02115          169\n",
       "02128          146\n",
       "02125          129\n",
       "02120          115\n",
       "02113          101\n",
       "02119          100\n",
       "02111           99\n",
       "02129           90\n",
       "02124           80\n",
       "02210           75\n",
       "02108           72\n",
       "02131           65\n",
       "02109           51\n",
       "02122           44\n",
       "02132           37\n",
       "02121           29\n",
       "02136           29\n",
       "02126           24\n",
       "02110           13\n",
       "02145           12\n",
       "02446            8\n",
       "02143            7\n",
       "02138            6\n",
       "02139            6\n",
       "02467            5\n",
       "02445            5\n",
       "02163            3\n",
       "02141            3\n",
       "02186            1\n",
       "02134-1704       1\n",
       "02169            1\n",
       "02218            1\n",
       "02108 02111      1\n",
       "02472            1\n",
       "02142            1\n",
       "Name: zipcode, dtype: int64"
      ]
     },
     "execution_count": 81,
     "metadata": {},
     "output_type": "execute_result"
    }
   ],
   "source": [
    "df_listings['zipcode'].value_counts()"
   ]
  },
  {
   "cell_type": "code",
   "execution_count": 83,
   "metadata": {},
   "outputs": [
    {
     "data": {
      "text/plain": [
       "Boston                   3568\n",
       "San Francisco               1\n",
       "Other (International)       1\n",
       "Other (Domestic)            1\n",
       "Name: market, dtype: int64"
      ]
     },
     "execution_count": 83,
     "metadata": {},
     "output_type": "execute_result"
    }
   ],
   "source": [
    "df_listings['market'].value_counts() # useless"
   ]
  },
  {
   "cell_type": "code",
   "execution_count": 84,
   "metadata": {},
   "outputs": [
    {
     "data": {
      "text/plain": [
       "0    Boston, MA\n",
       "1    Boston, MA\n",
       "2    Boston, MA\n",
       "3    Boston, MA\n",
       "4    Boston, MA\n",
       "Name: smart_location, dtype: object"
      ]
     },
     "execution_count": 84,
     "metadata": {},
     "output_type": "execute_result"
    }
   ],
   "source": [
    "df_listings['smart_location'].head()"
   ]
  },
  {
   "cell_type": "code",
   "execution_count": 85,
   "metadata": {},
   "outputs": [
    {
     "data": {
      "text/plain": [
       "Boston, MA                       3381\n",
       "Roxbury Crossing, MA               24\n",
       "Somerville, MA                     19\n",
       "Brookline, MA                      18\n",
       "Jamaica Plain, MA                  18\n",
       "Cambridge, MA                      16\n",
       "Brighton, MA                       15\n",
       "Charlestown, MA                    15\n",
       "Dorchester, MA                     15\n",
       "Allston, MA                        12\n",
       "Roslindale, MA                      6\n",
       "West Roxbury, MA                    5\n",
       "ROXBURY CROSSING, MA                4\n",
       "East Boston, MA                     3\n",
       "Mattapan, MA                        3\n",
       "Jamaica Plain , MA                  2\n",
       "ALLSTON, MA                         2\n",
       "Boston, Massachusetts, US, MA       2\n",
       "Jamaica Plain, Boston, MA           2\n",
       "South Boston, MA                    2\n",
       "Hyde Park, MA                       2\n",
       "MA                                  2\n",
       "Jamaica Plain, MA, MA               1\n",
       "dorchester, boston , MA             1\n",
       "Newton, MA                          1\n",
       "Jamaica Plain (Boston), MA          1\n",
       "Jamaica plain , MA                  1\n",
       "Boston (Charlestown), MA            1\n",
       "Roslindale, Boston, MA              1\n",
       "Watertown, MA                       1\n",
       "Milton, MA                          1\n",
       "波士顿, MA                             1\n",
       "Brighton , MA                       1\n",
       "Mission Hill, Boston, MA            1\n",
       "Boston , MA                         1\n",
       "South End, Boston, MA               1\n",
       "east Boston , MA                    1\n",
       "boston, MA                          1\n",
       "Boston (Jamaica Plain), MA          1\n",
       "Name: smart_location, dtype: int64"
      ]
     },
     "execution_count": 85,
     "metadata": {},
     "output_type": "execute_result"
    }
   ],
   "source": [
    "df_listings['smart_location'].value_counts() #city and smart location seems same"
   ]
  },
  {
   "cell_type": "code",
   "execution_count": 95,
   "metadata": {},
   "outputs": [],
   "source": [
    "city_values = df_listings['city'].value_counts().values"
   ]
  },
  {
   "cell_type": "code",
   "execution_count": 94,
   "metadata": {},
   "outputs": [],
   "source": [
    "smart_location_values=df_listings['smart_location'].value_counts().values"
   ]
  },
  {
   "cell_type": "code",
   "execution_count": 104,
   "metadata": {},
   "outputs": [
    {
     "data": {
      "text/plain": [
       "True"
      ]
     },
     "execution_count": 104,
     "metadata": {},
     "output_type": "execute_result"
    }
   ],
   "source": [
    "set(city_values)==set(smart_location_values) #they are same"
   ]
  },
  {
   "cell_type": "code",
   "execution_count": 98,
   "metadata": {},
   "outputs": [
    {
     "data": {
      "text/plain": [
       "array([3381,   24,   19,   18,   18,   16,   15,   15,   15,   12,    6,\n",
       "          5,    4,    3,    3,    2,    2,    2,    2,    2,    2,    2,\n",
       "          1,    1,    1,    1,    1,    1,    1,    1,    1,    1,    1,\n",
       "          1,    1,    1,    1,    1,    1], dtype=int64)"
      ]
     },
     "execution_count": 98,
     "metadata": {},
     "output_type": "execute_result"
    }
   ],
   "source": [
    "smart_location_values"
   ]
  },
  {
   "cell_type": "code",
   "execution_count": 106,
   "metadata": {},
   "outputs": [
    {
     "data": {
      "text/plain": [
       "US    3585\n",
       "Name: country_code, dtype: int64"
      ]
     },
     "execution_count": 106,
     "metadata": {},
     "output_type": "execute_result"
    }
   ],
   "source": [
    "df_listings['country_code'].value_counts() #use less"
   ]
  },
  {
   "cell_type": "code",
   "execution_count": 107,
   "metadata": {},
   "outputs": [
    {
     "data": {
      "text/plain": [
       "United States    3585\n",
       "Name: country, dtype: int64"
      ]
     },
     "execution_count": 107,
     "metadata": {},
     "output_type": "execute_result"
    }
   ],
   "source": [
    "df_listings['country'].value_counts()#useless"
   ]
  },
  {
   "cell_type": "code",
   "execution_count": 108,
   "metadata": {},
   "outputs": [
    {
     "data": {
      "text/plain": [
       "<matplotlib.axes._subplots.AxesSubplot at 0x2229a5c7f98>"
      ]
     },
     "execution_count": 108,
     "metadata": {},
     "output_type": "execute_result"
    },
    {
     "data": {
      "image/png": "[encoded data removed]",
      "text/plain": [
       "<Figure size 432x288 with 1 Axes>"
      ]
     },
     "metadata": {
      "needs_background": "light"
     },
     "output_type": "display_data"
    }
   ],
   "source": [
    "sb.scatterplot(x='longitude',y='latitude',data=df_listings)"
   ]
  },
  {
   "cell_type": "code",
   "execution_count": 110,
   "metadata": {},
   "outputs": [
    {
     "data": {
      "text/plain": [
       "t    3080\n",
       "f     505\n",
       "Name: is_location_exact, dtype: int64"
      ]
     },
     "execution_count": 110,
     "metadata": {},
     "output_type": "execute_result"
    }
   ],
   "source": [
    "df_listings['is_location_exact'].value_counts() # may be useful "
   ]
  },
  {
   "cell_type": "code",
   "execution_count": 112,
   "metadata": {},
   "outputs": [
    {
     "data": {
      "text/plain": [
       "Apartment          2612\n",
       "House               562\n",
       "Condominium         231\n",
       "Townhouse            54\n",
       "Bed & Breakfast      41\n",
       "Loft                 39\n",
       "Other                17\n",
       "Boat                 12\n",
       "Villa                 6\n",
       "Entire Floor          4\n",
       "Dorm                  2\n",
       "Guesthouse            1\n",
       "Camper/RV             1\n",
       "Name: property_type, dtype: int64"
      ]
     },
     "execution_count": 112,
     "metadata": {},
     "output_type": "execute_result"
    }
   ],
   "source": [
    "df_listings['property_type'].value_counts()#should be important in price prediction"
   ]
  },
  {
   "cell_type": "code",
   "execution_count": 120,
   "metadata": {},
   "outputs": [
    {
     "data": {
      "text/plain": [
       "Entire home/apt    2127\n",
       "Private room       1378\n",
       "Shared room          80\n",
       "Name: room_type, dtype: int64"
      ]
     },
     "execution_count": 120,
     "metadata": {},
     "output_type": "execute_result"
    }
   ],
   "source": [
    "df_listings['room_type'].value_counts() # should be important "
   ]
  },
  {
   "cell_type": "code",
   "execution_count": null,
   "metadata": {},
   "outputs": [],
   "source": []
  },
  {
   "cell_type": "code",
   "execution_count": 115,
   "metadata": {},
   "outputs": [
    {
     "data": {
      "text/plain": [
       "0    4\n",
       "1    2\n",
       "2    2\n",
       "3    4\n",
       "4    2\n",
       "Name: accommodates, dtype: int64"
      ]
     },
     "execution_count": 115,
     "metadata": {},
     "output_type": "execute_result"
    }
   ],
   "source": [
    "df_listings['accommodates'].head()"
   ]
  },
  {
   "cell_type": "code",
   "execution_count": 116,
   "metadata": {},
   "outputs": [
    {
     "data": {
      "text/plain": [
       "2     1483\n",
       "4      650\n",
       "1      439\n",
       "3      428\n",
       "5      245\n",
       "6      203\n",
       "8       55\n",
       "7       39\n",
       "10      19\n",
       "9       10\n",
       "12       5\n",
       "11       4\n",
       "14       3\n",
       "16       2\n",
       "Name: accommodates, dtype: int64"
      ]
     },
     "execution_count": 116,
     "metadata": {},
     "output_type": "execute_result"
    }
   ],
   "source": [
    "df_listings['accommodates'].value_counts() #may be important in price prediction"
   ]
  },
  {
   "cell_type": "code",
   "execution_count": 121,
   "metadata": {},
   "outputs": [
    {
     "data": {
      "text/plain": [
       "1.0    2751\n",
       "2.0     478\n",
       "1.5     208\n",
       "2.5      68\n",
       "3.0      21\n",
       "3.5      13\n",
       "0.0      13\n",
       "0.5       7\n",
       "5.0       5\n",
       "6.0       4\n",
       "4.0       2\n",
       "4.5       1\n",
       "Name: bathrooms, dtype: int64"
      ]
     },
     "execution_count": 121,
     "metadata": {},
     "output_type": "execute_result"
    }
   ],
   "source": [
    "df_listings['bathrooms'].value_counts()#"
   ]
  },
  {
   "cell_type": "code",
   "execution_count": 123,
   "metadata": {},
   "outputs": [
    {
     "data": {
      "text/plain": [
       "1.0     2165\n",
       "2.0      953\n",
       "3.0      275\n",
       "4.0      106\n",
       "5.0       40\n",
       "6.0       16\n",
       "7.0        8\n",
       "8.0        6\n",
       "0.0        4\n",
       "9.0        2\n",
       "16.0       1\n",
       "Name: beds, dtype: int64"
      ]
     },
     "execution_count": 123,
     "metadata": {},
     "output_type": "execute_result"
    }
   ],
   "source": [
    "df_listings['beds'].value_counts() #may be important for prediction"
   ]
  },
  {
   "cell_type": "code",
   "execution_count": 124,
   "metadata": {},
   "outputs": [
    {
     "data": {
      "text/plain": [
       "Real Bed         3453\n",
       "Futon              51\n",
       "Airbed             40\n",
       "Pull-out Sofa      31\n",
       "Couch              10\n",
       "Name: bed_type, dtype: int64"
      ]
     },
     "execution_count": 124,
     "metadata": {},
     "output_type": "execute_result"
    }
   ],
   "source": [
    "df_listings['bed_type'].value_counts()"
   ]
  },
  {
   "cell_type": "code",
   "execution_count": 126,
   "metadata": {},
   "outputs": [
    {
     "data": {
      "text/plain": [
       "0    {TV,\"Wireless Internet\",Kitchen,\"Free Parking ...\n",
       "1    {TV,Internet,\"Wireless Internet\",\"Air Conditio...\n",
       "2    {TV,\"Cable TV\",\"Wireless Internet\",\"Air Condit...\n",
       "3    {TV,Internet,\"Wireless Internet\",\"Air Conditio...\n",
       "4    {Internet,\"Wireless Internet\",\"Air Conditionin...\n",
       "Name: amenities, dtype: object"
      ]
     },
     "execution_count": 126,
     "metadata": {},
     "output_type": "execute_result"
    }
   ],
   "source": [
    "df_listings['amenities'].head()"
   ]
  },
  {
   "cell_type": "code",
   "execution_count": 130,
   "metadata": {},
   "outputs": [
    {
     "data": {
      "text/plain": [
       "'{TV,\"Wireless Internet\",Kitchen,\"Free Parking on Premises\",\"Pets live on this property\",Dog(s),Heating,\"Family/Kid Friendly\",Washer,Dryer,\"Smoke Detector\",\"Fire Extinguisher\",Essentials,Shampoo,\"Laptop Friendly Workspace\"}'"
      ]
     },
     "execution_count": 130,
     "metadata": {},
     "output_type": "execute_result"
    }
   ],
   "source": [
    "df_listings['amenities'][0]"
   ]
  },
  {
   "cell_type": "code",
   "execution_count": 131,
   "metadata": {},
   "outputs": [
    {
     "data": {
      "text/plain": [
       "'{TV,Internet,\"Wireless Internet\",\"Air Conditioning\",Kitchen,\"Pets Allowed\",\"Pets live on this property\",Dog(s),Heating,\"Family/Kid Friendly\",Washer,Dryer,\"Smoke Detector\",\"Carbon Monoxide Detector\",\"Fire Extinguisher\",Essentials,Shampoo,\"Lock on Bedroom Door\",Hangers,\"Hair Dryer\",Iron}'"
      ]
     },
     "execution_count": 131,
     "metadata": {},
     "output_type": "execute_result"
    }
   ],
   "source": [
    "df_listings['amenities'][1]#need engeeerning"
   ]
  },
  {
   "cell_type": "code",
   "execution_count": 144,
   "metadata": {},
   "outputs": [
    {
     "data": {
      "text/plain": [
       "0.015620641562064157"
      ]
     },
     "execution_count": 144,
     "metadata": {},
     "output_type": "execute_result"
    }
   ],
   "source": [
    "df_listings['square_feet'].notnull().mean()"
   ]
  },
  {
   "cell_type": "code",
   "execution_count": 145,
   "metadata": {},
   "outputs": [
    {
     "data": {
      "text/plain": [
       "0.0"
      ]
     },
     "execution_count": 145,
     "metadata": {},
     "output_type": "execute_result"
    }
   ],
   "source": [
    "df_listings['price'].isnull().mean()"
   ]
  },
  {
   "cell_type": "code",
   "execution_count": 146,
   "metadata": {},
   "outputs": [
    {
     "data": {
      "text/plain": [
       "0    $250.00\n",
       "1     $65.00\n",
       "2     $65.00\n",
       "3     $75.00\n",
       "4     $79.00\n",
       "Name: price, dtype: object"
      ]
     },
     "execution_count": 146,
     "metadata": {},
     "output_type": "execute_result"
    }
   ],
   "source": [
    "df_listings['price'].head()"
   ]
  },
  {
   "cell_type": "code",
   "execution_count": 148,
   "metadata": {},
   "outputs": [
    {
     "data": {
      "text/plain": [
       "$150.00      144\n",
       "$200.00      117\n",
       "$100.00      101\n",
       "$250.00       95\n",
       "$75.00        94\n",
       "$60.00        80\n",
       "$199.00       80\n",
       "$175.00       78\n",
       "$65.00        76\n",
       "$125.00       70\n",
       "$99.00        70\n",
       "$70.00        68\n",
       "$80.00        63\n",
       "$225.00       52\n",
       "$85.00        52\n",
       "$50.00        50\n",
       "$300.00       50\n",
       "$120.00       49\n",
       "$169.00       47\n",
       "$130.00       44\n",
       "$95.00        43\n",
       "$45.00        41\n",
       "$160.00       40\n",
       "$90.00        40\n",
       "$55.00        38\n",
       "$110.00       38\n",
       "$135.00       37\n",
       "$79.00        34\n",
       "$319.00       34\n",
       "$119.00       34\n",
       "            ... \n",
       "$204.00        1\n",
       "$132.00        1\n",
       "$213.00        1\n",
       "$286.00        1\n",
       "$459.00        1\n",
       "$306.00        1\n",
       "$380.00        1\n",
       "$536.00        1\n",
       "$214.00        1\n",
       "$242.00        1\n",
       "$559.00        1\n",
       "$402.00        1\n",
       "$86.00         1\n",
       "$223.00        1\n",
       "$1,400.00      1\n",
       "$54.00         1\n",
       "$254.00        1\n",
       "$769.00        1\n",
       "$570.00        1\n",
       "$464.00        1\n",
       "$326.00        1\n",
       "$104.00        1\n",
       "$11.00         1\n",
       "$248.00        1\n",
       "$217.00        1\n",
       "$182.00        1\n",
       "$680.00        1\n",
       "$725.00        1\n",
       "$123.00        1\n",
       "$499.00        1\n",
       "Name: price, Length: 324, dtype: int64"
      ]
     },
     "execution_count": 148,
     "metadata": {},
     "output_type": "execute_result"
    }
   ],
   "source": [
    "df_listings['price'].value_counts()"
   ]
  },
  {
   "cell_type": "code",
   "execution_count": 150,
   "metadata": {},
   "outputs": [
    {
     "data": {
      "text/plain": [
       "0.7511854951185495"
      ]
     },
     "execution_count": 150,
     "metadata": {},
     "output_type": "execute_result"
    }
   ],
   "source": [
    "df_listings['weekly_price'].isnull().mean()"
   ]
  },
  {
   "cell_type": "code",
   "execution_count": 152,
   "metadata": {},
   "outputs": [
    {
     "data": {
      "text/plain": [
       "0        NaN\n",
       "1    $400.00\n",
       "2    $395.00\n",
       "3        NaN\n",
       "4        NaN\n",
       "Name: weekly_price, dtype: object"
      ]
     },
     "execution_count": 152,
     "metadata": {},
     "output_type": "execute_result"
    }
   ],
   "source": [
    "df_listings['weekly_price'].head()"
   ]
  },
  {
   "cell_type": "code",
   "execution_count": 151,
   "metadata": {},
   "outputs": [
    {
     "data": {
      "text/plain": [
       "0.7523012552301255"
      ]
     },
     "execution_count": 151,
     "metadata": {},
     "output_type": "execute_result"
    }
   ],
   "source": [
    "df_listings['monthly_price'].isnull().mean()"
   ]
  },
  {
   "cell_type": "code",
   "execution_count": 153,
   "metadata": {},
   "outputs": [
    {
     "data": {
      "text/plain": [
       "0          NaN\n",
       "1          NaN\n",
       "2    $1,350.00\n",
       "3          NaN\n",
       "4          NaN\n",
       "Name: monthly_price, dtype: object"
      ]
     },
     "execution_count": 153,
     "metadata": {},
     "output_type": "execute_result"
    }
   ],
   "source": [
    "df_listings['monthly_price'].head()"
   ]
  },
  {
   "cell_type": "code",
   "execution_count": null,
   "metadata": {},
   "outputs": [],
   "source": []
  },
  {
   "cell_type": "code",
   "execution_count": 154,
   "metadata": {},
   "outputs": [
    {
     "data": {
      "text/plain": [
       "0    $35.00\n",
       "1    $10.00\n",
       "2       NaN\n",
       "3    $50.00\n",
       "4    $15.00\n",
       "Name: cleaning_fee, dtype: object"
      ]
     },
     "execution_count": 154,
     "metadata": {},
     "output_type": "execute_result"
    }
   ],
   "source": [
    "df_listings['cleaning_fee'].head()"
   ]
  },
  {
   "cell_type": "code",
   "execution_count": 155,
   "metadata": {},
   "outputs": [
    {
     "data": {
      "text/plain": [
       "0.3087866108786611"
      ]
     },
     "execution_count": 155,
     "metadata": {},
     "output_type": "execute_result"
    }
   ],
   "source": [
    "df_listings['cleaning_fee'].isnull().mean()"
   ]
  },
  {
   "cell_type": "code",
   "execution_count": 156,
   "metadata": {},
   "outputs": [
    {
     "data": {
      "text/plain": [
       "0    1\n",
       "1    0\n",
       "2    1\n",
       "3    2\n",
       "4    1\n",
       "Name: guests_included, dtype: int64"
      ]
     },
     "execution_count": 156,
     "metadata": {},
     "output_type": "execute_result"
    }
   ],
   "source": [
    "df_listings['guests_included'].head()"
   ]
  },
  {
   "cell_type": "code",
   "execution_count": 157,
   "metadata": {},
   "outputs": [
    {
     "data": {
      "text/plain": [
       "1     2607\n",
       "2      554\n",
       "4      169\n",
       "3       91\n",
       "0       88\n",
       "6       37\n",
       "5       28\n",
       "8        6\n",
       "9        1\n",
       "7        1\n",
       "14       1\n",
       "12       1\n",
       "10       1\n",
       "Name: guests_included, dtype: int64"
      ]
     },
     "execution_count": 157,
     "metadata": {},
     "output_type": "execute_result"
    }
   ],
   "source": [
    "df_listings['guests_included'].value_counts() #guests_included"
   ]
  },
  {
   "cell_type": "code",
   "execution_count": 158,
   "metadata": {},
   "outputs": [
    {
     "data": {
      "text/plain": [
       "0     $0.00\n",
       "1     $0.00\n",
       "2    $20.00\n",
       "3    $25.00\n",
       "4     $0.00\n",
       "Name: extra_people, dtype: object"
      ]
     },
     "execution_count": 158,
     "metadata": {},
     "output_type": "execute_result"
    }
   ],
   "source": [
    "df_listings['extra_people'].head()"
   ]
  },
  {
   "cell_type": "code",
   "execution_count": 165,
   "metadata": {},
   "outputs": [
    {
     "data": {
      "text/plain": [
       "$0.00      2211\n",
       "$25.00      277\n",
       "$20.00      237\n",
       "$10.00      212\n",
       "$50.00      145\n",
       "$15.00      136\n",
       "$30.00       79\n",
       "$35.00       48\n",
       "$40.00       42\n",
       "$100.00      33\n",
       "$5.00        27\n",
       "$45.00       19\n",
       "$75.00        9\n",
       "$12.00        8\n",
       "$70.00        7\n",
       "$49.00        7\n",
       "$39.00        7\n",
       "$24.00        6\n",
       "$60.00        6\n",
       "$17.00        6\n",
       "$19.00        4\n",
       "$150.00       4\n",
       "$8.00         4\n",
       "$37.00        4\n",
       "$7.00         4\n",
       "$80.00        3\n",
       "$200.00       3\n",
       "$65.00        3\n",
       "$22.00        3\n",
       "$18.00        2\n",
       "$27.00        2\n",
       "$34.00        2\n",
       "$9.00         2\n",
       "$29.00        2\n",
       "$16.00        2\n",
       "$36.00        2\n",
       "$59.00        2\n",
       "$55.00        2\n",
       "$69.00        1\n",
       "$77.00        1\n",
       "$62.00        1\n",
       "$125.00       1\n",
       "$88.00        1\n",
       "$85.00        1\n",
       "$42.00        1\n",
       "$58.00        1\n",
       "$33.00        1\n",
       "$120.00       1\n",
       "$44.00        1\n",
       "$6.00         1\n",
       "$89.00        1\n",
       "Name: extra_people, dtype: int64"
      ]
     },
     "execution_count": 165,
     "metadata": {},
     "output_type": "execute_result"
    }
   ],
   "source": [
    "df_listings['extra_people'].value_counts()"
   ]
  },
  {
   "cell_type": "code",
   "execution_count": 160,
   "metadata": {},
   "outputs": [
    {
     "data": {
      "text/plain": [
       "0    2\n",
       "1    2\n",
       "2    3\n",
       "3    1\n",
       "4    2\n",
       "Name: minimum_nights, dtype: int64"
      ]
     },
     "execution_count": 160,
     "metadata": {},
     "output_type": "execute_result"
    }
   ],
   "source": [
    "df_listings['minimum_nights'].head()"
   ]
  },
  {
   "cell_type": "code",
   "execution_count": 162,
   "metadata": {},
   "outputs": [
    {
     "data": {
      "text/plain": [
       "<matplotlib.axes._subplots.AxesSubplot at 0x22299ce2828>"
      ]
     },
     "execution_count": 162,
     "metadata": {},
     "output_type": "execute_result"
    },
    {
     "data": {
      "image/png": "[encoded data removed]",
      "text/plain": [
       "<Figure size 432x288 with 1 Axes>"
      ]
     },
     "metadata": {
      "needs_background": "light"
     },
     "output_type": "display_data"
    }
   ],
   "source": [
    "df_listings['minimum_nights'].value_counts().hist()"
   ]
  },
  {
   "cell_type": "code",
   "execution_count": 166,
   "metadata": {},
   "outputs": [
    {
     "data": {
      "text/plain": [
       "0    1125\n",
       "1      15\n",
       "2      45\n",
       "3    1125\n",
       "4      31\n",
       "Name: maximum_nights, dtype: int64"
      ]
     },
     "execution_count": 166,
     "metadata": {},
     "output_type": "execute_result"
    }
   ],
   "source": [
    "df_listings['maximum_nights'].head()"
   ]
  },
  {
   "cell_type": "code",
   "execution_count": 167,
   "metadata": {},
   "outputs": [
    {
     "data": {
      "text/plain": [
       "1125        2528\n",
       "365          134\n",
       "30           100\n",
       "7             68\n",
       "90            61\n",
       "14            52\n",
       "60            51\n",
       "5             42\n",
       "10            41\n",
       "180           39\n",
       "3             34\n",
       "4             31\n",
       "120           30\n",
       "730           26\n",
       "45            23\n",
       "28            21\n",
       "21            21\n",
       "15            20\n",
       "2             17\n",
       "8             17\n",
       "6             17\n",
       "31            16\n",
       "29            16\n",
       "20            15\n",
       "25            14\n",
       "1             12\n",
       "40             7\n",
       "360            7\n",
       "100            6\n",
       "35             5\n",
       "            ... \n",
       "1000           2\n",
       "366            2\n",
       "200            2\n",
       "138            1\n",
       "250            1\n",
       "1500           1\n",
       "363            1\n",
       "99999999       1\n",
       "1100           1\n",
       "125            1\n",
       "9999           1\n",
       "18             1\n",
       "400            1\n",
       "270            1\n",
       "87             1\n",
       "85             1\n",
       "130            1\n",
       "38             1\n",
       "42             1\n",
       "19             1\n",
       "160            1\n",
       "62             1\n",
       "70             1\n",
       "80             1\n",
       "84             1\n",
       "2000           1\n",
       "96             1\n",
       "49             1\n",
       "146            1\n",
       "59             1\n",
       "Name: maximum_nights, Length: 85, dtype: int64"
      ]
     },
     "execution_count": 167,
     "metadata": {},
     "output_type": "execute_result"
    }
   ],
   "source": [
    "df_listings['maximum_nights'].value_counts()"
   ]
  },
  {
   "cell_type": "code",
   "execution_count": 168,
   "metadata": {},
   "outputs": [
    {
     "data": {
      "text/plain": [
       "0    2 weeks ago\n",
       "1     a week ago\n",
       "2     5 days ago\n",
       "3     a week ago\n",
       "4    2 weeks ago\n",
       "Name: calendar_updated, dtype: object"
      ]
     },
     "execution_count": 168,
     "metadata": {},
     "output_type": "execute_result"
    }
   ],
   "source": [
    "df_listings['calendar_updated'].head()"
   ]
  },
  {
   "cell_type": "code",
   "execution_count": 169,
   "metadata": {},
   "outputs": [
    {
     "data": {
      "text/plain": [
       "today            833\n",
       "a week ago       340\n",
       "2 weeks ago      307\n",
       "3 weeks ago      221\n",
       "yesterday        174\n",
       "4 days ago       168\n",
       "2 months ago     165\n",
       "4 weeks ago      158\n",
       "5 days ago       132\n",
       "3 months ago     131\n",
       "5 weeks ago      128\n",
       "3 days ago       101\n",
       "2 days ago        98\n",
       "4 months ago      85\n",
       "6 weeks ago       81\n",
       "5 months ago      56\n",
       "7 months ago      43\n",
       "7 weeks ago       37\n",
       "10 months ago     37\n",
       "6 days ago        36\n",
       "1 week ago        36\n",
       "9 months ago      35\n",
       "8 months ago      32\n",
       "6 months ago      32\n",
       "never             19\n",
       "13 months ago     19\n",
       "14 months ago     19\n",
       "11 months ago     17\n",
       "12 months ago     13\n",
       "17 months ago      9\n",
       "15 months ago      8\n",
       "16 months ago      7\n",
       "18 months ago      2\n",
       "25 months ago      2\n",
       "30 months ago      1\n",
       "23 months ago      1\n",
       "20 months ago      1\n",
       "22 months ago      1\n",
       "Name: calendar_updated, dtype: int64"
      ]
     },
     "execution_count": 169,
     "metadata": {},
     "output_type": "execute_result"
    }
   ],
   "source": [
    "df_listings['calendar_updated'].value_counts()"
   ]
  },
  {
   "cell_type": "code",
   "execution_count": 170,
   "metadata": {},
   "outputs": [
    {
     "data": {
      "text/plain": [
       "0   NaN\n",
       "1   NaN\n",
       "2   NaN\n",
       "3   NaN\n",
       "4   NaN\n",
       "Name: has_availability, dtype: float64"
      ]
     },
     "execution_count": 170,
     "metadata": {},
     "output_type": "execute_result"
    }
   ],
   "source": [
    "df_listings['has_availability'].head()"
   ]
  },
  {
   "cell_type": "code",
   "execution_count": 171,
   "metadata": {},
   "outputs": [
    {
     "data": {
      "text/plain": [
       "1.0"
      ]
     },
     "execution_count": 171,
     "metadata": {},
     "output_type": "execute_result"
    }
   ],
   "source": [
    "df_listings['has_availability'].isnull().mean()#"
   ]
  },
  {
   "cell_type": "code",
   "execution_count": 172,
   "metadata": {},
   "outputs": [
    {
     "data": {
      "text/plain": [
       "0     0\n",
       "1    26\n",
       "2    19\n",
       "3     6\n",
       "4    13\n",
       "Name: availability_30, dtype: int64"
      ]
     },
     "execution_count": 172,
     "metadata": {},
     "output_type": "execute_result"
    }
   ],
   "source": [
    "df_listings['availability_30'].head()"
   ]
  },
  {
   "cell_type": "code",
   "execution_count": 174,
   "metadata": {},
   "outputs": [
    {
     "data": {
      "text/plain": [
       "0     1349\n",
       "29     197\n",
       "30     189\n",
       "2      148\n",
       "5      137\n",
       "3      126\n",
       "4      122\n",
       "1      121\n",
       "6      107\n",
       "7       93\n",
       "11      83\n",
       "8       74\n",
       "10      69\n",
       "9       67\n",
       "12      59\n",
       "15      53\n",
       "13      53\n",
       "14      53\n",
       "17      51\n",
       "26      44\n",
       "18      44\n",
       "20      43\n",
       "28      40\n",
       "24      40\n",
       "27      35\n",
       "21      34\n",
       "23      33\n",
       "19      32\n",
       "16      31\n",
       "25      31\n",
       "22      27\n",
       "Name: availability_30, dtype: int64"
      ]
     },
     "execution_count": 174,
     "metadata": {},
     "output_type": "execute_result"
    }
   ],
   "source": [
    "df_listings['availability_30'].value_counts()"
   ]
  },
  {
   "cell_type": "code",
   "execution_count": 175,
   "metadata": {},
   "outputs": [
    {
     "data": {
      "text/plain": [
       "0      0\n",
       "1    359\n",
       "2    319\n",
       "3     98\n",
       "4    334\n",
       "Name: availability_365, dtype: int64"
      ]
     },
     "execution_count": 175,
     "metadata": {},
     "output_type": "execute_result"
    }
   ],
   "source": [
    "df_listings['availability_365'].head()"
   ]
  },
  {
   "cell_type": "code",
   "execution_count": 176,
   "metadata": {},
   "outputs": [
    {
     "data": {
      "text/plain": [
       "0      679\n",
       "365    103\n",
       "364     95\n",
       "179     66\n",
       "248     55\n",
       "340     40\n",
       "309     33\n",
       "359     30\n",
       "325     27\n",
       "1       26\n",
       "337     25\n",
       "356     25\n",
       "361     22\n",
       "331     21\n",
       "117     20\n",
       "310     20\n",
       "360     20\n",
       "341     20\n",
       "5       20\n",
       "329     19\n",
       "4       19\n",
       "363     19\n",
       "358     19\n",
       "350     19\n",
       "318     19\n",
       "344     19\n",
       "324     19\n",
       "342     19\n",
       "347     19\n",
       "334     19\n",
       "      ... \n",
       "92       2\n",
       "115      2\n",
       "237      2\n",
       "192      2\n",
       "126      2\n",
       "219      1\n",
       "227      1\n",
       "223      1\n",
       "225      1\n",
       "287      1\n",
       "233      1\n",
       "234      1\n",
       "209      1\n",
       "195      1\n",
       "222      1\n",
       "218      1\n",
       "214      1\n",
       "210      1\n",
       "200      1\n",
       "196      1\n",
       "188      1\n",
       "103      1\n",
       "238      1\n",
       "123      1\n",
       "139      1\n",
       "118      1\n",
       "230      1\n",
       "100      1\n",
       "189      1\n",
       "265      1\n",
       "Name: availability_365, Length: 348, dtype: int64"
      ]
     },
     "execution_count": 176,
     "metadata": {},
     "output_type": "execute_result"
    }
   ],
   "source": [
    "df_listings['availability_365'].value_counts()"
   ]
  },
  {
   "cell_type": "code",
   "execution_count": 177,
   "metadata": {},
   "outputs": [
    {
     "data": {
      "text/plain": [
       "0    2016-09-06\n",
       "1    2016-09-06\n",
       "2    2016-09-06\n",
       "3    2016-09-06\n",
       "4    2016-09-06\n",
       "Name: calendar_last_scraped, dtype: object"
      ]
     },
     "execution_count": 177,
     "metadata": {},
     "output_type": "execute_result"
    }
   ],
   "source": [
    "df_listings['calendar_last_scraped'].head()"
   ]
  },
  {
   "cell_type": "code",
   "execution_count": 13,
   "metadata": {},
   "outputs": [
    {
     "data": {
      "text/plain": [
       "2016-09-06    3585\n",
       "Name: calendar_last_scraped, dtype: int64"
      ]
     },
     "execution_count": 13,
     "metadata": {},
     "output_type": "execute_result"
    }
   ],
   "source": [
    "df_listings['calendar_last_scraped'].value_counts()"
   ]
  },
  {
   "cell_type": "code",
   "execution_count": 178,
   "metadata": {},
   "outputs": [
    {
     "data": {
      "text/plain": [
       "0     0\n",
       "1    36\n",
       "2    41\n",
       "3     1\n",
       "4    29\n",
       "Name: number_of_reviews, dtype: int64"
      ]
     },
     "execution_count": 178,
     "metadata": {},
     "output_type": "execute_result"
    }
   ],
   "source": [
    "df_listings['number_of_reviews'].head()"
   ]
  },
  {
   "cell_type": "code",
   "execution_count": 186,
   "metadata": {},
   "outputs": [
    {
     "data": {
      "text/plain": [
       "<matplotlib.axes._subplots.AxesSubplot at 0x2229f3d72b0>"
      ]
     },
     "execution_count": 186,
     "metadata": {},
     "output_type": "execute_result"
    },
    {
     "data": {
      "image/png": "[encoded data removed]",
      "text/plain": [
       "<Figure size 432x288 with 1 Axes>"
      ]
     },
     "metadata": {
      "needs_background": "light"
     },
     "output_type": "display_data"
    }
   ],
   "source": [
    "df_listings['number_of_reviews'].hist()"
   ]
  },
  {
   "cell_type": "code",
   "execution_count": 182,
   "metadata": {},
   "outputs": [
    {
     "data": {
      "text/plain": [
       "0           NaN\n",
       "1    2014-06-01\n",
       "2    2009-07-19\n",
       "3    2016-08-28\n",
       "4    2015-08-18\n",
       "Name: first_review, dtype: object"
      ]
     },
     "execution_count": 182,
     "metadata": {},
     "output_type": "execute_result"
    }
   ],
   "source": [
    "df_listings['first_review'].head()"
   ]
  },
  {
   "cell_type": "code",
   "execution_count": 183,
   "metadata": {},
   "outputs": [
    {
     "data": {
      "text/plain": [
       "2016-04-05    23\n",
       "2016-04-19    19\n",
       "2016-05-15    16\n",
       "2016-04-18    16\n",
       "2015-04-21    16\n",
       "2016-05-31    15\n",
       "2016-08-01    13\n",
       "2016-07-10    13\n",
       "2016-06-05    12\n",
       "2016-03-09    12\n",
       "2016-08-13    12\n",
       "2016-07-24    12\n",
       "2016-08-28    12\n",
       "2016-05-23    12\n",
       "2016-04-17    12\n",
       "2015-09-27    12\n",
       "2016-07-17    11\n",
       "2015-05-26    11\n",
       "2016-07-21    11\n",
       "2015-09-21    11\n",
       "2016-07-22    11\n",
       "2016-01-02    11\n",
       "2016-08-08    11\n",
       "2016-03-20    11\n",
       "2016-07-23    11\n",
       "2016-07-14    10\n",
       "2016-06-20    10\n",
       "2015-11-25    10\n",
       "2016-07-03    10\n",
       "2016-06-06    10\n",
       "              ..\n",
       "2014-01-20     1\n",
       "2012-08-11     1\n",
       "2010-10-24     1\n",
       "2013-06-08     1\n",
       "2010-04-26     1\n",
       "2013-10-04     1\n",
       "2015-09-19     1\n",
       "2014-04-13     1\n",
       "2013-12-16     1\n",
       "2014-08-28     1\n",
       "2016-01-22     1\n",
       "2013-10-02     1\n",
       "2012-01-03     1\n",
       "2015-06-18     1\n",
       "2016-01-27     1\n",
       "2013-10-21     1\n",
       "2012-05-19     1\n",
       "2012-04-23     1\n",
       "2012-10-17     1\n",
       "2010-09-05     1\n",
       "2012-08-09     1\n",
       "2014-11-20     1\n",
       "2014-01-14     1\n",
       "2015-01-10     1\n",
       "2012-07-19     1\n",
       "2015-08-27     1\n",
       "2015-01-04     1\n",
       "2016-02-01     1\n",
       "2016-03-10     1\n",
       "2014-07-09     1\n",
       "Name: first_review, Length: 975, dtype: int64"
      ]
     },
     "execution_count": 183,
     "metadata": {},
     "output_type": "execute_result"
    }
   ],
   "source": [
    "df_listings['first_review'].value_counts()"
   ]
  },
  {
   "cell_type": "code",
   "execution_count": 184,
   "metadata": {},
   "outputs": [
    {
     "data": {
      "text/plain": [
       "0           NaN\n",
       "1    2016-08-13\n",
       "2    2016-08-05\n",
       "3    2016-08-28\n",
       "4    2016-09-01\n",
       "Name: last_review, dtype: object"
      ]
     },
     "execution_count": 184,
     "metadata": {},
     "output_type": "execute_result"
    }
   ],
   "source": [
    "df_listings['last_review'].head()"
   ]
  },
  {
   "cell_type": "code",
   "execution_count": 187,
   "metadata": {},
   "outputs": [
    {
     "data": {
      "text/plain": [
       "0.22677824267782426"
      ]
     },
     "execution_count": 187,
     "metadata": {},
     "output_type": "execute_result"
    }
   ],
   "source": [
    "df_listings['review_scores_rating'].isnull().mean()"
   ]
  },
  {
   "cell_type": "code",
   "execution_count": 188,
   "metadata": {},
   "outputs": [
    {
     "data": {
      "text/plain": [
       "0     NaN\n",
       "1     9.0\n",
       "2     9.0\n",
       "3    10.0\n",
       "4    10.0\n",
       "Name: review_scores_cleanliness, dtype: float64"
      ]
     },
     "execution_count": 188,
     "metadata": {},
     "output_type": "execute_result"
    }
   ],
   "source": [
    "df_listings['review_scores_cleanliness'].head()"
   ]
  },
  {
   "cell_type": "code",
   "execution_count": 189,
   "metadata": {},
   "outputs": [
    {
     "data": {
      "text/plain": [
       "10.0    1543\n",
       "9.0      773\n",
       "8.0      278\n",
       "7.0       78\n",
       "6.0       47\n",
       "4.0       19\n",
       "5.0       14\n",
       "2.0       13\n",
       "3.0        2\n",
       "Name: review_scores_cleanliness, dtype: int64"
      ]
     },
     "execution_count": 189,
     "metadata": {},
     "output_type": "execute_result"
    }
   ],
   "source": [
    "df_listings['review_scores_cleanliness'].value_counts()"
   ]
  },
  {
   "cell_type": "code",
   "execution_count": 190,
   "metadata": {},
   "outputs": [
    {
     "data": {
      "text/plain": [
       "0     NaN\n",
       "1    10.0\n",
       "2    10.0\n",
       "3    10.0\n",
       "4    10.0\n",
       "Name: review_scores_accuracy, dtype: float64"
      ]
     },
     "execution_count": 190,
     "metadata": {},
     "output_type": "execute_result"
    }
   ],
   "source": [
    "df_listings['review_scores_accuracy'].head()"
   ]
  },
  {
   "cell_type": "code",
   "execution_count": 191,
   "metadata": {},
   "outputs": [
    {
     "data": {
      "text/plain": [
       "10.0    1680\n",
       "9.0      793\n",
       "8.0      191\n",
       "7.0       39\n",
       "6.0       38\n",
       "4.0       12\n",
       "5.0        6\n",
       "2.0        3\n",
       "Name: review_scores_accuracy, dtype: int64"
      ]
     },
     "execution_count": 191,
     "metadata": {},
     "output_type": "execute_result"
    }
   ],
   "source": [
    "df_listings['review_scores_accuracy'].value_counts()"
   ]
  },
  {
   "cell_type": "code",
   "execution_count": 192,
   "metadata": {},
   "outputs": [
    {
     "data": {
      "text/plain": [
       "0     NaN\n",
       "1     9.0\n",
       "2     9.0\n",
       "3    10.0\n",
       "4    10.0\n",
       "Name: review_scores_cleanliness, dtype: float64"
      ]
     },
     "execution_count": 192,
     "metadata": {},
     "output_type": "execute_result"
    }
   ],
   "source": [
    "df_listings['review_scores_cleanliness'].head()"
   ]
  },
  {
   "cell_type": "code",
   "execution_count": 193,
   "metadata": {},
   "outputs": [
    {
     "data": {
      "text/plain": [
       "10.0    1543\n",
       "9.0      773\n",
       "8.0      278\n",
       "7.0       78\n",
       "6.0       47\n",
       "4.0       19\n",
       "5.0       14\n",
       "2.0       13\n",
       "3.0        2\n",
       "Name: review_scores_cleanliness, dtype: int64"
      ]
     },
     "execution_count": 193,
     "metadata": {},
     "output_type": "execute_result"
    }
   ],
   "source": [
    "df_listings['review_scores_cleanliness'].value_counts()"
   ]
  },
  {
   "cell_type": "code",
   "execution_count": 194,
   "metadata": {},
   "outputs": [
    {
     "data": {
      "text/plain": [
       "0     NaN\n",
       "1    10.0\n",
       "2    10.0\n",
       "3    10.0\n",
       "4    10.0\n",
       "Name: review_scores_checkin, dtype: float64"
      ]
     },
     "execution_count": 194,
     "metadata": {},
     "output_type": "execute_result"
    }
   ],
   "source": [
    "df_listings['review_scores_checkin'].head()"
   ]
  },
  {
   "cell_type": "code",
   "execution_count": 195,
   "metadata": {},
   "outputs": [
    {
     "data": {
      "text/plain": [
       "<matplotlib.axes._subplots.AxesSubplot at 0x2229f4419b0>"
      ]
     },
     "execution_count": 195,
     "metadata": {},
     "output_type": "execute_result"
    },
    {
     "data": {
      "image/png": "[encoded data removed]",
      "text/plain": [
       "<Figure size 432x288 with 1 Axes>"
      ]
     },
     "metadata": {
      "needs_background": "light"
     },
     "output_type": "display_data"
    }
   ],
   "source": [
    "df_listings['review_scores_checkin'].hist()"
   ]
  },
  {
   "cell_type": "code",
   "execution_count": 196,
   "metadata": {},
   "outputs": [
    {
     "data": {
      "text/plain": [
       "0     NaN\n",
       "1    10.0\n",
       "2    10.0\n",
       "3    10.0\n",
       "4    10.0\n",
       "Name: review_scores_communication, dtype: float64"
      ]
     },
     "execution_count": 196,
     "metadata": {},
     "output_type": "execute_result"
    }
   ],
   "source": [
    "df_listings['review_scores_communication'].head()"
   ]
  },
  {
   "cell_type": "code",
   "execution_count": 197,
   "metadata": {},
   "outputs": [
    {
     "data": {
      "text/plain": [
       "<matplotlib.axes._subplots.AxesSubplot at 0x2229f4b5fd0>"
      ]
     },
     "execution_count": 197,
     "metadata": {},
     "output_type": "execute_result"
    },
    {
     "data": {
      "image/png": "[encoded data removed]",
      "text/plain": [
       "<Figure size 432x288 with 1 Axes>"
      ]
     },
     "metadata": {
      "needs_background": "light"
     },
     "output_type": "display_data"
    }
   ],
   "source": [
    "df_listings['review_scores_communication'].hist()"
   ]
  },
  {
   "cell_type": "code",
   "execution_count": 198,
   "metadata": {},
   "outputs": [
    {
     "data": {
      "text/plain": [
       "0     NaN\n",
       "1     9.0\n",
       "2     9.0\n",
       "3    10.0\n",
       "4     9.0\n",
       "Name: review_scores_location, dtype: float64"
      ]
     },
     "execution_count": 198,
     "metadata": {},
     "output_type": "execute_result"
    }
   ],
   "source": [
    "df_listings['review_scores_location'].head()"
   ]
  },
  {
   "cell_type": "code",
   "execution_count": 14,
   "metadata": {},
   "outputs": [
    {
     "data": {
      "text/plain": [
       "0     NaN\n",
       "1     9.0\n",
       "2    10.0\n",
       "3    10.0\n",
       "4    10.0\n",
       "Name: review_scores_value, dtype: float64"
      ]
     },
     "execution_count": 14,
     "metadata": {},
     "output_type": "execute_result"
    }
   ],
   "source": [
    "df_listings['review_scores_value'].head()"
   ]
  },
  {
   "cell_type": "code",
   "execution_count": 199,
   "metadata": {},
   "outputs": [],
   "source": [
    "all_reviews = ['review_scores_rating',\n",
    " 'review_scores_accuracy',\n",
    " 'review_scores_cleanliness',\n",
    " 'review_scores_checkin',\n",
    " 'review_scores_communication',\n",
    " 'review_scores_location',\n",
    " 'review_scores_value']"
   ]
  },
  {
   "cell_type": "code",
   "execution_count": 205,
   "metadata": {},
   "outputs": [
    {
     "data": {
      "text/html": [
       "<div>\n",
       "<style scoped>\n",
       "    .dataframe tbody tr th:only-of-type {\n",
       "        vertical-align: middle;\n",
       "    }\n",
       "\n",
       "    .dataframe tbody tr th {\n",
       "        vertical-align: top;\n",
       "    }\n",
       "\n",
       "    .dataframe thead th {\n",
       "        text-align: right;\n",
       "    }\n",
       "</style>\n",
       "<table border=\"1\" class=\"dataframe\">\n",
       "  <thead>\n",
       "    <tr style=\"text-align: right;\">\n",
       "      <th></th>\n",
       "      <th>review_scores_rating</th>\n",
       "      <th>review_scores_accuracy</th>\n",
       "      <th>review_scores_cleanliness</th>\n",
       "      <th>review_scores_checkin</th>\n",
       "      <th>review_scores_communication</th>\n",
       "      <th>review_scores_location</th>\n",
       "      <th>review_scores_value</th>\n",
       "    </tr>\n",
       "  </thead>\n",
       "  <tbody>\n",
       "    <tr>\n",
       "      <th>review_scores_rating</th>\n",
       "      <td>1.000000</td>\n",
       "      <td>0.705104</td>\n",
       "      <td>0.754327</td>\n",
       "      <td>0.584034</td>\n",
       "      <td>0.600599</td>\n",
       "      <td>0.458901</td>\n",
       "      <td>0.786320</td>\n",
       "    </tr>\n",
       "    <tr>\n",
       "      <th>review_scores_accuracy</th>\n",
       "      <td>0.705104</td>\n",
       "      <td>1.000000</td>\n",
       "      <td>0.643754</td>\n",
       "      <td>0.468127</td>\n",
       "      <td>0.492731</td>\n",
       "      <td>0.325403</td>\n",
       "      <td>0.665131</td>\n",
       "    </tr>\n",
       "    <tr>\n",
       "      <th>review_scores_cleanliness</th>\n",
       "      <td>0.754327</td>\n",
       "      <td>0.643754</td>\n",
       "      <td>1.000000</td>\n",
       "      <td>0.461132</td>\n",
       "      <td>0.428085</td>\n",
       "      <td>0.353038</td>\n",
       "      <td>0.654177</td>\n",
       "    </tr>\n",
       "    <tr>\n",
       "      <th>review_scores_checkin</th>\n",
       "      <td>0.584034</td>\n",
       "      <td>0.468127</td>\n",
       "      <td>0.461132</td>\n",
       "      <td>1.000000</td>\n",
       "      <td>0.672463</td>\n",
       "      <td>0.280325</td>\n",
       "      <td>0.494745</td>\n",
       "    </tr>\n",
       "    <tr>\n",
       "      <th>review_scores_communication</th>\n",
       "      <td>0.600599</td>\n",
       "      <td>0.492731</td>\n",
       "      <td>0.428085</td>\n",
       "      <td>0.672463</td>\n",
       "      <td>1.000000</td>\n",
       "      <td>0.286326</td>\n",
       "      <td>0.529203</td>\n",
       "    </tr>\n",
       "    <tr>\n",
       "      <th>review_scores_location</th>\n",
       "      <td>0.458901</td>\n",
       "      <td>0.325403</td>\n",
       "      <td>0.353038</td>\n",
       "      <td>0.280325</td>\n",
       "      <td>0.286326</td>\n",
       "      <td>1.000000</td>\n",
       "      <td>0.439770</td>\n",
       "    </tr>\n",
       "    <tr>\n",
       "      <th>review_scores_value</th>\n",
       "      <td>0.786320</td>\n",
       "      <td>0.665131</td>\n",
       "      <td>0.654177</td>\n",
       "      <td>0.494745</td>\n",
       "      <td>0.529203</td>\n",
       "      <td>0.439770</td>\n",
       "      <td>1.000000</td>\n",
       "    </tr>\n",
       "  </tbody>\n",
       "</table>\n",
       "</div>"
      ],
      "text/plain": [
       "                             review_scores_rating  review_scores_accuracy  \\\n",
       "review_scores_rating                     1.000000                0.705104   \n",
       "review_scores_accuracy                   0.705104                1.000000   \n",
       "review_scores_cleanliness                0.754327                0.643754   \n",
       "review_scores_checkin                    0.584034                0.468127   \n",
       "review_scores_communication              0.600599                0.492731   \n",
       "review_scores_location                   0.458901                0.325403   \n",
       "review_scores_value                      0.786320                0.665131   \n",
       "\n",
       "                             review_scores_cleanliness  review_scores_checkin  \\\n",
       "review_scores_rating                          0.754327               0.584034   \n",
       "review_scores_accuracy                        0.643754               0.468127   \n",
       "review_scores_cleanliness                     1.000000               0.461132   \n",
       "review_scores_checkin                         0.461132               1.000000   \n",
       "review_scores_communication                   0.428085               0.672463   \n",
       "review_scores_location                        0.353038               0.280325   \n",
       "review_scores_value                           0.654177               0.494745   \n",
       "\n",
       "                             review_scores_communication  \\\n",
       "review_scores_rating                            0.600599   \n",
       "review_scores_accuracy                          0.492731   \n",
       "review_scores_cleanliness                       0.428085   \n",
       "review_scores_checkin                           0.672463   \n",
       "review_scores_communication                     1.000000   \n",
       "review_scores_location                          0.286326   \n",
       "review_scores_value                             0.529203   \n",
       "\n",
       "                             review_scores_location  review_scores_value  \n",
       "review_scores_rating                       0.458901             0.786320  \n",
       "review_scores_accuracy                     0.325403             0.665131  \n",
       "review_scores_cleanliness                  0.353038             0.654177  \n",
       "review_scores_checkin                      0.280325             0.494745  \n",
       "review_scores_communication                0.286326             0.529203  \n",
       "review_scores_location                     1.000000             0.439770  \n",
       "review_scores_value                        0.439770             1.000000  "
      ]
     },
     "execution_count": 205,
     "metadata": {},
     "output_type": "execute_result"
    }
   ],
   "source": [
    "df_listings[all_reviews].corr()"
   ]
  },
  {
   "cell_type": "code",
   "execution_count": 206,
   "metadata": {},
   "outputs": [
    {
     "data": {
      "text/plain": [
       "<matplotlib.axes._subplots.AxesSubplot at 0x2229f698cc0>"
      ]
     },
     "execution_count": 206,
     "metadata": {},
     "output_type": "execute_result"
    },
    {
     "data": {
      "image/png": "[encoded data removed]",
      "text/plain": [
       "<Figure size 432x288 with 2 Axes>"
      ]
     },
     "metadata": {
      "needs_background": "light"
     },
     "output_type": "display_data"
    }
   ],
   "source": [
    "sb.heatmap(df_listings[all_reviews].corr())"
   ]
  },
  {
   "cell_type": "code",
   "execution_count": 207,
   "metadata": {},
   "outputs": [
    {
     "data": {
      "text/plain": [
       "0    f\n",
       "1    f\n",
       "2    f\n",
       "3    f\n",
       "4    f\n",
       "Name: requires_license, dtype: object"
      ]
     },
     "execution_count": 207,
     "metadata": {},
     "output_type": "execute_result"
    }
   ],
   "source": [
    "df_listings['requires_license'].head()"
   ]
  },
  {
   "cell_type": "code",
   "execution_count": 208,
   "metadata": {},
   "outputs": [
    {
     "data": {
      "text/plain": [
       "0.0"
      ]
     },
     "execution_count": 208,
     "metadata": {},
     "output_type": "execute_result"
    }
   ],
   "source": [
    "df_listings['requires_license'].isnull().mean()"
   ]
  },
  {
   "cell_type": "code",
   "execution_count": 209,
   "metadata": {},
   "outputs": [
    {
     "data": {
      "text/plain": [
       "f    3585\n",
       "Name: requires_license, dtype: int64"
      ]
     },
     "execution_count": 209,
     "metadata": {},
     "output_type": "execute_result"
    }
   ],
   "source": [
    "df_listings['requires_license'].value_counts() #useless"
   ]
  },
  {
   "cell_type": "code",
   "execution_count": 210,
   "metadata": {},
   "outputs": [
    {
     "data": {
      "text/plain": [
       "0   NaN\n",
       "1   NaN\n",
       "2   NaN\n",
       "3   NaN\n",
       "4   NaN\n",
       "Name: license, dtype: float64"
      ]
     },
     "execution_count": 210,
     "metadata": {},
     "output_type": "execute_result"
    }
   ],
   "source": [
    "df_listings['license'].head()"
   ]
  },
  {
   "cell_type": "code",
   "execution_count": 211,
   "metadata": {},
   "outputs": [
    {
     "data": {
      "text/plain": [
       "1.0"
      ]
     },
     "execution_count": 211,
     "metadata": {},
     "output_type": "execute_result"
    }
   ],
   "source": [
    "df_listings['license'].isnull().mean() #useless"
   ]
  },
  {
   "cell_type": "code",
   "execution_count": 213,
   "metadata": {},
   "outputs": [
    {
     "data": {
      "text/plain": [
       "1.0"
      ]
     },
     "execution_count": 213,
     "metadata": {},
     "output_type": "execute_result"
    }
   ],
   "source": [
    "df_listings['jurisdiction_names'].isnull().mean()#useless"
   ]
  },
  {
   "cell_type": "code",
   "execution_count": 214,
   "metadata": {},
   "outputs": [
    {
     "data": {
      "text/plain": [
       "0   NaN\n",
       "1   NaN\n",
       "2   NaN\n",
       "3   NaN\n",
       "4   NaN\n",
       "Name: jurisdiction_names, dtype: float64"
      ]
     },
     "execution_count": 214,
     "metadata": {},
     "output_type": "execute_result"
    }
   ],
   "source": [
    "df_listings['jurisdiction_names'].head()"
   ]
  },
  {
   "cell_type": "code",
   "execution_count": 216,
   "metadata": {},
   "outputs": [
    {
     "data": {
      "text/plain": [
       "0.0"
      ]
     },
     "execution_count": 216,
     "metadata": {},
     "output_type": "execute_result"
    }
   ],
   "source": [
    "df_listings['instant_bookable'].isnull().mean()"
   ]
  },
  {
   "cell_type": "code",
   "execution_count": 217,
   "metadata": {},
   "outputs": [
    {
     "data": {
      "text/plain": [
       "0    f\n",
       "1    t\n",
       "2    f\n",
       "3    f\n",
       "4    f\n",
       "Name: instant_bookable, dtype: object"
      ]
     },
     "execution_count": 217,
     "metadata": {},
     "output_type": "execute_result"
    }
   ],
   "source": [
    "df_listings['instant_bookable'].head()"
   ]
  },
  {
   "cell_type": "code",
   "execution_count": 218,
   "metadata": {},
   "outputs": [
    {
     "data": {
      "text/plain": [
       "f    2991\n",
       "t     594\n",
       "Name: instant_bookable, dtype: int64"
      ]
     },
     "execution_count": 218,
     "metadata": {},
     "output_type": "execute_result"
    }
   ],
   "source": [
    "df_listings['instant_bookable'].value_counts()"
   ]
  },
  {
   "cell_type": "code",
   "execution_count": 219,
   "metadata": {},
   "outputs": [
    {
     "data": {
      "text/plain": [
       "0    moderate\n",
       "1    moderate\n",
       "2    moderate\n",
       "3    moderate\n",
       "4    flexible\n",
       "Name: cancellation_policy, dtype: object"
      ]
     },
     "execution_count": 219,
     "metadata": {},
     "output_type": "execute_result"
    }
   ],
   "source": [
    "df_listings['cancellation_policy'].head()"
   ]
  },
  {
   "cell_type": "code",
   "execution_count": 220,
   "metadata": {},
   "outputs": [
    {
     "data": {
      "text/plain": [
       "strict             1582\n",
       "flexible            999\n",
       "moderate            919\n",
       "super_strict_30      85\n",
       "Name: cancellation_policy, dtype: int64"
      ]
     },
     "execution_count": 220,
     "metadata": {},
     "output_type": "execute_result"
    }
   ],
   "source": [
    "df_listings['cancellation_policy'].value_counts()"
   ]
  },
  {
   "cell_type": "code",
   "execution_count": 221,
   "metadata": {},
   "outputs": [
    {
     "data": {
      "text/plain": [
       "0.0"
      ]
     },
     "execution_count": 221,
     "metadata": {},
     "output_type": "execute_result"
    }
   ],
   "source": [
    "df_listings['require_guest_profile_picture'].isnull().mean()"
   ]
  },
  {
   "cell_type": "code",
   "execution_count": 222,
   "metadata": {},
   "outputs": [
    {
     "data": {
      "text/plain": [
       "f    3518\n",
       "t      67\n",
       "Name: require_guest_profile_picture, dtype: int64"
      ]
     },
     "execution_count": 222,
     "metadata": {},
     "output_type": "execute_result"
    }
   ],
   "source": [
    "df_listings['require_guest_profile_picture'].value_counts()"
   ]
  },
  {
   "cell_type": "code",
   "execution_count": 223,
   "metadata": {},
   "outputs": [
    {
     "data": {
      "text/plain": [
       "0    f\n",
       "1    f\n",
       "2    f\n",
       "3    f\n",
       "4    f\n",
       "Name: require_guest_phone_verification, dtype: object"
      ]
     },
     "execution_count": 223,
     "metadata": {},
     "output_type": "execute_result"
    }
   ],
   "source": [
    "df_listings['require_guest_phone_verification'].head()"
   ]
  },
  {
   "cell_type": "code",
   "execution_count": 15,
   "metadata": {},
   "outputs": [
    {
     "data": {
      "text/plain": [
       "f    3348\n",
       "t     237\n",
       "Name: require_guest_phone_verification, dtype: int64"
      ]
     },
     "execution_count": 15,
     "metadata": {},
     "output_type": "execute_result"
    }
   ],
   "source": [
    "df_listings['require_guest_phone_verification'].value_counts()"
   ]
  },
  {
   "cell_type": "code",
   "execution_count": 224,
   "metadata": {},
   "outputs": [
    {
     "data": {
      "text/plain": [
       "0    1\n",
       "1    1\n",
       "2    1\n",
       "3    1\n",
       "4    1\n",
       "Name: calculated_host_listings_count, dtype: int64"
      ]
     },
     "execution_count": 224,
     "metadata": {},
     "output_type": "execute_result"
    }
   ],
   "source": [
    "df_listings['calculated_host_listings_count'].head()"
   ]
  },
  {
   "cell_type": "code",
   "execution_count": 226,
   "metadata": {},
   "outputs": [
    {
     "data": {
      "text/plain": [
       "<matplotlib.axes._subplots.AxesSubplot at 0x222ad5bd128>"
      ]
     },
     "execution_count": 226,
     "metadata": {},
     "output_type": "execute_result"
    },
    {
     "data": {
      "image/png": "[encoded data removed]",
      "text/plain": [
       "<Figure size 432x288 with 1 Axes>"
      ]
     },
     "metadata": {
      "needs_background": "light"
     },
     "output_type": "display_data"
    }
   ],
   "source": [
    "df_listings['calculated_host_listings_count'].hist()"
   ]
  },
  {
   "cell_type": "code",
   "execution_count": 228,
   "metadata": {},
   "outputs": [
    {
     "data": {
      "text/plain": [
       "<matplotlib.axes._subplots.AxesSubplot at 0x222ad41a0f0>"
      ]
     },
     "execution_count": 228,
     "metadata": {},
     "output_type": "execute_result"
    },
    {
     "data": {
      "image/png": "[encoded data removed]",
      "text/plain": [
       "<Figure size 432x288 with 1 Axes>"
      ]
     },
     "metadata": {
      "needs_background": "light"
     },
     "output_type": "display_data"
    }
   ],
   "source": [
    "df_listings['reviews_per_month'].hist()"
   ]
  },
  {
   "cell_type": "code",
   "execution_count": null,
   "metadata": {},
   "outputs": [],
   "source": []
  }
 ],
 "metadata": {
  "kernelspec": {
   "display_name": "Python 3",
   "language": "python",
   "name": "python3"
  },
  "language_info": {
   "codemirror_mode": {
    "name": "ipython",
    "version": 3
   },
   "file_extension": ".py",
   "mimetype": "text/x-python",
   "name": "python",
   "nbconvert_exporter": "python",
   "pygments_lexer": "ipython3",
   "version": "3.6.8"
  }
 },
 "nbformat": 4,
 "nbformat_minor": 2
}
