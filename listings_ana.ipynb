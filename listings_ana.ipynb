{
 "cells": [
  {
   "cell_type": "code",
   "execution_count": 1,
   "metadata": {},
   "outputs": [],
   "source": [
    "import pandas as pd\n",
    "import seaborn as sb\n",
    "import matplotlib.pyplot as plt\n",
    "import matplotlib as mpl\n",
    "import numpy as np\n",
    "from sklearn.preprocessing import StandardScaler,MinMaxScaler,normalize\n",
    "from sklearn.cluster import KMeans\n",
    "%matplotlib inline"
   ]
  },
  {
   "cell_type": "code",
   "execution_count": 2,
   "metadata": {},
   "outputs": [],
   "source": [
    "df_listings = pd.read_csv('boston/listings.csv')"
   ]
  },
  {
   "cell_type": "code",
   "execution_count": 3,
   "metadata": {},
   "outputs": [
    {
     "data": {
      "text/html": [
       "<div>\n",
       "<style scoped>\n",
       "    .dataframe tbody tr th:only-of-type {\n",
       "        vertical-align: middle;\n",
       "    }\n",
       "\n",
       "    .dataframe tbody tr th {\n",
       "        vertical-align: top;\n",
       "    }\n",
       "\n",
       "    .dataframe thead th {\n",
       "        text-align: right;\n",
       "    }\n",
       "</style>\n",
       "<table border=\"1\" class=\"dataframe\">\n",
       "  <thead>\n",
       "    <tr style=\"text-align: right;\">\n",
       "      <th></th>\n",
       "      <th>id</th>\n",
       "      <th>listing_url</th>\n",
       "      <th>scrape_id</th>\n",
       "      <th>last_scraped</th>\n",
       "      <th>name</th>\n",
       "      <th>summary</th>\n",
       "      <th>space</th>\n",
       "      <th>description</th>\n",
       "      <th>experiences_offered</th>\n",
       "      <th>neighborhood_overview</th>\n",
       "      <th>...</th>\n",
       "      <th>review_scores_value</th>\n",
       "      <th>requires_license</th>\n",
       "      <th>license</th>\n",
       "      <th>jurisdiction_names</th>\n",
       "      <th>instant_bookable</th>\n",
       "      <th>cancellation_policy</th>\n",
       "      <th>require_guest_profile_picture</th>\n",
       "      <th>require_guest_phone_verification</th>\n",
       "      <th>calculated_host_listings_count</th>\n",
       "      <th>reviews_per_month</th>\n",
       "    </tr>\n",
       "  </thead>\n",
       "  <tbody>\n",
       "    <tr>\n",
       "      <th>0</th>\n",
       "      <td>12147973</td>\n",
       "      <td>https://www.airbnb.com/rooms/12147973</td>\n",
       "      <td>20160906204935</td>\n",
       "      <td>2016-09-07</td>\n",
       "      <td>Sunny Bungalow in the City</td>\n",
       "      <td>Cozy, sunny, family home.  Master bedroom high...</td>\n",
       "      <td>The house has an open and cozy feel at the sam...</td>\n",
       "      <td>Cozy, sunny, family home.  Master bedroom high...</td>\n",
       "      <td>none</td>\n",
       "      <td>Roslindale is quiet, convenient and friendly. ...</td>\n",
       "      <td>...</td>\n",
       "      <td>NaN</td>\n",
       "      <td>f</td>\n",
       "      <td>NaN</td>\n",
       "      <td>NaN</td>\n",
       "      <td>f</td>\n",
       "      <td>moderate</td>\n",
       "      <td>f</td>\n",
       "      <td>f</td>\n",
       "      <td>1</td>\n",
       "      <td>NaN</td>\n",
       "    </tr>\n",
       "    <tr>\n",
       "      <th>1</th>\n",
       "      <td>3075044</td>\n",
       "      <td>https://www.airbnb.com/rooms/3075044</td>\n",
       "      <td>20160906204935</td>\n",
       "      <td>2016-09-07</td>\n",
       "      <td>Charming room in pet friendly apt</td>\n",
       "      <td>Charming and quiet room in a second floor 1910...</td>\n",
       "      <td>Small but cozy and quite room with a full size...</td>\n",
       "      <td>Charming and quiet room in a second floor 1910...</td>\n",
       "      <td>none</td>\n",
       "      <td>The room is in Roslindale, a diverse and prima...</td>\n",
       "      <td>...</td>\n",
       "      <td>9.0</td>\n",
       "      <td>f</td>\n",
       "      <td>NaN</td>\n",
       "      <td>NaN</td>\n",
       "      <td>t</td>\n",
       "      <td>moderate</td>\n",
       "      <td>f</td>\n",
       "      <td>f</td>\n",
       "      <td>1</td>\n",
       "      <td>1.30</td>\n",
       "    </tr>\n",
       "    <tr>\n",
       "      <th>2</th>\n",
       "      <td>6976</td>\n",
       "      <td>https://www.airbnb.com/rooms/6976</td>\n",
       "      <td>20160906204935</td>\n",
       "      <td>2016-09-07</td>\n",
       "      <td>Mexican Folk Art Haven in Boston</td>\n",
       "      <td>Come stay with a friendly, middle-aged guy in ...</td>\n",
       "      <td>Come stay with a friendly, middle-aged guy in ...</td>\n",
       "      <td>Come stay with a friendly, middle-aged guy in ...</td>\n",
       "      <td>none</td>\n",
       "      <td>The LOCATION: Roslindale is a safe and diverse...</td>\n",
       "      <td>...</td>\n",
       "      <td>10.0</td>\n",
       "      <td>f</td>\n",
       "      <td>NaN</td>\n",
       "      <td>NaN</td>\n",
       "      <td>f</td>\n",
       "      <td>moderate</td>\n",
       "      <td>t</td>\n",
       "      <td>f</td>\n",
       "      <td>1</td>\n",
       "      <td>0.47</td>\n",
       "    </tr>\n",
       "    <tr>\n",
       "      <th>3</th>\n",
       "      <td>1436513</td>\n",
       "      <td>https://www.airbnb.com/rooms/1436513</td>\n",
       "      <td>20160906204935</td>\n",
       "      <td>2016-09-07</td>\n",
       "      <td>Spacious Sunny Bedroom Suite in Historic Home</td>\n",
       "      <td>Come experience the comforts of home away from...</td>\n",
       "      <td>Most places you find in Boston are small howev...</td>\n",
       "      <td>Come experience the comforts of home away from...</td>\n",
       "      <td>none</td>\n",
       "      <td>Roslindale is a lovely little neighborhood loc...</td>\n",
       "      <td>...</td>\n",
       "      <td>10.0</td>\n",
       "      <td>f</td>\n",
       "      <td>NaN</td>\n",
       "      <td>NaN</td>\n",
       "      <td>f</td>\n",
       "      <td>moderate</td>\n",
       "      <td>f</td>\n",
       "      <td>f</td>\n",
       "      <td>1</td>\n",
       "      <td>1.00</td>\n",
       "    </tr>\n",
       "    <tr>\n",
       "      <th>4</th>\n",
       "      <td>7651065</td>\n",
       "      <td>https://www.airbnb.com/rooms/7651065</td>\n",
       "      <td>20160906204935</td>\n",
       "      <td>2016-09-07</td>\n",
       "      <td>Come Home to Boston</td>\n",
       "      <td>My comfy, clean and relaxing home is one block...</td>\n",
       "      <td>Clean, attractive, private room, one block fro...</td>\n",
       "      <td>My comfy, clean and relaxing home is one block...</td>\n",
       "      <td>none</td>\n",
       "      <td>I love the proximity to downtown, the neighbor...</td>\n",
       "      <td>...</td>\n",
       "      <td>10.0</td>\n",
       "      <td>f</td>\n",
       "      <td>NaN</td>\n",
       "      <td>NaN</td>\n",
       "      <td>f</td>\n",
       "      <td>flexible</td>\n",
       "      <td>f</td>\n",
       "      <td>f</td>\n",
       "      <td>1</td>\n",
       "      <td>2.25</td>\n",
       "    </tr>\n",
       "  </tbody>\n",
       "</table>\n",
       "<p>5 rows × 95 columns</p>\n",
       "</div>"
      ],
      "text/plain": [
       "         id                            listing_url       scrape_id  \\\n",
       "0  12147973  https://www.airbnb.com/rooms/12147973  20160906204935   \n",
       "1   3075044   https://www.airbnb.com/rooms/3075044  20160906204935   \n",
       "2      6976      https://www.airbnb.com/rooms/6976  20160906204935   \n",
       "3   1436513   https://www.airbnb.com/rooms/1436513  20160906204935   \n",
       "4   7651065   https://www.airbnb.com/rooms/7651065  20160906204935   \n",
       "\n",
       "  last_scraped                                           name  \\\n",
       "0   2016-09-07                     Sunny Bungalow in the City   \n",
       "1   2016-09-07              Charming room in pet friendly apt   \n",
       "2   2016-09-07               Mexican Folk Art Haven in Boston   \n",
       "3   2016-09-07  Spacious Sunny Bedroom Suite in Historic Home   \n",
       "4   2016-09-07                            Come Home to Boston   \n",
       "\n",
       "                                             summary  \\\n",
       "0  Cozy, sunny, family home.  Master bedroom high...   \n",
       "1  Charming and quiet room in a second floor 1910...   \n",
       "2  Come stay with a friendly, middle-aged guy in ...   \n",
       "3  Come experience the comforts of home away from...   \n",
       "4  My comfy, clean and relaxing home is one block...   \n",
       "\n",
       "                                               space  \\\n",
       "0  The house has an open and cozy feel at the sam...   \n",
       "1  Small but cozy and quite room with a full size...   \n",
       "2  Come stay with a friendly, middle-aged guy in ...   \n",
       "3  Most places you find in Boston are small howev...   \n",
       "4  Clean, attractive, private room, one block fro...   \n",
       "\n",
       "                                         description experiences_offered  \\\n",
       "0  Cozy, sunny, family home.  Master bedroom high...                none   \n",
       "1  Charming and quiet room in a second floor 1910...                none   \n",
       "2  Come stay with a friendly, middle-aged guy in ...                none   \n",
       "3  Come experience the comforts of home away from...                none   \n",
       "4  My comfy, clean and relaxing home is one block...                none   \n",
       "\n",
       "                               neighborhood_overview        ...          \\\n",
       "0  Roslindale is quiet, convenient and friendly. ...        ...           \n",
       "1  The room is in Roslindale, a diverse and prima...        ...           \n",
       "2  The LOCATION: Roslindale is a safe and diverse...        ...           \n",
       "3  Roslindale is a lovely little neighborhood loc...        ...           \n",
       "4  I love the proximity to downtown, the neighbor...        ...           \n",
       "\n",
       "  review_scores_value requires_license license jurisdiction_names  \\\n",
       "0                 NaN                f     NaN                NaN   \n",
       "1                 9.0                f     NaN                NaN   \n",
       "2                10.0                f     NaN                NaN   \n",
       "3                10.0                f     NaN                NaN   \n",
       "4                10.0                f     NaN                NaN   \n",
       "\n",
       "  instant_bookable cancellation_policy require_guest_profile_picture  \\\n",
       "0                f            moderate                             f   \n",
       "1                t            moderate                             f   \n",
       "2                f            moderate                             t   \n",
       "3                f            moderate                             f   \n",
       "4                f            flexible                             f   \n",
       "\n",
       "  require_guest_phone_verification calculated_host_listings_count  \\\n",
       "0                                f                              1   \n",
       "1                                f                              1   \n",
       "2                                f                              1   \n",
       "3                                f                              1   \n",
       "4                                f                              1   \n",
       "\n",
       "   reviews_per_month  \n",
       "0                NaN  \n",
       "1               1.30  \n",
       "2               0.47  \n",
       "3               1.00  \n",
       "4               2.25  \n",
       "\n",
       "[5 rows x 95 columns]"
      ]
     },
     "execution_count": 3,
     "metadata": {},
     "output_type": "execute_result"
    }
   ],
   "source": [
    "df_listings.head()"
   ]
  },
  {
   "cell_type": "code",
   "execution_count": 4,
   "metadata": {},
   "outputs": [
    {
     "data": {
      "text/plain": [
       "(3585, 95)"
      ]
     },
     "execution_count": 4,
     "metadata": {},
     "output_type": "execute_result"
    }
   ],
   "source": [
    "df_listings.shape"
   ]
  },
  {
   "cell_type": "code",
   "execution_count": 5,
   "metadata": {},
   "outputs": [
    {
     "data": {
      "image/png": "[encoded data removed]",
      "text/plain": [
       "<Figure size 432x288 with 1 Axes>"
      ]
     },
     "metadata": {
      "needs_background": "light"
     },
     "output_type": "display_data"
    }
   ],
   "source": [
    "df_listings.isnull().mean().hist();\n",
    "plt.xlabel('NaN ratio');"
   ]
  },
  {
   "cell_type": "code",
   "execution_count": 5,
   "metadata": {},
   "outputs": [
    {
     "data": {
      "text/plain": [
       "notes                           0.550907\n",
       "neighbourhood_group_cleansed    1.000000\n",
       "square_feet                     0.984379\n",
       "weekly_price                    0.751185\n",
       "monthly_price                   0.752301\n",
       "security_deposit                0.625662\n",
       "has_availability                1.000000\n",
       "license                         1.000000\n",
       "jurisdiction_names              1.000000\n",
       "dtype: float64"
      ]
     },
     "execution_count": 5,
     "metadata": {},
     "output_type": "execute_result"
    }
   ],
   "source": [
    "#check the ratio large than 0.5\n",
    "df_listings.isnull().mean()[df_listings.isnull().mean()>0.5]"
   ]
  },
  {
   "cell_type": "code",
   "execution_count": 6,
   "metadata": {},
   "outputs": [
    {
     "data": {
      "text/plain": [
       "object     62\n",
       "float64    18\n",
       "int64      15\n",
       "dtype: int64"
      ]
     },
     "execution_count": 6,
     "metadata": {},
     "output_type": "execute_result"
    }
   ],
   "source": [
    "df_listings.dtypes.value_counts()"
   ]
  },
  {
   "cell_type": "code",
   "execution_count": 7,
   "metadata": {},
   "outputs": [
    {
     "data": {
      "text/plain": [
       "0.0"
      ]
     },
     "execution_count": 7,
     "metadata": {},
     "output_type": "execute_result"
    }
   ],
   "source": [
    "df_listings['price'].isnull().mean() #no null value"
   ]
  },
  {
   "cell_type": "markdown",
   "metadata": {},
   "source": [
    "## Summary of feature:\n",
    "*id,listing_url,scraped_id*:  not useful at this time <br />\n",
    "*square_feet*: 98% missing <br />\n",
    "*name,summary，space,description*: they are  all text valued,they include some important properties of the house, but it is hard to extract the information from them <br />\n",
    "*experiences_offered*: all none values, useless <br />\n",
    "*neighborhood_overview,notes,transit,access,interaction,house_rules*: all text value,I think they also include some important information(like neighborhood and transit) <br />\n",
    "*host_id,host_url,host_name*: don't think they are important at this time <br />\n",
    "*host_since*: may be usefull, the host may be more expierenced when start earlier <br />\n",
    "*host_location*: where host comes from. may be important. People from different region are different <br />\n",
    "*host_about*: personality of thehost, may be mortant. but it is textvlued <br />\n",
    "*host_response_time,host_response_rate,host_acceptance_rate,host_is_superhost*: may be important <br />\n",
    "*host_thumbnail_url,host_picture_url*: useless <br />\n",
    "*host_neighbourhood*: may be useful <br />\n",
    "*host_listings_count,host_total_listings_count*: may be useful <br />\n",
    "*host_verifications* : can be classified, may be useful <br />\n",
    "*host_has_profile_pic,host_identity_verified*: can change to bool value, may be useful <br />\n",
    "*street*: may not useful <br />\n",
    "*neighbourhood,neighbourhood_cleansed*: may be useful <br />\n",
    "*neighbourhood_group_cleansed*: all nan, useless <br />\n",
    "*city,state,zipcode*: the values of state are all same. city and zipcode are corrolated. for city, 3381 out of 3585 are boston<br />\n",
    "*market*: useless , only 3 of them are different from others <br />\n",
    "*smart_location*: same as city <br />\n",
    "*country_code*: all values are US, useless <br />\n",
    "*longitude,latitude*: exact location of the host, should be useful <br />\n",
    "*is_location_exact*: can change to bool valued, may be useful <br />\n",
    "*property_type,room_type*: can be classified, should be useful <br />\n",
    "*accommodates,bathrooms,beds*: may be useful <br />\n",
    "*bed_type*: may be useful <br />\n",
    "*amenities*: should be useful, need encode <br />\n",
    "*price*: targe we are important <br />\n",
    "*weekly_price,monthly_price*: should drop when predict price <br />\n",
    "*cleaning_fee,guest_included,extra_people*:may be useful <br />\n",
    "*minimum_nights,maximum_nights*: may be useful, the maximum_nights can larger than 1000 <br />\n",
    "*calendar_updated*:may be useful <br />\n",
    "*has_availability*: all NaN <br />\n",
    "*availability_30,availability_365*:may be useful <br />\n",
    "*calendar_last_scraped*: all value are the same, useless <br />\n",
    "*number_of_reviews,first_review,last_review*: may be useful <br />\n",
    "*review_scores_rating,review_scores_accuracy,review_scores_cleanliness, review_scores_checkin, review_scores_communication, review_scores_location,review_scores_value*: may be useful <br />\n",
    "*requires_license,license,jurisdiction_names* : all value are the same or None, useless <br />\n",
    "*instant_bookable,cancellation_policy*: may be useful <br />\n",
    "*require_guest_profile_picture,require_guest_phone_verification*: can change bool value, may be useful <br />\n",
    "*calculated_host_listings_count*: may be useful <br />\n",
    "*reviews_per_month*: may be interesting"
   ]
  },
  {
   "cell_type": "code",
   "execution_count": 8,
   "metadata": {},
   "outputs": [],
   "source": [
    "#let's choose the features which are related to the price\n",
    "feature_list=['neighbourhood','neighbourhood_cleansed','city','longitude','latitude',\n",
    "              'is_location_exact','property_type','room_type','accommodates','bathrooms','beds',\n",
    "             'bed_type','amenities','cleaning_fee','guests_included','extra_people',\n",
    "              'availability_30','availability_365','number_of_reviews','instant_bookable','cancellation_policy',\n",
    "             'require_guest_profile_picture','require_guest_phone_verification','calculated_host_listings_count',\n",
    "             'reviews_per_month','price']"
   ]
  },
  {
   "cell_type": "code",
   "execution_count": 24,
   "metadata": {},
   "outputs": [],
   "source": [
    "sub_df = df_listings[feature_list].copy()"
   ]
  },
  {
   "cell_type": "code",
   "execution_count": 10,
   "metadata": {},
   "outputs": [
    {
     "data": {
      "text/plain": [
       "neighbourhood                       0.151464\n",
       "neighbourhood_cleansed              0.000000\n",
       "city                                0.000558\n",
       "longitude                           0.000000\n",
       "latitude                            0.000000\n",
       "is_location_exact                   0.000000\n",
       "property_type                       0.000837\n",
       "room_type                           0.000000\n",
       "accommodates                        0.000000\n",
       "bathrooms                           0.003905\n",
       "beds                                0.002510\n",
       "bed_type                            0.000000\n",
       "amenities                           0.000000\n",
       "cleaning_fee                        0.308787\n",
       "guests_included                     0.000000\n",
       "extra_people                        0.000000\n",
       "availability_30                     0.000000\n",
       "availability_365                    0.000000\n",
       "number_of_reviews                   0.000000\n",
       "instant_bookable                    0.000000\n",
       "cancellation_policy                 0.000000\n",
       "require_guest_profile_picture       0.000000\n",
       "require_guest_phone_verification    0.000000\n",
       "calculated_host_listings_count      0.000000\n",
       "reviews_per_month                   0.210879\n",
       "price                               0.000000\n",
       "dtype: float64"
      ]
     },
     "execution_count": 10,
     "metadata": {},
     "output_type": "execute_result"
    }
   ],
   "source": [
    "#check null ratio, most selected features have 0 null ratio\n",
    "sub_df.isnull().mean()"
   ]
  },
  {
   "cell_type": "code",
   "execution_count": 11,
   "metadata": {},
   "outputs": [
    {
     "data": {
      "text/plain": [
       "neighbourhood        0.151464\n",
       "city                 0.000558\n",
       "property_type        0.000837\n",
       "bathrooms            0.003905\n",
       "beds                 0.002510\n",
       "cleaning_fee         0.308787\n",
       "reviews_per_month    0.210879\n",
       "dtype: float64"
      ]
     },
     "execution_count": 11,
     "metadata": {},
     "output_type": "execute_result"
    }
   ],
   "source": [
    "#most selected features have 0 NaN ratio\n",
    "sub_df.isnull().mean()[sub_df.isnull().mean()>0]"
   ]
  },
  {
   "cell_type": "code",
   "execution_count": 12,
   "metadata": {},
   "outputs": [
    {
     "data": {
      "text/plain": [
       "object     15\n",
       "int64       6\n",
       "float64     5\n",
       "dtype: int64"
      ]
     },
     "execution_count": 12,
     "metadata": {},
     "output_type": "execute_result"
    }
   ],
   "source": [
    "#check data types\n",
    "sub_df.dtypes.value_counts()"
   ]
  },
  {
   "cell_type": "markdown",
   "metadata": {},
   "source": [
    "## deal with numerical features\n",
    "Here we are only interested in the features which have none zero NaN ratio"
   ]
  },
  {
   "cell_type": "code",
   "execution_count": 25,
   "metadata": {},
   "outputs": [
    {
     "data": {
      "text/plain": [
       "0.002510460251046025"
      ]
     },
     "execution_count": 25,
     "metadata": {},
     "output_type": "execute_result"
    }
   ],
   "source": [
    "#check the bed\n",
    "#for nan ratio bigger than 0\n",
    "sub_df['beds'].isnull().mean()"
   ]
  },
  {
   "cell_type": "code",
   "execution_count": 20,
   "metadata": {},
   "outputs": [
    {
     "data": {
      "text/plain": [
       "1.0     2165\n",
       "2.0      953\n",
       "3.0      275\n",
       "4.0      106\n",
       "5.0       40\n",
       "6.0       16\n",
       "7.0        8\n",
       "8.0        6\n",
       "0.0        4\n",
       "9.0        2\n",
       "16.0       1\n",
       "Name: beds, dtype: int64"
      ]
     },
     "execution_count": 20,
     "metadata": {},
     "output_type": "execute_result"
    }
   ],
   "source": [
    "#some listing has zero bed\n",
    "#will create a new colomns\n",
    "sub_df['beds'].value_counts()"
   ]
  },
  {
   "cell_type": "code",
   "execution_count": 26,
   "metadata": {},
   "outputs": [],
   "source": [
    "sub_df['has_beds']=sub_df['beds'].notnull()"
   ]
  },
  {
   "cell_type": "code",
   "execution_count": 27,
   "metadata": {},
   "outputs": [
    {
     "data": {
      "text/plain": [
       "0.9974895397489539"
      ]
     },
     "execution_count": 27,
     "metadata": {},
     "output_type": "execute_result"
    }
   ],
   "source": [
    "sub_df['has_beds'].mean()"
   ]
  },
  {
   "cell_type": "code",
   "execution_count": 28,
   "metadata": {},
   "outputs": [
    {
     "data": {
      "text/plain": [
       "1.0    2751\n",
       "2.0     478\n",
       "1.5     208\n",
       "2.5      68\n",
       "3.0      21\n",
       "3.5      13\n",
       "0.0      13\n",
       "0.5       7\n",
       "5.0       5\n",
       "6.0       4\n",
       "4.0       2\n",
       "4.5       1\n",
       "Name: bathrooms, dtype: int64"
      ]
     },
     "execution_count": 28,
     "metadata": {},
     "output_type": "execute_result"
    }
   ],
   "source": [
    "#check bathrooms\n",
    "#some listings have zero bathrooms\n",
    "#will create new columns for NaN value\n",
    "sub_df['bathrooms'].value_counts()"
   ]
  },
  {
   "cell_type": "code",
   "execution_count": 29,
   "metadata": {},
   "outputs": [],
   "source": [
    "sub_df['has_bathrooms'] = sub_df['bathrooms'].notnull()"
   ]
  },
  {
   "cell_type": "code",
   "execution_count": 30,
   "metadata": {},
   "outputs": [
    {
     "data": {
      "text/plain": [
       "0.996094839609484"
      ]
     },
     "execution_count": 30,
     "metadata": {},
     "output_type": "execute_result"
    }
   ],
   "source": [
    "sub_df['has_bathrooms'].mean()"
   ]
  },
  {
   "cell_type": "code",
   "execution_count": 33,
   "metadata": {},
   "outputs": [
    {
     "data": {
      "text/plain": [
       "<matplotlib.axes._subplots.AxesSubplot at 0x1f2a0170e10>"
      ]
     },
     "execution_count": 33,
     "metadata": {},
     "output_type": "execute_result"
    },
    {
     "data": {
      "image/png": "[encoded data removed]",
      "text/plain": [
       "<Figure size 432x288 with 1 Axes>"
      ]
     },
     "metadata": {
      "needs_background": "light"
     },
     "output_type": "display_data"
    }
   ],
   "source": [
    "#check reivews per month\n",
    "#the value can be very small\n",
    "#I decide to create a new column for\n",
    "#for the NaN value\n",
    "sub_df['reviews_per_month'].hist()"
   ]
  },
  {
   "cell_type": "code",
   "execution_count": 34,
   "metadata": {},
   "outputs": [],
   "source": [
    "sub_df['has_reviews_per_month'] = sub_df['reviews_per_month'].notnull()"
   ]
  },
  {
   "cell_type": "code",
   "execution_count": 35,
   "metadata": {},
   "outputs": [
    {
     "data": {
      "text/plain": [
       "0.7891213389121339"
      ]
     },
     "execution_count": 35,
     "metadata": {},
     "output_type": "execute_result"
    }
   ],
   "source": [
    "sub_df['has_reviews_per_month'].mean()"
   ]
  },
  {
   "cell_type": "markdown",
   "metadata": {},
   "source": [
    "## deal with None numerical features"
   ]
  },
  {
   "cell_type": "code",
   "execution_count": 36,
   "metadata": {},
   "outputs": [
    {
     "data": {
      "text/plain": [
       "neighbourhood                       object\n",
       "neighbourhood_cleansed              object\n",
       "city                                object\n",
       "is_location_exact                   object\n",
       "property_type                       object\n",
       "room_type                           object\n",
       "bed_type                            object\n",
       "amenities                           object\n",
       "cleaning_fee                        object\n",
       "extra_people                        object\n",
       "instant_bookable                    object\n",
       "cancellation_policy                 object\n",
       "require_guest_profile_picture       object\n",
       "require_guest_phone_verification    object\n",
       "price                               object\n",
       "dtype: object"
      ]
     },
     "execution_count": 36,
     "metadata": {},
     "output_type": "execute_result"
    }
   ],
   "source": [
    "sub_df.dtypes[sub_df.dtypes=='object']"
   ]
  },
  {
   "cell_type": "markdown",
   "metadata": {},
   "source": [
    "### encode neighbourhood"
   ]
  },
  {
   "cell_type": "code",
   "execution_count": 153,
   "metadata": {},
   "outputs": [
    {
     "data": {
      "text/plain": [
       "0.1514644351464435"
      ]
     },
     "execution_count": 153,
     "metadata": {},
     "output_type": "execute_result"
    }
   ],
   "source": [
    "sub_df['neighbourhood'].isnull().mean()"
   ]
  },
  {
   "cell_type": "code",
   "execution_count": 37,
   "metadata": {},
   "outputs": [
    {
     "data": {
      "text/plain": [
       "Allston-Brighton      364\n",
       "Jamaica Plain         314\n",
       "South End             298\n",
       "Back Bay              291\n",
       "Fenway/Kenmore        249\n",
       "South Boston          216\n",
       "Dorchester            195\n",
       "Beacon Hill           174\n",
       "North End             125\n",
       "East Boston           117\n",
       "Roxbury               116\n",
       "Mission Hill          103\n",
       "Charlestown            79\n",
       "Chinatown              78\n",
       "West End               68\n",
       "Roslindale             50\n",
       "West Roxbury           35\n",
       "Theater District       33\n",
       "Downtown Crossing      26\n",
       "Hyde Park              25\n",
       "Mattapan               20\n",
       "Financial District     13\n",
       "Somerville             13\n",
       "Leather District        8\n",
       "Brookline               8\n",
       "Downtown                8\n",
       "Cambridge               7\n",
       "Chestnut Hill           4\n",
       "Government Center       3\n",
       "Harvard Square          2\n",
       "Name: neighbourhood, dtype: int64"
      ]
     },
     "execution_count": 37,
     "metadata": {},
     "output_type": "execute_result"
    }
   ],
   "source": [
    "# it has NaN values, we will not use drop_first option\n",
    "sub_df['neighbourhood'].value_counts()"
   ]
  },
  {
   "cell_type": "code",
   "execution_count": 210,
   "metadata": {},
   "outputs": [],
   "source": [
    "sub_df_m0 = pd.get_dummies(data=sub_df,columns=['neighbourhood'],prefix='neighborhood')"
   ]
  },
  {
   "cell_type": "code",
   "execution_count": 39,
   "metadata": {},
   "outputs": [
    {
     "data": {
      "text/html": [
       "<div>\n",
       "<style scoped>\n",
       "    .dataframe tbody tr th:only-of-type {\n",
       "        vertical-align: middle;\n",
       "    }\n",
       "\n",
       "    .dataframe tbody tr th {\n",
       "        vertical-align: top;\n",
       "    }\n",
       "\n",
       "    .dataframe thead th {\n",
       "        text-align: right;\n",
       "    }\n",
       "</style>\n",
       "<table border=\"1\" class=\"dataframe\">\n",
       "  <thead>\n",
       "    <tr style=\"text-align: right;\">\n",
       "      <th></th>\n",
       "      <th>neighbourhood_cleansed</th>\n",
       "      <th>city</th>\n",
       "      <th>longitude</th>\n",
       "      <th>latitude</th>\n",
       "      <th>is_location_exact</th>\n",
       "      <th>property_type</th>\n",
       "      <th>room_type</th>\n",
       "      <th>accommodates</th>\n",
       "      <th>bathrooms</th>\n",
       "      <th>beds</th>\n",
       "      <th>...</th>\n",
       "      <th>neighborhood_Mission Hill</th>\n",
       "      <th>neighborhood_North End</th>\n",
       "      <th>neighborhood_Roslindale</th>\n",
       "      <th>neighborhood_Roxbury</th>\n",
       "      <th>neighborhood_Somerville</th>\n",
       "      <th>neighborhood_South Boston</th>\n",
       "      <th>neighborhood_South End</th>\n",
       "      <th>neighborhood_Theater District</th>\n",
       "      <th>neighborhood_West End</th>\n",
       "      <th>neighborhood_West Roxbury</th>\n",
       "    </tr>\n",
       "  </thead>\n",
       "  <tbody>\n",
       "    <tr>\n",
       "      <th>0</th>\n",
       "      <td>Roslindale</td>\n",
       "      <td>Boston</td>\n",
       "      <td>-71.133068</td>\n",
       "      <td>42.282619</td>\n",
       "      <td>t</td>\n",
       "      <td>House</td>\n",
       "      <td>Entire home/apt</td>\n",
       "      <td>4</td>\n",
       "      <td>1.5</td>\n",
       "      <td>3.0</td>\n",
       "      <td>...</td>\n",
       "      <td>0</td>\n",
       "      <td>0</td>\n",
       "      <td>1</td>\n",
       "      <td>0</td>\n",
       "      <td>0</td>\n",
       "      <td>0</td>\n",
       "      <td>0</td>\n",
       "      <td>0</td>\n",
       "      <td>0</td>\n",
       "      <td>0</td>\n",
       "    </tr>\n",
       "    <tr>\n",
       "      <th>1</th>\n",
       "      <td>Roslindale</td>\n",
       "      <td>Boston</td>\n",
       "      <td>-71.134374</td>\n",
       "      <td>42.286241</td>\n",
       "      <td>t</td>\n",
       "      <td>Apartment</td>\n",
       "      <td>Private room</td>\n",
       "      <td>2</td>\n",
       "      <td>1.0</td>\n",
       "      <td>1.0</td>\n",
       "      <td>...</td>\n",
       "      <td>0</td>\n",
       "      <td>0</td>\n",
       "      <td>1</td>\n",
       "      <td>0</td>\n",
       "      <td>0</td>\n",
       "      <td>0</td>\n",
       "      <td>0</td>\n",
       "      <td>0</td>\n",
       "      <td>0</td>\n",
       "      <td>0</td>\n",
       "    </tr>\n",
       "    <tr>\n",
       "      <th>2</th>\n",
       "      <td>Roslindale</td>\n",
       "      <td>Boston</td>\n",
       "      <td>-71.135765</td>\n",
       "      <td>42.292438</td>\n",
       "      <td>t</td>\n",
       "      <td>Apartment</td>\n",
       "      <td>Private room</td>\n",
       "      <td>2</td>\n",
       "      <td>1.0</td>\n",
       "      <td>1.0</td>\n",
       "      <td>...</td>\n",
       "      <td>0</td>\n",
       "      <td>0</td>\n",
       "      <td>1</td>\n",
       "      <td>0</td>\n",
       "      <td>0</td>\n",
       "      <td>0</td>\n",
       "      <td>0</td>\n",
       "      <td>0</td>\n",
       "      <td>0</td>\n",
       "      <td>0</td>\n",
       "    </tr>\n",
       "    <tr>\n",
       "      <th>3</th>\n",
       "      <td>Roslindale</td>\n",
       "      <td>Boston</td>\n",
       "      <td>-71.121021</td>\n",
       "      <td>42.281106</td>\n",
       "      <td>f</td>\n",
       "      <td>House</td>\n",
       "      <td>Private room</td>\n",
       "      <td>4</td>\n",
       "      <td>1.0</td>\n",
       "      <td>2.0</td>\n",
       "      <td>...</td>\n",
       "      <td>0</td>\n",
       "      <td>0</td>\n",
       "      <td>0</td>\n",
       "      <td>0</td>\n",
       "      <td>0</td>\n",
       "      <td>0</td>\n",
       "      <td>0</td>\n",
       "      <td>0</td>\n",
       "      <td>0</td>\n",
       "      <td>0</td>\n",
       "    </tr>\n",
       "    <tr>\n",
       "      <th>4</th>\n",
       "      <td>Roslindale</td>\n",
       "      <td>Boston</td>\n",
       "      <td>-71.136258</td>\n",
       "      <td>42.284512</td>\n",
       "      <td>t</td>\n",
       "      <td>House</td>\n",
       "      <td>Private room</td>\n",
       "      <td>2</td>\n",
       "      <td>1.5</td>\n",
       "      <td>2.0</td>\n",
       "      <td>...</td>\n",
       "      <td>0</td>\n",
       "      <td>0</td>\n",
       "      <td>1</td>\n",
       "      <td>0</td>\n",
       "      <td>0</td>\n",
       "      <td>0</td>\n",
       "      <td>0</td>\n",
       "      <td>0</td>\n",
       "      <td>0</td>\n",
       "      <td>0</td>\n",
       "    </tr>\n",
       "  </tbody>\n",
       "</table>\n",
       "<p>5 rows × 58 columns</p>\n",
       "</div>"
      ],
      "text/plain": [
       "  neighbourhood_cleansed    city  longitude   latitude is_location_exact  \\\n",
       "0             Roslindale  Boston -71.133068  42.282619                 t   \n",
       "1             Roslindale  Boston -71.134374  42.286241                 t   \n",
       "2             Roslindale  Boston -71.135765  42.292438                 t   \n",
       "3             Roslindale  Boston -71.121021  42.281106                 f   \n",
       "4             Roslindale  Boston -71.136258  42.284512                 t   \n",
       "\n",
       "  property_type        room_type  accommodates  bathrooms  beds  \\\n",
       "0         House  Entire home/apt             4        1.5   3.0   \n",
       "1     Apartment     Private room             2        1.0   1.0   \n",
       "2     Apartment     Private room             2        1.0   1.0   \n",
       "3         House     Private room             4        1.0   2.0   \n",
       "4         House     Private room             2        1.5   2.0   \n",
       "\n",
       "             ...            neighborhood_Mission Hill neighborhood_North End  \\\n",
       "0            ...                                    0                      0   \n",
       "1            ...                                    0                      0   \n",
       "2            ...                                    0                      0   \n",
       "3            ...                                    0                      0   \n",
       "4            ...                                    0                      0   \n",
       "\n",
       "  neighborhood_Roslindale  neighborhood_Roxbury neighborhood_Somerville  \\\n",
       "0                       1                     0                       0   \n",
       "1                       1                     0                       0   \n",
       "2                       1                     0                       0   \n",
       "3                       0                     0                       0   \n",
       "4                       1                     0                       0   \n",
       "\n",
       "   neighborhood_South Boston  neighborhood_South End  \\\n",
       "0                          0                       0   \n",
       "1                          0                       0   \n",
       "2                          0                       0   \n",
       "3                          0                       0   \n",
       "4                          0                       0   \n",
       "\n",
       "   neighborhood_Theater District neighborhood_West End  \\\n",
       "0                              0                     0   \n",
       "1                              0                     0   \n",
       "2                              0                     0   \n",
       "3                              0                     0   \n",
       "4                              0                     0   \n",
       "\n",
       "  neighborhood_West Roxbury  \n",
       "0                         0  \n",
       "1                         0  \n",
       "2                         0  \n",
       "3                         0  \n",
       "4                         0  \n",
       "\n",
       "[5 rows x 58 columns]"
      ]
     },
     "execution_count": 39,
     "metadata": {},
     "output_type": "execute_result"
    }
   ],
   "source": [
    "sub_df_m0.head()"
   ]
  },
  {
   "cell_type": "markdown",
   "metadata": {},
   "source": [
    "### encode neighbourhood_cleansed"
   ]
  },
  {
   "cell_type": "code",
   "execution_count": 504,
   "metadata": {},
   "outputs": [
    {
     "data": {
      "text/plain": [
       "0.0"
      ]
     },
     "execution_count": 504,
     "metadata": {},
     "output_type": "execute_result"
    }
   ],
   "source": [
    "sub_df_m0['neighbourhood_cleansed'].isnull().mean()"
   ]
  },
  {
   "cell_type": "code",
   "execution_count": 41,
   "metadata": {},
   "outputs": [
    {
     "data": {
      "text/plain": [
       "Jamaica Plain              343\n",
       "South End                  326\n",
       "Back Bay                   302\n",
       "Fenway                     290\n",
       "Dorchester                 269\n",
       "Allston                    260\n",
       "Beacon Hill                194\n",
       "Brighton                   185\n",
       "South Boston               174\n",
       "Downtown                   172\n",
       "East Boston                150\n",
       "Roxbury                    144\n",
       "North End                  143\n",
       "Mission Hill               124\n",
       "Charlestown                111\n",
       "South Boston Waterfront     83\n",
       "Chinatown                   71\n",
       "Roslindale                  56\n",
       "West End                    49\n",
       "West Roxbury                46\n",
       "Hyde Park                   31\n",
       "Bay Village                 24\n",
       "Mattapan                    24\n",
       "Longwood Medical Area        9\n",
       "Leather District             5\n",
       "Name: neighbourhood_cleansed, dtype: int64"
      ]
     },
     "execution_count": 41,
     "metadata": {},
     "output_type": "execute_result"
    }
   ],
   "source": [
    "sub_df_m0['neighbourhood_cleansed'].value_counts()"
   ]
  },
  {
   "cell_type": "code",
   "execution_count": 211,
   "metadata": {},
   "outputs": [],
   "source": [
    "#no NaN for this features, will drop first \n",
    "sub_df_m1 = pd.get_dummies(data=sub_df_m0,columns=['neighbourhood_cleansed'],prefix='neighbourhood_cleansed',drop_first=True)"
   ]
  },
  {
   "cell_type": "code",
   "execution_count": 212,
   "metadata": {},
   "outputs": [
    {
     "data": {
      "text/html": [
       "<div>\n",
       "<style scoped>\n",
       "    .dataframe tbody tr th:only-of-type {\n",
       "        vertical-align: middle;\n",
       "    }\n",
       "\n",
       "    .dataframe tbody tr th {\n",
       "        vertical-align: top;\n",
       "    }\n",
       "\n",
       "    .dataframe thead th {\n",
       "        text-align: right;\n",
       "    }\n",
       "</style>\n",
       "<table border=\"1\" class=\"dataframe\">\n",
       "  <thead>\n",
       "    <tr style=\"text-align: right;\">\n",
       "      <th></th>\n",
       "      <th>city</th>\n",
       "      <th>longitude</th>\n",
       "      <th>latitude</th>\n",
       "      <th>is_location_exact</th>\n",
       "      <th>property_type</th>\n",
       "      <th>room_type</th>\n",
       "      <th>accommodates</th>\n",
       "      <th>bathrooms</th>\n",
       "      <th>beds</th>\n",
       "      <th>bed_type</th>\n",
       "      <th>...</th>\n",
       "      <th>neighbourhood_cleansed_Mattapan</th>\n",
       "      <th>neighbourhood_cleansed_Mission Hill</th>\n",
       "      <th>neighbourhood_cleansed_North End</th>\n",
       "      <th>neighbourhood_cleansed_Roslindale</th>\n",
       "      <th>neighbourhood_cleansed_Roxbury</th>\n",
       "      <th>neighbourhood_cleansed_South Boston</th>\n",
       "      <th>neighbourhood_cleansed_South Boston Waterfront</th>\n",
       "      <th>neighbourhood_cleansed_South End</th>\n",
       "      <th>neighbourhood_cleansed_West End</th>\n",
       "      <th>neighbourhood_cleansed_West Roxbury</th>\n",
       "    </tr>\n",
       "  </thead>\n",
       "  <tbody>\n",
       "    <tr>\n",
       "      <th>0</th>\n",
       "      <td>Boston</td>\n",
       "      <td>-71.133068</td>\n",
       "      <td>42.282619</td>\n",
       "      <td>t</td>\n",
       "      <td>House</td>\n",
       "      <td>Entire home/apt</td>\n",
       "      <td>4</td>\n",
       "      <td>1.5</td>\n",
       "      <td>3.0</td>\n",
       "      <td>Real Bed</td>\n",
       "      <td>...</td>\n",
       "      <td>0</td>\n",
       "      <td>0</td>\n",
       "      <td>0</td>\n",
       "      <td>1</td>\n",
       "      <td>0</td>\n",
       "      <td>0</td>\n",
       "      <td>0</td>\n",
       "      <td>0</td>\n",
       "      <td>0</td>\n",
       "      <td>0</td>\n",
       "    </tr>\n",
       "    <tr>\n",
       "      <th>1</th>\n",
       "      <td>Boston</td>\n",
       "      <td>-71.134374</td>\n",
       "      <td>42.286241</td>\n",
       "      <td>t</td>\n",
       "      <td>Apartment</td>\n",
       "      <td>Private room</td>\n",
       "      <td>2</td>\n",
       "      <td>1.0</td>\n",
       "      <td>1.0</td>\n",
       "      <td>Real Bed</td>\n",
       "      <td>...</td>\n",
       "      <td>0</td>\n",
       "      <td>0</td>\n",
       "      <td>0</td>\n",
       "      <td>1</td>\n",
       "      <td>0</td>\n",
       "      <td>0</td>\n",
       "      <td>0</td>\n",
       "      <td>0</td>\n",
       "      <td>0</td>\n",
       "      <td>0</td>\n",
       "    </tr>\n",
       "    <tr>\n",
       "      <th>2</th>\n",
       "      <td>Boston</td>\n",
       "      <td>-71.135765</td>\n",
       "      <td>42.292438</td>\n",
       "      <td>t</td>\n",
       "      <td>Apartment</td>\n",
       "      <td>Private room</td>\n",
       "      <td>2</td>\n",
       "      <td>1.0</td>\n",
       "      <td>1.0</td>\n",
       "      <td>Real Bed</td>\n",
       "      <td>...</td>\n",
       "      <td>0</td>\n",
       "      <td>0</td>\n",
       "      <td>0</td>\n",
       "      <td>1</td>\n",
       "      <td>0</td>\n",
       "      <td>0</td>\n",
       "      <td>0</td>\n",
       "      <td>0</td>\n",
       "      <td>0</td>\n",
       "      <td>0</td>\n",
       "    </tr>\n",
       "    <tr>\n",
       "      <th>3</th>\n",
       "      <td>Boston</td>\n",
       "      <td>-71.121021</td>\n",
       "      <td>42.281106</td>\n",
       "      <td>f</td>\n",
       "      <td>House</td>\n",
       "      <td>Private room</td>\n",
       "      <td>4</td>\n",
       "      <td>1.0</td>\n",
       "      <td>2.0</td>\n",
       "      <td>Real Bed</td>\n",
       "      <td>...</td>\n",
       "      <td>0</td>\n",
       "      <td>0</td>\n",
       "      <td>0</td>\n",
       "      <td>1</td>\n",
       "      <td>0</td>\n",
       "      <td>0</td>\n",
       "      <td>0</td>\n",
       "      <td>0</td>\n",
       "      <td>0</td>\n",
       "      <td>0</td>\n",
       "    </tr>\n",
       "    <tr>\n",
       "      <th>4</th>\n",
       "      <td>Boston</td>\n",
       "      <td>-71.136258</td>\n",
       "      <td>42.284512</td>\n",
       "      <td>t</td>\n",
       "      <td>House</td>\n",
       "      <td>Private room</td>\n",
       "      <td>2</td>\n",
       "      <td>1.5</td>\n",
       "      <td>2.0</td>\n",
       "      <td>Real Bed</td>\n",
       "      <td>...</td>\n",
       "      <td>0</td>\n",
       "      <td>0</td>\n",
       "      <td>0</td>\n",
       "      <td>1</td>\n",
       "      <td>0</td>\n",
       "      <td>0</td>\n",
       "      <td>0</td>\n",
       "      <td>0</td>\n",
       "      <td>0</td>\n",
       "      <td>0</td>\n",
       "    </tr>\n",
       "  </tbody>\n",
       "</table>\n",
       "<p>5 rows × 80 columns</p>\n",
       "</div>"
      ],
      "text/plain": [
       "     city  longitude   latitude is_location_exact property_type  \\\n",
       "0  Boston -71.133068  42.282619                 t         House   \n",
       "1  Boston -71.134374  42.286241                 t     Apartment   \n",
       "2  Boston -71.135765  42.292438                 t     Apartment   \n",
       "3  Boston -71.121021  42.281106                 f         House   \n",
       "4  Boston -71.136258  42.284512                 t         House   \n",
       "\n",
       "         room_type  accommodates  bathrooms  beds  bed_type  \\\n",
       "0  Entire home/apt             4        1.5   3.0  Real Bed   \n",
       "1     Private room             2        1.0   1.0  Real Bed   \n",
       "2     Private room             2        1.0   1.0  Real Bed   \n",
       "3     Private room             4        1.0   2.0  Real Bed   \n",
       "4     Private room             2        1.5   2.0  Real Bed   \n",
       "\n",
       "                  ...                 neighbourhood_cleansed_Mattapan  \\\n",
       "0                 ...                                               0   \n",
       "1                 ...                                               0   \n",
       "2                 ...                                               0   \n",
       "3                 ...                                               0   \n",
       "4                 ...                                               0   \n",
       "\n",
       "  neighbourhood_cleansed_Mission Hill  neighbourhood_cleansed_North End  \\\n",
       "0                                   0                                 0   \n",
       "1                                   0                                 0   \n",
       "2                                   0                                 0   \n",
       "3                                   0                                 0   \n",
       "4                                   0                                 0   \n",
       "\n",
       "  neighbourhood_cleansed_Roslindale  neighbourhood_cleansed_Roxbury  \\\n",
       "0                                 1                               0   \n",
       "1                                 1                               0   \n",
       "2                                 1                               0   \n",
       "3                                 1                               0   \n",
       "4                                 1                               0   \n",
       "\n",
       "   neighbourhood_cleansed_South Boston  \\\n",
       "0                                    0   \n",
       "1                                    0   \n",
       "2                                    0   \n",
       "3                                    0   \n",
       "4                                    0   \n",
       "\n",
       "   neighbourhood_cleansed_South Boston Waterfront  \\\n",
       "0                                               0   \n",
       "1                                               0   \n",
       "2                                               0   \n",
       "3                                               0   \n",
       "4                                               0   \n",
       "\n",
       "  neighbourhood_cleansed_South End neighbourhood_cleansed_West End  \\\n",
       "0                                0                               0   \n",
       "1                                0                               0   \n",
       "2                                0                               0   \n",
       "3                                0                               0   \n",
       "4                                0                               0   \n",
       "\n",
       "  neighbourhood_cleansed_West Roxbury  \n",
       "0                                   0  \n",
       "1                                   0  \n",
       "2                                   0  \n",
       "3                                   0  \n",
       "4                                   0  \n",
       "\n",
       "[5 rows x 80 columns]"
      ]
     },
     "execution_count": 212,
     "metadata": {},
     "output_type": "execute_result"
    }
   ],
   "source": [
    "sub_df_m1.head()"
   ]
  },
  {
   "cell_type": "markdown",
   "metadata": {},
   "source": [
    "### encode city"
   ]
  },
  {
   "cell_type": "code",
   "execution_count": 44,
   "metadata": {},
   "outputs": [
    {
     "data": {
      "text/plain": [
       "Boston                       3381\n",
       "Roxbury Crossing               24\n",
       "Somerville                     19\n",
       "Brookline                      18\n",
       "Jamaica Plain                  18\n",
       "Cambridge                      16\n",
       "Brighton                       15\n",
       "Charlestown                    15\n",
       "Dorchester                     15\n",
       "Allston                        12\n",
       "Roslindale                      6\n",
       "West Roxbury                    5\n",
       "ROXBURY CROSSING                4\n",
       "Mattapan                        3\n",
       "East Boston                     3\n",
       "Boston, Massachusetts, US       2\n",
       "South Boston                    2\n",
       "ALLSTON                         2\n",
       "Hyde Park                       2\n",
       "Jamaica Plain                   2\n",
       "Jamaica Plain, Boston           2\n",
       "South End, Boston               1\n",
       "Jamaica Plain (Boston)          1\n",
       "dorchester, boston              1\n",
       "Boston (Jamaica Plain)          1\n",
       "Brighton                        1\n",
       "Mission Hill, Boston            1\n",
       "Watertown                       1\n",
       "Newton                          1\n",
       "east Boston                     1\n",
       "Boston (Charlestown)            1\n",
       "Roslindale, Boston              1\n",
       "boston                          1\n",
       "Jamaica Plain, MA               1\n",
       "波士顿                             1\n",
       "Jamaica plain                   1\n",
       "Milton                          1\n",
       "Boston                          1\n",
       "Name: city, dtype: int64"
      ]
     },
     "execution_count": 44,
     "metadata": {},
     "output_type": "execute_result"
    }
   ],
   "source": [
    "sub_df_m1['city'].value_counts() # some are the same, need some modification"
   ]
  },
  {
   "cell_type": "code",
   "execution_count": 45,
   "metadata": {},
   "outputs": [
    {
     "data": {
      "text/plain": [
       "['Boston',\n",
       " 'Roxbury Crossing',\n",
       " 'Somerville',\n",
       " 'Brookline',\n",
       " 'Jamaica Plain',\n",
       " 'Cambridge',\n",
       " 'Brighton',\n",
       " 'Charlestown',\n",
       " 'Dorchester',\n",
       " 'Allston',\n",
       " 'Roslindale',\n",
       " 'West Roxbury',\n",
       " 'ROXBURY CROSSING',\n",
       " 'Mattapan',\n",
       " 'East Boston',\n",
       " 'Boston, Massachusetts, US',\n",
       " 'South Boston',\n",
       " 'ALLSTON',\n",
       " 'Hyde Park',\n",
       " 'Jamaica Plain ',\n",
       " 'Jamaica Plain, Boston',\n",
       " 'South End, Boston',\n",
       " 'Jamaica Plain (Boston)',\n",
       " 'dorchester, boston ',\n",
       " 'Boston (Jamaica Plain)',\n",
       " 'Brighton ',\n",
       " 'Mission Hill, Boston',\n",
       " 'Watertown',\n",
       " 'Newton',\n",
       " 'east Boston ',\n",
       " 'Boston (Charlestown)',\n",
       " 'Roslindale, Boston',\n",
       " 'boston',\n",
       " 'Jamaica Plain, MA',\n",
       " '波士顿',\n",
       " 'Jamaica plain ',\n",
       " 'Milton',\n",
       " 'Boston ']"
      ]
     },
     "execution_count": 45,
     "metadata": {},
     "output_type": "execute_result"
    }
   ],
   "source": [
    "sub_df_m1['city'].value_counts().index.tolist()#some has space in the end or beginning"
   ]
  },
  {
   "cell_type": "code",
   "execution_count": 46,
   "metadata": {},
   "outputs": [],
   "source": [
    "def city_map(city):\n",
    "    names_map={'ROXBURY CROSSING':'Roxbury Crossing','Jamaica Plain, Boston':'Jamaica Plain','Boston, Massachusetts, US':'Boston',\n",
    "              'Jamaica Plain ':'Jamaica Plain','ALLSTON':'Allston','South End, Boston':'South End Boston','Boston ':'Boston',\n",
    "              'Roslindale, Boston':'Roslindale','Jamaica plain ':'Jamaica Plain','dorchester, boston ':'Dorchester',\n",
    "              'Boston (Charlestown)':'Charlestown','Brighton ':'Brighton','Jamaica Plain, MA':'Jamaica Plain',\n",
    "               'Boston (Jamaica Plain)':'Jamaica Plain','波士顿':'Boston','boston':'Boston','Jamaica Plain (Boston)':'Jamaica Plain'}\n",
    "    if city in names_map:\n",
    "        return names_map[city]\n",
    "    else: \n",
    "        return city"
   ]
  },
  {
   "cell_type": "code",
   "execution_count": 213,
   "metadata": {},
   "outputs": [
    {
     "data": {
      "text/plain": [
       "Boston                  3386\n",
       "Roxbury Crossing          28\n",
       "Jamaica Plain             26\n",
       "Somerville                19\n",
       "Brookline                 18\n",
       "Brighton                  16\n",
       "Dorchester                16\n",
       "Cambridge                 16\n",
       "Charlestown               16\n",
       "Allston                   14\n",
       "Roslindale                 7\n",
       "West Roxbury               5\n",
       "East Boston                3\n",
       "Mattapan                   3\n",
       "Hyde Park                  2\n",
       "South Boston               2\n",
       "Milton                     1\n",
       "Newton                     1\n",
       "Watertown                  1\n",
       "east Boston                1\n",
       "Mission Hill, Boston       1\n",
       "South End Boston           1\n",
       "Name: city, dtype: int64"
      ]
     },
     "execution_count": 213,
     "metadata": {},
     "output_type": "execute_result"
    }
   ],
   "source": [
    "sub_df_m1['city'].apply(city_map).value_counts()"
   ]
  },
  {
   "cell_type": "code",
   "execution_count": 214,
   "metadata": {},
   "outputs": [],
   "source": [
    "sub_df_m1['city'] = sub_df_m1['city'].apply(city_map)"
   ]
  },
  {
   "cell_type": "code",
   "execution_count": 215,
   "metadata": {},
   "outputs": [
    {
     "data": {
      "text/plain": [
       "Boston                  3386\n",
       "Roxbury Crossing          28\n",
       "Jamaica Plain             26\n",
       "Somerville                19\n",
       "Brookline                 18\n",
       "Brighton                  16\n",
       "Dorchester                16\n",
       "Cambridge                 16\n",
       "Charlestown               16\n",
       "Allston                   14\n",
       "Roslindale                 7\n",
       "West Roxbury               5\n",
       "East Boston                3\n",
       "Mattapan                   3\n",
       "Hyde Park                  2\n",
       "South Boston               2\n",
       "Milton                     1\n",
       "Newton                     1\n",
       "Watertown                  1\n",
       "east Boston                1\n",
       "Mission Hill, Boston       1\n",
       "South End Boston           1\n",
       "Name: city, dtype: int64"
      ]
     },
     "execution_count": 215,
     "metadata": {},
     "output_type": "execute_result"
    }
   ],
   "source": [
    "sub_df_m1['city'].value_counts()"
   ]
  },
  {
   "cell_type": "code",
   "execution_count": 216,
   "metadata": {},
   "outputs": [
    {
     "data": {
      "text/plain": [
       "0.0005578800557880056"
      ]
     },
     "execution_count": 216,
     "metadata": {},
     "output_type": "execute_result"
    }
   ],
   "source": [
    "sub_df_m1['city'].isnull().mean()"
   ]
  },
  {
   "cell_type": "code",
   "execution_count": 217,
   "metadata": {},
   "outputs": [
    {
     "data": {
      "text/html": [
       "<div>\n",
       "<style scoped>\n",
       "    .dataframe tbody tr th:only-of-type {\n",
       "        vertical-align: middle;\n",
       "    }\n",
       "\n",
       "    .dataframe tbody tr th {\n",
       "        vertical-align: top;\n",
       "    }\n",
       "\n",
       "    .dataframe thead th {\n",
       "        text-align: right;\n",
       "    }\n",
       "</style>\n",
       "<table border=\"1\" class=\"dataframe\">\n",
       "  <thead>\n",
       "    <tr style=\"text-align: right;\">\n",
       "      <th></th>\n",
       "      <th>longitude</th>\n",
       "      <th>latitude</th>\n",
       "      <th>is_location_exact</th>\n",
       "      <th>property_type</th>\n",
       "      <th>room_type</th>\n",
       "      <th>accommodates</th>\n",
       "      <th>bathrooms</th>\n",
       "      <th>beds</th>\n",
       "      <th>bed_type</th>\n",
       "      <th>amenities</th>\n",
       "      <th>...</th>\n",
       "      <th>city_Mission Hill, Boston</th>\n",
       "      <th>city_Newton</th>\n",
       "      <th>city_Roslindale</th>\n",
       "      <th>city_Roxbury Crossing</th>\n",
       "      <th>city_Somerville</th>\n",
       "      <th>city_South Boston</th>\n",
       "      <th>city_South End Boston</th>\n",
       "      <th>city_Watertown</th>\n",
       "      <th>city_West Roxbury</th>\n",
       "      <th>city_east Boston</th>\n",
       "    </tr>\n",
       "  </thead>\n",
       "  <tbody>\n",
       "    <tr>\n",
       "      <th>0</th>\n",
       "      <td>-71.133068</td>\n",
       "      <td>42.282619</td>\n",
       "      <td>t</td>\n",
       "      <td>House</td>\n",
       "      <td>Entire home/apt</td>\n",
       "      <td>4</td>\n",
       "      <td>1.5</td>\n",
       "      <td>3.0</td>\n",
       "      <td>Real Bed</td>\n",
       "      <td>{TV,\"Wireless Internet\",Kitchen,\"Free Parking ...</td>\n",
       "      <td>...</td>\n",
       "      <td>0</td>\n",
       "      <td>0</td>\n",
       "      <td>0</td>\n",
       "      <td>0</td>\n",
       "      <td>0</td>\n",
       "      <td>0</td>\n",
       "      <td>0</td>\n",
       "      <td>0</td>\n",
       "      <td>0</td>\n",
       "      <td>0</td>\n",
       "    </tr>\n",
       "    <tr>\n",
       "      <th>1</th>\n",
       "      <td>-71.134374</td>\n",
       "      <td>42.286241</td>\n",
       "      <td>t</td>\n",
       "      <td>Apartment</td>\n",
       "      <td>Private room</td>\n",
       "      <td>2</td>\n",
       "      <td>1.0</td>\n",
       "      <td>1.0</td>\n",
       "      <td>Real Bed</td>\n",
       "      <td>{TV,Internet,\"Wireless Internet\",\"Air Conditio...</td>\n",
       "      <td>...</td>\n",
       "      <td>0</td>\n",
       "      <td>0</td>\n",
       "      <td>0</td>\n",
       "      <td>0</td>\n",
       "      <td>0</td>\n",
       "      <td>0</td>\n",
       "      <td>0</td>\n",
       "      <td>0</td>\n",
       "      <td>0</td>\n",
       "      <td>0</td>\n",
       "    </tr>\n",
       "    <tr>\n",
       "      <th>2</th>\n",
       "      <td>-71.135765</td>\n",
       "      <td>42.292438</td>\n",
       "      <td>t</td>\n",
       "      <td>Apartment</td>\n",
       "      <td>Private room</td>\n",
       "      <td>2</td>\n",
       "      <td>1.0</td>\n",
       "      <td>1.0</td>\n",
       "      <td>Real Bed</td>\n",
       "      <td>{TV,\"Cable TV\",\"Wireless Internet\",\"Air Condit...</td>\n",
       "      <td>...</td>\n",
       "      <td>0</td>\n",
       "      <td>0</td>\n",
       "      <td>0</td>\n",
       "      <td>0</td>\n",
       "      <td>0</td>\n",
       "      <td>0</td>\n",
       "      <td>0</td>\n",
       "      <td>0</td>\n",
       "      <td>0</td>\n",
       "      <td>0</td>\n",
       "    </tr>\n",
       "    <tr>\n",
       "      <th>3</th>\n",
       "      <td>-71.121021</td>\n",
       "      <td>42.281106</td>\n",
       "      <td>f</td>\n",
       "      <td>House</td>\n",
       "      <td>Private room</td>\n",
       "      <td>4</td>\n",
       "      <td>1.0</td>\n",
       "      <td>2.0</td>\n",
       "      <td>Real Bed</td>\n",
       "      <td>{TV,Internet,\"Wireless Internet\",\"Air Conditio...</td>\n",
       "      <td>...</td>\n",
       "      <td>0</td>\n",
       "      <td>0</td>\n",
       "      <td>0</td>\n",
       "      <td>0</td>\n",
       "      <td>0</td>\n",
       "      <td>0</td>\n",
       "      <td>0</td>\n",
       "      <td>0</td>\n",
       "      <td>0</td>\n",
       "      <td>0</td>\n",
       "    </tr>\n",
       "    <tr>\n",
       "      <th>4</th>\n",
       "      <td>-71.136258</td>\n",
       "      <td>42.284512</td>\n",
       "      <td>t</td>\n",
       "      <td>House</td>\n",
       "      <td>Private room</td>\n",
       "      <td>2</td>\n",
       "      <td>1.5</td>\n",
       "      <td>2.0</td>\n",
       "      <td>Real Bed</td>\n",
       "      <td>{Internet,\"Wireless Internet\",\"Air Conditionin...</td>\n",
       "      <td>...</td>\n",
       "      <td>0</td>\n",
       "      <td>0</td>\n",
       "      <td>0</td>\n",
       "      <td>0</td>\n",
       "      <td>0</td>\n",
       "      <td>0</td>\n",
       "      <td>0</td>\n",
       "      <td>0</td>\n",
       "      <td>0</td>\n",
       "      <td>0</td>\n",
       "    </tr>\n",
       "  </tbody>\n",
       "</table>\n",
       "<p>5 rows × 100 columns</p>\n",
       "</div>"
      ],
      "text/plain": [
       "   longitude   latitude is_location_exact property_type        room_type  \\\n",
       "0 -71.133068  42.282619                 t         House  Entire home/apt   \n",
       "1 -71.134374  42.286241                 t     Apartment     Private room   \n",
       "2 -71.135765  42.292438                 t     Apartment     Private room   \n",
       "3 -71.121021  42.281106                 f         House     Private room   \n",
       "4 -71.136258  42.284512                 t         House     Private room   \n",
       "\n",
       "   accommodates  bathrooms  beds  bed_type  \\\n",
       "0             4        1.5   3.0  Real Bed   \n",
       "1             2        1.0   1.0  Real Bed   \n",
       "2             2        1.0   1.0  Real Bed   \n",
       "3             4        1.0   2.0  Real Bed   \n",
       "4             2        1.5   2.0  Real Bed   \n",
       "\n",
       "                                           amenities        ...         \\\n",
       "0  {TV,\"Wireless Internet\",Kitchen,\"Free Parking ...        ...          \n",
       "1  {TV,Internet,\"Wireless Internet\",\"Air Conditio...        ...          \n",
       "2  {TV,\"Cable TV\",\"Wireless Internet\",\"Air Condit...        ...          \n",
       "3  {TV,Internet,\"Wireless Internet\",\"Air Conditio...        ...          \n",
       "4  {Internet,\"Wireless Internet\",\"Air Conditionin...        ...          \n",
       "\n",
       "  city_Mission Hill, Boston  city_Newton city_Roslindale  \\\n",
       "0                         0            0               0   \n",
       "1                         0            0               0   \n",
       "2                         0            0               0   \n",
       "3                         0            0               0   \n",
       "4                         0            0               0   \n",
       "\n",
       "   city_Roxbury Crossing  city_Somerville  city_South Boston  \\\n",
       "0                      0                0                  0   \n",
       "1                      0                0                  0   \n",
       "2                      0                0                  0   \n",
       "3                      0                0                  0   \n",
       "4                      0                0                  0   \n",
       "\n",
       "  city_South End Boston city_Watertown city_West Roxbury city_east Boston   \n",
       "0                     0              0                 0                 0  \n",
       "1                     0              0                 0                 0  \n",
       "2                     0              0                 0                 0  \n",
       "3                     0              0                 0                 0  \n",
       "4                     0              0                 0                 0  \n",
       "\n",
       "[5 rows x 100 columns]"
      ]
     },
     "execution_count": 217,
     "metadata": {},
     "output_type": "execute_result"
    }
   ],
   "source": [
    "#for city, NaN will use (0,0,0...)\n",
    "sub_df_m2 = pd.get_dummies(data=sub_df_m1,columns=['city'],prefix='city')\n",
    "sub_df_m2.head()\n"
   ]
  },
  {
   "cell_type": "markdown",
   "metadata": {},
   "source": [
    "### encode is_location_exact"
   ]
  },
  {
   "cell_type": "code",
   "execution_count": 51,
   "metadata": {},
   "outputs": [
    {
     "data": {
      "text/plain": [
       "0.0"
      ]
     },
     "execution_count": 51,
     "metadata": {},
     "output_type": "execute_result"
    }
   ],
   "source": [
    "sub_df_m2['is_location_exact'].isnull().mean()#no NaN data"
   ]
  },
  {
   "cell_type": "code",
   "execution_count": 52,
   "metadata": {},
   "outputs": [
    {
     "data": {
      "text/plain": [
       "t    3080\n",
       "f     505\n",
       "Name: is_location_exact, dtype: int64"
      ]
     },
     "execution_count": 52,
     "metadata": {},
     "output_type": "execute_result"
    }
   ],
   "source": [
    "sub_df_m2['is_location_exact'].value_counts()"
   ]
  },
  {
   "cell_type": "code",
   "execution_count": 53,
   "metadata": {},
   "outputs": [
    {
     "data": {
      "text/plain": [
       "True     3080\n",
       "False     505\n",
       "Name: is_location_exact, dtype: int64"
      ]
     },
     "execution_count": 53,
     "metadata": {},
     "output_type": "execute_result"
    }
   ],
   "source": [
    "sub_df_m2['is_location_exact'].map({'t':True,'f':False}).value_counts()"
   ]
  },
  {
   "cell_type": "code",
   "execution_count": 218,
   "metadata": {},
   "outputs": [],
   "source": [
    "sub_df_m2['is_location_exact']=sub_df_m2['is_location_exact'].map({'t':True,'f':False})"
   ]
  },
  {
   "cell_type": "markdown",
   "metadata": {},
   "source": [
    "### encode property_type"
   ]
  },
  {
   "cell_type": "code",
   "execution_count": 55,
   "metadata": {},
   "outputs": [
    {
     "data": {
      "text/plain": [
       "0.0008368200836820083"
      ]
     },
     "execution_count": 55,
     "metadata": {},
     "output_type": "execute_result"
    }
   ],
   "source": [
    "sub_df_m2['property_type'].isnull().mean()"
   ]
  },
  {
   "cell_type": "code",
   "execution_count": 56,
   "metadata": {},
   "outputs": [
    {
     "data": {
      "text/plain": [
       "Apartment          2612\n",
       "House               562\n",
       "Condominium         231\n",
       "Townhouse            54\n",
       "Bed & Breakfast      41\n",
       "Loft                 39\n",
       "Other                17\n",
       "Boat                 12\n",
       "Villa                 6\n",
       "Entire Floor          4\n",
       "Dorm                  2\n",
       "Guesthouse            1\n",
       "Camper/RV             1\n",
       "Name: property_type, dtype: int64"
      ]
     },
     "execution_count": 56,
     "metadata": {},
     "output_type": "execute_result"
    }
   ],
   "source": [
    "sub_df_m2['property_type'].value_counts()"
   ]
  },
  {
   "cell_type": "code",
   "execution_count": 219,
   "metadata": {},
   "outputs": [
    {
     "data": {
      "text/html": [
       "<div>\n",
       "<style scoped>\n",
       "    .dataframe tbody tr th:only-of-type {\n",
       "        vertical-align: middle;\n",
       "    }\n",
       "\n",
       "    .dataframe tbody tr th {\n",
       "        vertical-align: top;\n",
       "    }\n",
       "\n",
       "    .dataframe thead th {\n",
       "        text-align: right;\n",
       "    }\n",
       "</style>\n",
       "<table border=\"1\" class=\"dataframe\">\n",
       "  <thead>\n",
       "    <tr style=\"text-align: right;\">\n",
       "      <th></th>\n",
       "      <th>longitude</th>\n",
       "      <th>latitude</th>\n",
       "      <th>is_location_exact</th>\n",
       "      <th>room_type</th>\n",
       "      <th>accommodates</th>\n",
       "      <th>bathrooms</th>\n",
       "      <th>beds</th>\n",
       "      <th>bed_type</th>\n",
       "      <th>amenities</th>\n",
       "      <th>cleaning_fee</th>\n",
       "      <th>...</th>\n",
       "      <th>property_type_Camper/RV</th>\n",
       "      <th>property_type_Condominium</th>\n",
       "      <th>property_type_Dorm</th>\n",
       "      <th>property_type_Entire Floor</th>\n",
       "      <th>property_type_Guesthouse</th>\n",
       "      <th>property_type_House</th>\n",
       "      <th>property_type_Loft</th>\n",
       "      <th>property_type_Other</th>\n",
       "      <th>property_type_Townhouse</th>\n",
       "      <th>property_type_Villa</th>\n",
       "    </tr>\n",
       "  </thead>\n",
       "  <tbody>\n",
       "    <tr>\n",
       "      <th>0</th>\n",
       "      <td>-71.133068</td>\n",
       "      <td>42.282619</td>\n",
       "      <td>True</td>\n",
       "      <td>Entire home/apt</td>\n",
       "      <td>4</td>\n",
       "      <td>1.5</td>\n",
       "      <td>3.0</td>\n",
       "      <td>Real Bed</td>\n",
       "      <td>{TV,\"Wireless Internet\",Kitchen,\"Free Parking ...</td>\n",
       "      <td>$35.00</td>\n",
       "      <td>...</td>\n",
       "      <td>0</td>\n",
       "      <td>0</td>\n",
       "      <td>0</td>\n",
       "      <td>0</td>\n",
       "      <td>0</td>\n",
       "      <td>1</td>\n",
       "      <td>0</td>\n",
       "      <td>0</td>\n",
       "      <td>0</td>\n",
       "      <td>0</td>\n",
       "    </tr>\n",
       "    <tr>\n",
       "      <th>1</th>\n",
       "      <td>-71.134374</td>\n",
       "      <td>42.286241</td>\n",
       "      <td>True</td>\n",
       "      <td>Private room</td>\n",
       "      <td>2</td>\n",
       "      <td>1.0</td>\n",
       "      <td>1.0</td>\n",
       "      <td>Real Bed</td>\n",
       "      <td>{TV,Internet,\"Wireless Internet\",\"Air Conditio...</td>\n",
       "      <td>$10.00</td>\n",
       "      <td>...</td>\n",
       "      <td>0</td>\n",
       "      <td>0</td>\n",
       "      <td>0</td>\n",
       "      <td>0</td>\n",
       "      <td>0</td>\n",
       "      <td>0</td>\n",
       "      <td>0</td>\n",
       "      <td>0</td>\n",
       "      <td>0</td>\n",
       "      <td>0</td>\n",
       "    </tr>\n",
       "    <tr>\n",
       "      <th>2</th>\n",
       "      <td>-71.135765</td>\n",
       "      <td>42.292438</td>\n",
       "      <td>True</td>\n",
       "      <td>Private room</td>\n",
       "      <td>2</td>\n",
       "      <td>1.0</td>\n",
       "      <td>1.0</td>\n",
       "      <td>Real Bed</td>\n",
       "      <td>{TV,\"Cable TV\",\"Wireless Internet\",\"Air Condit...</td>\n",
       "      <td>NaN</td>\n",
       "      <td>...</td>\n",
       "      <td>0</td>\n",
       "      <td>0</td>\n",
       "      <td>0</td>\n",
       "      <td>0</td>\n",
       "      <td>0</td>\n",
       "      <td>0</td>\n",
       "      <td>0</td>\n",
       "      <td>0</td>\n",
       "      <td>0</td>\n",
       "      <td>0</td>\n",
       "    </tr>\n",
       "    <tr>\n",
       "      <th>3</th>\n",
       "      <td>-71.121021</td>\n",
       "      <td>42.281106</td>\n",
       "      <td>False</td>\n",
       "      <td>Private room</td>\n",
       "      <td>4</td>\n",
       "      <td>1.0</td>\n",
       "      <td>2.0</td>\n",
       "      <td>Real Bed</td>\n",
       "      <td>{TV,Internet,\"Wireless Internet\",\"Air Conditio...</td>\n",
       "      <td>$50.00</td>\n",
       "      <td>...</td>\n",
       "      <td>0</td>\n",
       "      <td>0</td>\n",
       "      <td>0</td>\n",
       "      <td>0</td>\n",
       "      <td>0</td>\n",
       "      <td>1</td>\n",
       "      <td>0</td>\n",
       "      <td>0</td>\n",
       "      <td>0</td>\n",
       "      <td>0</td>\n",
       "    </tr>\n",
       "    <tr>\n",
       "      <th>4</th>\n",
       "      <td>-71.136258</td>\n",
       "      <td>42.284512</td>\n",
       "      <td>True</td>\n",
       "      <td>Private room</td>\n",
       "      <td>2</td>\n",
       "      <td>1.5</td>\n",
       "      <td>2.0</td>\n",
       "      <td>Real Bed</td>\n",
       "      <td>{Internet,\"Wireless Internet\",\"Air Conditionin...</td>\n",
       "      <td>$15.00</td>\n",
       "      <td>...</td>\n",
       "      <td>0</td>\n",
       "      <td>0</td>\n",
       "      <td>0</td>\n",
       "      <td>0</td>\n",
       "      <td>0</td>\n",
       "      <td>1</td>\n",
       "      <td>0</td>\n",
       "      <td>0</td>\n",
       "      <td>0</td>\n",
       "      <td>0</td>\n",
       "    </tr>\n",
       "  </tbody>\n",
       "</table>\n",
       "<p>5 rows × 111 columns</p>\n",
       "</div>"
      ],
      "text/plain": [
       "   longitude   latitude  is_location_exact        room_type  accommodates  \\\n",
       "0 -71.133068  42.282619               True  Entire home/apt             4   \n",
       "1 -71.134374  42.286241               True     Private room             2   \n",
       "2 -71.135765  42.292438               True     Private room             2   \n",
       "3 -71.121021  42.281106              False     Private room             4   \n",
       "4 -71.136258  42.284512               True     Private room             2   \n",
       "\n",
       "   bathrooms  beds  bed_type  \\\n",
       "0        1.5   3.0  Real Bed   \n",
       "1        1.0   1.0  Real Bed   \n",
       "2        1.0   1.0  Real Bed   \n",
       "3        1.0   2.0  Real Bed   \n",
       "4        1.5   2.0  Real Bed   \n",
       "\n",
       "                                           amenities cleaning_fee  \\\n",
       "0  {TV,\"Wireless Internet\",Kitchen,\"Free Parking ...       $35.00   \n",
       "1  {TV,Internet,\"Wireless Internet\",\"Air Conditio...       $10.00   \n",
       "2  {TV,\"Cable TV\",\"Wireless Internet\",\"Air Condit...          NaN   \n",
       "3  {TV,Internet,\"Wireless Internet\",\"Air Conditio...       $50.00   \n",
       "4  {Internet,\"Wireless Internet\",\"Air Conditionin...       $15.00   \n",
       "\n",
       "          ...           property_type_Camper/RV property_type_Condominium  \\\n",
       "0         ...                                 0                         0   \n",
       "1         ...                                 0                         0   \n",
       "2         ...                                 0                         0   \n",
       "3         ...                                 0                         0   \n",
       "4         ...                                 0                         0   \n",
       "\n",
       "   property_type_Dorm  property_type_Entire Floor  property_type_Guesthouse  \\\n",
       "0                   0                           0                         0   \n",
       "1                   0                           0                         0   \n",
       "2                   0                           0                         0   \n",
       "3                   0                           0                         0   \n",
       "4                   0                           0                         0   \n",
       "\n",
       "  property_type_House property_type_Loft property_type_Other  \\\n",
       "0                   1                  0                   0   \n",
       "1                   0                  0                   0   \n",
       "2                   0                  0                   0   \n",
       "3                   1                  0                   0   \n",
       "4                   1                  0                   0   \n",
       "\n",
       "  property_type_Townhouse  property_type_Villa  \n",
       "0                       0                    0  \n",
       "1                       0                    0  \n",
       "2                       0                    0  \n",
       "3                       0                    0  \n",
       "4                       0                    0  \n",
       "\n",
       "[5 rows x 111 columns]"
      ]
     },
     "execution_count": 219,
     "metadata": {},
     "output_type": "execute_result"
    }
   ],
   "source": [
    "#this feature also has nan values\n",
    "sub_df_m3 = pd.get_dummies(data=sub_df_m2,columns=['property_type'],prefix='property_type')\n",
    "sub_df_m3.head()"
   ]
  },
  {
   "cell_type": "markdown",
   "metadata": {},
   "source": [
    "### encode room_type, bed_type"
   ]
  },
  {
   "cell_type": "code",
   "execution_count": 86,
   "metadata": {},
   "outputs": [
    {
     "data": {
      "text/plain": [
       "0.0"
      ]
     },
     "execution_count": 86,
     "metadata": {},
     "output_type": "execute_result"
    }
   ],
   "source": [
    "sub_df_m3['room_type'].isnull().mean()"
   ]
  },
  {
   "cell_type": "code",
   "execution_count": 89,
   "metadata": {},
   "outputs": [
    {
     "data": {
      "text/plain": [
       "0.0"
      ]
     },
     "execution_count": 89,
     "metadata": {},
     "output_type": "execute_result"
    }
   ],
   "source": [
    "sub_df_m3['bed_type'].isnull().mean()"
   ]
  },
  {
   "cell_type": "code",
   "execution_count": 87,
   "metadata": {},
   "outputs": [
    {
     "data": {
      "text/plain": [
       "Entire home/apt    2127\n",
       "Private room       1378\n",
       "Shared room          80\n",
       "Name: room_type, dtype: int64"
      ]
     },
     "execution_count": 87,
     "metadata": {},
     "output_type": "execute_result"
    }
   ],
   "source": [
    "sub_df_m3['room_type'].value_counts()"
   ]
  },
  {
   "cell_type": "code",
   "execution_count": 90,
   "metadata": {},
   "outputs": [
    {
     "data": {
      "text/plain": [
       "Real Bed         3453\n",
       "Futon              51\n",
       "Airbed             40\n",
       "Pull-out Sofa      31\n",
       "Couch              10\n",
       "Name: bed_type, dtype: int64"
      ]
     },
     "execution_count": 90,
     "metadata": {},
     "output_type": "execute_result"
    }
   ],
   "source": [
    "sub_df_m3['bed_type'].value_counts()"
   ]
  },
  {
   "cell_type": "code",
   "execution_count": 220,
   "metadata": {},
   "outputs": [
    {
     "data": {
      "text/html": [
       "<div>\n",
       "<style scoped>\n",
       "    .dataframe tbody tr th:only-of-type {\n",
       "        vertical-align: middle;\n",
       "    }\n",
       "\n",
       "    .dataframe tbody tr th {\n",
       "        vertical-align: top;\n",
       "    }\n",
       "\n",
       "    .dataframe thead th {\n",
       "        text-align: right;\n",
       "    }\n",
       "</style>\n",
       "<table border=\"1\" class=\"dataframe\">\n",
       "  <thead>\n",
       "    <tr style=\"text-align: right;\">\n",
       "      <th></th>\n",
       "      <th>longitude</th>\n",
       "      <th>latitude</th>\n",
       "      <th>is_location_exact</th>\n",
       "      <th>accommodates</th>\n",
       "      <th>bathrooms</th>\n",
       "      <th>beds</th>\n",
       "      <th>bed_type</th>\n",
       "      <th>amenities</th>\n",
       "      <th>cleaning_fee</th>\n",
       "      <th>guests_included</th>\n",
       "      <th>...</th>\n",
       "      <th>property_type_Dorm</th>\n",
       "      <th>property_type_Entire Floor</th>\n",
       "      <th>property_type_Guesthouse</th>\n",
       "      <th>property_type_House</th>\n",
       "      <th>property_type_Loft</th>\n",
       "      <th>property_type_Other</th>\n",
       "      <th>property_type_Townhouse</th>\n",
       "      <th>property_type_Villa</th>\n",
       "      <th>room_type_Private room</th>\n",
       "      <th>room_type_Shared room</th>\n",
       "    </tr>\n",
       "  </thead>\n",
       "  <tbody>\n",
       "    <tr>\n",
       "      <th>0</th>\n",
       "      <td>-71.133068</td>\n",
       "      <td>42.282619</td>\n",
       "      <td>True</td>\n",
       "      <td>4</td>\n",
       "      <td>1.5</td>\n",
       "      <td>3.0</td>\n",
       "      <td>Real Bed</td>\n",
       "      <td>{TV,\"Wireless Internet\",Kitchen,\"Free Parking ...</td>\n",
       "      <td>$35.00</td>\n",
       "      <td>1</td>\n",
       "      <td>...</td>\n",
       "      <td>0</td>\n",
       "      <td>0</td>\n",
       "      <td>0</td>\n",
       "      <td>1</td>\n",
       "      <td>0</td>\n",
       "      <td>0</td>\n",
       "      <td>0</td>\n",
       "      <td>0</td>\n",
       "      <td>0</td>\n",
       "      <td>0</td>\n",
       "    </tr>\n",
       "    <tr>\n",
       "      <th>1</th>\n",
       "      <td>-71.134374</td>\n",
       "      <td>42.286241</td>\n",
       "      <td>True</td>\n",
       "      <td>2</td>\n",
       "      <td>1.0</td>\n",
       "      <td>1.0</td>\n",
       "      <td>Real Bed</td>\n",
       "      <td>{TV,Internet,\"Wireless Internet\",\"Air Conditio...</td>\n",
       "      <td>$10.00</td>\n",
       "      <td>0</td>\n",
       "      <td>...</td>\n",
       "      <td>0</td>\n",
       "      <td>0</td>\n",
       "      <td>0</td>\n",
       "      <td>0</td>\n",
       "      <td>0</td>\n",
       "      <td>0</td>\n",
       "      <td>0</td>\n",
       "      <td>0</td>\n",
       "      <td>1</td>\n",
       "      <td>0</td>\n",
       "    </tr>\n",
       "    <tr>\n",
       "      <th>2</th>\n",
       "      <td>-71.135765</td>\n",
       "      <td>42.292438</td>\n",
       "      <td>True</td>\n",
       "      <td>2</td>\n",
       "      <td>1.0</td>\n",
       "      <td>1.0</td>\n",
       "      <td>Real Bed</td>\n",
       "      <td>{TV,\"Cable TV\",\"Wireless Internet\",\"Air Condit...</td>\n",
       "      <td>NaN</td>\n",
       "      <td>1</td>\n",
       "      <td>...</td>\n",
       "      <td>0</td>\n",
       "      <td>0</td>\n",
       "      <td>0</td>\n",
       "      <td>0</td>\n",
       "      <td>0</td>\n",
       "      <td>0</td>\n",
       "      <td>0</td>\n",
       "      <td>0</td>\n",
       "      <td>1</td>\n",
       "      <td>0</td>\n",
       "    </tr>\n",
       "    <tr>\n",
       "      <th>3</th>\n",
       "      <td>-71.121021</td>\n",
       "      <td>42.281106</td>\n",
       "      <td>False</td>\n",
       "      <td>4</td>\n",
       "      <td>1.0</td>\n",
       "      <td>2.0</td>\n",
       "      <td>Real Bed</td>\n",
       "      <td>{TV,Internet,\"Wireless Internet\",\"Air Conditio...</td>\n",
       "      <td>$50.00</td>\n",
       "      <td>2</td>\n",
       "      <td>...</td>\n",
       "      <td>0</td>\n",
       "      <td>0</td>\n",
       "      <td>0</td>\n",
       "      <td>1</td>\n",
       "      <td>0</td>\n",
       "      <td>0</td>\n",
       "      <td>0</td>\n",
       "      <td>0</td>\n",
       "      <td>1</td>\n",
       "      <td>0</td>\n",
       "    </tr>\n",
       "    <tr>\n",
       "      <th>4</th>\n",
       "      <td>-71.136258</td>\n",
       "      <td>42.284512</td>\n",
       "      <td>True</td>\n",
       "      <td>2</td>\n",
       "      <td>1.5</td>\n",
       "      <td>2.0</td>\n",
       "      <td>Real Bed</td>\n",
       "      <td>{Internet,\"Wireless Internet\",\"Air Conditionin...</td>\n",
       "      <td>$15.00</td>\n",
       "      <td>1</td>\n",
       "      <td>...</td>\n",
       "      <td>0</td>\n",
       "      <td>0</td>\n",
       "      <td>0</td>\n",
       "      <td>1</td>\n",
       "      <td>0</td>\n",
       "      <td>0</td>\n",
       "      <td>0</td>\n",
       "      <td>0</td>\n",
       "      <td>1</td>\n",
       "      <td>0</td>\n",
       "    </tr>\n",
       "  </tbody>\n",
       "</table>\n",
       "<p>5 rows × 112 columns</p>\n",
       "</div>"
      ],
      "text/plain": [
       "   longitude   latitude  is_location_exact  accommodates  bathrooms  beds  \\\n",
       "0 -71.133068  42.282619               True             4        1.5   3.0   \n",
       "1 -71.134374  42.286241               True             2        1.0   1.0   \n",
       "2 -71.135765  42.292438               True             2        1.0   1.0   \n",
       "3 -71.121021  42.281106              False             4        1.0   2.0   \n",
       "4 -71.136258  42.284512               True             2        1.5   2.0   \n",
       "\n",
       "   bed_type                                          amenities cleaning_fee  \\\n",
       "0  Real Bed  {TV,\"Wireless Internet\",Kitchen,\"Free Parking ...       $35.00   \n",
       "1  Real Bed  {TV,Internet,\"Wireless Internet\",\"Air Conditio...       $10.00   \n",
       "2  Real Bed  {TV,\"Cable TV\",\"Wireless Internet\",\"Air Condit...          NaN   \n",
       "3  Real Bed  {TV,Internet,\"Wireless Internet\",\"Air Conditio...       $50.00   \n",
       "4  Real Bed  {Internet,\"Wireless Internet\",\"Air Conditionin...       $15.00   \n",
       "\n",
       "   guests_included          ...           property_type_Dorm  \\\n",
       "0                1          ...                            0   \n",
       "1                0          ...                            0   \n",
       "2                1          ...                            0   \n",
       "3                2          ...                            0   \n",
       "4                1          ...                            0   \n",
       "\n",
       "   property_type_Entire Floor  property_type_Guesthouse  property_type_House  \\\n",
       "0                           0                         0                    1   \n",
       "1                           0                         0                    0   \n",
       "2                           0                         0                    0   \n",
       "3                           0                         0                    1   \n",
       "4                           0                         0                    1   \n",
       "\n",
       "  property_type_Loft property_type_Other property_type_Townhouse  \\\n",
       "0                  0                   0                       0   \n",
       "1                  0                   0                       0   \n",
       "2                  0                   0                       0   \n",
       "3                  0                   0                       0   \n",
       "4                  0                   0                       0   \n",
       "\n",
       "  property_type_Villa  room_type_Private room  room_type_Shared room  \n",
       "0                   0                       0                      0  \n",
       "1                   0                       1                      0  \n",
       "2                   0                       1                      0  \n",
       "3                   0                       1                      0  \n",
       "4                   0                       1                      0  \n",
       "\n",
       "[5 rows x 112 columns]"
      ]
     },
     "execution_count": 220,
     "metadata": {},
     "output_type": "execute_result"
    }
   ],
   "source": [
    "sub_df_m4 = pd.get_dummies(data=sub_df_m3,columns=['room_type'],prefix='room_type',drop_first=True)\n",
    "sub_df_m4.head()"
   ]
  },
  {
   "cell_type": "code",
   "execution_count": 221,
   "metadata": {},
   "outputs": [
    {
     "data": {
      "text/html": [
       "<div>\n",
       "<style scoped>\n",
       "    .dataframe tbody tr th:only-of-type {\n",
       "        vertical-align: middle;\n",
       "    }\n",
       "\n",
       "    .dataframe tbody tr th {\n",
       "        vertical-align: top;\n",
       "    }\n",
       "\n",
       "    .dataframe thead th {\n",
       "        text-align: right;\n",
       "    }\n",
       "</style>\n",
       "<table border=\"1\" class=\"dataframe\">\n",
       "  <thead>\n",
       "    <tr style=\"text-align: right;\">\n",
       "      <th></th>\n",
       "      <th>longitude</th>\n",
       "      <th>latitude</th>\n",
       "      <th>is_location_exact</th>\n",
       "      <th>accommodates</th>\n",
       "      <th>bathrooms</th>\n",
       "      <th>beds</th>\n",
       "      <th>amenities</th>\n",
       "      <th>cleaning_fee</th>\n",
       "      <th>guests_included</th>\n",
       "      <th>extra_people</th>\n",
       "      <th>...</th>\n",
       "      <th>property_type_Loft</th>\n",
       "      <th>property_type_Other</th>\n",
       "      <th>property_type_Townhouse</th>\n",
       "      <th>property_type_Villa</th>\n",
       "      <th>room_type_Private room</th>\n",
       "      <th>room_type_Shared room</th>\n",
       "      <th>bed_type_Couch</th>\n",
       "      <th>bed_type_Futon</th>\n",
       "      <th>bed_type_Pull-out Sofa</th>\n",
       "      <th>bed_type_Real Bed</th>\n",
       "    </tr>\n",
       "  </thead>\n",
       "  <tbody>\n",
       "    <tr>\n",
       "      <th>0</th>\n",
       "      <td>-71.133068</td>\n",
       "      <td>42.282619</td>\n",
       "      <td>True</td>\n",
       "      <td>4</td>\n",
       "      <td>1.5</td>\n",
       "      <td>3.0</td>\n",
       "      <td>{TV,\"Wireless Internet\",Kitchen,\"Free Parking ...</td>\n",
       "      <td>$35.00</td>\n",
       "      <td>1</td>\n",
       "      <td>$0.00</td>\n",
       "      <td>...</td>\n",
       "      <td>0</td>\n",
       "      <td>0</td>\n",
       "      <td>0</td>\n",
       "      <td>0</td>\n",
       "      <td>0</td>\n",
       "      <td>0</td>\n",
       "      <td>0</td>\n",
       "      <td>0</td>\n",
       "      <td>0</td>\n",
       "      <td>1</td>\n",
       "    </tr>\n",
       "    <tr>\n",
       "      <th>1</th>\n",
       "      <td>-71.134374</td>\n",
       "      <td>42.286241</td>\n",
       "      <td>True</td>\n",
       "      <td>2</td>\n",
       "      <td>1.0</td>\n",
       "      <td>1.0</td>\n",
       "      <td>{TV,Internet,\"Wireless Internet\",\"Air Conditio...</td>\n",
       "      <td>$10.00</td>\n",
       "      <td>0</td>\n",
       "      <td>$0.00</td>\n",
       "      <td>...</td>\n",
       "      <td>0</td>\n",
       "      <td>0</td>\n",
       "      <td>0</td>\n",
       "      <td>0</td>\n",
       "      <td>1</td>\n",
       "      <td>0</td>\n",
       "      <td>0</td>\n",
       "      <td>0</td>\n",
       "      <td>0</td>\n",
       "      <td>1</td>\n",
       "    </tr>\n",
       "    <tr>\n",
       "      <th>2</th>\n",
       "      <td>-71.135765</td>\n",
       "      <td>42.292438</td>\n",
       "      <td>True</td>\n",
       "      <td>2</td>\n",
       "      <td>1.0</td>\n",
       "      <td>1.0</td>\n",
       "      <td>{TV,\"Cable TV\",\"Wireless Internet\",\"Air Condit...</td>\n",
       "      <td>NaN</td>\n",
       "      <td>1</td>\n",
       "      <td>$20.00</td>\n",
       "      <td>...</td>\n",
       "      <td>0</td>\n",
       "      <td>0</td>\n",
       "      <td>0</td>\n",
       "      <td>0</td>\n",
       "      <td>1</td>\n",
       "      <td>0</td>\n",
       "      <td>0</td>\n",
       "      <td>0</td>\n",
       "      <td>0</td>\n",
       "      <td>1</td>\n",
       "    </tr>\n",
       "    <tr>\n",
       "      <th>3</th>\n",
       "      <td>-71.121021</td>\n",
       "      <td>42.281106</td>\n",
       "      <td>False</td>\n",
       "      <td>4</td>\n",
       "      <td>1.0</td>\n",
       "      <td>2.0</td>\n",
       "      <td>{TV,Internet,\"Wireless Internet\",\"Air Conditio...</td>\n",
       "      <td>$50.00</td>\n",
       "      <td>2</td>\n",
       "      <td>$25.00</td>\n",
       "      <td>...</td>\n",
       "      <td>0</td>\n",
       "      <td>0</td>\n",
       "      <td>0</td>\n",
       "      <td>0</td>\n",
       "      <td>1</td>\n",
       "      <td>0</td>\n",
       "      <td>0</td>\n",
       "      <td>0</td>\n",
       "      <td>0</td>\n",
       "      <td>1</td>\n",
       "    </tr>\n",
       "    <tr>\n",
       "      <th>4</th>\n",
       "      <td>-71.136258</td>\n",
       "      <td>42.284512</td>\n",
       "      <td>True</td>\n",
       "      <td>2</td>\n",
       "      <td>1.5</td>\n",
       "      <td>2.0</td>\n",
       "      <td>{Internet,\"Wireless Internet\",\"Air Conditionin...</td>\n",
       "      <td>$15.00</td>\n",
       "      <td>1</td>\n",
       "      <td>$0.00</td>\n",
       "      <td>...</td>\n",
       "      <td>0</td>\n",
       "      <td>0</td>\n",
       "      <td>0</td>\n",
       "      <td>0</td>\n",
       "      <td>1</td>\n",
       "      <td>0</td>\n",
       "      <td>0</td>\n",
       "      <td>0</td>\n",
       "      <td>0</td>\n",
       "      <td>1</td>\n",
       "    </tr>\n",
       "  </tbody>\n",
       "</table>\n",
       "<p>5 rows × 115 columns</p>\n",
       "</div>"
      ],
      "text/plain": [
       "   longitude   latitude  is_location_exact  accommodates  bathrooms  beds  \\\n",
       "0 -71.133068  42.282619               True             4        1.5   3.0   \n",
       "1 -71.134374  42.286241               True             2        1.0   1.0   \n",
       "2 -71.135765  42.292438               True             2        1.0   1.0   \n",
       "3 -71.121021  42.281106              False             4        1.0   2.0   \n",
       "4 -71.136258  42.284512               True             2        1.5   2.0   \n",
       "\n",
       "                                           amenities cleaning_fee  \\\n",
       "0  {TV,\"Wireless Internet\",Kitchen,\"Free Parking ...       $35.00   \n",
       "1  {TV,Internet,\"Wireless Internet\",\"Air Conditio...       $10.00   \n",
       "2  {TV,\"Cable TV\",\"Wireless Internet\",\"Air Condit...          NaN   \n",
       "3  {TV,Internet,\"Wireless Internet\",\"Air Conditio...       $50.00   \n",
       "4  {Internet,\"Wireless Internet\",\"Air Conditionin...       $15.00   \n",
       "\n",
       "   guests_included extra_people        ...         property_type_Loft  \\\n",
       "0                1        $0.00        ...                          0   \n",
       "1                0        $0.00        ...                          0   \n",
       "2                1       $20.00        ...                          0   \n",
       "3                2       $25.00        ...                          0   \n",
       "4                1        $0.00        ...                          0   \n",
       "\n",
       "   property_type_Other  property_type_Townhouse property_type_Villa  \\\n",
       "0                    0                        0                   0   \n",
       "1                    0                        0                   0   \n",
       "2                    0                        0                   0   \n",
       "3                    0                        0                   0   \n",
       "4                    0                        0                   0   \n",
       "\n",
       "  room_type_Private room room_type_Shared room bed_type_Couch  bed_type_Futon  \\\n",
       "0                      0                     0              0               0   \n",
       "1                      1                     0              0               0   \n",
       "2                      1                     0              0               0   \n",
       "3                      1                     0              0               0   \n",
       "4                      1                     0              0               0   \n",
       "\n",
       "   bed_type_Pull-out Sofa bed_type_Real Bed  \n",
       "0                       0                 1  \n",
       "1                       0                 1  \n",
       "2                       0                 1  \n",
       "3                       0                 1  \n",
       "4                       0                 1  \n",
       "\n",
       "[5 rows x 115 columns]"
      ]
     },
     "execution_count": 221,
     "metadata": {},
     "output_type": "execute_result"
    }
   ],
   "source": [
    "sub_df_m5 = pd.get_dummies(data=sub_df_m4,columns=['bed_type'],prefix='bed_type',drop_first=True)\n",
    "sub_df_m5.head()"
   ]
  },
  {
   "cell_type": "markdown",
   "metadata": {},
   "source": [
    "### encode amenities"
   ]
  },
  {
   "cell_type": "code",
   "execution_count": 60,
   "metadata": {},
   "outputs": [
    {
     "data": {
      "text/plain": [
       "0.0"
      ]
     },
     "execution_count": 60,
     "metadata": {},
     "output_type": "execute_result"
    }
   ],
   "source": [
    "#this one will take some effort\n",
    "sub_df_m5['amenities'].isnull().mean()"
   ]
  },
  {
   "cell_type": "code",
   "execution_count": 61,
   "metadata": {},
   "outputs": [
    {
     "data": {
      "text/plain": [
       "['TV',\n",
       " '\"Wireless Internet\"',\n",
       " 'Kitchen',\n",
       " '\"Free Parking on Premises\"',\n",
       " '\"Pets live on this property\"',\n",
       " 'Dog(s)',\n",
       " 'Heating',\n",
       " '\"Family/Kid Friendly\"',\n",
       " 'Washer',\n",
       " 'Dryer',\n",
       " '\"Smoke Detector\"',\n",
       " '\"Fire Extinguisher\"',\n",
       " 'Essentials',\n",
       " 'Shampoo',\n",
       " '\"Laptop Friendly Workspace\"']"
      ]
     },
     "execution_count": 61,
     "metadata": {},
     "output_type": "execute_result"
    }
   ],
   "source": [
    "sub_df_m5['amenities'][0][1:-1].split(',')"
   ]
  },
  {
   "cell_type": "code",
   "execution_count": 160,
   "metadata": {},
   "outputs": [],
   "source": [
    "#let's check how many amenities\n",
    "amenity_list=[]\n",
    "count=0\n",
    "for s_l in sub_df_m5['amenities'].values:\n",
    "    #if count>2:\n",
    "    #    break\n",
    "    count += 1\n",
    "    for s in s_l[1:-1].split(','):\n",
    "        #print(s.replace('\"',''))\n",
    "        amenity_list.append(s.replace('\"',''))"
   ]
  },
  {
   "cell_type": "code",
   "execution_count": 63,
   "metadata": {},
   "outputs": [
    {
     "data": {
      "text/plain": [
       "['TV',\n",
       " 'Wireless Internet',\n",
       " 'Kitchen',\n",
       " 'Free Parking on Premises',\n",
       " 'Pets live on this property']"
      ]
     },
     "execution_count": 63,
     "metadata": {},
     "output_type": "execute_result"
    }
   ],
   "source": [
    "amenity_list[0:5]"
   ]
  },
  {
   "cell_type": "code",
   "execution_count": 64,
   "metadata": {},
   "outputs": [
    {
     "data": {
      "text/plain": [
       "46"
      ]
     },
     "execution_count": 64,
     "metadata": {},
     "output_type": "execute_result"
    }
   ],
   "source": [
    "#let's check how many type\n",
    "amenity_set = set(amenity_list)\n",
    "len(amenity_set)"
   ]
  },
  {
   "cell_type": "code",
   "execution_count": 222,
   "metadata": {},
   "outputs": [
    {
     "data": {
      "text/plain": [
       "{'24-Hour Check-in',\n",
       " 'Air Conditioning',\n",
       " 'Breakfast',\n",
       " 'Buzzer/Wireless Intercom',\n",
       " 'Cable TV',\n",
       " 'Carbon Monoxide Detector',\n",
       " 'Cat(s)',\n",
       " 'Dog(s)',\n",
       " 'Doorman',\n",
       " 'Dryer',\n",
       " 'Elevator in Building',\n",
       " 'Essentials',\n",
       " 'Family/Kid Friendly',\n",
       " 'Fire Extinguisher',\n",
       " 'First Aid Kit',\n",
       " 'Free Parking on Premises',\n",
       " 'Free Parking on Street',\n",
       " 'Gym',\n",
       " 'Hair Dryer',\n",
       " 'Hangers',\n",
       " 'Heating',\n",
       " 'Hot Tub',\n",
       " 'Indoor Fireplace',\n",
       " 'Internet',\n",
       " 'Iron',\n",
       " 'Kitchen',\n",
       " 'Laptop Friendly Workspace',\n",
       " 'Lock on Bedroom Door',\n",
       " 'Other pet(s)',\n",
       " 'Paid Parking Off Premises',\n",
       " 'Pets Allowed',\n",
       " 'Pets live on this property',\n",
       " 'Pool',\n",
       " 'Safety Card',\n",
       " 'Shampoo',\n",
       " 'Smoke Detector',\n",
       " 'Smoking Allowed',\n",
       " 'Suitable for Events',\n",
       " 'TV',\n",
       " 'Washer',\n",
       " 'Washer / Dryer',\n",
       " 'Wheelchair Accessible',\n",
       " 'Wireless Internet',\n",
       " 'translation missing: en.hosting_amenity_49',\n",
       " 'translation missing: en.hosting_amenity_50'}"
      ]
     },
     "execution_count": 222,
     "metadata": {},
     "output_type": "execute_result"
    }
   ],
   "source": [
    "amenity_set"
   ]
  },
  {
   "cell_type": "code",
   "execution_count": 66,
   "metadata": {},
   "outputs": [],
   "source": [
    "#will ecnode them one by one\n",
    "amenity_set.remove('')"
   ]
  },
  {
   "cell_type": "code",
   "execution_count": 67,
   "metadata": {},
   "outputs": [
    {
     "data": {
      "text/plain": [
       "{'24-Hour Check-in',\n",
       " 'Air Conditioning',\n",
       " 'Breakfast',\n",
       " 'Buzzer/Wireless Intercom',\n",
       " 'Cable TV',\n",
       " 'Carbon Monoxide Detector',\n",
       " 'Cat(s)',\n",
       " 'Dog(s)',\n",
       " 'Doorman',\n",
       " 'Dryer',\n",
       " 'Elevator in Building',\n",
       " 'Essentials',\n",
       " 'Family/Kid Friendly',\n",
       " 'Fire Extinguisher',\n",
       " 'First Aid Kit',\n",
       " 'Free Parking on Premises',\n",
       " 'Free Parking on Street',\n",
       " 'Gym',\n",
       " 'Hair Dryer',\n",
       " 'Hangers',\n",
       " 'Heating',\n",
       " 'Hot Tub',\n",
       " 'Indoor Fireplace',\n",
       " 'Internet',\n",
       " 'Iron',\n",
       " 'Kitchen',\n",
       " 'Laptop Friendly Workspace',\n",
       " 'Lock on Bedroom Door',\n",
       " 'Other pet(s)',\n",
       " 'Paid Parking Off Premises',\n",
       " 'Pets Allowed',\n",
       " 'Pets live on this property',\n",
       " 'Pool',\n",
       " 'Safety Card',\n",
       " 'Shampoo',\n",
       " 'Smoke Detector',\n",
       " 'Smoking Allowed',\n",
       " 'Suitable for Events',\n",
       " 'TV',\n",
       " 'Washer',\n",
       " 'Washer / Dryer',\n",
       " 'Wheelchair Accessible',\n",
       " 'Wireless Internet',\n",
       " 'translation missing: en.hosting_amenity_49',\n",
       " 'translation missing: en.hosting_amenity_50'}"
      ]
     },
     "execution_count": 67,
     "metadata": {},
     "output_type": "execute_result"
    }
   ],
   "source": [
    "amenity_set"
   ]
  },
  {
   "cell_type": "code",
   "execution_count": 223,
   "metadata": {},
   "outputs": [],
   "source": [
    "#add new columns related to amenity\n",
    "for t in amenity_set:\n",
    "    sub_df_m5[t] = False\n",
    "    "
   ]
  },
  {
   "cell_type": "code",
   "execution_count": 69,
   "metadata": {},
   "outputs": [],
   "source": [
    "nrows = sub_df_m5.shape[0]"
   ]
  },
  {
   "cell_type": "code",
   "execution_count": 70,
   "metadata": {},
   "outputs": [
    {
     "data": {
      "text/plain": [
       "3585"
      ]
     },
     "execution_count": 70,
     "metadata": {},
     "output_type": "execute_result"
    }
   ],
   "source": [
    "nrows"
   ]
  },
  {
   "cell_type": "code",
   "execution_count": 224,
   "metadata": {},
   "outputs": [],
   "source": [
    "# set the right value\n",
    "for a in amenity_set:\n",
    "    for ir in range(nrows):\n",
    "        if a in sub_df_m5['amenities'][ir]:\n",
    "            sub_df_m5.loc[ir,a] = True\n",
    "            \n",
    "    "
   ]
  },
  {
   "cell_type": "code",
   "execution_count": 72,
   "metadata": {},
   "outputs": [
    {
     "data": {
      "text/plain": [
       "False    3425\n",
       "True      160\n",
       "Name: Pool, dtype: int64"
      ]
     },
     "execution_count": 72,
     "metadata": {},
     "output_type": "execute_result"
    }
   ],
   "source": [
    "#some check\n",
    "sub_df_m5['Pool'].value_counts()"
   ]
  },
  {
   "cell_type": "code",
   "execution_count": 73,
   "metadata": {},
   "outputs": [
    {
     "data": {
      "text/plain": [
       "True     2725\n",
       "False     860\n",
       "Name: TV, dtype: int64"
      ]
     },
     "execution_count": 73,
     "metadata": {},
     "output_type": "execute_result"
    }
   ],
   "source": [
    "sub_df_m5['TV'].value_counts()"
   ]
  },
  {
   "cell_type": "code",
   "execution_count": 225,
   "metadata": {},
   "outputs": [],
   "source": [
    "#let's check the amenities ratio\n",
    "amenity_mean=sub_df_m5[list(amenity_set)].mean()"
   ]
  },
  {
   "cell_type": "code",
   "execution_count": 226,
   "metadata": {},
   "outputs": [
    {
     "data": {
      "text/plain": [
       "Elevator in Building                          0.242120\n",
       "Cable TV                                      0.493724\n",
       "Wheelchair Accessible                         0.041283\n",
       "Air Conditioning                              0.786890\n",
       "Pets live on this property                    0.119665\n",
       "Shampoo                                       0.675314\n",
       "Smoke Detector                                0.811994\n",
       "Indoor Fireplace                              0.109623\n",
       "Fire Extinguisher                             0.441283\n",
       "Smoking Allowed                               0.026499\n",
       "Buzzer/Wireless Intercom                      0.234031\n",
       "Pets Allowed                                  0.135565\n",
       "Kitchen                                       0.916039\n",
       "translation missing: en.hosting_amenity_49    0.123849\n",
       "Gym                                           0.133612\n",
       "Dryer                                         0.834868\n",
       "Hangers                                       0.553696\n",
       "translation missing: en.hosting_amenity_50    0.162064\n",
       "Dog(s)                                        0.063877\n",
       "Washer / Dryer                                0.000558\n",
       "Suitable for Events                           0.038494\n",
       "Heating                                       0.943933\n",
       "Wireless Internet                             0.954254\n",
       "Iron                                          0.509902\n",
       "Free Parking on Street                        0.002510\n",
       "Essentials                                    0.835146\n",
       "First Aid Kit                                 0.296513\n",
       "Washer                                        0.690377\n",
       "Free Parking on Premises                      0.231799\n",
       "Doorman                                       0.074756\n",
       "24-Hour Check-in                              0.347838\n",
       "Carbon Monoxide Detector                      0.681172\n",
       "Lock on Bedroom Door                          0.132218\n",
       "TV                                            0.760112\n",
       "Safety Card                                   0.127755\n",
       "Pool                                          0.044630\n",
       "Breakfast                                     0.088145\n",
       "Laptop Friendly Workspace                     0.511576\n",
       "Other pet(s)                                  0.004463\n",
       "Internet                                      0.964854\n",
       "Family/Kid Friendly                           0.526639\n",
       "Cat(s)                                        0.050488\n",
       "Hair Dryer                                    0.505160\n",
       "Paid Parking Off Premises                     0.001116\n",
       "Hot Tub                                       0.046583\n",
       "dtype: float64"
      ]
     },
     "execution_count": 226,
     "metadata": {},
     "output_type": "execute_result"
    }
   ],
   "source": [
    "amenity_mean"
   ]
  },
  {
   "cell_type": "code",
   "execution_count": 76,
   "metadata": {},
   "outputs": [
    {
     "data": {
      "text/plain": [
       "<matplotlib.axes._subplots.AxesSubplot at 0x1f2a08501d0>"
      ]
     },
     "execution_count": 76,
     "metadata": {},
     "output_type": "execute_result"
    },
    {
     "data": {
      "image/png": "[encoded data removed]",
      "text/plain": [
       "<Figure size 2880x2880 with 1 Axes>"
      ]
     },
     "metadata": {},
     "output_type": "display_data"
    }
   ],
   "source": [
    "#visualize the amenity ratio\n",
    "# we can seee Washer/Dryer, Free Parking on Street,Other pet(s),\n",
    "#Paid Parking Off Premises, have very low ratio\n",
    "#while kitchen,Heating,Wireless Internet,Internet have very high ratio\n",
    "sb.set(font_scale=4)\n",
    "fig, ax = plt.subplots(figsize=(40,40))\n",
    "sb.barplot(y=amenity_mean.index,x=amenity_mean.values,ax=ax)\n"
   ]
  },
  {
   "cell_type": "code",
   "execution_count": null,
   "metadata": {},
   "outputs": [],
   "source": []
  },
  {
   "cell_type": "markdown",
   "metadata": {},
   "source": [
    "### encode cleaning_fee"
   ]
  },
  {
   "cell_type": "code",
   "execution_count": 220,
   "metadata": {},
   "outputs": [
    {
     "data": {
      "text/plain": [
       "0.3087866108786611"
      ]
     },
     "execution_count": 220,
     "metadata": {},
     "output_type": "execute_result"
    }
   ],
   "source": [
    "# we should change it to float\n",
    "sub_df_m5['cleaning_fee'].isnull().mean()"
   ]
  },
  {
   "cell_type": "code",
   "execution_count": 242,
   "metadata": {},
   "outputs": [
    {
     "data": {
      "text/plain": [
       "0    $35.00\n",
       "1    $10.00\n",
       "2       NaN\n",
       "3    $50.00\n",
       "4    $15.00\n",
       "Name: cleaning_fee, dtype: object"
      ]
     },
     "execution_count": 242,
     "metadata": {},
     "output_type": "execute_result"
    }
   ],
   "source": [
    "sub_df_m5['cleaning_fee'].head()"
   ]
  },
  {
   "cell_type": "code",
   "execution_count": 227,
   "metadata": {},
   "outputs": [],
   "source": [
    "sub_df_m5['cleaning_fee'] = sub_df_m5['cleaning_fee'].astype('str')"
   ]
  },
  {
   "cell_type": "code",
   "execution_count": 256,
   "metadata": {},
   "outputs": [
    {
     "data": {
      "text/plain": [
       "0    $35.00\n",
       "1    $10.00\n",
       "2       nan\n",
       "3    $50.00\n",
       "4    $15.00\n",
       "Name: cleaning_fee, dtype: object"
      ]
     },
     "execution_count": 256,
     "metadata": {},
     "output_type": "execute_result"
    }
   ],
   "source": [
    "sub_df_m5['cleaning_fee'].head()"
   ]
  },
  {
   "cell_type": "code",
   "execution_count": 78,
   "metadata": {},
   "outputs": [],
   "source": [
    "def dollar_to_float(d):\n",
    "    if d=='nan':\n",
    "        return np.nan\n",
    "    res = \"\"\n",
    "    for s in d:\n",
    "        if s !='$' and s !=',':\n",
    "            res += s\n",
    "    return float(res)"
   ]
  },
  {
   "cell_type": "code",
   "execution_count": 228,
   "metadata": {},
   "outputs": [
    {
     "data": {
      "text/plain": [
       "0    35.0\n",
       "1    10.0\n",
       "2     NaN\n",
       "3    50.0\n",
       "4    15.0\n",
       "Name: cleaning_fee, dtype: float64"
      ]
     },
     "execution_count": 228,
     "metadata": {},
     "output_type": "execute_result"
    }
   ],
   "source": [
    "sub_df_m5['cleaning_fee'].apply(dollar_to_float).head()"
   ]
  },
  {
   "cell_type": "code",
   "execution_count": 229,
   "metadata": {},
   "outputs": [],
   "source": [
    "sub_df_m5['cleaning_fee']=sub_df_m5['cleaning_fee'].apply(dollar_to_float)"
   ]
  },
  {
   "cell_type": "code",
   "execution_count": 230,
   "metadata": {},
   "outputs": [
    {
     "data": {
      "text/plain": [
       "0    35.0\n",
       "1    10.0\n",
       "2     NaN\n",
       "3    50.0\n",
       "4    15.0\n",
       "5    30.0\n",
       "6     NaN\n",
       "7    10.0\n",
       "8     NaN\n",
       "9    50.0\n",
       "Name: cleaning_fee, dtype: float64"
      ]
     },
     "execution_count": 230,
     "metadata": {},
     "output_type": "execute_result"
    }
   ],
   "source": [
    "sub_df_m5['cleaning_fee'].head(10)"
   ]
  },
  {
   "cell_type": "code",
   "execution_count": 231,
   "metadata": {},
   "outputs": [
    {
     "data": {
      "text/plain": [
       "<matplotlib.axes._subplots.AxesSubplot at 0x1f2a7088978>"
      ]
     },
     "execution_count": 231,
     "metadata": {},
     "output_type": "execute_result"
    },
    {
     "data": {
      "image/png": "[encoded data removed]",
      "text/plain": [
       "<Figure size 432x288 with 1 Axes>"
      ]
     },
     "metadata": {},
     "output_type": "display_data"
    }
   ],
   "source": [
    "sb.set(font_scale=1)\n",
    "sub_df_m5['cleaning_fee'].hist()"
   ]
  },
  {
   "cell_type": "code",
   "execution_count": 84,
   "metadata": {},
   "outputs": [
    {
     "data": {
      "text/plain": [
       "count    2478.000000\n",
       "mean       68.380145\n",
       "std        51.297835\n",
       "min         5.000000\n",
       "25%        25.000000\n",
       "50%        50.000000\n",
       "75%       100.000000\n",
       "max       300.000000\n",
       "Name: cleaning_fee, dtype: float64"
      ]
     },
     "execution_count": 84,
     "metadata": {},
     "output_type": "execute_result"
    }
   ],
   "source": [
    "sub_df_m5['cleaning_fee'].describe()"
   ]
  },
  {
   "cell_type": "code",
   "execution_count": 268,
   "metadata": {},
   "outputs": [],
   "source": [
    "#create a new column indicate if they have the clean fee\n",
    "sub_df_m5['has_cleaning_fee'] = False"
   ]
  },
  {
   "cell_type": "code",
   "execution_count": 232,
   "metadata": {},
   "outputs": [],
   "source": [
    "sub_df_m5['has_cleaning_fee'] = sub_df_m5['cleaning_fee']>0"
   ]
  },
  {
   "cell_type": "code",
   "execution_count": 233,
   "metadata": {},
   "outputs": [
    {
     "data": {
      "text/plain": [
       "0.6912133891213389"
      ]
     },
     "execution_count": 233,
     "metadata": {},
     "output_type": "execute_result"
    }
   ],
   "source": [
    "sub_df_m5['has_cleaning_fee'].mean()"
   ]
  },
  {
   "cell_type": "markdown",
   "metadata": {},
   "source": [
    "### encode extra_people"
   ]
  },
  {
   "cell_type": "code",
   "execution_count": 234,
   "metadata": {},
   "outputs": [
    {
     "data": {
      "text/plain": [
       "0.0"
      ]
     },
     "execution_count": 234,
     "metadata": {},
     "output_type": "execute_result"
    }
   ],
   "source": [
    "sub_df_m5['extra_people'].isnull().mean()"
   ]
  },
  {
   "cell_type": "code",
   "execution_count": 88,
   "metadata": {},
   "outputs": [
    {
     "data": {
      "text/plain": [
       "0     0.0\n",
       "1     0.0\n",
       "2    20.0\n",
       "3    25.0\n",
       "4     0.0\n",
       "Name: extra_people, dtype: float64"
      ]
     },
     "execution_count": 88,
     "metadata": {},
     "output_type": "execute_result"
    }
   ],
   "source": [
    "sub_df_m5['extra_people'].apply(dollar_to_float).head()"
   ]
  },
  {
   "cell_type": "code",
   "execution_count": 235,
   "metadata": {},
   "outputs": [],
   "source": [
    "sub_df_m5['extra_people'] = sub_df_m5['extra_people'].apply(dollar_to_float)"
   ]
  },
  {
   "cell_type": "code",
   "execution_count": 236,
   "metadata": {},
   "outputs": [
    {
     "data": {
      "text/plain": [
       "<matplotlib.axes._subplots.AxesSubplot at 0x1f2b0f7ef60>"
      ]
     },
     "execution_count": 236,
     "metadata": {},
     "output_type": "execute_result"
    },
    {
     "data": {
      "image/png": "[encoded data removed]",
      "text/plain": [
       "<Figure size 432x288 with 1 Axes>"
      ]
     },
     "metadata": {},
     "output_type": "display_data"
    }
   ],
   "source": [
    "sub_df_m5['extra_people'].hist()"
   ]
  },
  {
   "cell_type": "markdown",
   "metadata": {},
   "source": [
    "### encode instant_bookable"
   ]
  },
  {
   "cell_type": "code",
   "execution_count": 279,
   "metadata": {},
   "outputs": [
    {
     "data": {
      "text/plain": [
       "0.0"
      ]
     },
     "execution_count": 279,
     "metadata": {},
     "output_type": "execute_result"
    }
   ],
   "source": [
    "sub_df_m5['instant_bookable'].isnull().mean()"
   ]
  },
  {
   "cell_type": "code",
   "execution_count": 280,
   "metadata": {},
   "outputs": [
    {
     "data": {
      "text/plain": [
       "f    2991\n",
       "t     594\n",
       "Name: instant_bookable, dtype: int64"
      ]
     },
     "execution_count": 280,
     "metadata": {},
     "output_type": "execute_result"
    }
   ],
   "source": [
    "sub_df_m5['instant_bookable'].value_counts()"
   ]
  },
  {
   "cell_type": "code",
   "execution_count": 237,
   "metadata": {},
   "outputs": [
    {
     "data": {
      "text/plain": [
       "0    False\n",
       "1     True\n",
       "2    False\n",
       "3    False\n",
       "4    False\n",
       "Name: instant_bookable, dtype: bool"
      ]
     },
     "execution_count": 237,
     "metadata": {},
     "output_type": "execute_result"
    }
   ],
   "source": [
    "#change to bool\n",
    "sub_df_m5['instant_bookable'].map({'f':False,'t':True}).head()"
   ]
  },
  {
   "cell_type": "code",
   "execution_count": 238,
   "metadata": {},
   "outputs": [],
   "source": [
    "sub_df_m5['instant_bookable']=sub_df_m5['instant_bookable'].map({'f':False,'t':True})"
   ]
  },
  {
   "cell_type": "code",
   "execution_count": 175,
   "metadata": {},
   "outputs": [
    {
     "data": {
      "text/plain": [
       "0    False\n",
       "1     True\n",
       "2    False\n",
       "3    False\n",
       "4    False\n",
       "Name: instant_bookable, dtype: bool"
      ]
     },
     "execution_count": 175,
     "metadata": {},
     "output_type": "execute_result"
    }
   ],
   "source": [
    "sub_df_m5['instant_bookable'].head()"
   ]
  },
  {
   "cell_type": "markdown",
   "metadata": {},
   "source": [
    "### encode cancellation_policy"
   ]
  },
  {
   "cell_type": "code",
   "execution_count": 94,
   "metadata": {},
   "outputs": [
    {
     "data": {
      "text/plain": [
       "0.0"
      ]
     },
     "execution_count": 94,
     "metadata": {},
     "output_type": "execute_result"
    }
   ],
   "source": [
    "sub_df_m5['cancellation_policy'].isnull().mean()"
   ]
  },
  {
   "cell_type": "code",
   "execution_count": 95,
   "metadata": {},
   "outputs": [
    {
     "data": {
      "text/plain": [
       "strict             1582\n",
       "flexible            999\n",
       "moderate            919\n",
       "super_strict_30      85\n",
       "Name: cancellation_policy, dtype: int64"
      ]
     },
     "execution_count": 95,
     "metadata": {},
     "output_type": "execute_result"
    }
   ],
   "source": [
    "sub_df_m5['cancellation_policy'].value_counts()"
   ]
  },
  {
   "cell_type": "code",
   "execution_count": 239,
   "metadata": {},
   "outputs": [],
   "source": [
    "sub_df_m6 = pd.get_dummies(data=sub_df_m5,columns=['cancellation_policy'],prefix='cancel',drop_first=True)"
   ]
  },
  {
   "cell_type": "code",
   "execution_count": 177,
   "metadata": {},
   "outputs": [
    {
     "data": {
      "text/html": [
       "<div>\n",
       "<style scoped>\n",
       "    .dataframe tbody tr th:only-of-type {\n",
       "        vertical-align: middle;\n",
       "    }\n",
       "\n",
       "    .dataframe tbody tr th {\n",
       "        vertical-align: top;\n",
       "    }\n",
       "\n",
       "    .dataframe thead th {\n",
       "        text-align: right;\n",
       "    }\n",
       "</style>\n",
       "<table border=\"1\" class=\"dataframe\">\n",
       "  <thead>\n",
       "    <tr style=\"text-align: right;\">\n",
       "      <th></th>\n",
       "      <th>longitude</th>\n",
       "      <th>latitude</th>\n",
       "      <th>is_location_exact</th>\n",
       "      <th>accommodates</th>\n",
       "      <th>bathrooms</th>\n",
       "      <th>beds</th>\n",
       "      <th>amenities</th>\n",
       "      <th>cleaning_fee</th>\n",
       "      <th>guests_included</th>\n",
       "      <th>extra_people</th>\n",
       "      <th>...</th>\n",
       "      <th>Internet</th>\n",
       "      <th>Family/Kid Friendly</th>\n",
       "      <th>Cat(s)</th>\n",
       "      <th>Hair Dryer</th>\n",
       "      <th>Paid Parking Off Premises</th>\n",
       "      <th>Hot Tub</th>\n",
       "      <th>has_cleaning_fee</th>\n",
       "      <th>cancel_moderate</th>\n",
       "      <th>cancel_strict</th>\n",
       "      <th>cancel_super_strict_30</th>\n",
       "    </tr>\n",
       "  </thead>\n",
       "  <tbody>\n",
       "    <tr>\n",
       "      <th>0</th>\n",
       "      <td>-71.133068</td>\n",
       "      <td>42.282619</td>\n",
       "      <td>True</td>\n",
       "      <td>4</td>\n",
       "      <td>1.5</td>\n",
       "      <td>3.0</td>\n",
       "      <td>{TV,\"Wireless Internet\",Kitchen,\"Free Parking ...</td>\n",
       "      <td>35.0</td>\n",
       "      <td>1</td>\n",
       "      <td>0.0</td>\n",
       "      <td>...</td>\n",
       "      <td>True</td>\n",
       "      <td>True</td>\n",
       "      <td>False</td>\n",
       "      <td>False</td>\n",
       "      <td>False</td>\n",
       "      <td>False</td>\n",
       "      <td>True</td>\n",
       "      <td>1</td>\n",
       "      <td>0</td>\n",
       "      <td>0</td>\n",
       "    </tr>\n",
       "    <tr>\n",
       "      <th>1</th>\n",
       "      <td>-71.134374</td>\n",
       "      <td>42.286241</td>\n",
       "      <td>True</td>\n",
       "      <td>2</td>\n",
       "      <td>1.0</td>\n",
       "      <td>1.0</td>\n",
       "      <td>{TV,Internet,\"Wireless Internet\",\"Air Conditio...</td>\n",
       "      <td>10.0</td>\n",
       "      <td>0</td>\n",
       "      <td>0.0</td>\n",
       "      <td>...</td>\n",
       "      <td>True</td>\n",
       "      <td>True</td>\n",
       "      <td>False</td>\n",
       "      <td>True</td>\n",
       "      <td>False</td>\n",
       "      <td>False</td>\n",
       "      <td>True</td>\n",
       "      <td>1</td>\n",
       "      <td>0</td>\n",
       "      <td>0</td>\n",
       "    </tr>\n",
       "    <tr>\n",
       "      <th>2</th>\n",
       "      <td>-71.135765</td>\n",
       "      <td>42.292438</td>\n",
       "      <td>True</td>\n",
       "      <td>2</td>\n",
       "      <td>1.0</td>\n",
       "      <td>1.0</td>\n",
       "      <td>{TV,\"Cable TV\",\"Wireless Internet\",\"Air Condit...</td>\n",
       "      <td>NaN</td>\n",
       "      <td>1</td>\n",
       "      <td>20.0</td>\n",
       "      <td>...</td>\n",
       "      <td>True</td>\n",
       "      <td>False</td>\n",
       "      <td>False</td>\n",
       "      <td>False</td>\n",
       "      <td>False</td>\n",
       "      <td>False</td>\n",
       "      <td>False</td>\n",
       "      <td>1</td>\n",
       "      <td>0</td>\n",
       "      <td>0</td>\n",
       "    </tr>\n",
       "    <tr>\n",
       "      <th>3</th>\n",
       "      <td>-71.121021</td>\n",
       "      <td>42.281106</td>\n",
       "      <td>False</td>\n",
       "      <td>4</td>\n",
       "      <td>1.0</td>\n",
       "      <td>2.0</td>\n",
       "      <td>{TV,Internet,\"Wireless Internet\",\"Air Conditio...</td>\n",
       "      <td>50.0</td>\n",
       "      <td>2</td>\n",
       "      <td>25.0</td>\n",
       "      <td>...</td>\n",
       "      <td>True</td>\n",
       "      <td>False</td>\n",
       "      <td>False</td>\n",
       "      <td>True</td>\n",
       "      <td>False</td>\n",
       "      <td>False</td>\n",
       "      <td>True</td>\n",
       "      <td>1</td>\n",
       "      <td>0</td>\n",
       "      <td>0</td>\n",
       "    </tr>\n",
       "    <tr>\n",
       "      <th>4</th>\n",
       "      <td>-71.136258</td>\n",
       "      <td>42.284512</td>\n",
       "      <td>True</td>\n",
       "      <td>2</td>\n",
       "      <td>1.5</td>\n",
       "      <td>2.0</td>\n",
       "      <td>{Internet,\"Wireless Internet\",\"Air Conditionin...</td>\n",
       "      <td>15.0</td>\n",
       "      <td>1</td>\n",
       "      <td>0.0</td>\n",
       "      <td>...</td>\n",
       "      <td>True</td>\n",
       "      <td>False</td>\n",
       "      <td>False</td>\n",
       "      <td>True</td>\n",
       "      <td>False</td>\n",
       "      <td>False</td>\n",
       "      <td>True</td>\n",
       "      <td>0</td>\n",
       "      <td>0</td>\n",
       "      <td>0</td>\n",
       "    </tr>\n",
       "  </tbody>\n",
       "</table>\n",
       "<p>5 rows × 164 columns</p>\n",
       "</div>"
      ],
      "text/plain": [
       "   longitude   latitude  is_location_exact  accommodates  bathrooms  beds  \\\n",
       "0 -71.133068  42.282619               True             4        1.5   3.0   \n",
       "1 -71.134374  42.286241               True             2        1.0   1.0   \n",
       "2 -71.135765  42.292438               True             2        1.0   1.0   \n",
       "3 -71.121021  42.281106              False             4        1.0   2.0   \n",
       "4 -71.136258  42.284512               True             2        1.5   2.0   \n",
       "\n",
       "                                           amenities  cleaning_fee  \\\n",
       "0  {TV,\"Wireless Internet\",Kitchen,\"Free Parking ...          35.0   \n",
       "1  {TV,Internet,\"Wireless Internet\",\"Air Conditio...          10.0   \n",
       "2  {TV,\"Cable TV\",\"Wireless Internet\",\"Air Condit...           NaN   \n",
       "3  {TV,Internet,\"Wireless Internet\",\"Air Conditio...          50.0   \n",
       "4  {Internet,\"Wireless Internet\",\"Air Conditionin...          15.0   \n",
       "\n",
       "   guests_included  extra_people           ...            Internet  \\\n",
       "0                1           0.0           ...                True   \n",
       "1                0           0.0           ...                True   \n",
       "2                1          20.0           ...                True   \n",
       "3                2          25.0           ...                True   \n",
       "4                1           0.0           ...                True   \n",
       "\n",
       "   Family/Kid Friendly  Cat(s)  Hair Dryer Paid Parking Off Premises Hot Tub  \\\n",
       "0                 True   False       False                     False   False   \n",
       "1                 True   False        True                     False   False   \n",
       "2                False   False       False                     False   False   \n",
       "3                False   False        True                     False   False   \n",
       "4                False   False        True                     False   False   \n",
       "\n",
       "   has_cleaning_fee  cancel_moderate cancel_strict  cancel_super_strict_30  \n",
       "0              True                1             0                       0  \n",
       "1              True                1             0                       0  \n",
       "2             False                1             0                       0  \n",
       "3              True                1             0                       0  \n",
       "4              True                0             0                       0  \n",
       "\n",
       "[5 rows x 164 columns]"
      ]
     },
     "execution_count": 177,
     "metadata": {},
     "output_type": "execute_result"
    }
   ],
   "source": [
    "sub_df_m6.head()"
   ]
  },
  {
   "cell_type": "markdown",
   "metadata": {},
   "source": [
    "### encode require_guest_profile_picture, require_guest_phone_verification "
   ]
  },
  {
   "cell_type": "code",
   "execution_count": 293,
   "metadata": {},
   "outputs": [
    {
     "data": {
      "text/plain": [
       "0.0"
      ]
     },
     "execution_count": 293,
     "metadata": {},
     "output_type": "execute_result"
    }
   ],
   "source": [
    "sub_df_m6['require_guest_profile_picture'].isnull().mean()"
   ]
  },
  {
   "cell_type": "code",
   "execution_count": 294,
   "metadata": {},
   "outputs": [
    {
     "data": {
      "text/plain": [
       "f    3518\n",
       "t      67\n",
       "Name: require_guest_profile_picture, dtype: int64"
      ]
     },
     "execution_count": 294,
     "metadata": {},
     "output_type": "execute_result"
    }
   ],
   "source": [
    "sub_df_m6['require_guest_profile_picture'].value_counts()"
   ]
  },
  {
   "cell_type": "code",
   "execution_count": 98,
   "metadata": {},
   "outputs": [
    {
     "data": {
      "text/plain": [
       "0    False\n",
       "1    False\n",
       "2     True\n",
       "3    False\n",
       "4    False\n",
       "Name: require_guest_profile_picture, dtype: bool"
      ]
     },
     "execution_count": 98,
     "metadata": {},
     "output_type": "execute_result"
    }
   ],
   "source": [
    "sub_df_m6['require_guest_profile_picture'].map({'f':False,'t':True}).head()"
   ]
  },
  {
   "cell_type": "code",
   "execution_count": 240,
   "metadata": {},
   "outputs": [],
   "source": [
    "sub_df_m6['require_guest_profile_picture']=sub_df_m6['require_guest_profile_picture'].map({'f':False,'t':True})"
   ]
  },
  {
   "cell_type": "code",
   "execution_count": 179,
   "metadata": {},
   "outputs": [
    {
     "data": {
      "text/plain": [
       "0    False\n",
       "1    False\n",
       "2     True\n",
       "3    False\n",
       "4    False\n",
       "Name: require_guest_profile_picture, dtype: bool"
      ]
     },
     "execution_count": 179,
     "metadata": {},
     "output_type": "execute_result"
    }
   ],
   "source": [
    "sub_df_m6['require_guest_profile_picture'].head()"
   ]
  },
  {
   "cell_type": "code",
   "execution_count": 299,
   "metadata": {},
   "outputs": [
    {
     "data": {
      "text/plain": [
       "0.0"
      ]
     },
     "execution_count": 299,
     "metadata": {},
     "output_type": "execute_result"
    }
   ],
   "source": [
    "sub_df_m6['require_guest_phone_verification'].isnull().mean()"
   ]
  },
  {
   "cell_type": "code",
   "execution_count": 300,
   "metadata": {},
   "outputs": [
    {
     "data": {
      "text/plain": [
       "f    3348\n",
       "t     237\n",
       "Name: require_guest_phone_verification, dtype: int64"
      ]
     },
     "execution_count": 300,
     "metadata": {},
     "output_type": "execute_result"
    }
   ],
   "source": [
    "sub_df_m6['require_guest_phone_verification'].value_counts()"
   ]
  },
  {
   "cell_type": "code",
   "execution_count": 301,
   "metadata": {},
   "outputs": [
    {
     "data": {
      "text/plain": [
       "0    False\n",
       "1    False\n",
       "2    False\n",
       "3    False\n",
       "4    False\n",
       "Name: require_guest_phone_verification, dtype: bool"
      ]
     },
     "execution_count": 301,
     "metadata": {},
     "output_type": "execute_result"
    }
   ],
   "source": [
    "sub_df_m6['require_guest_phone_verification'].map({'f':False,'t':True}).head()"
   ]
  },
  {
   "cell_type": "code",
   "execution_count": 241,
   "metadata": {},
   "outputs": [],
   "source": [
    "sub_df_m6['require_guest_phone_verification']=sub_df_m6['require_guest_phone_verification'].map({'f':False,'t':True})"
   ]
  },
  {
   "cell_type": "code",
   "execution_count": 242,
   "metadata": {},
   "outputs": [
    {
     "data": {
      "text/plain": [
       "False    3348\n",
       "True      237\n",
       "Name: require_guest_phone_verification, dtype: int64"
      ]
     },
     "execution_count": 242,
     "metadata": {},
     "output_type": "execute_result"
    }
   ],
   "source": [
    "sub_df_m6['require_guest_phone_verification'].value_counts()"
   ]
  },
  {
   "cell_type": "markdown",
   "metadata": {},
   "source": [
    "### encode price"
   ]
  },
  {
   "cell_type": "code",
   "execution_count": 304,
   "metadata": {},
   "outputs": [
    {
     "data": {
      "text/plain": [
       "0.0"
      ]
     },
     "execution_count": 304,
     "metadata": {},
     "output_type": "execute_result"
    }
   ],
   "source": [
    "sub_df_m6['price'].isnull().mean()"
   ]
  },
  {
   "cell_type": "code",
   "execution_count": 305,
   "metadata": {},
   "outputs": [
    {
     "data": {
      "text/plain": [
       "0    $250.00\n",
       "1     $65.00\n",
       "2     $65.00\n",
       "3     $75.00\n",
       "4     $79.00\n",
       "Name: price, dtype: object"
      ]
     },
     "execution_count": 305,
     "metadata": {},
     "output_type": "execute_result"
    }
   ],
   "source": [
    "sub_df_m6['price'].head()"
   ]
  },
  {
   "cell_type": "code",
   "execution_count": 306,
   "metadata": {},
   "outputs": [
    {
     "data": {
      "text/plain": [
       "0    250.0\n",
       "1     65.0\n",
       "2     65.0\n",
       "3     75.0\n",
       "4     79.0\n",
       "Name: price, dtype: float64"
      ]
     },
     "execution_count": 306,
     "metadata": {},
     "output_type": "execute_result"
    }
   ],
   "source": [
    "sub_df_m6['price'].apply(dollar_to_float).head()"
   ]
  },
  {
   "cell_type": "code",
   "execution_count": 243,
   "metadata": {},
   "outputs": [],
   "source": [
    "sub_df_m6['price'] = sub_df_m6['price'].apply(dollar_to_float)"
   ]
  },
  {
   "cell_type": "code",
   "execution_count": 308,
   "metadata": {},
   "outputs": [
    {
     "data": {
      "text/plain": [
       "0    250.0\n",
       "1     65.0\n",
       "2     65.0\n",
       "3     75.0\n",
       "4     79.0\n",
       "Name: price, dtype: float64"
      ]
     },
     "execution_count": 308,
     "metadata": {},
     "output_type": "execute_result"
    }
   ],
   "source": [
    "sub_df_m6['price'].head()"
   ]
  },
  {
   "cell_type": "code",
   "execution_count": 183,
   "metadata": {},
   "outputs": [
    {
     "data": {
      "text/plain": [
       "<matplotlib.axes._subplots.AxesSubplot at 0x1f2b1181ef0>"
      ]
     },
     "execution_count": 183,
     "metadata": {},
     "output_type": "execute_result"
    },
    {
     "data": {
      "image/png": "[encoded data removed]",
      "text/plain": [
       "<Figure size 432x288 with 1 Axes>"
      ]
     },
     "metadata": {},
     "output_type": "display_data"
    }
   ],
   "source": [
    "sub_df_m6['price'].hist()"
   ]
  },
  {
   "cell_type": "code",
   "execution_count": 184,
   "metadata": {},
   "outputs": [
    {
     "data": {
      "text/html": [
       "<div>\n",
       "<style scoped>\n",
       "    .dataframe tbody tr th:only-of-type {\n",
       "        vertical-align: middle;\n",
       "    }\n",
       "\n",
       "    .dataframe tbody tr th {\n",
       "        vertical-align: top;\n",
       "    }\n",
       "\n",
       "    .dataframe thead th {\n",
       "        text-align: right;\n",
       "    }\n",
       "</style>\n",
       "<table border=\"1\" class=\"dataframe\">\n",
       "  <thead>\n",
       "    <tr style=\"text-align: right;\">\n",
       "      <th></th>\n",
       "      <th>longitude</th>\n",
       "      <th>latitude</th>\n",
       "      <th>is_location_exact</th>\n",
       "      <th>accommodates</th>\n",
       "      <th>bathrooms</th>\n",
       "      <th>beds</th>\n",
       "      <th>amenities</th>\n",
       "      <th>cleaning_fee</th>\n",
       "      <th>guests_included</th>\n",
       "      <th>extra_people</th>\n",
       "      <th>...</th>\n",
       "      <th>Internet</th>\n",
       "      <th>Family/Kid Friendly</th>\n",
       "      <th>Cat(s)</th>\n",
       "      <th>Hair Dryer</th>\n",
       "      <th>Paid Parking Off Premises</th>\n",
       "      <th>Hot Tub</th>\n",
       "      <th>has_cleaning_fee</th>\n",
       "      <th>cancel_moderate</th>\n",
       "      <th>cancel_strict</th>\n",
       "      <th>cancel_super_strict_30</th>\n",
       "    </tr>\n",
       "  </thead>\n",
       "  <tbody>\n",
       "    <tr>\n",
       "      <th>0</th>\n",
       "      <td>-71.133068</td>\n",
       "      <td>42.282619</td>\n",
       "      <td>True</td>\n",
       "      <td>4</td>\n",
       "      <td>1.5</td>\n",
       "      <td>3.0</td>\n",
       "      <td>{TV,\"Wireless Internet\",Kitchen,\"Free Parking ...</td>\n",
       "      <td>35.0</td>\n",
       "      <td>1</td>\n",
       "      <td>0.0</td>\n",
       "      <td>...</td>\n",
       "      <td>True</td>\n",
       "      <td>True</td>\n",
       "      <td>False</td>\n",
       "      <td>False</td>\n",
       "      <td>False</td>\n",
       "      <td>False</td>\n",
       "      <td>True</td>\n",
       "      <td>1</td>\n",
       "      <td>0</td>\n",
       "      <td>0</td>\n",
       "    </tr>\n",
       "    <tr>\n",
       "      <th>1</th>\n",
       "      <td>-71.134374</td>\n",
       "      <td>42.286241</td>\n",
       "      <td>True</td>\n",
       "      <td>2</td>\n",
       "      <td>1.0</td>\n",
       "      <td>1.0</td>\n",
       "      <td>{TV,Internet,\"Wireless Internet\",\"Air Conditio...</td>\n",
       "      <td>10.0</td>\n",
       "      <td>0</td>\n",
       "      <td>0.0</td>\n",
       "      <td>...</td>\n",
       "      <td>True</td>\n",
       "      <td>True</td>\n",
       "      <td>False</td>\n",
       "      <td>True</td>\n",
       "      <td>False</td>\n",
       "      <td>False</td>\n",
       "      <td>True</td>\n",
       "      <td>1</td>\n",
       "      <td>0</td>\n",
       "      <td>0</td>\n",
       "    </tr>\n",
       "    <tr>\n",
       "      <th>2</th>\n",
       "      <td>-71.135765</td>\n",
       "      <td>42.292438</td>\n",
       "      <td>True</td>\n",
       "      <td>2</td>\n",
       "      <td>1.0</td>\n",
       "      <td>1.0</td>\n",
       "      <td>{TV,\"Cable TV\",\"Wireless Internet\",\"Air Condit...</td>\n",
       "      <td>NaN</td>\n",
       "      <td>1</td>\n",
       "      <td>20.0</td>\n",
       "      <td>...</td>\n",
       "      <td>True</td>\n",
       "      <td>False</td>\n",
       "      <td>False</td>\n",
       "      <td>False</td>\n",
       "      <td>False</td>\n",
       "      <td>False</td>\n",
       "      <td>False</td>\n",
       "      <td>1</td>\n",
       "      <td>0</td>\n",
       "      <td>0</td>\n",
       "    </tr>\n",
       "    <tr>\n",
       "      <th>3</th>\n",
       "      <td>-71.121021</td>\n",
       "      <td>42.281106</td>\n",
       "      <td>False</td>\n",
       "      <td>4</td>\n",
       "      <td>1.0</td>\n",
       "      <td>2.0</td>\n",
       "      <td>{TV,Internet,\"Wireless Internet\",\"Air Conditio...</td>\n",
       "      <td>50.0</td>\n",
       "      <td>2</td>\n",
       "      <td>25.0</td>\n",
       "      <td>...</td>\n",
       "      <td>True</td>\n",
       "      <td>False</td>\n",
       "      <td>False</td>\n",
       "      <td>True</td>\n",
       "      <td>False</td>\n",
       "      <td>False</td>\n",
       "      <td>True</td>\n",
       "      <td>1</td>\n",
       "      <td>0</td>\n",
       "      <td>0</td>\n",
       "    </tr>\n",
       "    <tr>\n",
       "      <th>4</th>\n",
       "      <td>-71.136258</td>\n",
       "      <td>42.284512</td>\n",
       "      <td>True</td>\n",
       "      <td>2</td>\n",
       "      <td>1.5</td>\n",
       "      <td>2.0</td>\n",
       "      <td>{Internet,\"Wireless Internet\",\"Air Conditionin...</td>\n",
       "      <td>15.0</td>\n",
       "      <td>1</td>\n",
       "      <td>0.0</td>\n",
       "      <td>...</td>\n",
       "      <td>True</td>\n",
       "      <td>False</td>\n",
       "      <td>False</td>\n",
       "      <td>True</td>\n",
       "      <td>False</td>\n",
       "      <td>False</td>\n",
       "      <td>True</td>\n",
       "      <td>0</td>\n",
       "      <td>0</td>\n",
       "      <td>0</td>\n",
       "    </tr>\n",
       "  </tbody>\n",
       "</table>\n",
       "<p>5 rows × 164 columns</p>\n",
       "</div>"
      ],
      "text/plain": [
       "   longitude   latitude  is_location_exact  accommodates  bathrooms  beds  \\\n",
       "0 -71.133068  42.282619               True             4        1.5   3.0   \n",
       "1 -71.134374  42.286241               True             2        1.0   1.0   \n",
       "2 -71.135765  42.292438               True             2        1.0   1.0   \n",
       "3 -71.121021  42.281106              False             4        1.0   2.0   \n",
       "4 -71.136258  42.284512               True             2        1.5   2.0   \n",
       "\n",
       "                                           amenities  cleaning_fee  \\\n",
       "0  {TV,\"Wireless Internet\",Kitchen,\"Free Parking ...          35.0   \n",
       "1  {TV,Internet,\"Wireless Internet\",\"Air Conditio...          10.0   \n",
       "2  {TV,\"Cable TV\",\"Wireless Internet\",\"Air Condit...           NaN   \n",
       "3  {TV,Internet,\"Wireless Internet\",\"Air Conditio...          50.0   \n",
       "4  {Internet,\"Wireless Internet\",\"Air Conditionin...          15.0   \n",
       "\n",
       "   guests_included  extra_people           ...            Internet  \\\n",
       "0                1           0.0           ...                True   \n",
       "1                0           0.0           ...                True   \n",
       "2                1          20.0           ...                True   \n",
       "3                2          25.0           ...                True   \n",
       "4                1           0.0           ...                True   \n",
       "\n",
       "   Family/Kid Friendly  Cat(s)  Hair Dryer  Paid Parking Off Premises  \\\n",
       "0                 True   False       False                      False   \n",
       "1                 True   False        True                      False   \n",
       "2                False   False       False                      False   \n",
       "3                False   False        True                      False   \n",
       "4                False   False        True                      False   \n",
       "\n",
       "   Hot Tub  has_cleaning_fee  cancel_moderate  cancel_strict  \\\n",
       "0    False              True                1              0   \n",
       "1    False              True                1              0   \n",
       "2    False             False                1              0   \n",
       "3    False              True                1              0   \n",
       "4    False              True                0              0   \n",
       "\n",
       "   cancel_super_strict_30  \n",
       "0                       0  \n",
       "1                       0  \n",
       "2                       0  \n",
       "3                       0  \n",
       "4                       0  \n",
       "\n",
       "[5 rows x 164 columns]"
      ]
     },
     "execution_count": 184,
     "metadata": {},
     "output_type": "execute_result"
    }
   ],
   "source": [
    "sub_df_m6.head()"
   ]
  },
  {
   "cell_type": "markdown",
   "metadata": {},
   "source": [
    "## Model data"
   ]
  },
  {
   "cell_type": "code",
   "execution_count": 3,
   "metadata": {},
   "outputs": [],
   "source": [
    "#all clean process has been coded into helpfuclion \n",
    "import helpfunction as hpf"
   ]
  },
  {
   "cell_type": "code",
   "execution_count": 4,
   "metadata": {},
   "outputs": [
    {
     "name": "stdout",
     "output_type": "stream",
     "text": [
      "process numerical features\n",
      "process none numerical features\n"
     ]
    }
   ],
   "source": [
    "clean_df = hpf.clean_list_data(df_listings)"
   ]
  },
  {
   "cell_type": "code",
   "execution_count": 5,
   "metadata": {},
   "outputs": [
    {
     "data": {
      "text/html": [
       "<div>\n",
       "<style scoped>\n",
       "    .dataframe tbody tr th:only-of-type {\n",
       "        vertical-align: middle;\n",
       "    }\n",
       "\n",
       "    .dataframe tbody tr th {\n",
       "        vertical-align: top;\n",
       "    }\n",
       "\n",
       "    .dataframe thead th {\n",
       "        text-align: right;\n",
       "    }\n",
       "</style>\n",
       "<table border=\"1\" class=\"dataframe\">\n",
       "  <thead>\n",
       "    <tr style=\"text-align: right;\">\n",
       "      <th></th>\n",
       "      <th>longitude</th>\n",
       "      <th>latitude</th>\n",
       "      <th>is_location_exact</th>\n",
       "      <th>accommodates</th>\n",
       "      <th>bathrooms</th>\n",
       "      <th>beds</th>\n",
       "      <th>amenities</th>\n",
       "      <th>cleaning_fee</th>\n",
       "      <th>guests_included</th>\n",
       "      <th>extra_people</th>\n",
       "      <th>...</th>\n",
       "      <th>Essentials</th>\n",
       "      <th>TV</th>\n",
       "      <th>Cat(s)</th>\n",
       "      <th>Pets Allowed</th>\n",
       "      <th>Kitchen</th>\n",
       "      <th>Free Parking on Premises</th>\n",
       "      <th>has_cleaning_fee</th>\n",
       "      <th>cancel_moderate</th>\n",
       "      <th>cancel_strict</th>\n",
       "      <th>cancel_super_strict_30</th>\n",
       "    </tr>\n",
       "  </thead>\n",
       "  <tbody>\n",
       "    <tr>\n",
       "      <th>0</th>\n",
       "      <td>-71.133068</td>\n",
       "      <td>42.282619</td>\n",
       "      <td>True</td>\n",
       "      <td>4</td>\n",
       "      <td>1.5</td>\n",
       "      <td>3.0</td>\n",
       "      <td>{TV,\"Wireless Internet\",Kitchen,\"Free Parking ...</td>\n",
       "      <td>35.0</td>\n",
       "      <td>1</td>\n",
       "      <td>0.0</td>\n",
       "      <td>...</td>\n",
       "      <td>True</td>\n",
       "      <td>True</td>\n",
       "      <td>False</td>\n",
       "      <td>False</td>\n",
       "      <td>True</td>\n",
       "      <td>True</td>\n",
       "      <td>True</td>\n",
       "      <td>1</td>\n",
       "      <td>0</td>\n",
       "      <td>0</td>\n",
       "    </tr>\n",
       "    <tr>\n",
       "      <th>1</th>\n",
       "      <td>-71.134374</td>\n",
       "      <td>42.286241</td>\n",
       "      <td>True</td>\n",
       "      <td>2</td>\n",
       "      <td>1.0</td>\n",
       "      <td>1.0</td>\n",
       "      <td>{TV,Internet,\"Wireless Internet\",\"Air Conditio...</td>\n",
       "      <td>10.0</td>\n",
       "      <td>0</td>\n",
       "      <td>0.0</td>\n",
       "      <td>...</td>\n",
       "      <td>True</td>\n",
       "      <td>True</td>\n",
       "      <td>False</td>\n",
       "      <td>True</td>\n",
       "      <td>True</td>\n",
       "      <td>False</td>\n",
       "      <td>True</td>\n",
       "      <td>1</td>\n",
       "      <td>0</td>\n",
       "      <td>0</td>\n",
       "    </tr>\n",
       "    <tr>\n",
       "      <th>2</th>\n",
       "      <td>-71.135765</td>\n",
       "      <td>42.292438</td>\n",
       "      <td>True</td>\n",
       "      <td>2</td>\n",
       "      <td>1.0</td>\n",
       "      <td>1.0</td>\n",
       "      <td>{TV,\"Cable TV\",\"Wireless Internet\",\"Air Condit...</td>\n",
       "      <td>NaN</td>\n",
       "      <td>1</td>\n",
       "      <td>20.0</td>\n",
       "      <td>...</td>\n",
       "      <td>True</td>\n",
       "      <td>True</td>\n",
       "      <td>False</td>\n",
       "      <td>False</td>\n",
       "      <td>True</td>\n",
       "      <td>True</td>\n",
       "      <td>False</td>\n",
       "      <td>1</td>\n",
       "      <td>0</td>\n",
       "      <td>0</td>\n",
       "    </tr>\n",
       "    <tr>\n",
       "      <th>3</th>\n",
       "      <td>-71.121021</td>\n",
       "      <td>42.281106</td>\n",
       "      <td>False</td>\n",
       "      <td>4</td>\n",
       "      <td>1.0</td>\n",
       "      <td>2.0</td>\n",
       "      <td>{TV,Internet,\"Wireless Internet\",\"Air Conditio...</td>\n",
       "      <td>50.0</td>\n",
       "      <td>2</td>\n",
       "      <td>25.0</td>\n",
       "      <td>...</td>\n",
       "      <td>True</td>\n",
       "      <td>True</td>\n",
       "      <td>False</td>\n",
       "      <td>False</td>\n",
       "      <td>True</td>\n",
       "      <td>True</td>\n",
       "      <td>True</td>\n",
       "      <td>1</td>\n",
       "      <td>0</td>\n",
       "      <td>0</td>\n",
       "    </tr>\n",
       "    <tr>\n",
       "      <th>4</th>\n",
       "      <td>-71.136258</td>\n",
       "      <td>42.284512</td>\n",
       "      <td>True</td>\n",
       "      <td>2</td>\n",
       "      <td>1.5</td>\n",
       "      <td>2.0</td>\n",
       "      <td>{Internet,\"Wireless Internet\",\"Air Conditionin...</td>\n",
       "      <td>15.0</td>\n",
       "      <td>1</td>\n",
       "      <td>0.0</td>\n",
       "      <td>...</td>\n",
       "      <td>True</td>\n",
       "      <td>False</td>\n",
       "      <td>False</td>\n",
       "      <td>False</td>\n",
       "      <td>True</td>\n",
       "      <td>False</td>\n",
       "      <td>True</td>\n",
       "      <td>0</td>\n",
       "      <td>0</td>\n",
       "      <td>0</td>\n",
       "    </tr>\n",
       "  </tbody>\n",
       "</table>\n",
       "<p>5 rows × 166 columns</p>\n",
       "</div>"
      ],
      "text/plain": [
       "   longitude   latitude  is_location_exact  accommodates  bathrooms  beds  \\\n",
       "0 -71.133068  42.282619               True             4        1.5   3.0   \n",
       "1 -71.134374  42.286241               True             2        1.0   1.0   \n",
       "2 -71.135765  42.292438               True             2        1.0   1.0   \n",
       "3 -71.121021  42.281106              False             4        1.0   2.0   \n",
       "4 -71.136258  42.284512               True             2        1.5   2.0   \n",
       "\n",
       "                                           amenities  cleaning_fee  \\\n",
       "0  {TV,\"Wireless Internet\",Kitchen,\"Free Parking ...          35.0   \n",
       "1  {TV,Internet,\"Wireless Internet\",\"Air Conditio...          10.0   \n",
       "2  {TV,\"Cable TV\",\"Wireless Internet\",\"Air Condit...           NaN   \n",
       "3  {TV,Internet,\"Wireless Internet\",\"Air Conditio...          50.0   \n",
       "4  {Internet,\"Wireless Internet\",\"Air Conditionin...          15.0   \n",
       "\n",
       "   guests_included  extra_people           ...            Essentials     TV  \\\n",
       "0                1           0.0           ...                  True   True   \n",
       "1                0           0.0           ...                  True   True   \n",
       "2                1          20.0           ...                  True   True   \n",
       "3                2          25.0           ...                  True   True   \n",
       "4                1           0.0           ...                  True  False   \n",
       "\n",
       "   Cat(s)  Pets Allowed  Kitchen  Free Parking on Premises  has_cleaning_fee  \\\n",
       "0   False         False     True                      True              True   \n",
       "1   False          True     True                     False              True   \n",
       "2   False         False     True                      True             False   \n",
       "3   False         False     True                      True              True   \n",
       "4   False         False     True                     False              True   \n",
       "\n",
       "   cancel_moderate  cancel_strict  cancel_super_strict_30  \n",
       "0                1              0                       0  \n",
       "1                1              0                       0  \n",
       "2                1              0                       0  \n",
       "3                1              0                       0  \n",
       "4                0              0                       0  \n",
       "\n",
       "[5 rows x 166 columns]"
      ]
     },
     "execution_count": 5,
     "metadata": {},
     "output_type": "execute_result"
    }
   ],
   "source": [
    "clean_df.head()"
   ]
  },
  {
   "cell_type": "code",
   "execution_count": 294,
   "metadata": {},
   "outputs": [],
   "source": [
    "#let's divide the price into 2 classes\n",
    "#clean_df_sub = clean_df[clean_df['price']<400]"
   ]
  },
  {
   "cell_type": "code",
   "execution_count": 295,
   "metadata": {},
   "outputs": [
    {
     "data": {
      "text/plain": [
       "(3441, 166)"
      ]
     },
     "execution_count": 295,
     "metadata": {},
     "output_type": "execute_result"
    }
   ],
   "source": [
    "#clean_df_sub.shape"
   ]
  },
  {
   "cell_type": "code",
   "execution_count": 324,
   "metadata": {},
   "outputs": [],
   "source": [
    "y = clean_df['price']\n",
    "X = clean_df.drop(axis=1,columns=['price','amenities'])"
   ]
  },
  {
   "cell_type": "code",
   "execution_count": 325,
   "metadata": {},
   "outputs": [
    {
     "data": {
      "text/plain": [
       "(3585,)"
      ]
     },
     "execution_count": 325,
     "metadata": {},
     "output_type": "execute_result"
    }
   ],
   "source": [
    "y.shape"
   ]
  },
  {
   "cell_type": "code",
   "execution_count": 326,
   "metadata": {},
   "outputs": [
    {
     "data": {
      "text/plain": [
       "(3585, 164)"
      ]
     },
     "execution_count": 326,
     "metadata": {},
     "output_type": "execute_result"
    }
   ],
   "source": [
    "X.shape"
   ]
  },
  {
   "cell_type": "code",
   "execution_count": null,
   "metadata": {},
   "outputs": [],
   "source": []
  },
  {
   "cell_type": "markdown",
   "metadata": {},
   "source": [
    "### Data Imputer \n",
    "I will use mean for NaN"
   ]
  },
  {
   "cell_type": "code",
   "execution_count": 5,
   "metadata": {},
   "outputs": [],
   "source": [
    "from sklearn.impute import SimpleImputer"
   ]
  },
  {
   "cell_type": "code",
   "execution_count": 9,
   "metadata": {},
   "outputs": [],
   "source": [
    "imp = SimpleImputer()"
   ]
  },
  {
   "cell_type": "code",
   "execution_count": 327,
   "metadata": {},
   "outputs": [],
   "source": [
    "X_m = imp.fit_transform(X)"
   ]
  },
  {
   "cell_type": "markdown",
   "metadata": {},
   "source": [
    "### Data Scaling"
   ]
  },
  {
   "cell_type": "code",
   "execution_count": 6,
   "metadata": {},
   "outputs": [],
   "source": [
    "from sklearn.preprocessing import StandardScaler"
   ]
  },
  {
   "cell_type": "code",
   "execution_count": 12,
   "metadata": {},
   "outputs": [],
   "source": [
    "scaler = StandardScaler()"
   ]
  },
  {
   "cell_type": "code",
   "execution_count": 328,
   "metadata": {},
   "outputs": [],
   "source": [
    "X_m_scale = scaler.fit_transform(X_m)"
   ]
  },
  {
   "cell_type": "markdown",
   "metadata": {},
   "source": [
    "## PCA Analysis\n",
    "try to reduce the demension and also want to see the relation between the features"
   ]
  },
  {
   "cell_type": "code",
   "execution_count": 14,
   "metadata": {},
   "outputs": [],
   "source": [
    "from sklearn.decomposition import PCA"
   ]
  },
  {
   "cell_type": "code",
   "execution_count": 15,
   "metadata": {},
   "outputs": [],
   "source": [
    "pca = PCA(n_components=164)"
   ]
  },
  {
   "cell_type": "code",
   "execution_count": 16,
   "metadata": {},
   "outputs": [
    {
     "data": {
      "text/plain": [
       "PCA(copy=True, iterated_power='auto', n_components=164, random_state=None,\n",
       "  svd_solver='auto', tol=0.0, whiten=False)"
      ]
     },
     "execution_count": 16,
     "metadata": {},
     "output_type": "execute_result"
    }
   ],
   "source": [
    "pca.fit(X_m_scale)"
   ]
  },
  {
   "cell_type": "code",
   "execution_count": 17,
   "metadata": {},
   "outputs": [],
   "source": [
    "var_ratio=pca.explained_variance_ratio_"
   ]
  },
  {
   "cell_type": "code",
   "execution_count": 18,
   "metadata": {},
   "outputs": [],
   "source": [
    "cum_var_ratio = np.zeros(var_ratio.shape)"
   ]
  },
  {
   "cell_type": "code",
   "execution_count": 19,
   "metadata": {},
   "outputs": [],
   "source": [
    "for i in np.arange(0,var_ratio.shape[0]):\n",
    "    if i==0:\n",
    "        cum_var_ratio[i]=var_ratio[i]\n",
    "        continue\n",
    "    cum_var_ratio[i] = cum_var_ratio[i-1]+var_ratio[i]"
   ]
  },
  {
   "cell_type": "code",
   "execution_count": 20,
   "metadata": {},
   "outputs": [
    {
     "data": {
      "image/png": "[encoded data removed]",
      "text/plain": [
       "<Figure size 1152x288 with 2 Axes>"
      ]
     },
     "metadata": {
      "needs_background": "light"
     },
     "output_type": "display_data"
    }
   ],
   "source": [
    "fig,axes = plt.subplots(1,2)\n",
    "fig.set_figwidth(16)\n",
    "axes[0].plot(var_ratio)\n",
    "axes[0].grid(True)\n",
    "axes[0].set_xlabel(\"number of principal component\")\n",
    "axes[1].plot(cum_var_ratio)\n",
    "axes[1].set_xlabel(\"number of principal component\")\n",
    "axes[1].grid(True)"
   ]
  },
  {
   "cell_type": "code",
   "execution_count": 22,
   "metadata": {},
   "outputs": [],
   "source": [
    "import math\n",
    "from collections import OrderedDict"
   ]
  },
  {
   "cell_type": "code",
   "execution_count": 22,
   "metadata": {},
   "outputs": [],
   "source": [
    "# Map weights for the first principal component to corresponding feature names\n",
    "# and then print the linked values, sorted by weight.\n",
    "def get_pc_values_by_weight(df,pca,n=0):\n",
    "    column_names = df.columns.values\n",
    "    prin_comp = pca.components_[n]\n",
    "    lk_values = list(zip(column_names,prin_comp))\n",
    "    lk_values.sort(key=lambda tup: math.fabs(tup[1]),reverse=True)\n",
    "    lk_values_map = OrderedDict({item[0]:item[1] for item in lk_values})\n",
    "    return pd.Series(lk_values_map)"
   ]
  },
  {
   "cell_type": "code",
   "execution_count": 23,
   "metadata": {},
   "outputs": [],
   "source": [
    "prin_com0 = get_pc_values_by_weight(X,pca,0)"
   ]
  },
  {
   "cell_type": "code",
   "execution_count": 24,
   "metadata": {},
   "outputs": [
    {
     "data": {
      "image/png": "[encoded data removed]",
      "text/plain": [
       "<Figure size 576x576 with 1 Axes>"
      ]
     },
     "metadata": {
      "needs_background": "light"
     },
     "output_type": "display_data"
    }
   ],
   "source": [
    "#this indicate the amenity which improves the living quality  \n",
    "fig, ax = plt.subplots(figsize=(8,8))\n",
    "ax = sb.barplot(y=prin_com0.index[0:20],x=prin_com0.values[0:20],ax=ax);"
   ]
  },
  {
   "cell_type": "code",
   "execution_count": 25,
   "metadata": {},
   "outputs": [
    {
     "data": {
      "image/png": "[encoded data removed]",
      "text/plain": [
       "<Figure size 576x576 with 1 Axes>"
      ]
     },
     "metadata": {
      "needs_background": "light"
     },
     "output_type": "display_data"
    }
   ],
   "source": [
    "#this indicate the environment like safty and friendly\n",
    "prin_com1 = get_pc_values_by_weight(X,pca,1)\n",
    "fig, ax = plt.subplots(figsize=(8,8))\n",
    "ax = sb.barplot(y=prin_com1.index[0:20],x=prin_com1.values[0:20],ax=ax);"
   ]
  },
  {
   "cell_type": "code",
   "execution_count": 26,
   "metadata": {},
   "outputs": [
    {
     "data": {
      "image/png": "[encoded data removed]",
      "text/plain": [
       "<Figure size 576x576 with 1 Axes>"
      ]
     },
     "metadata": {
      "needs_background": "light"
     },
     "output_type": "display_data"
    }
   ],
   "source": [
    "#this one indicate the position and neighbourhood of the listing\n",
    "prin_com2 = get_pc_values_by_weight(X,pca,2)\n",
    "fig, ax = plt.subplots(figsize=(8,8))\n",
    "ax = sb.barplot(y=prin_com2.index[0:20],x=prin_com2.values[0:20],ax=ax);"
   ]
  },
  {
   "cell_type": "code",
   "execution_count": 27,
   "metadata": {},
   "outputs": [],
   "source": [
    "X_m_scale_pca = pca.transform(X_m_scale)"
   ]
  },
  {
   "cell_type": "markdown",
   "metadata": {},
   "source": [
    "### Model data and predict price\n",
    "I will use all features"
   ]
  },
  {
   "cell_type": "code",
   "execution_count": 7,
   "metadata": {},
   "outputs": [],
   "source": [
    "from sklearn.model_selection import train_test_split"
   ]
  },
  {
   "cell_type": "code",
   "execution_count": 330,
   "metadata": {},
   "outputs": [],
   "source": [
    "X_train, X_test, y_train, y_test = train_test_split(X_m_scale,y, random_state=0)\n"
   ]
  },
  {
   "cell_type": "code",
   "execution_count": null,
   "metadata": {},
   "outputs": [],
   "source": []
  },
  {
   "cell_type": "markdown",
   "metadata": {},
   "source": [
    "#### Linear Regression"
   ]
  },
  {
   "cell_type": "code",
   "execution_count": 8,
   "metadata": {},
   "outputs": [],
   "source": [
    "from sklearn.linear_model import LinearRegression,Lasso\n",
    "from sklearn.metrics import r2_score"
   ]
  },
  {
   "cell_type": "code",
   "execution_count": 190,
   "metadata": {},
   "outputs": [],
   "source": []
  },
  {
   "cell_type": "code",
   "execution_count": 332,
   "metadata": {},
   "outputs": [
    {
     "name": "stdout",
     "output_type": "stream",
     "text": [
      "r2 score for train:  0.48313852359835163\n",
      "r2 score for test:  -7.056479052142615e+22\n"
     ]
    }
   ],
   "source": [
    "#we need regulation for this\n",
    "lrg = LinearRegression()\n",
    "lrg.fit(X_train,y_train)\n",
    "lrg_test_predict = lrg.predict(X_test)\n",
    "lrg_train_predict = lrg.predict(X_train)\n",
    "print(\"r2 score for train: \",r2_score(y_train,lrg_train_predict))\n",
    "print(\"r2 score for test: \",r2_score(y_test,lrg_test_predict))"
   ]
  },
  {
   "cell_type": "code",
   "execution_count": 42,
   "metadata": {},
   "outputs": [],
   "source": []
  },
  {
   "cell_type": "code",
   "execution_count": 333,
   "metadata": {},
   "outputs": [
    {
     "name": "stdout",
     "output_type": "stream",
     "text": [
      "r2 score for train:  0.4723169090215753\n",
      "r2 score for test:  0.24871078183132322\n"
     ]
    }
   ],
   "source": [
    "#t set alpha=1\n",
    "las_rg = Lasso(alpha=1)\n",
    "las_rg.fit(X_train,y_train)\n",
    "las_rg_train_predict = las_rg.predict(X_train)\n",
    "las_rg_test_predict = las_rg.predict(X_test)\n",
    "print(\"r2 score for train: \",r2_score(y_train,las_rg_train_predict))\n",
    "print(\"r2 score for test: \",r2_score(y_test,las_rg_test_predict))"
   ]
  },
  {
   "cell_type": "markdown",
   "metadata": {},
   "source": [
    "#### other model"
   ]
  },
  {
   "cell_type": "code",
   "execution_count": 9,
   "metadata": {},
   "outputs": [],
   "source": [
    "#try other models\n",
    "from sklearn.ensemble import AdaBoostRegressor,RandomForestRegressor,GradientBoostingRegressor\n",
    "from sklearn.tree import DecisionTreeRegressor\n"
   ]
  },
  {
   "cell_type": "code",
   "execution_count": 335,
   "metadata": {},
   "outputs": [
    {
     "name": "stdout",
     "output_type": "stream",
     "text": [
      "r2 score for train  0.49518921883454026\n",
      "r2 score for test   0.23170468068152816\n"
     ]
    }
   ],
   "source": [
    "#decision tree\n",
    "dec_tree = DecisionTreeRegressor(random_state=0,min_samples_split=64, min_samples_leaf=8)\n",
    "dec_tree.fit(X_train,y_train)\n",
    "dec_tree_train_predict = dec_tree.predict(X_train)\n",
    "dec_tree_test_predict = dec_tree.predict(X_test)\n",
    "print(\"r2 score for train \",r2_score(y_train,dec_tree_train_predict))\n",
    "print(\"r2 score for test  \",r2_score(y_test,dec_tree_test_predict))"
   ]
  },
  {
   "cell_type": "code",
   "execution_count": 336,
   "metadata": {},
   "outputs": [
    {
     "name": "stdout",
     "output_type": "stream",
     "text": [
      "r2 score for train  0.9052139290249315\n",
      "r2 score for test   0.24165441860847403\n"
     ]
    }
   ],
   "source": [
    "#ada boost\n",
    "ada_reg = AdaBoostRegressor(base_estimator=DecisionTreeRegressor(max_depth=8),learning_rate=0.5,n_estimators=70)\n",
    "ada_reg.fit(X_train,y_train)\n",
    "ada_reg_train_predict = ada_reg.predict(X_train)\n",
    "ada_reg_test_predict = ada_reg.predict(X_test)\n",
    "print(\"r2 score for train \",r2_score(y_train,ada_reg_train_predict))\n",
    "print(\"r2 score for test  \",r2_score(y_test,ada_reg_test_predict))"
   ]
  },
  {
   "cell_type": "code",
   "execution_count": 337,
   "metadata": {},
   "outputs": [
    {
     "name": "stdout",
     "output_type": "stream",
     "text": [
      "r2 score for train  0.7084268317552367\n",
      "r2 score for test   0.2548593222648837\n"
     ]
    }
   ],
   "source": [
    "#let's try random forest\n",
    "rad_f_reg = RandomForestRegressor(n_estimators=60,min_samples_split=6,min_samples_leaf=4)\n",
    "rad_f_reg.fit(X_train,y_train)\n",
    "rad_f_reg_train_predict = rad_f_reg.predict(X_train)\n",
    "rad_f_reg_test_predict = rad_f_reg.predict(X_test)\n",
    "print(\"r2 score for train \",r2_score(y_train,rad_f_reg_train_predict))\n",
    "print(\"r2 score for test  \",r2_score(y_test,rad_f_reg_test_predict))"
   ]
  },
  {
   "cell_type": "code",
   "execution_count": 340,
   "metadata": {},
   "outputs": [
    {
     "name": "stdout",
     "output_type": "stream",
     "text": [
      "r2 score for train  0.5831645706879387\n",
      "r2 score for test   0.23652216880101795\n"
     ]
    }
   ],
   "source": [
    "gb_reg =GradientBoostingRegressor(n_estimators=50,learning_rate=0.1,min_samples_split=6,min_samples_leaf=4)\n",
    "gb_reg.fit(X_train,y_train)\n",
    "gb_reg_train_predict = gb_reg.predict(X_train)\n",
    "gb_reg_test_predict = gb_reg.predict(X_test)\n",
    "print(\"r2 score for train \",r2_score(y_train,gb_reg_train_predict))\n",
    "print(\"r2 score for test  \",r2_score(y_test,gb_reg_test_predict))"
   ]
  },
  {
   "cell_type": "markdown",
   "metadata": {},
   "source": [
    "## Revisiting price\n",
    "The prediction for price is so bad, I think there must be something strange happened"
   ]
  },
  {
   "cell_type": "code",
   "execution_count": 345,
   "metadata": {},
   "outputs": [
    {
     "data": {
      "text/plain": [
       "<matplotlib.collections.PathCollection at 0x2a629b2dda0>"
      ]
     },
     "execution_count": 345,
     "metadata": {},
     "output_type": "execute_result"
    },
    {
     "data": {
      "image/png": "[encoded data removed]",
      "text/plain": [
       "<Figure size 432x288 with 1 Axes>"
      ]
     },
     "metadata": {
      "needs_background": "light"
     },
     "output_type": "display_data"
    }
   ],
   "source": [
    "#let's first plot the prediction vs true\n",
    "plt.scatter(y_test,rad_f_reg_test_predict)"
   ]
  },
  {
   "cell_type": "code",
   "execution_count": 346,
   "metadata": {},
   "outputs": [
    {
     "data": {
      "text/plain": [
       "0.6206149865998276"
      ]
     },
     "execution_count": 346,
     "metadata": {},
     "output_type": "execute_result"
    }
   ],
   "source": [
    "#it looks like we have good agreement  for price < 600\n",
    "#the r2 score looks better for the price <600\n",
    "r2_score(y_test[y_test<600],rad_f_reg_test_predict[y_test<600])"
   ]
  },
  {
   "cell_type": "code",
   "execution_count": 347,
   "metadata": {},
   "outputs": [
    {
     "data": {
      "text/plain": [
       "<matplotlib.axes._subplots.AxesSubplot at 0x2a629c34f98>"
      ]
     },
     "execution_count": 347,
     "metadata": {},
     "output_type": "execute_result"
    },
    {
     "data": {
      "image/png": "[encoded data removed]",
      "text/plain": [
       "<Figure size 1440x720 with 1 Axes>"
      ]
     },
     "metadata": {
      "needs_background": "light"
     },
     "output_type": "display_data"
    }
   ],
   "source": [
    "#let's draw the histogram of the price\n",
    "#most price is less than $400, we also see very high price, which looks ridiculous for me\n",
    "plt.figure(figsize=(20,10))\n",
    "clean_df['price'].hist(bins=100)"
   ]
  },
  {
   "cell_type": "code",
   "execution_count": 349,
   "metadata": {},
   "outputs": [
    {
     "data": {
      "text/plain": [
       "count    3585.000000\n",
       "mean      173.925802\n",
       "std       148.331321\n",
       "min        10.000000\n",
       "25%        85.000000\n",
       "50%       150.000000\n",
       "75%       220.000000\n",
       "max      4000.000000\n",
       "Name: price, dtype: float64"
      ]
     },
     "execution_count": 349,
     "metadata": {},
     "output_type": "execute_result"
    }
   ],
   "source": [
    "#the highest price is $4000\n",
    "clean_df['price'].describe()"
   ]
  },
  {
   "cell_type": "code",
   "execution_count": 350,
   "metadata": {},
   "outputs": [
    {
     "data": {
      "text/html": [
       "<div>\n",
       "<style scoped>\n",
       "    .dataframe tbody tr th:only-of-type {\n",
       "        vertical-align: middle;\n",
       "    }\n",
       "\n",
       "    .dataframe tbody tr th {\n",
       "        vertical-align: top;\n",
       "    }\n",
       "\n",
       "    .dataframe thead th {\n",
       "        text-align: right;\n",
       "    }\n",
       "</style>\n",
       "<table border=\"1\" class=\"dataframe\">\n",
       "  <thead>\n",
       "    <tr style=\"text-align: right;\">\n",
       "      <th></th>\n",
       "      <th>longitude</th>\n",
       "      <th>latitude</th>\n",
       "      <th>is_location_exact</th>\n",
       "      <th>accommodates</th>\n",
       "      <th>bathrooms</th>\n",
       "      <th>beds</th>\n",
       "      <th>amenities</th>\n",
       "      <th>cleaning_fee</th>\n",
       "      <th>guests_included</th>\n",
       "      <th>extra_people</th>\n",
       "      <th>...</th>\n",
       "      <th>Essentials</th>\n",
       "      <th>TV</th>\n",
       "      <th>Cat(s)</th>\n",
       "      <th>Pets Allowed</th>\n",
       "      <th>Kitchen</th>\n",
       "      <th>Free Parking on Premises</th>\n",
       "      <th>has_cleaning_fee</th>\n",
       "      <th>cancel_moderate</th>\n",
       "      <th>cancel_strict</th>\n",
       "      <th>cancel_super_strict_30</th>\n",
       "    </tr>\n",
       "  </thead>\n",
       "  <tbody>\n",
       "    <tr>\n",
       "      <th>2285</th>\n",
       "      <td>-71.09758</td>\n",
       "      <td>42.347934</td>\n",
       "      <td>True</td>\n",
       "      <td>4</td>\n",
       "      <td>1.0</td>\n",
       "      <td>2.0</td>\n",
       "      <td>{TV,Internet,\"Wireless Internet\",\"Air Conditio...</td>\n",
       "      <td>NaN</td>\n",
       "      <td>2</td>\n",
       "      <td>50.0</td>\n",
       "      <td>...</td>\n",
       "      <td>True</td>\n",
       "      <td>True</td>\n",
       "      <td>False</td>\n",
       "      <td>False</td>\n",
       "      <td>True</td>\n",
       "      <td>False</td>\n",
       "      <td>False</td>\n",
       "      <td>0</td>\n",
       "      <td>1</td>\n",
       "      <td>0</td>\n",
       "    </tr>\n",
       "  </tbody>\n",
       "</table>\n",
       "<p>1 rows × 166 columns</p>\n",
       "</div>"
      ],
      "text/plain": [
       "      longitude   latitude  is_location_exact  accommodates  bathrooms  beds  \\\n",
       "2285  -71.09758  42.347934               True             4        1.0   2.0   \n",
       "\n",
       "                                              amenities  cleaning_fee  \\\n",
       "2285  {TV,Internet,\"Wireless Internet\",\"Air Conditio...           NaN   \n",
       "\n",
       "      guests_included  extra_people           ...            Essentials    TV  \\\n",
       "2285                2          50.0           ...                  True  True   \n",
       "\n",
       "      Cat(s)  Pets Allowed  Kitchen  Free Parking on Premises  \\\n",
       "2285   False         False     True                     False   \n",
       "\n",
       "      has_cleaning_fee  cancel_moderate  cancel_strict  cancel_super_strict_30  \n",
       "2285             False                0              1                       0  \n",
       "\n",
       "[1 rows x 166 columns]"
      ]
     },
     "execution_count": 350,
     "metadata": {},
     "output_type": "execute_result"
    }
   ],
   "source": [
    "#let's find the $4000 listings\n",
    "#the id is 2285\n",
    "clean_df[clean_df['price']==4000]"
   ]
  },
  {
   "cell_type": "code",
   "execution_count": 351,
   "metadata": {},
   "outputs": [
    {
     "data": {
      "text/plain": [
       "'$4,000.00'"
      ]
     },
     "execution_count": 351,
     "metadata": {},
     "output_type": "execute_result"
    }
   ],
   "source": [
    "df_listings['price'][2285]"
   ]
  },
  {
   "cell_type": "code",
   "execution_count": 353,
   "metadata": {},
   "outputs": [
    {
     "data": {
      "text/plain": [
       "'Central Heat/AC, cable/internet, electricity, and hot water included. Fully furnished one bedroom apt. with sofa bed in living room. Kenmore Sq train/bus station less than a minute away   Located at 534 Commonwealth Ave. Nearby Eastern Standard bar and restaurant, Fenway Park, House of Blues, Boston University, Lansdowne st, Longwood Medical area Hospitals, etc. Very convenient during all seasons. Right in the middle of the city.'"
      ]
     },
     "execution_count": 353,
     "metadata": {},
     "output_type": "execute_result"
    }
   ],
   "source": [
    "#let's check other information\n",
    "df_listings['summary'][2285]"
   ]
  },
  {
   "cell_type": "code",
   "execution_count": 354,
   "metadata": {},
   "outputs": [
    {
     "data": {
      "text/plain": [
       "'Central Heat/AC, cable/internet, electricity, and hot water included. Fully furnished one bedroom apt. with sofa bed in living room. Kenmore Sq train/bus station less than a minute away   Located at 534 Commonwealth Ave. Nearby Eastern Standard bar and restaurant, Fenway Park, House of Blues, Boston University, Lansdowne st, Longwood Medical area Hospitals, etc. Very convenient during all seasons. Right in the middle of the city. Practicality, functionality, location, comfort Kenmore Square/Fenway Park, Boston, Massachusetts Kenmore Square Green line train & bus station Super Strict 30 Days: 50% refund up until 30 days prior to arrival, except fees Note: The Super Strict cancellation policy applies to special circumstances and is by invitation only. Cleaning fees are always refunded if the guest did not check in. The Airbnb service fee is non-refundable. If there is a complaint from either party, notice must be given to Airbnb within 24 hours of check-in. Airbnb will mediate when neces'"
      ]
     },
     "execution_count": 354,
     "metadata": {},
     "output_type": "execute_result"
    }
   ],
   "source": [
    "df_listings['description'][2285]"
   ]
  },
  {
   "cell_type": "code",
   "execution_count": 366,
   "metadata": {},
   "outputs": [
    {
     "data": {
      "text/plain": [
       "'Practicality, functionality, location, comfort'"
      ]
     },
     "execution_count": 366,
     "metadata": {},
     "output_type": "execute_result"
    }
   ],
   "source": [
    "df_listings['space'][2285]"
   ]
  },
  {
   "cell_type": "code",
   "execution_count": 367,
   "metadata": {},
   "outputs": [
    {
     "data": {
      "text/plain": [
       "'Super Strict 30 Days: 50% refund up until 30 days prior to arrival, except fees Note: The Super Strict cancellation policy applies to special circumstances and is by invitation only. Cleaning fees are always refunded if the guest did not check in. The Airbnb service fee is non-refundable. If there is a complaint from either party, notice must be given to Airbnb within 24 hours of check-in. Airbnb will mediate when necessary, and has the final say in all disputes. A reservation is officially canceled when the guest clicks the cancellation button on the cancellation confirmation page, which they can find in Dashboard > Your Trips > Change or Cancel. Cancellation policies may be superseded by the Guest Refund Policy, safety cancellations, or extenuating circumstances. Please review these exceptions. Applicable taxes will be retained and remitted.'"
      ]
     },
     "execution_count": 367,
     "metadata": {},
     "output_type": "execute_result"
    }
   ],
   "source": [
    "df_listings['notes'][2285]"
   ]
  },
  {
   "cell_type": "code",
   "execution_count": 368,
   "metadata": {},
   "outputs": [
    {
     "data": {
      "text/plain": [
       "'Be considerate of others.  Quiet hours after 10 pm.  No smoking. Super Strict 30 Days: 50% refund up until 30 days prior to arrival, except fees Note: The Super Strict cancellation policy applies to special circumstances and is by invitation only. Cleaning fees are always refunded if the guest did not check in. The Airbnb service fee is non-refundable. If there is a complaint from either party, notice must be given to Airbnb within 24 hours of check-in. Airbnb will mediate when necessary, and has the final say in all disputes. A reservation is officially canceled when the guest clicks the cancellation button on the cancellation confirmation page, which they can find in Dashboard > Your Trips > Change or Cancel. Cancellation policies may be superseded by the Guest Refund Policy, safety cancellations, or extenuating circumstances. Please review these exceptions. Applicable taxes will be retained and remitted.'"
      ]
     },
     "execution_count": 368,
     "metadata": {},
     "output_type": "execute_result"
    }
   ],
   "source": [
    "df_listings['house_rules'][2285]"
   ]
  },
  {
   "cell_type": "code",
   "execution_count": 369,
   "metadata": {},
   "outputs": [
    {
     "data": {
      "text/plain": [
       "'Kenmore Square/Fenway Park, Boston, Massachusetts'"
      ]
     },
     "execution_count": 369,
     "metadata": {},
     "output_type": "execute_result"
    }
   ],
   "source": [
    "df_listings['neighborhood_overview'][2285]"
   ]
  },
  {
   "cell_type": "code",
   "execution_count": 370,
   "metadata": {},
   "outputs": [
    {
     "data": {
      "text/plain": [
       "nan"
      ]
     },
     "execution_count": 370,
     "metadata": {},
     "output_type": "execute_result"
    }
   ],
   "source": [
    "df_listings['weekly_price'][2285]"
   ]
  },
  {
   "cell_type": "code",
   "execution_count": 371,
   "metadata": {},
   "outputs": [
    {
     "data": {
      "text/plain": [
       "nan"
      ]
     },
     "execution_count": 371,
     "metadata": {},
     "output_type": "execute_result"
    }
   ],
   "source": [
    "df_listings['monthly_price'][2285]"
   ]
  },
  {
   "cell_type": "code",
   "execution_count": null,
   "metadata": {},
   "outputs": [],
   "source": [
    "df_listings['monthly_price'][2285]"
   ]
  },
  {
   "cell_type": "code",
   "execution_count": 372,
   "metadata": {},
   "outputs": [
    {
     "data": {
      "text/plain": [
       "6"
      ]
     },
     "execution_count": 372,
     "metadata": {},
     "output_type": "execute_result"
    }
   ],
   "source": [
    "df_listings['minimum_nights'][2285]"
   ]
  },
  {
   "cell_type": "code",
   "execution_count": 375,
   "metadata": {},
   "outputs": [
    {
     "data": {
      "text/plain": [
       "'{TV,Internet,\"Wireless Internet\",\"Air Conditioning\",Kitchen,\"Elevator in Building\",Heating,\"Family/Kid Friendly\",Washer,Dryer,\"Smoke Detector\",\"Carbon Monoxide Detector\",\"Fire Extinguisher\",Essentials,Shampoo,\"Lock on Bedroom Door\",\"24-Hour Check-in\",Hangers,\"Hair Dryer\",Iron,\"Laptop Friendly Workspace\"}'"
      ]
     },
     "execution_count": 375,
     "metadata": {},
     "output_type": "execute_result"
    }
   ],
   "source": [
    "df_listings['amenities'][2285]"
   ]
  },
  {
   "cell_type": "code",
   "execution_count": 376,
   "metadata": {},
   "outputs": [
    {
     "data": {
      "text/plain": [
       "1125"
      ]
     },
     "execution_count": 376,
     "metadata": {},
     "output_type": "execute_result"
    }
   ],
   "source": [
    "df_listings['maximum_nights'][2285]"
   ]
  },
  {
   "cell_type": "code",
   "execution_count": 378,
   "metadata": {},
   "outputs": [
    {
     "data": {
      "text/plain": [
       "12972378"
      ]
     },
     "execution_count": 378,
     "metadata": {},
     "output_type": "execute_result"
    }
   ],
   "source": [
    "df_listings['id'][2285]"
   ]
  },
  {
   "cell_type": "code",
   "execution_count": 379,
   "metadata": {},
   "outputs": [
    {
     "data": {
      "text/plain": [
       "0"
      ]
     },
     "execution_count": 379,
     "metadata": {},
     "output_type": "execute_result"
    }
   ],
   "source": [
    "df_listings['number_of_reviews'][2285]"
   ]
  },
  {
   "cell_type": "code",
   "execution_count": 381,
   "metadata": {},
   "outputs": [
    {
     "data": {
      "text/plain": [
       "nan"
      ]
     },
     "execution_count": 381,
     "metadata": {},
     "output_type": "execute_result"
    }
   ],
   "source": [
    "df_listings['reviews_per_month'][2285]"
   ]
  },
  {
   "cell_type": "code",
   "execution_count": 387,
   "metadata": {},
   "outputs": [
    {
     "data": {
      "text/plain": [
       "2285    4000.0\n",
       "3055    3000.0\n",
       "793     1400.0\n",
       "2204    1372.0\n",
       "1950    1345.0\n",
       "Name: price, dtype: float64"
      ]
     },
     "execution_count": 387,
     "metadata": {},
     "output_type": "execute_result"
    }
   ],
   "source": [
    "clean_df['price'].sort_values(ascending=False).head()"
   ]
  },
  {
   "cell_type": "code",
   "execution_count": 388,
   "metadata": {},
   "outputs": [
    {
     "data": {
      "text/plain": [
       "'Look out the window, use the common space, whatever you would like to do for the IndyCar race in Boston on Septemb(PHONE NUMBER HIDDEN).  INCREDIBLE opportunity to see the cars literally go by 15 feet away.'"
      ]
     },
     "execution_count": 388,
     "metadata": {},
     "output_type": "execute_result"
    }
   ],
   "source": [
    "df_listings['description'][3055]"
   ]
  },
  {
   "cell_type": "code",
   "execution_count": 389,
   "metadata": {},
   "outputs": [
    {
     "data": {
      "text/plain": [
       "0"
      ]
     },
     "execution_count": 389,
     "metadata": {},
     "output_type": "execute_result"
    }
   ],
   "source": [
    "df_listings['number_of_reviews'][3055]"
   ]
  },
  {
   "cell_type": "code",
   "execution_count": 390,
   "metadata": {},
   "outputs": [
    {
     "data": {
      "text/plain": [
       "'Look out the window, use the common space, whatever you would like to do for the IndyCar race in Boston on Septemb(PHONE NUMBER HIDDEN).  INCREDIBLE opportunity to see the cars literally go by 15 feet away.'"
      ]
     },
     "execution_count": 390,
     "metadata": {},
     "output_type": "execute_result"
    }
   ],
   "source": [
    "df_listings['summary'][3055]"
   ]
  },
  {
   "cell_type": "code",
   "execution_count": 391,
   "metadata": {},
   "outputs": [
    {
     "data": {
      "text/plain": [
       "\"波士顿暑假住房出租:三室两厅,主卧出租,位于\\\\'Northeast university对面,步行五分钟到Ma Avenue站橙线及绿线,步行十五分钟到Prudential Center. Whole food,cvs都在附近. 屋内空间非常大 而且干净整洁。$1400/每个月. 包水暖.暑假只有一个女室友在. (SENSITIVE CONTENTS HIDDEN):(PHONE NUMBER HIDDEN) 屋内有独立卫生间和淋浴\""
      ]
     },
     "execution_count": 391,
     "metadata": {},
     "output_type": "execute_result"
    }
   ],
   "source": [
    "#the price is monthly price\n",
    "df_listings['description'][793]"
   ]
  },
  {
   "cell_type": "code",
   "execution_count": 395,
   "metadata": {},
   "outputs": [
    {
     "data": {
      "text/plain": [
       "nan"
      ]
     },
     "execution_count": 395,
     "metadata": {},
     "output_type": "execute_result"
    }
   ],
   "source": [
    "df_listings['weekly_price'][793]"
   ]
  },
  {
   "cell_type": "code",
   "execution_count": 392,
   "metadata": {},
   "outputs": [
    {
     "data": {
      "text/plain": [
       "'There are three other lovely roommates who are students in Northeastern University.'"
      ]
     },
     "execution_count": 392,
     "metadata": {},
     "output_type": "execute_result"
    }
   ],
   "source": [
    "df_listings['description'][2204]"
   ]
  },
  {
   "cell_type": "code",
   "execution_count": 393,
   "metadata": {},
   "outputs": [
    {
     "data": {
      "text/plain": [
       "'There are three other lovely roommates who are students in Northeastern University.'"
      ]
     },
     "execution_count": 393,
     "metadata": {},
     "output_type": "execute_result"
    }
   ],
   "source": [
    "df_listings['summary'][2204]"
   ]
  },
  {
   "cell_type": "code",
   "execution_count": 397,
   "metadata": {},
   "outputs": [
    {
     "data": {
      "text/plain": [
       "\"Relaxing city living yet blocks away from the State House, MGH, bakeries, shops and city parks, our apartment in Beacon Hill offers the very finest in comfort and Relaxation in the core of Beacon Hill set on a quite sunny side street. We offer turn down service for an additional cost so you will never need to do dishes, take out trash, or change sheets when you're on the go. we provide secure, controlled mail and package delivery. Within blocks of the Esplanade, restaurants, Parks, and the MBTA. Newly renovated 1 bed in Beacon Hill. we have used West Elm furniture to furnish this unit with upscale beddings and mattresses. Hardwood floors throughout, freshly-painted 1BD/1BA apartment offers a spacious living room with a gas fire place with north and south-facing windows. Large walk-in closet, luxury bed, 55 inch wall mounted tv, wifi, cable tv, Netflix, Hulu, washer and dryer located in the unit. This unit offers turn down service so if you're ever in the need of fresh sheets, trash pic\""
      ]
     },
     "execution_count": 397,
     "metadata": {},
     "output_type": "execute_result"
    }
   ],
   "source": [
    "df_listings['description'][1950]"
   ]
  },
  {
   "cell_type": "code",
   "execution_count": 399,
   "metadata": {},
   "outputs": [
    {
     "data": {
      "text/plain": [
       "\"Relaxing city living yet blocks away from the State House, MGH, bakeries, shops and city parks, our apartment in Beacon Hill offers the very finest in comfort and Relaxation in the core of Beacon Hill set on a quite sunny side street. We offer turn down service for an additional cost so you will never need to do dishes, take out trash, or change sheets when you're on the go. we provide secure, controlled mail and package delivery. Within blocks of the Esplanade, restaurants, Parks, and the MBTA.\""
      ]
     },
     "execution_count": 399,
     "metadata": {},
     "output_type": "execute_result"
    }
   ],
   "source": [
    "df_listings['summary'][1950]"
   ]
  },
  {
   "cell_type": "markdown",
   "metadata": {},
   "source": [
    "### Summary for the abnomal price\n",
    "\n",
    "By checking some other imformation like summary, description and so on. For row 793, the price is monthly price. For row 3055, you can see IndyCar race. For row 1950, they provide some services:you will never need to do dishes, take out trash, or change sheets when you're on the go. they also provide secure, controlled mail and package delivery. For the 4000 listing, I have no idea why it is so expensive, it may be a typo (should be $400). In short, the high price is caused by some special reason which you may find in the text value features "
   ]
  },
  {
   "cell_type": "code",
   "execution_count": 10,
   "metadata": {},
   "outputs": [
    {
     "data": {
      "text/plain": [
       "(3441, 168)"
      ]
     },
     "execution_count": 10,
     "metadata": {},
     "output_type": "execute_result"
    }
   ],
   "source": [
    "#Let's exclude the abnomal price and redo the price regression\n",
    "#only 3585-3441 = 144 rows are dropped\n",
    "clean_df_sub = clean_df[clean_df['price']<400]\n",
    "clean_df_sub.shape"
   ]
  },
  {
   "cell_type": "code",
   "execution_count": 11,
   "metadata": {},
   "outputs": [],
   "source": [
    "y = clean_df_sub['price']\n",
    "X = clean_df_sub.drop(axis=1,columns=['price','amenities'])"
   ]
  },
  {
   "cell_type": "code",
   "execution_count": 12,
   "metadata": {},
   "outputs": [],
   "source": [
    "#imput and scale\n",
    "imp = SimpleImputer()\n",
    "X_m = imp.fit_transform(X)\n",
    "scaler = StandardScaler()\n",
    "X_m_scale = scaler.fit_transform(X_m)\n"
   ]
  },
  {
   "cell_type": "code",
   "execution_count": 13,
   "metadata": {},
   "outputs": [],
   "source": [
    "#split data\n",
    "X_train, X_test, y_train, y_test = train_test_split(X_m_scale,y, random_state=0)"
   ]
  },
  {
   "cell_type": "code",
   "execution_count": 14,
   "metadata": {},
   "outputs": [
    {
     "name": "stdout",
     "output_type": "stream",
     "text": [
      "r2 score for train:  0.7065751981987425\n",
      "r2 score for test:  -8.01356680022288e+16\n"
     ]
    }
   ],
   "source": [
    "#fit the model and get r2 score\n",
    "#linear model\n",
    "#need regulation\n",
    "lrg = LinearRegression()\n",
    "lrg.fit(X_train,y_train)\n",
    "lrg_test_predict = lrg.predict(X_test)\n",
    "lrg_train_predict = lrg.predict(X_train)\n",
    "print(\"r2 score for train: \",r2_score(y_train,lrg_train_predict))\n",
    "print(\"r2 score for test: \",r2_score(y_test,lrg_test_predict))"
   ]
  },
  {
   "cell_type": "code",
   "execution_count": 15,
   "metadata": {},
   "outputs": [
    {
     "name": "stdout",
     "output_type": "stream",
     "text": [
      "r2 score for train:  0.7029725973980653\n",
      "r2 score for test:  0.6765025492442045\n"
     ]
    }
   ],
   "source": [
    "#lasso\n",
    "#t set alpha=1\n",
    "las_rg = Lasso(alpha=0.3)\n",
    "las_rg.fit(X_train,y_train)\n",
    "las_rg_train_predict = las_rg.predict(X_train)\n",
    "las_rg_test_predict = las_rg.predict(X_test)\n",
    "print(\"r2 score for train: \",r2_score(y_train,las_rg_train_predict))\n",
    "print(\"r2 score for test: \",r2_score(y_test,las_rg_test_predict))"
   ]
  },
  {
   "cell_type": "code",
   "execution_count": 16,
   "metadata": {},
   "outputs": [
    {
     "name": "stdout",
     "output_type": "stream",
     "text": [
      "r2 score for train  0.7272848059508104\n",
      "r2 score for test   0.6403610344048095\n"
     ]
    }
   ],
   "source": [
    "#decision tree\n",
    "dec_tree = DecisionTreeRegressor(random_state=0,min_samples_split=64, min_samples_leaf=8)\n",
    "dec_tree.fit(X_train,y_train)\n",
    "dec_tree_train_predict = dec_tree.predict(X_train)\n",
    "dec_tree_test_predict = dec_tree.predict(X_test)\n",
    "print(\"r2 score for train \",r2_score(y_train,dec_tree_train_predict))\n",
    "print(\"r2 score for test  \",r2_score(y_test,dec_tree_test_predict))"
   ]
  },
  {
   "cell_type": "code",
   "execution_count": 17,
   "metadata": {},
   "outputs": [
    {
     "name": "stdout",
     "output_type": "stream",
     "text": [
      "r2 score for train  0.9793336880490282\n",
      "r2 score for test   0.713079420405557\n"
     ]
    }
   ],
   "source": [
    "#ada boost\n",
    "ada_reg = AdaBoostRegressor(base_estimator=DecisionTreeRegressor(max_depth=12),learning_rate=1.5,n_estimators=70)\n",
    "ada_reg.fit(X_train,y_train)\n",
    "ada_reg_train_predict = ada_reg.predict(X_train)\n",
    "ada_reg_test_predict = ada_reg.predict(X_test)\n",
    "print(\"r2 score for train \",r2_score(y_train,ada_reg_train_predict))\n",
    "print(\"r2 score for test  \",r2_score(y_test,ada_reg_test_predict))"
   ]
  },
  {
   "cell_type": "code",
   "execution_count": 18,
   "metadata": {},
   "outputs": [
    {
     "name": "stdout",
     "output_type": "stream",
     "text": [
      "r2 score for train  0.8884287930515679\n",
      "r2 score for test   0.708662179552283\n"
     ]
    }
   ],
   "source": [
    "#let's try random forest\n",
    "rad_f_reg = RandomForestRegressor(n_estimators=40,min_samples_split=8,min_samples_leaf=4)\n",
    "rad_f_reg.fit(X_train,y_train)\n",
    "rad_f_reg_train_predict = rad_f_reg.predict(X_train)\n",
    "rad_f_reg_test_predict = rad_f_reg.predict(X_test)\n",
    "print(\"r2 score for train \",r2_score(y_train,rad_f_reg_train_predict))\n",
    "print(\"r2 score for test  \",r2_score(y_test,rad_f_reg_test_predict))"
   ]
  },
  {
   "cell_type": "code",
   "execution_count": 19,
   "metadata": {},
   "outputs": [
    {
     "name": "stdout",
     "output_type": "stream",
     "text": [
      "r2 score for train  0.8285099826614541\n",
      "r2 score for test   0.7048124178242223\n"
     ]
    }
   ],
   "source": [
    "gb_reg =GradientBoostingRegressor(n_estimators=70,learning_rate=0.3,min_samples_split=8,min_samples_leaf=4)\n",
    "gb_reg.fit(X_train,y_train)\n",
    "gb_reg_train_predict = gb_reg.predict(X_train)\n",
    "gb_reg_test_predict = gb_reg.predict(X_test)\n",
    "print(\"r2 score for train \",r2_score(y_train,gb_reg_train_predict))\n",
    "print(\"r2 score for test  \",r2_score(y_test,gb_reg_test_predict))"
   ]
  },
  {
   "cell_type": "code",
   "execution_count": 20,
   "metadata": {},
   "outputs": [],
   "source": [
    "def print_importance(weight,df):\n",
    "    #input: weight array of importance\n",
    "    #df data frame\n",
    "    #return the first 20 important features \n",
    "    lk_values = list(zip(df.columns.tolist(),weight))\n",
    "    lk_values.sort(key=lambda tup: math.fabs(tup[1]),reverse=True)\n",
    "    lk_values_map = OrderedDict({item[0]:item[1] for item in lk_values})\n",
    "    lk_se = pd.Series(lk_values_map)\n",
    "    fig, ax = plt.subplots(figsize=(8,8))\n",
    "    ax = sb.barplot(y=lk_se.index[0:20],x=lk_se.values[0:20],ax=ax);\n",
    "    "
   ]
  },
  {
   "cell_type": "code",
   "execution_count": null,
   "metadata": {},
   "outputs": [],
   "source": []
  },
  {
   "cell_type": "code",
   "execution_count": 23,
   "metadata": {},
   "outputs": [
    {
     "data": {
      "image/png": "[encoded data removed]",
      "text/plain": [
       "<Figure size 576x576 with 1 Axes>"
      ]
     },
     "metadata": {
      "needs_background": "light"
     },
     "output_type": "display_data"
    }
   ],
   "source": [
    "#use adaboost regression \n",
    "print_importance(ada_reg.feature_importances_,X)"
   ]
  },
  {
   "cell_type": "code",
   "execution_count": null,
   "metadata": {},
   "outputs": [],
   "source": []
  }
 ],
 "metadata": {
  "kernelspec": {
   "display_name": "Python 3",
   "language": "python",
   "name": "python3"
  },
  "language_info": {
   "codemirror_mode": {
    "name": "ipython",
    "version": 3
   },
   "file_extension": ".py",
   "mimetype": "text/x-python",
   "name": "python",
   "nbconvert_exporter": "python",
   "pygments_lexer": "ipython3",
   "version": "3.6.8"
  }
 },
 "nbformat": 4,
 "nbformat_minor": 2
}
